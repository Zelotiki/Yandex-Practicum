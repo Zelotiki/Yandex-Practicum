{
 "cells": [
  {
   "cell_type": "markdown",
   "metadata": {
    "toc": true
   },
   "source": [
    "<h1>Оглавление<span class=\"tocSkip\"></span></h1>\n",
    "<div class=\"toc\"><ul class=\"toc-item\"><li><span><a href=\"#Обзор-данных\" data-toc-modified-id=\"Обзор-данных-1\"><span class=\"toc-item-num\">1&nbsp;&nbsp;</span>Обзор данных</a></span></li><li><span><a href=\"#Предобработка-данных\" data-toc-modified-id=\"Предобработка-данных-2\"><span class=\"toc-item-num\">2&nbsp;&nbsp;</span>Предобработка данных</a></span><ul class=\"toc-item\"><li><span><a href=\"#Стиль-заголовков\" data-toc-modified-id=\"Стиль-заголовков-2.1\"><span class=\"toc-item-num\">2.1&nbsp;&nbsp;</span>Стиль заголовков</a></span></li><li><span><a href=\"#Пропуски-значений\" data-toc-modified-id=\"Пропуски-значений-2.2\"><span class=\"toc-item-num\">2.2&nbsp;&nbsp;</span>Пропуски значений</a></span></li><li><span><a href=\"#Дубликаты\" data-toc-modified-id=\"Дубликаты-2.3\"><span class=\"toc-item-num\">2.3&nbsp;&nbsp;</span>Дубликаты</a></span></li></ul></li><li><span><a href=\"#Проверка-гипотез\" data-toc-modified-id=\"Проверка-гипотез-3\"><span class=\"toc-item-num\">3&nbsp;&nbsp;</span>Проверка гипотез</a></span><ul class=\"toc-item\"><li><span><a href=\"#Сравнение-поведения-пользователей-двух-столиц\" data-toc-modified-id=\"Сравнение-поведения-пользователей-двух-столиц-3.1\"><span class=\"toc-item-num\">3.1&nbsp;&nbsp;</span>Сравнение поведения пользователей двух столиц</a></span></li><li><span><a href=\"#Музыка-в-начале-и-в-конце-недели\" data-toc-modified-id=\"Музыка-в-начале-и-в-конце-недели-3.2\"><span class=\"toc-item-num\">3.2&nbsp;&nbsp;</span>Музыка в начале и в конце недели</a></span></li><li><span><a href=\"#Жанровые-предпочтения-в-Москве-и-Петербурге\" data-toc-modified-id=\"Жанровые-предпочтения-в-Москве-и-Петербурге-3.3\"><span class=\"toc-item-num\">3.3&nbsp;&nbsp;</span>Жанровые предпочтения в Москве и Петербурге</a></span></li></ul></li><li><span><a href=\"#Итоги-исследования\" data-toc-modified-id=\"Итоги-исследования-4\"><span class=\"toc-item-num\">4&nbsp;&nbsp;</span>Итоги исследования</a></span></li></ul></div>"
   ]
  },
  {
   "cell_type": "markdown",
   "metadata": {
    "deletable": false,
    "editable": false,
    "id": "E0vqbgi9ay0H"
   },
   "source": [
    "# Яндекс Музыка"
   ]
  },
  {
   "cell_type": "markdown",
   "metadata": {
    "deletable": false,
    "editable": false,
    "id": "VUC88oWjTJw2"
   },
   "source": [
    "Сравнение Москвы и Петербурга окружено мифами. Например:\n",
    " * Москва — мегаполис, подчинённый жёсткому ритму рабочей недели;\n",
    " * Петербург — культурная столица, со своими вкусами.\n",
    "\n",
    "На данных Яндекс Музыки вы сравните поведение пользователей двух столиц.\n",
    "\n",
    "**Цель исследования** — проверьте три гипотезы:\n",
    "1. Активность пользователей зависит от дня недели. Причём в Москве и Петербурге это проявляется по-разному.\n",
    "2. В понедельник утром в Москве преобладают одни жанры, а в Петербурге — другие. Так же и вечером пятницы преобладают разные жанры — в зависимости от города. \n",
    "3. Москва и Петербург предпочитают разные жанры музыки. В Москве чаще слушают поп-музыку, в Петербурге — русский рэп.\n",
    "\n",
    "**Ход исследования**\n",
    "\n",
    "Данные о поведении пользователей вы получите из файла `yandex_music_project.csv`. О качестве данных ничего не известно. Поэтому перед проверкой гипотез понадобится обзор данных. \n",
    "\n",
    "Вы проверите данные на ошибки и оцените их влияние на исследование. Затем, на этапе предобработки вы поищете возможность исправить самые критичные ошибки данных.\n",
    " \n",
    "Таким образом, исследование пройдёт в три этапа:\n",
    " 1. Обзор данных.\n",
    " 2. Предобработка данных.\n",
    " 3. Проверка гипотез.\n",
    "\n"
   ]
  },
  {
   "cell_type": "markdown",
   "metadata": {
    "deletable": false,
    "editable": false,
    "id": "Ml1hmfXC_Zcs"
   },
   "source": [
    "## Обзор данных\n",
    "\n",
    "Составьте первое представление о данных Яндекс Музыки.\n",
    "\n",
    "\n"
   ]
  },
  {
   "cell_type": "markdown",
   "metadata": {
    "deletable": false,
    "editable": false,
    "id": "57eAOGIz_Zcs",
    "tags": [
     "start_task"
    ]
   },
   "source": [
    "**Задание 1**\n",
    "\n",
    "Основной инструмент аналитика — `pandas`. Импортируйте эту библиотеку."
   ]
  },
  {
   "cell_type": "code",
   "execution_count": 2,
   "metadata": {
    "deletable": false,
    "id": "AXN7PHPN_Zcs"
   },
   "outputs": [],
   "source": [
    "# импорт библиотеки pandas\n",
    "import pandas as pd"
   ]
  },
  {
   "cell_type": "markdown",
   "metadata": {
    "deletable": false,
    "editable": false,
    "id": "SG23P8tt_Zcs",
    "tags": [
     "start_task"
    ]
   },
   "source": [
    "**Задание 2**\n",
    "\n",
    "Прочитайте файл `yandex_music_project.csv` из папки `/datasets` и сохраните его в переменной `df`:"
   ]
  },
  {
   "cell_type": "code",
   "execution_count": 3,
   "metadata": {
    "deletable": false,
    "id": "fFVu7vqh_Zct"
   },
   "outputs": [],
   "source": [
    "# чтение файла с данными и сохранение в df\n",
    "df = pd.read_csv('/datasets/yandex_music_project.csv')"
   ]
  },
  {
   "cell_type": "markdown",
   "metadata": {
    "deletable": false,
    "editable": false,
    "id": "rDoOMd3uTqnZ",
    "tags": [
     "start_task"
    ]
   },
   "source": [
    "**Задание 3**\n",
    "\n",
    "\n",
    "Выведите на экран первые десять строк таблицы:"
   ]
  },
  {
   "cell_type": "code",
   "execution_count": 4,
   "metadata": {
    "deletable": false,
    "id": "oWTVX3gW_Zct"
   },
   "outputs": [
    {
     "data": {
      "text/html": [
       "<div>\n",
       "<style scoped>\n",
       "    .dataframe tbody tr th:only-of-type {\n",
       "        vertical-align: middle;\n",
       "    }\n",
       "\n",
       "    .dataframe tbody tr th {\n",
       "        vertical-align: top;\n",
       "    }\n",
       "\n",
       "    .dataframe thead th {\n",
       "        text-align: right;\n",
       "    }\n",
       "</style>\n",
       "<table border=\"1\" class=\"dataframe\">\n",
       "  <thead>\n",
       "    <tr style=\"text-align: right;\">\n",
       "      <th></th>\n",
       "      <th>userID</th>\n",
       "      <th>Track</th>\n",
       "      <th>artist</th>\n",
       "      <th>genre</th>\n",
       "      <th>City</th>\n",
       "      <th>time</th>\n",
       "      <th>Day</th>\n",
       "    </tr>\n",
       "  </thead>\n",
       "  <tbody>\n",
       "    <tr>\n",
       "      <th>0</th>\n",
       "      <td>FFB692EC</td>\n",
       "      <td>Kamigata To Boots</td>\n",
       "      <td>The Mass Missile</td>\n",
       "      <td>rock</td>\n",
       "      <td>Saint-Petersburg</td>\n",
       "      <td>20:28:33</td>\n",
       "      <td>Wednesday</td>\n",
       "    </tr>\n",
       "    <tr>\n",
       "      <th>1</th>\n",
       "      <td>55204538</td>\n",
       "      <td>Delayed Because of Accident</td>\n",
       "      <td>Andreas Rönnberg</td>\n",
       "      <td>rock</td>\n",
       "      <td>Moscow</td>\n",
       "      <td>14:07:09</td>\n",
       "      <td>Friday</td>\n",
       "    </tr>\n",
       "    <tr>\n",
       "      <th>2</th>\n",
       "      <td>20EC38</td>\n",
       "      <td>Funiculì funiculà</td>\n",
       "      <td>Mario Lanza</td>\n",
       "      <td>pop</td>\n",
       "      <td>Saint-Petersburg</td>\n",
       "      <td>20:58:07</td>\n",
       "      <td>Wednesday</td>\n",
       "    </tr>\n",
       "    <tr>\n",
       "      <th>3</th>\n",
       "      <td>A3DD03C9</td>\n",
       "      <td>Dragons in the Sunset</td>\n",
       "      <td>Fire + Ice</td>\n",
       "      <td>folk</td>\n",
       "      <td>Saint-Petersburg</td>\n",
       "      <td>08:37:09</td>\n",
       "      <td>Monday</td>\n",
       "    </tr>\n",
       "    <tr>\n",
       "      <th>4</th>\n",
       "      <td>E2DC1FAE</td>\n",
       "      <td>Soul People</td>\n",
       "      <td>Space Echo</td>\n",
       "      <td>dance</td>\n",
       "      <td>Moscow</td>\n",
       "      <td>08:34:34</td>\n",
       "      <td>Monday</td>\n",
       "    </tr>\n",
       "    <tr>\n",
       "      <th>5</th>\n",
       "      <td>842029A1</td>\n",
       "      <td>Преданная</td>\n",
       "      <td>IMPERVTOR</td>\n",
       "      <td>rusrap</td>\n",
       "      <td>Saint-Petersburg</td>\n",
       "      <td>13:09:41</td>\n",
       "      <td>Friday</td>\n",
       "    </tr>\n",
       "    <tr>\n",
       "      <th>6</th>\n",
       "      <td>4CB90AA5</td>\n",
       "      <td>True</td>\n",
       "      <td>Roman Messer</td>\n",
       "      <td>dance</td>\n",
       "      <td>Moscow</td>\n",
       "      <td>13:00:07</td>\n",
       "      <td>Wednesday</td>\n",
       "    </tr>\n",
       "    <tr>\n",
       "      <th>7</th>\n",
       "      <td>F03E1C1F</td>\n",
       "      <td>Feeling This Way</td>\n",
       "      <td>Polina Griffith</td>\n",
       "      <td>dance</td>\n",
       "      <td>Moscow</td>\n",
       "      <td>20:47:49</td>\n",
       "      <td>Wednesday</td>\n",
       "    </tr>\n",
       "    <tr>\n",
       "      <th>8</th>\n",
       "      <td>8FA1D3BE</td>\n",
       "      <td>И вновь продолжается бой</td>\n",
       "      <td>NaN</td>\n",
       "      <td>ruspop</td>\n",
       "      <td>Moscow</td>\n",
       "      <td>09:17:40</td>\n",
       "      <td>Friday</td>\n",
       "    </tr>\n",
       "    <tr>\n",
       "      <th>9</th>\n",
       "      <td>E772D5C0</td>\n",
       "      <td>Pessimist</td>\n",
       "      <td>NaN</td>\n",
       "      <td>dance</td>\n",
       "      <td>Saint-Petersburg</td>\n",
       "      <td>21:20:49</td>\n",
       "      <td>Wednesday</td>\n",
       "    </tr>\n",
       "  </tbody>\n",
       "</table>\n",
       "</div>"
      ],
      "text/plain": [
       "     userID                        Track            artist   genre  \\\n",
       "0  FFB692EC            Kamigata To Boots  The Mass Missile    rock   \n",
       "1  55204538  Delayed Because of Accident  Andreas Rönnberg    rock   \n",
       "2    20EC38            Funiculì funiculà       Mario Lanza     pop   \n",
       "3  A3DD03C9        Dragons in the Sunset        Fire + Ice    folk   \n",
       "4  E2DC1FAE                  Soul People        Space Echo   dance   \n",
       "5  842029A1                    Преданная         IMPERVTOR  rusrap   \n",
       "6  4CB90AA5                         True      Roman Messer   dance   \n",
       "7  F03E1C1F             Feeling This Way   Polina Griffith   dance   \n",
       "8  8FA1D3BE     И вновь продолжается бой               NaN  ruspop   \n",
       "9  E772D5C0                    Pessimist               NaN   dance   \n",
       "\n",
       "             City        time        Day  \n",
       "0  Saint-Petersburg  20:28:33  Wednesday  \n",
       "1            Moscow  14:07:09     Friday  \n",
       "2  Saint-Petersburg  20:58:07  Wednesday  \n",
       "3  Saint-Petersburg  08:37:09     Monday  \n",
       "4            Moscow  08:34:34     Monday  \n",
       "5  Saint-Petersburg  13:09:41     Friday  \n",
       "6            Moscow  13:00:07  Wednesday  \n",
       "7            Moscow  20:47:49  Wednesday  \n",
       "8            Moscow  09:17:40     Friday  \n",
       "9  Saint-Petersburg  21:20:49  Wednesday  "
      ]
     },
     "execution_count": 4,
     "metadata": {},
     "output_type": "execute_result"
    }
   ],
   "source": [
    "# получение первых 10 строк таблицы df\n",
    "df.head(10)"
   ]
  },
  {
   "cell_type": "markdown",
   "metadata": {
    "deletable": false,
    "editable": false,
    "id": "EO73Kwic_Zct",
    "tags": [
     "start_task"
    ]
   },
   "source": [
    "**Задание 4**\n",
    "\n",
    "\n",
    "Одной командой получить общую информацию о таблице c помощью метода `info()`:"
   ]
  },
  {
   "cell_type": "code",
   "execution_count": 5,
   "metadata": {
    "deletable": false,
    "id": "DSf2kIb-_Zct"
   },
   "outputs": [
    {
     "name": "stdout",
     "output_type": "stream",
     "text": [
      "<class 'pandas.core.frame.DataFrame'>\n",
      "RangeIndex: 65079 entries, 0 to 65078\n",
      "Data columns (total 7 columns):\n",
      " #   Column    Non-Null Count  Dtype \n",
      "---  ------    --------------  ----- \n",
      " 0     userID  65079 non-null  object\n",
      " 1   Track     63848 non-null  object\n",
      " 2   artist    57876 non-null  object\n",
      " 3   genre     63881 non-null  object\n",
      " 4     City    65079 non-null  object\n",
      " 5   time      65079 non-null  object\n",
      " 6   Day       65079 non-null  object\n",
      "dtypes: object(7)\n",
      "memory usage: 3.5+ MB\n"
     ]
    }
   ],
   "source": [
    "# получение общей информации о данных в таблице df\n",
    "df.info()"
   ]
  },
  {
   "cell_type": "markdown",
   "metadata": {
    "deletable": false,
    "editable": false,
    "id": "TaQ2Iwbr_Zct"
   },
   "source": [
    "Итак, в таблице семь столбцов. Тип данных во всех столбцах — `object`.\n",
    "\n",
    "Согласно документации к данным:\n",
    "* `userID` — идентификатор пользователя;\n",
    "* `Track` — название трека;  \n",
    "* `artist` — имя исполнителя;\n",
    "* `genre` — название жанра;\n",
    "* `City` — город пользователя;\n",
    "* `time` — время начала прослушивания;\n",
    "* `Day` — день недели.\n",
    "\n",
    "Количество значений в столбцах различается. Значит, в данных есть пропущенные значения."
   ]
  },
  {
   "cell_type": "markdown",
   "metadata": {
    "deletable": false,
    "editable": false,
    "id": "rAfziTBDmf2h",
    "tags": [
     "start_task"
    ]
   },
   "source": [
    "**Задание 5**\n",
    "\n",
    "**Вопрос со свободной формой ответа**\n",
    "\n",
    "В названиях колонок видны нарушения стиля:\n",
    "* Строчные буквы сочетаются с прописными.\n",
    "* Встречаются пробелы.\n",
    "\n",
    "Какое третье нарушение?"
   ]
  },
  {
   "cell_type": "code",
   "execution_count": 6,
   "metadata": {
    "id": "jD8EXEIvmf2h"
   },
   "outputs": [],
   "source": [
    "# Напишите ваш ответ здесь комментарием. Не удаляйте символ #. Не меняйте тип этой ячейки на Markdown.\n",
    "# Слова в заголовках не разделены\n"
   ]
  },
  {
   "cell_type": "markdown",
   "metadata": {
    "deletable": false,
    "editable": false,
    "id": "MCB6-dXG_Zct"
   },
   "source": [
    "**Выводы**\n",
    "\n",
    "В каждой строке таблицы — данные о прослушанном треке. Часть колонок описывает саму композицию: название, исполнителя и жанр. Остальные данные рассказывают о пользователе: из какого он города, когда он слушал музыку. \n",
    "\n",
    "Предварительно можно утверждать, что данных достаточно для проверки гипотез. Но встречаются пропуски в данных, а в названиях колонок — расхождения с хорошим стилем.\n",
    "\n",
    "Чтобы двигаться дальше, нужно устранить проблемы в данных."
   ]
  },
  {
   "cell_type": "markdown",
   "metadata": {
    "deletable": false,
    "editable": false,
    "id": "SjYF6Ub9_Zct"
   },
   "source": [
    "## Предобработка данных\n",
    "Исправьте стиль в заголовках столбцов, исключите пропуски. Затем проверьте данные на дубликаты."
   ]
  },
  {
   "cell_type": "markdown",
   "metadata": {
    "deletable": false,
    "editable": false,
    "id": "dIaKXr29_Zct",
    "tags": [
     "start_task"
    ]
   },
   "source": [
    "### Стиль заголовков\n",
    "\n",
    "**Задание 6**\n",
    "\n",
    "Выведите на экран названия столбцов:"
   ]
  },
  {
   "cell_type": "code",
   "execution_count": 7,
   "metadata": {
    "deletable": false,
    "id": "oKOTdF_Q_Zct"
   },
   "outputs": [
    {
     "data": {
      "text/plain": [
       "Index(['  userID', 'Track', 'artist', 'genre', '  City  ', 'time', 'Day'], dtype='object')"
      ]
     },
     "execution_count": 7,
     "metadata": {},
     "output_type": "execute_result"
    }
   ],
   "source": [
    "# перечень названий столбцов таблицы df\n",
    "df.columns"
   ]
  },
  {
   "cell_type": "markdown",
   "metadata": {
    "deletable": false,
    "editable": false,
    "id": "zj5534cv_Zct",
    "tags": [
     "start_task"
    ]
   },
   "source": [
    "**Задание 7**\n",
    "\n",
    "\n",
    "Приведите названия в соответствие с хорошим стилем:\n",
    "* несколько слов в названии запишите в «змеином_регистре»,\n",
    "* все символы сделайте строчными,\n",
    "* устраните пробелы.\n",
    "\n",
    "Для этого переименуйте колонки так:\n",
    "* `'  userID'` → `'user_id'`;\n",
    "* `'Track'` → `'track'`;\n",
    "* `'  City  '` → `'city'`;\n",
    "* `'Day'` → `'day'`."
   ]
  },
  {
   "cell_type": "code",
   "execution_count": 8,
   "metadata": {
    "deletable": false,
    "id": "ISlFqs5y_Zct"
   },
   "outputs": [],
   "source": [
    "# переименование столбцов\n",
    "df = df.rename(columns={'  userID' : 'user_id','Track' : 'track','  City  ' : 'city','Day' : 'day'})"
   ]
  },
  {
   "cell_type": "markdown",
   "metadata": {
    "deletable": false,
    "editable": false,
    "id": "1dqbh00J_Zct",
    "tags": [
     "start_task"
    ]
   },
   "source": [
    "**Задание 8**\n",
    "\n",
    "\n",
    "Проверьте результат. Для этого ещё раз выведите на экран названия столбцов:"
   ]
  },
  {
   "cell_type": "code",
   "execution_count": 9,
   "metadata": {
    "deletable": false,
    "id": "d4NOAmTW_Zct"
   },
   "outputs": [
    {
     "data": {
      "text/plain": [
       "Index(['user_id', 'track', 'artist', 'genre', 'city', 'time', 'day'], dtype='object')"
      ]
     },
     "execution_count": 9,
     "metadata": {},
     "output_type": "execute_result"
    }
   ],
   "source": [
    "# проверка результатов - перечень названий столбцов\n",
    "df.columns"
   ]
  },
  {
   "cell_type": "markdown",
   "metadata": {
    "deletable": false,
    "editable": false,
    "id": "5ISfbcfY_Zct",
    "tags": [
     "start_task"
    ]
   },
   "source": [
    "### Пропуски значений\n",
    "\n",
    "**Задание 9**\n",
    "\n",
    "Сначала посчитайте, сколько в таблице пропущенных значений. Для этого достаточно двух методов `pandas`:"
   ]
  },
  {
   "cell_type": "code",
   "execution_count": 10,
   "metadata": {
    "deletable": false,
    "id": "RskX29qr_Zct"
   },
   "outputs": [
    {
     "data": {
      "text/plain": [
       "user_id       0\n",
       "track      1231\n",
       "artist     7203\n",
       "genre      1198\n",
       "city          0\n",
       "time          0\n",
       "day           0\n",
       "dtype: int64"
      ]
     },
     "execution_count": 10,
     "metadata": {},
     "output_type": "execute_result"
    }
   ],
   "source": [
    "# подсчёт пропусков\n",
    "df.isna().sum()"
   ]
  },
  {
   "cell_type": "markdown",
   "metadata": {
    "deletable": false,
    "editable": false,
    "id": "qubhgnlO_Zct"
   },
   "source": [
    "Не все пропущенные значения влияют на исследование. Так в `track` и `artist` пропуски не важны для вашей работы. Достаточно заменить их явными обозначениями.\n",
    "\n",
    "Но пропуски в `genre` могут помешать сравнению музыкальных вкусов в Москве и Санкт-Петербурге. На практике было бы правильно установить причину пропусков и восстановить данные. Такой возможности нет в учебном проекте. Придётся:\n",
    "* заполнить и эти пропуски явными обозначениями;\n",
    "* оценить, насколько они повредят расчётам. "
   ]
  },
  {
   "cell_type": "markdown",
   "metadata": {
    "deletable": false,
    "editable": false,
    "id": "fSv2laPA_Zct",
    "tags": [
     "start_task"
    ]
   },
   "source": [
    "**Задание 10**\n",
    "\n",
    "Замените пропущенные значения в столбцах `track`, `artist` и `genre` на строку `'unknown'`. Для этого создайте список `columns_to_replace`, переберите его элементы циклом `for` и для каждого столбца выполните замену пропущенных значений:"
   ]
  },
  {
   "cell_type": "code",
   "execution_count": 11,
   "metadata": {
    "deletable": false,
    "id": "KplB5qWs_Zct"
   },
   "outputs": [],
   "source": [
    "# перебор названий столбцов в цикле и замена пропущенных значений на 'unknown'\n",
    "columns_to_replace = ['track', 'artist', 'genre']\n",
    "for col in columns_to_replace:\n",
    "    df[col] = df[col].fillna('unknown') "
   ]
  },
  {
   "cell_type": "markdown",
   "metadata": {
    "deletable": false,
    "editable": false,
    "id": "Ilsm-MZo_Zct",
    "tags": [
     "start_task"
    ]
   },
   "source": [
    "**Задание 11**\n",
    "\n",
    "Убедитесь, что в таблице не осталось пропусков. Для этого ещё раз посчитайте пропущенные значения."
   ]
  },
  {
   "cell_type": "code",
   "execution_count": 12,
   "metadata": {
    "deletable": false,
    "id": "Tq4nYRX4_Zct"
   },
   "outputs": [
    {
     "data": {
      "text/plain": [
       "user_id    0\n",
       "track      0\n",
       "artist     0\n",
       "genre      0\n",
       "city       0\n",
       "time       0\n",
       "day        0\n",
       "dtype: int64"
      ]
     },
     "execution_count": 12,
     "metadata": {},
     "output_type": "execute_result"
    }
   ],
   "source": [
    "# подсчёт пропусков\n",
    "df.isna().sum()"
   ]
  },
  {
   "cell_type": "markdown",
   "metadata": {
    "deletable": false,
    "editable": false,
    "id": "BWKRtBJ3_Zct",
    "tags": [
     "start_task"
    ]
   },
   "source": [
    "### Дубликаты\n",
    "\n",
    "**Задание 12**\n",
    "\n",
    "Посчитайте явные дубликаты в таблице одной командой:"
   ]
  },
  {
   "cell_type": "code",
   "execution_count": 13,
   "metadata": {
    "deletable": false,
    "id": "36eES_S0_Zct"
   },
   "outputs": [
    {
     "data": {
      "text/plain": [
       "3826"
      ]
     },
     "execution_count": 13,
     "metadata": {},
     "output_type": "execute_result"
    }
   ],
   "source": [
    "# подсчёт явных дубликатов\n",
    "df.duplicated().sum()"
   ]
  },
  {
   "cell_type": "markdown",
   "metadata": {
    "deletable": false,
    "editable": false,
    "id": "Ot25h6XR_Zct",
    "tags": [
     "start_task"
    ]
   },
   "source": [
    "**Задание 13**\n",
    "\n",
    "Вызовите специальный метод `pandas`, чтобы удалить явные дубликаты:"
   ]
  },
  {
   "cell_type": "code",
   "execution_count": 14,
   "metadata": {
    "deletable": false,
    "id": "exFHq6tt_Zct"
   },
   "outputs": [],
   "source": [
    "# удаление явных дубликатов\n",
    "df = df.drop_duplicates()"
   ]
  },
  {
   "cell_type": "markdown",
   "metadata": {
    "deletable": false,
    "editable": false,
    "id": "Im2YwBEG_Zct",
    "tags": [
     "start_task"
    ]
   },
   "source": [
    "**Задание 14**\n",
    "\n",
    "Ещё раз посчитайте явные дубликаты в таблице — убедитесь, что полностью от них избавились:"
   ]
  },
  {
   "cell_type": "code",
   "execution_count": 15,
   "metadata": {
    "deletable": false,
    "id": "-8PuNWQ0_Zct"
   },
   "outputs": [
    {
     "data": {
      "text/plain": [
       "0"
      ]
     },
     "execution_count": 15,
     "metadata": {},
     "output_type": "execute_result"
    }
   ],
   "source": [
    "# проверка на отсутствие дубликатов\n",
    "df.duplicated().sum()"
   ]
  },
  {
   "cell_type": "markdown",
   "metadata": {
    "deletable": false,
    "editable": false,
    "id": "QlFBsxAr_Zct"
   },
   "source": [
    "Теперь избавьтесь от неявных дубликатов в колонке `genre`. Например, название одного и того же жанра может быть записано немного по-разному. Такие ошибки тоже повлияют на результат исследования."
   ]
  },
  {
   "cell_type": "markdown",
   "metadata": {
    "deletable": false,
    "editable": false,
    "id": "eSjWwsOh_Zct",
    "tags": [
     "start_task"
    ]
   },
   "source": [
    "**Задание 15**\n",
    "\n",
    "Выведите на экран список уникальных названий жанров, отсортированный в алфавитном порядке. Для этого:\n",
    "1. извлеките нужный столбец датафрейма; \n",
    "2. примените к нему метод сортировки;\n",
    "3. для отсортированного столбца вызовите метод, который вернёт уникальные значения из столбца."
   ]
  },
  {
   "cell_type": "code",
   "execution_count": 16,
   "metadata": {
    "deletable": false,
    "id": "JIUcqzZN_Zct"
   },
   "outputs": [
    {
     "data": {
      "text/plain": [
       "array(['acid', 'acoustic', 'action', 'adult', 'africa', 'afrikaans',\n",
       "       'alternative', 'alternativepunk', 'ambient', 'americana',\n",
       "       'animated', 'anime', 'arabesk', 'arabic', 'arena',\n",
       "       'argentinetango', 'art', 'audiobook', 'author', 'avantgarde',\n",
       "       'axé', 'baile', 'balkan', 'beats', 'bigroom', 'black', 'bluegrass',\n",
       "       'blues', 'bollywood', 'bossa', 'brazilian', 'breakbeat', 'breaks',\n",
       "       'broadway', 'cantautori', 'cantopop', 'canzone', 'caribbean',\n",
       "       'caucasian', 'celtic', 'chamber', 'chanson', 'children', 'chill',\n",
       "       'chinese', 'choral', 'christian', 'christmas', 'classical',\n",
       "       'classicmetal', 'club', 'colombian', 'comedy', 'conjazz',\n",
       "       'contemporary', 'country', 'cuban', 'dance', 'dancehall',\n",
       "       'dancepop', 'dark', 'death', 'deep', 'deutschrock', 'deutschspr',\n",
       "       'dirty', 'disco', 'dnb', 'documentary', 'downbeat', 'downtempo',\n",
       "       'drum', 'dub', 'dubstep', 'eastern', 'easy', 'electronic',\n",
       "       'electropop', 'emo', 'entehno', 'epicmetal', 'estrada', 'ethnic',\n",
       "       'eurofolk', 'european', 'experimental', 'extrememetal', 'fado',\n",
       "       'fairytail', 'film', 'fitness', 'flamenco', 'folk', 'folklore',\n",
       "       'folkmetal', 'folkrock', 'folktronica', 'forró', 'frankreich',\n",
       "       'französisch', 'french', 'funk', 'future', 'gangsta', 'garage',\n",
       "       'german', 'ghazal', 'gitarre', 'glitch', 'gospel', 'gothic',\n",
       "       'grime', 'grunge', 'gypsy', 'handsup', \"hard'n'heavy\", 'hardcore',\n",
       "       'hardstyle', 'hardtechno', 'hip', 'hip-hop', 'hiphop',\n",
       "       'historisch', 'holiday', 'hop', 'horror', 'house', 'hymn', 'idm',\n",
       "       'independent', 'indian', 'indie', 'indipop', 'industrial',\n",
       "       'inspirational', 'instrumental', 'international', 'irish', 'jam',\n",
       "       'japanese', 'jazz', 'jewish', 'jpop', 'jungle', 'k-pop',\n",
       "       'karadeniz', 'karaoke', 'kayokyoku', 'korean', 'laiko', 'latin',\n",
       "       'latino', 'leftfield', 'local', 'lounge', 'loungeelectronic',\n",
       "       'lovers', 'malaysian', 'mandopop', 'marschmusik', 'meditative',\n",
       "       'mediterranean', 'melodic', 'metal', 'metalcore', 'mexican',\n",
       "       'middle', 'minimal', 'miscellaneous', 'modern', 'mood', 'mpb',\n",
       "       'muslim', 'native', 'neoklassik', 'neue', 'new', 'newage',\n",
       "       'newwave', 'nu', 'nujazz', 'numetal', 'oceania', 'old', 'opera',\n",
       "       'orchestral', 'other', 'piano', 'podcasts', 'pop', 'popdance',\n",
       "       'popelectronic', 'popeurodance', 'poprussian', 'post',\n",
       "       'posthardcore', 'postrock', 'power', 'progmetal', 'progressive',\n",
       "       'psychedelic', 'punjabi', 'punk', 'quebecois', 'ragga', 'ram',\n",
       "       'rancheras', 'rap', 'rave', 'reggae', 'reggaeton', 'regional',\n",
       "       'relax', 'religious', 'retro', 'rhythm', 'rnb', 'rnr', 'rock',\n",
       "       'rockabilly', 'rockalternative', 'rockindie', 'rockother',\n",
       "       'romance', 'roots', 'ruspop', 'rusrap', 'rusrock', 'russian',\n",
       "       'salsa', 'samba', 'scenic', 'schlager', 'self', 'sertanejo',\n",
       "       'shanson', 'shoegazing', 'showtunes', 'singer', 'ska', 'skarock',\n",
       "       'slow', 'smooth', 'soft', 'soul', 'soulful', 'sound', 'soundtrack',\n",
       "       'southern', 'specialty', 'speech', 'spiritual', 'sport',\n",
       "       'stonerrock', 'surf', 'swing', 'synthpop', 'synthrock',\n",
       "       'sängerportrait', 'tango', 'tanzorchester', 'taraftar', 'tatar',\n",
       "       'tech', 'techno', 'teen', 'thrash', 'top', 'traditional',\n",
       "       'tradjazz', 'trance', 'tribal', 'trip', 'triphop', 'tropical',\n",
       "       'türk', 'türkçe', 'ukrrock', 'unknown', 'urban', 'uzbek',\n",
       "       'variété', 'vi', 'videogame', 'vocal', 'western', 'world',\n",
       "       'worldbeat', 'ïîï', 'электроника'], dtype=object)"
      ]
     },
     "execution_count": 16,
     "metadata": {},
     "output_type": "execute_result"
    }
   ],
   "source": [
    "# Просмотр уникальных названий жанров\n",
    "#genre = df['genre'].unique()\n",
    "#genre.sort(ascending=False)\n",
    "pd.Series(df['genre'].sort_values()).unique()"
   ]
  },
  {
   "cell_type": "markdown",
   "metadata": {
    "deletable": false,
    "editable": false,
    "id": "qej-Qmuo_Zct",
    "tags": [
     "start_task"
    ]
   },
   "source": [
    "**Задание 16**\n",
    "\n",
    "Просмотрите список и найдите неявные дубликаты названия `hiphop`. Это могут быть названия с ошибками или альтернативные названия того же жанра.\n",
    "\n",
    "Вы увидите следующие неявные дубликаты:\n",
    "* *hip*,\n",
    "* *hop*,\n",
    "* *hip-hop*.\n",
    "\n",
    "Чтобы очистить от них таблицу используйте метод `replace()` с двумя аргументами: списком строк-дубликатов (включащий *hip*, *hop* и *hip-hop*) и строкой с правильным значением. Вам нужно исправить колонку `genre` в таблице `df`: заменить каждое значение из списка дубликатов на верное. Вместо `hip`, `hop` и `hip-hop` в таблице должно быть значение `hiphop`:"
   ]
  },
  {
   "cell_type": "code",
   "execution_count": 17,
   "metadata": {
    "deletable": false,
    "id": "ErNDkmns_Zct"
   },
   "outputs": [],
   "source": [
    "# Устранение неявных дубликатов\n",
    "names = ['hip','hop','hip-hop']\n",
    "df['genre'] = df['genre'].replace(names, 'hiphop')\n",
    "#for name in df['genre']:\n",
    "#    if df[name] in names:\n",
    "#        df[name].replace('hiphop')\n",
    "#print(df['genre'])"
   ]
  },
  {
   "cell_type": "markdown",
   "metadata": {
    "deletable": false,
    "editable": false,
    "id": "zQKF16_RG15m",
    "tags": [
     "start_task"
    ]
   },
   "source": [
    "**Задание 17**\n",
    "\n",
    "Проверьте, что заменили неправильные названия:\n",
    "\n",
    "*   hip,\n",
    "*   hop,\n",
    "*   hip-hop.\n",
    "\n",
    "Выведите отсортированный список уникальных значений столбца `genre`:"
   ]
  },
  {
   "cell_type": "code",
   "execution_count": 18,
   "metadata": {
    "deletable": false,
    "id": "wvixALnFG15m"
   },
   "outputs": [
    {
     "data": {
      "text/plain": [
       "array(['acid', 'acoustic', 'action', 'adult', 'africa', 'afrikaans',\n",
       "       'alternative', 'alternativepunk', 'ambient', 'americana',\n",
       "       'animated', 'anime', 'arabesk', 'arabic', 'arena',\n",
       "       'argentinetango', 'art', 'audiobook', 'author', 'avantgarde',\n",
       "       'axé', 'baile', 'balkan', 'beats', 'bigroom', 'black', 'bluegrass',\n",
       "       'blues', 'bollywood', 'bossa', 'brazilian', 'breakbeat', 'breaks',\n",
       "       'broadway', 'cantautori', 'cantopop', 'canzone', 'caribbean',\n",
       "       'caucasian', 'celtic', 'chamber', 'chanson', 'children', 'chill',\n",
       "       'chinese', 'choral', 'christian', 'christmas', 'classical',\n",
       "       'classicmetal', 'club', 'colombian', 'comedy', 'conjazz',\n",
       "       'contemporary', 'country', 'cuban', 'dance', 'dancehall',\n",
       "       'dancepop', 'dark', 'death', 'deep', 'deutschrock', 'deutschspr',\n",
       "       'dirty', 'disco', 'dnb', 'documentary', 'downbeat', 'downtempo',\n",
       "       'drum', 'dub', 'dubstep', 'eastern', 'easy', 'electronic',\n",
       "       'electropop', 'emo', 'entehno', 'epicmetal', 'estrada', 'ethnic',\n",
       "       'eurofolk', 'european', 'experimental', 'extrememetal', 'fado',\n",
       "       'fairytail', 'film', 'fitness', 'flamenco', 'folk', 'folklore',\n",
       "       'folkmetal', 'folkrock', 'folktronica', 'forró', 'frankreich',\n",
       "       'französisch', 'french', 'funk', 'future', 'gangsta', 'garage',\n",
       "       'german', 'ghazal', 'gitarre', 'glitch', 'gospel', 'gothic',\n",
       "       'grime', 'grunge', 'gypsy', 'handsup', \"hard'n'heavy\", 'hardcore',\n",
       "       'hardstyle', 'hardtechno', 'hiphop', 'historisch', 'holiday',\n",
       "       'horror', 'house', 'hymn', 'idm', 'independent', 'indian', 'indie',\n",
       "       'indipop', 'industrial', 'inspirational', 'instrumental',\n",
       "       'international', 'irish', 'jam', 'japanese', 'jazz', 'jewish',\n",
       "       'jpop', 'jungle', 'k-pop', 'karadeniz', 'karaoke', 'kayokyoku',\n",
       "       'korean', 'laiko', 'latin', 'latino', 'leftfield', 'local',\n",
       "       'lounge', 'loungeelectronic', 'lovers', 'malaysian', 'mandopop',\n",
       "       'marschmusik', 'meditative', 'mediterranean', 'melodic', 'metal',\n",
       "       'metalcore', 'mexican', 'middle', 'minimal', 'miscellaneous',\n",
       "       'modern', 'mood', 'mpb', 'muslim', 'native', 'neoklassik', 'neue',\n",
       "       'new', 'newage', 'newwave', 'nu', 'nujazz', 'numetal', 'oceania',\n",
       "       'old', 'opera', 'orchestral', 'other', 'piano', 'podcasts', 'pop',\n",
       "       'popdance', 'popelectronic', 'popeurodance', 'poprussian', 'post',\n",
       "       'posthardcore', 'postrock', 'power', 'progmetal', 'progressive',\n",
       "       'psychedelic', 'punjabi', 'punk', 'quebecois', 'ragga', 'ram',\n",
       "       'rancheras', 'rap', 'rave', 'reggae', 'reggaeton', 'regional',\n",
       "       'relax', 'religious', 'retro', 'rhythm', 'rnb', 'rnr', 'rock',\n",
       "       'rockabilly', 'rockalternative', 'rockindie', 'rockother',\n",
       "       'romance', 'roots', 'ruspop', 'rusrap', 'rusrock', 'russian',\n",
       "       'salsa', 'samba', 'scenic', 'schlager', 'self', 'sertanejo',\n",
       "       'shanson', 'shoegazing', 'showtunes', 'singer', 'ska', 'skarock',\n",
       "       'slow', 'smooth', 'soft', 'soul', 'soulful', 'sound', 'soundtrack',\n",
       "       'southern', 'specialty', 'speech', 'spiritual', 'sport',\n",
       "       'stonerrock', 'surf', 'swing', 'synthpop', 'synthrock',\n",
       "       'sängerportrait', 'tango', 'tanzorchester', 'taraftar', 'tatar',\n",
       "       'tech', 'techno', 'teen', 'thrash', 'top', 'traditional',\n",
       "       'tradjazz', 'trance', 'tribal', 'trip', 'triphop', 'tropical',\n",
       "       'türk', 'türkçe', 'ukrrock', 'unknown', 'urban', 'uzbek',\n",
       "       'variété', 'vi', 'videogame', 'vocal', 'western', 'world',\n",
       "       'worldbeat', 'ïîï', 'электроника'], dtype=object)"
      ]
     },
     "execution_count": 18,
     "metadata": {},
     "output_type": "execute_result"
    }
   ],
   "source": [
    "# Проверка на неявные дубликаты\n",
    "pd.Series(df['genre'].sort_values()).unique()"
   ]
  },
  {
   "cell_type": "markdown",
   "metadata": {
    "deletable": false,
    "editable": false,
    "id": "jz6a9-7HQUDd"
   },
   "source": [
    "**Выводы**\n",
    "\n",
    "Предобработка обнаружила три проблемы в данных:\n",
    "\n",
    "- нарушения в стиле заголовков,\n",
    "- пропущенные значения,\n",
    "- дубликаты — явные и неявные.\n",
    "\n",
    "Вы исправили заголовки, чтобы упростить работу с таблицей. Без дубликатов исследование станет более точным.\n",
    "\n",
    "Пропущенные значения вы заменили на `'unknown'`. Ещё предстоит увидеть, не повредят ли исследованию пропуски в колонке `genre`.\n",
    "\n",
    "Теперь можно перейти к проверке гипотез. "
   ]
  },
  {
   "cell_type": "markdown",
   "metadata": {
    "deletable": false,
    "editable": false,
    "id": "WttZHXH0SqKk"
   },
   "source": [
    "## Проверка гипотез"
   ]
  },
  {
   "cell_type": "markdown",
   "metadata": {
    "deletable": false,
    "editable": false,
    "id": "Im936VVi_Zcu"
   },
   "source": [
    "### Сравнение поведения пользователей двух столиц"
   ]
  },
  {
   "cell_type": "markdown",
   "metadata": {
    "deletable": false,
    "editable": false,
    "id": "nwt_MuaL_Zcu"
   },
   "source": [
    "Первая гипотеза утверждает, что пользователи по-разному слушают музыку в Москве и Санкт-Петербурге. Проверьте это предположение по данным о трёх днях недели — понедельнике, среде и пятнице. Для этого:\n",
    "\n",
    "* Разделите пользователей Москвы и Санкт-Петербурга.\n",
    "* Сравните, сколько треков послушала каждая группа пользователей в понедельник, среду и пятницу.\n"
   ]
  },
  {
   "cell_type": "markdown",
   "metadata": {
    "deletable": false,
    "editable": false,
    "id": "8Dw_YMmT_Zcu",
    "tags": [
     "start_task"
    ]
   },
   "source": [
    "**Задание 18**\n",
    "\n",
    "Для тренировки сначала выполните каждый из расчётов по отдельности. \n",
    "\n",
    "Оцените активность пользователей в каждом городе. Сгруппируйте данные по городу и посчитайте прослушивания в каждой группе.\n",
    "\n"
   ]
  },
  {
   "cell_type": "code",
   "execution_count": 19,
   "metadata": {
    "deletable": false,
    "id": "0_Qs96oh_Zcu"
   },
   "outputs": [
    {
     "name": "stdout",
     "output_type": "stream",
     "text": [
      "city\n",
      "Moscow              42741\n",
      "Saint-Petersburg    18512\n",
      "Name: track, dtype: int64\n"
     ]
    }
   ],
   "source": [
    "# Подсчёт прослушиваний в каждом городе\n",
    "print(df.groupby('city')['track'].count())"
   ]
  },
  {
   "cell_type": "markdown",
   "metadata": {
    "deletable": false,
    "editable": false,
    "id": "dzli3w8o_Zcu",
    "tags": [
     "start_task"
    ]
   },
   "source": [
    "В Москве прослушиваний больше, чем в Петербурге. Из этого не следует, что московские пользователи чаще слушают музыку. Просто самих пользователей в Москве больше.\n",
    "\n",
    "**Задание 19**\n",
    "\n",
    "Теперь сгруппируйте данные по дню недели и посчитайте прослушивания в понедельник, среду и пятницу. Учтите, что в данных есть информация о прослушиваниях только за эти дни.\n"
   ]
  },
  {
   "cell_type": "code",
   "execution_count": 20,
   "metadata": {
    "deletable": false,
    "id": "uZMKjiJz_Zcu"
   },
   "outputs": [
    {
     "name": "stdout",
     "output_type": "stream",
     "text": [
      "day\n",
      "Friday       21840\n",
      "Monday       21354\n",
      "Wednesday    18059\n",
      "Name: track, dtype: int64\n"
     ]
    }
   ],
   "source": [
    "# Подсчёт прослушиваний в каждый из трёх дней\n",
    "print(df.groupby('day')['track'].count())"
   ]
  },
  {
   "cell_type": "markdown",
   "metadata": {
    "deletable": false,
    "editable": false,
    "id": "cC2tNrlL_Zcu"
   },
   "source": [
    "В среднем пользователи из двух городов менее активны по средам. Но картина может измениться, если рассмотреть каждый город в отдельности."
   ]
  },
  {
   "cell_type": "markdown",
   "metadata": {
    "deletable": false,
    "editable": false,
    "id": "POzs8bGa_Zcu",
    "tags": [
     "start_task"
    ]
   },
   "source": [
    "**Задание 20**\n",
    "\n",
    "\n",
    "Вы видели, как работает группировка по городу и по дням недели. Теперь напишите функцию, которая объединит два эти расчёта.\n",
    "\n",
    "Создайте функцию `number_tracks()`, которая посчитает прослушивания для заданного дня и города. Ей понадобятся два параметра:\n",
    "* день недели,\n",
    "* название города.\n",
    "\n",
    "В функции сохраните в переменную строки исходной таблицы, у которых значение:\n",
    "  * в колонке `day` равно параметру `day`,\n",
    "  * в колонке `city` равно параметру `city`.\n",
    "\n",
    "Для этого примените последовательную фильтрацию с логической индексацией (или сложные логические выражения в одну строку, если вы уже знакомы с ними).\n",
    "\n",
    "Затем посчитайте значения в столбце `user_id` получившейся таблицы. Результат сохраните в новую переменную. Верните эту переменную из функции."
   ]
  },
  {
   "cell_type": "code",
   "execution_count": 23,
   "metadata": {
    "deletable": false,
    "id": "Nz3GdQB1_Zcu"
   },
   "outputs": [],
   "source": [
    "# <создание функции number_tracks()>\n",
    "def number_tracks(day, city): # Объявляется функция с двумя параметрами: day, city.\n",
    "    #def number_tracks(day, city):\n",
    "    #track_list = df.loc[df.loc[:,'day'] == day]['day']\n",
    "    #track_list = track_list.loc[track_list.loc[:,'city'] == city]['city']\n",
    "    #track_list_count = track_list.count()\n",
    "    #return track_list_count \n",
    "    track_list = df[(df['day'] == day) & (df['city'] == city)]# В переменной track_list сохраняются те строки таблицы df, для которых значение в столбце 'day' равно параметру day и одновременно значение # в столбце 'city' равно параметру city (используйте последовательную фильтрацию\n",
    "     # В переменной track_list_count сохраняется число значений столбца 'user_id',\n",
    "    track_list_count = track_list['user_id'].count() # рассчитанное методом count() для таблицы track_list.\n",
    "    return track_list_count # Функция возвращает число - значение track_list_count.\n",
    "\n",
    "\n",
    "#def number_tracks(day, city):\n",
    "#    genre_df = df[df['day'] == day]\n",
    "#    genre_df = df[df['city'] == city]\n",
    "#    genre_df_grouped = genre_df.groupby('city')[['city']].sum().count()    \n",
    "#    return genre_df_grouped\n",
    "\n",
    "# Функция для подсчёта прослушиваний для конкретного города и дня.\n",
    "# С помощью последовательной фильтрации с логической индексацией она \n",
    "# сначала получит из исходной таблицы строки с нужным днём,\n",
    "# затем из результата отфильтрует строки с нужным городом,\n",
    "# методом count() посчитает количество значений в колонке user_id. \n",
    "# Это количество функция вернёт в качестве результата"
   ]
  },
  {
   "cell_type": "markdown",
   "metadata": {
    "deletable": false,
    "editable": false,
    "id": "ytf7xFrFJQ2r",
    "tags": [
     "start_task"
    ]
   },
   "source": [
    "**Задание 21**\n",
    "\n",
    "Вызовите `number_tracks()` шесть раз, меняя значение параметров — так, чтобы получить данные для каждого города в каждый из трёх дней."
   ]
  },
  {
   "cell_type": "code",
   "execution_count": 24,
   "metadata": {
    "deletable": false,
    "id": "rJcRATNQ_Zcu"
   },
   "outputs": [
    {
     "data": {
      "text/plain": [
       "15740"
      ]
     },
     "execution_count": 24,
     "metadata": {},
     "output_type": "execute_result"
    }
   ],
   "source": [
    "# количество прослушиваний в Москве по понедельникам\n",
    "number_tracks('Monday','Moscow')\n"
   ]
  },
  {
   "cell_type": "code",
   "execution_count": 25,
   "metadata": {
    "deletable": false,
    "id": "hq_ncZ5T_Zcu"
   },
   "outputs": [
    {
     "data": {
      "text/plain": [
       "5614"
      ]
     },
     "execution_count": 25,
     "metadata": {},
     "output_type": "execute_result"
    }
   ],
   "source": [
    "# количество прослушиваний в Санкт-Петербурге по понедельникам\n",
    "number_tracks('Monday','Saint-Petersburg')"
   ]
  },
  {
   "cell_type": "code",
   "execution_count": 26,
   "metadata": {
    "deletable": false,
    "id": "_NTy2VPU_Zcu"
   },
   "outputs": [
    {
     "data": {
      "text/plain": [
       "11056"
      ]
     },
     "execution_count": 26,
     "metadata": {},
     "output_type": "execute_result"
    }
   ],
   "source": [
    "# количество прослушиваний в Москве по средам\n",
    "number_tracks('Wednesday','Moscow')"
   ]
  },
  {
   "cell_type": "code",
   "execution_count": 27,
   "metadata": {
    "deletable": false,
    "id": "j2y3TAwo_Zcu"
   },
   "outputs": [
    {
     "data": {
      "text/plain": [
       "7003"
      ]
     },
     "execution_count": 27,
     "metadata": {},
     "output_type": "execute_result"
    }
   ],
   "source": [
    "# количество прослушиваний в Санкт-Петербурге по средам\n",
    "number_tracks('Wednesday','Saint-Petersburg')"
   ]
  },
  {
   "cell_type": "code",
   "execution_count": 28,
   "metadata": {
    "deletable": false,
    "id": "vYDw5u_K_Zcu"
   },
   "outputs": [
    {
     "data": {
      "text/plain": [
       "15945"
      ]
     },
     "execution_count": 28,
     "metadata": {},
     "output_type": "execute_result"
    }
   ],
   "source": [
    "# количество прослушиваний в Москве по пятницам\n",
    "number_tracks('Friday','Moscow')"
   ]
  },
  {
   "cell_type": "code",
   "execution_count": 29,
   "metadata": {
    "deletable": false,
    "id": "8_yzFtW3_Zcu"
   },
   "outputs": [
    {
     "data": {
      "text/plain": [
       "5895"
      ]
     },
     "execution_count": 29,
     "metadata": {},
     "output_type": "execute_result"
    }
   ],
   "source": [
    "# количество прослушиваний в Санкт-Петербурге по пятницам\n",
    "number_tracks('Friday','Saint-Petersburg')"
   ]
  },
  {
   "cell_type": "markdown",
   "metadata": {
    "deletable": false,
    "editable": false,
    "id": "7QXffbO-_Zcu",
    "tags": [
     "start_task"
    ]
   },
   "source": [
    "**Задание 22**\n",
    "\n",
    "Создайте c помощью конструктора `pd.DataFrame` таблицу, где\n",
    "* названия колонок — `['city', 'monday', 'wednesday', 'friday']`;\n",
    "* данные — результаты, которые вы получили с помощью `number_tracks`."
   ]
  },
  {
   "cell_type": "code",
   "execution_count": 40,
   "metadata": {
    "deletable": false,
    "id": "APAcLpOr_Zcu"
   },
   "outputs": [],
   "source": [
    "# Таблица с результатами\n",
    "columns = ['city', 'monday', 'wednesday', 'friday']\n",
    "datas = [\n",
    "    ['Moscow',15740,11056,15945],\n",
    "    ['Saint-Petersburg',5614,7003,5895]\n",
    "]\n",
    "info = pd.DataFrame(data=datas, columns=columns)"
   ]
  },
  {
   "cell_type": "markdown",
   "metadata": {
    "deletable": false,
    "editable": false,
    "id": "-EgPIHYu_Zcu"
   },
   "source": [
    "**Выводы**\n",
    "\n",
    "Данные показывают разницу поведения пользователей:\n",
    "\n",
    "- В Москве пик прослушиваний приходится на понедельник и пятницу, а в среду заметен спад.\n",
    "- В Петербурге, наоборот, больше слушают музыку по средам. Активность в понедельник и пятницу здесь почти в равной мере уступает среде.\n",
    "\n",
    "Значит, данные говорят в пользу первой гипотезы."
   ]
  },
  {
   "cell_type": "markdown",
   "metadata": {
    "deletable": false,
    "editable": false,
    "id": "atZAxtq4_Zcu"
   },
   "source": [
    "### Музыка в начале и в конце недели"
   ]
  },
  {
   "cell_type": "markdown",
   "metadata": {
    "deletable": false,
    "editable": false,
    "id": "eXrQqXFH_Zcu"
   },
   "source": [
    "Согласно второй гипотезе, утром в понедельник в Москве преобладают одни жанры, а в Петербурге — другие. Так же и вечером пятницы преобладают разные жанры — в зависимости от города."
   ]
  },
  {
   "cell_type": "markdown",
   "metadata": {
    "deletable": false,
    "editable": false,
    "id": "S8UcW6Hw_Zcu",
    "tags": [
     "start_task"
    ]
   },
   "source": [
    "**Задание 23**\n",
    "\n",
    "Сохраните таблицы с данными в две переменные:\n",
    "* по Москве — в `moscow_general`;\n",
    "* по Санкт-Петербургу — в `spb_general`."
   ]
  },
  {
   "cell_type": "code",
   "execution_count": 57,
   "metadata": {
    "deletable": false,
    "id": "qeaFfM_P_Zcu"
   },
   "outputs": [],
   "source": [
    "# получение таблицы moscow_general из тех строк таблицы df, \n",
    "moscow_general = df[df['city'] == 'Moscow']\n",
    "# для которых значение в столбце 'city' равно 'Moscow'\n",
    "#print(moscow_general['user_id'].count())"
   ]
  },
  {
   "cell_type": "code",
   "execution_count": 58,
   "metadata": {
    "deletable": false,
    "id": "ORaVRKto_Zcu"
   },
   "outputs": [],
   "source": [
    "# получение таблицы spb_general из тех строк таблицы df,\n",
    "spb_general = df[df['city'] == 'Saint-Petersburg']\n",
    "# для которых значение в столбце 'city' равно 'Saint-Petersburg'\n",
    "#print(spb_general['user_id'].count())"
   ]
  },
  {
   "cell_type": "markdown",
   "metadata": {
    "deletable": false,
    "editable": false,
    "id": "MEJV-CX2_Zcu",
    "tags": [
     "start_task"
    ]
   },
   "source": [
    "**Задание 24**\n",
    "\n",
    "Создайте функцию `genre_weekday()` с четырьмя параметрами:\n",
    "* таблица (датафрейм) с данными,\n",
    "* день недели,\n",
    "* начальная временная метка в формате 'hh:mm', \n",
    "* последняя временная метка в формате 'hh:mm'.\n",
    "\n",
    "Функция должна вернуть информацию о топ-10 жанров тех треков, которые прослушивали в указанный день, в промежутке между двумя отметками времени."
   ]
  },
  {
   "cell_type": "code",
   "execution_count": 52,
   "metadata": {
    "deletable": false,
    "id": "laJT9BYl_Zcu"
   },
   "outputs": [],
   "source": [
    "# Объявление функции genre_weekday() с параметрами table, day, time1, time2,\n",
    "# которая возвращает информацию о самых популярных жанрах в указанный день в\n",
    "# заданное время:\n",
    "# 1) в переменную genre_df сохраняются те строки переданного датафрейма table, для\n",
    "#    которых одновременно:\n",
    "#    - значение в столбце day равно значению аргумента day\n",
    "#    - значение в столбце time больше значения аргумента time1\n",
    "#    - значение в столбце time меньше значения аргумента time2\n",
    "#    Используйте последовательную фильтрацию с помощью логической индексации.\n",
    "# 2) сгруппировать датафрейм genre_df по столбцу genre, взять один из его\n",
    "#    столбцов и посчитать методом count() количество записей для каждого из\n",
    "#    присутствующих жанров, получившийся Series записать в переменную\n",
    "#    genre_df_count\n",
    "# 3) отсортировать genre_df_count по убыванию встречаемости и сохранить\n",
    "#    в переменную genre_df_sorted\n",
    "# 4) вернуть Series из 10 первых значений genre_df_sorted, это будут топ-10\n",
    "#    популярных жанров (в указанный день, в заданное время)\n",
    "\n",
    "def genre_weekday(df, day, time1, time2):\n",
    "    # последовательная фильтрация\n",
    "    # оставляем в genre_df только те строки df, у которых день равен day\n",
    "    genre_df = df[df['day'] == day] # ваш код здесь\n",
    "    # оставляем в genre_df только те строки genre_df, у которых время меньше time2\n",
    "    genre_df = genre_df[genre_df['time'] < time2] # ваш код здесь\n",
    "    # оставляем в genre_df только те строки genre_df, у которых время больше time1\n",
    "    genre_df = genre_df[genre_df['time'] > time1] # ваш код здесь\n",
    "    # сгруппируем отфильтрованный датафрейм по столбцу с названиями жанров, возьмём столбец genre и \n",
    "    #посчитаем кол-во строк для каждого жанра методом count()\n",
    "    genre_df_grouped = genre_df.groupby('genre')['genre'].count() # ваш код здесь\n",
    "    # отсортируем результат по убыванию (чтобы в начале Series оказались самые популярные жанры)\n",
    "    genre_df_sorted = genre_df_grouped.sort_values(ascending=False) # ваш код здесь\n",
    "    # вернём Series с 10 самыми популярными жанрами в указанный отрезок времени заданного дня\n",
    "    return genre_df_sorted[:10]"
   ]
  },
  {
   "cell_type": "markdown",
   "metadata": {
    "deletable": false,
    "editable": false,
    "id": "la2s2_PF_Zcu",
    "tags": [
     "start_task"
    ]
   },
   "source": [
    "**Задание 25**\n",
    "\n",
    "\n",
    "Cравните результаты функции `genre_weekday()` для Москвы и Санкт-Петербурга в понедельник утром (с 7:00 до 11:00) и в пятницу вечером (с 17:00 до 23:00):"
   ]
  },
  {
   "cell_type": "code",
   "execution_count": 61,
   "metadata": {
    "deletable": false,
    "id": "yz7itPUQ_Zcu"
   },
   "outputs": [
    {
     "data": {
      "text/plain": [
       "genre\n",
       "pop            999\n",
       "dance          731\n",
       "rock           636\n",
       "electronic     627\n",
       "hiphop         366\n",
       "ruspop         250\n",
       "rusrap         230\n",
       "alternative    222\n",
       "world          217\n",
       "classical      197\n",
       "Name: genre, dtype: int64"
      ]
     },
     "execution_count": 61,
     "metadata": {},
     "output_type": "execute_result"
    }
   ],
   "source": [
    "# вызов функции для утра понедельника в Москве (вместо df — таблица moscow_general)\n",
    "# объекты, хранящие время, являются строками и сравниваются как строки\n",
    "# пример вызова: genre_weekday(moscow_general, 'Monday', '07:00', '11:00')\n",
    "genre_weekday(moscow_general, 'Monday', '07:00', '11:00')"
   ]
  },
  {
   "cell_type": "code",
   "execution_count": 63,
   "metadata": {
    "deletable": false,
    "id": "kwUcHPdy_Zcu"
   },
   "outputs": [
    {
     "data": {
      "text/plain": [
       "genre\n",
       "pop            999\n",
       "dance          731\n",
       "rock           636\n",
       "electronic     627\n",
       "hiphop         366\n",
       "ruspop         250\n",
       "rusrap         230\n",
       "alternative    222\n",
       "world          217\n",
       "classical      197\n",
       "Name: genre, dtype: int64"
      ]
     },
     "execution_count": 63,
     "metadata": {},
     "output_type": "execute_result"
    }
   ],
   "source": [
    "# вызов функции для утра понедельника в Петербурге (вместо df — таблица spb_general)\n",
    "genre_weekday(spb_general, 'Monday', '07:00', '11:00')"
   ]
  },
  {
   "cell_type": "code",
   "execution_count": 67,
   "metadata": {
    "deletable": false,
    "id": "EzXVRE1o_Zcu"
   },
   "outputs": [
    {
     "data": {
      "text/plain": [
       "genre\n",
       "pop            969\n",
       "rock           733\n",
       "dance          705\n",
       "electronic     698\n",
       "hiphop         370\n",
       "world          262\n",
       "alternative    226\n",
       "classical      223\n",
       "ruspop         217\n",
       "rusrap         201\n",
       "Name: genre, dtype: int64"
      ]
     },
     "execution_count": 67,
     "metadata": {},
     "output_type": "execute_result"
    }
   ],
   "source": [
    "# вызов функции для вечера пятницы в Москве\n",
    "genre_weekday(moscow_general, 'Friday', '17:00', '23:00')"
   ]
  },
  {
   "cell_type": "code",
   "execution_count": 68,
   "metadata": {
    "deletable": false,
    "id": "JZaEKu5v_Zcu"
   },
   "outputs": [
    {
     "data": {
      "text/plain": [
       "genre\n",
       "pop            969\n",
       "rock           733\n",
       "dance          705\n",
       "electronic     698\n",
       "hiphop         370\n",
       "world          262\n",
       "alternative    226\n",
       "classical      223\n",
       "ruspop         217\n",
       "rusrap         201\n",
       "Name: genre, dtype: int64"
      ]
     },
     "execution_count": 68,
     "metadata": {},
     "output_type": "execute_result"
    }
   ],
   "source": [
    "# вызов функции для вечера пятницы в Петербурге\n",
    "genre_weekday(spb_general, 'Friday', '17:00', '23:00')"
   ]
  },
  {
   "cell_type": "markdown",
   "metadata": {
    "deletable": false,
    "editable": false,
    "id": "wrCe4MNX_Zcu"
   },
   "source": [
    "**Выводы**\n",
    "\n",
    "Если сравнить топ-10 жанров в понедельник утром, можно сделать такие выводы:\n",
    "\n",
    "1. В Москве и Петербурге слушают похожую музыку. Единственное отличие — в московский рейтинг вошёл жанр “world”, а в петербургский — джаз и классика.\n",
    "\n",
    "2. В Москве пропущенных значений оказалось так много, что значение `'unknown'` заняло десятое место среди самых популярных жанров. Значит, пропущенные значения занимают существенную долю в данных и угрожают достоверности исследования.\n",
    "\n",
    "Вечер пятницы не меняет эту картину. Некоторые жанры поднимаются немного выше, другие спускаются, но в целом топ-10 остаётся тем же самым.\n",
    "\n",
    "Таким образом, вторая гипотеза подтвердилась лишь частично:\n",
    "* Пользователи слушают похожую музыку в начале недели и в конце.\n",
    "* Разница между Москвой и Петербургом не слишком выражена. В Москве чаще слушают русскую популярную музыку, в Петербурге — джаз.\n",
    "\n",
    "Однако пропуски в данных ставят под сомнение этот результат. В Москве их так много, что рейтинг топ-10 мог бы выглядеть иначе, если бы не утерянные  данные о жанрах."
   ]
  },
  {
   "cell_type": "markdown",
   "metadata": {
    "deletable": false,
    "editable": false,
    "id": "JolODAqr_Zcu"
   },
   "source": [
    "### Жанровые предпочтения в Москве и Петербурге\n",
    "\n",
    "Гипотеза: Петербург — столица рэпа, музыку этого жанра там слушают чаще, чем в Москве.  А Москва — город контрастов, в котором, тем не менее, преобладает поп-музыка."
   ]
  },
  {
   "cell_type": "markdown",
   "metadata": {
    "deletable": false,
    "editable": false,
    "id": "DlegSvaT_Zcu",
    "tags": [
     "start_task"
    ]
   },
   "source": [
    "**Задание 26**\n",
    "\n",
    "Сгруппируйте таблицу `moscow_general` по жанру и посчитайте прослушивания треков каждого жанра методом `count()`. Затем отсортируйте результат в порядке убывания и сохраните его в таблице `moscow_genres`."
   ]
  },
  {
   "cell_type": "code",
   "execution_count": 76,
   "metadata": {
    "deletable": false,
    "id": "r19lIPke_Zcu"
   },
   "outputs": [],
   "source": [
    "# одной строкой: группировка таблицы moscow_general по столбцу 'genre', \n",
    "moscow_genres = moscow_general.groupby('genre')['genre'].count().sort_values(ascending=False)\n",
    "# подсчёт числа значений 'genre' в этой группировке методом count(),\n",
    "# сортировка получившегося Series в порядке убывания и сохранение в moscow_genres"
   ]
  },
  {
   "cell_type": "markdown",
   "metadata": {
    "deletable": false,
    "editable": false,
    "id": "6kMuomxTiIr8",
    "tags": [
     "start_task"
    ]
   },
   "source": [
    "**Задание 27**\n",
    "\n",
    "Выведите на экран первые десять строк `moscow_genres`:"
   ]
  },
  {
   "cell_type": "code",
   "execution_count": 71,
   "metadata": {
    "deletable": false,
    "id": "WhCSooF8_Zcv"
   },
   "outputs": [
    {
     "data": {
      "text/html": [
       "<div>\n",
       "<style scoped>\n",
       "    .dataframe tbody tr th:only-of-type {\n",
       "        vertical-align: middle;\n",
       "    }\n",
       "\n",
       "    .dataframe tbody tr th {\n",
       "        vertical-align: top;\n",
       "    }\n",
       "\n",
       "    .dataframe thead th {\n",
       "        text-align: right;\n",
       "    }\n",
       "</style>\n",
       "<table border=\"1\" class=\"dataframe\">\n",
       "  <thead>\n",
       "    <tr style=\"text-align: right;\">\n",
       "      <th></th>\n",
       "      <th>user_id</th>\n",
       "      <th>track</th>\n",
       "      <th>artist</th>\n",
       "      <th>city</th>\n",
       "      <th>time</th>\n",
       "      <th>day</th>\n",
       "    </tr>\n",
       "    <tr>\n",
       "      <th>genre</th>\n",
       "      <th></th>\n",
       "      <th></th>\n",
       "      <th></th>\n",
       "      <th></th>\n",
       "      <th></th>\n",
       "      <th></th>\n",
       "    </tr>\n",
       "  </thead>\n",
       "  <tbody>\n",
       "    <tr>\n",
       "      <th>pop</th>\n",
       "      <td>5892</td>\n",
       "      <td>5892</td>\n",
       "      <td>5892</td>\n",
       "      <td>5892</td>\n",
       "      <td>5892</td>\n",
       "      <td>5892</td>\n",
       "    </tr>\n",
       "    <tr>\n",
       "      <th>dance</th>\n",
       "      <td>4435</td>\n",
       "      <td>4435</td>\n",
       "      <td>4435</td>\n",
       "      <td>4435</td>\n",
       "      <td>4435</td>\n",
       "      <td>4435</td>\n",
       "    </tr>\n",
       "    <tr>\n",
       "      <th>rock</th>\n",
       "      <td>3965</td>\n",
       "      <td>3965</td>\n",
       "      <td>3965</td>\n",
       "      <td>3965</td>\n",
       "      <td>3965</td>\n",
       "      <td>3965</td>\n",
       "    </tr>\n",
       "    <tr>\n",
       "      <th>electronic</th>\n",
       "      <td>3786</td>\n",
       "      <td>3786</td>\n",
       "      <td>3786</td>\n",
       "      <td>3786</td>\n",
       "      <td>3786</td>\n",
       "      <td>3786</td>\n",
       "    </tr>\n",
       "    <tr>\n",
       "      <th>hiphop</th>\n",
       "      <td>2096</td>\n",
       "      <td>2096</td>\n",
       "      <td>2096</td>\n",
       "      <td>2096</td>\n",
       "      <td>2096</td>\n",
       "      <td>2096</td>\n",
       "    </tr>\n",
       "    <tr>\n",
       "      <th>classical</th>\n",
       "      <td>1616</td>\n",
       "      <td>1616</td>\n",
       "      <td>1616</td>\n",
       "      <td>1616</td>\n",
       "      <td>1616</td>\n",
       "      <td>1616</td>\n",
       "    </tr>\n",
       "    <tr>\n",
       "      <th>world</th>\n",
       "      <td>1432</td>\n",
       "      <td>1432</td>\n",
       "      <td>1432</td>\n",
       "      <td>1432</td>\n",
       "      <td>1432</td>\n",
       "      <td>1432</td>\n",
       "    </tr>\n",
       "    <tr>\n",
       "      <th>alternative</th>\n",
       "      <td>1379</td>\n",
       "      <td>1379</td>\n",
       "      <td>1379</td>\n",
       "      <td>1379</td>\n",
       "      <td>1379</td>\n",
       "      <td>1379</td>\n",
       "    </tr>\n",
       "    <tr>\n",
       "      <th>ruspop</th>\n",
       "      <td>1372</td>\n",
       "      <td>1372</td>\n",
       "      <td>1372</td>\n",
       "      <td>1372</td>\n",
       "      <td>1372</td>\n",
       "      <td>1372</td>\n",
       "    </tr>\n",
       "    <tr>\n",
       "      <th>rusrap</th>\n",
       "      <td>1161</td>\n",
       "      <td>1161</td>\n",
       "      <td>1161</td>\n",
       "      <td>1161</td>\n",
       "      <td>1161</td>\n",
       "      <td>1161</td>\n",
       "    </tr>\n",
       "  </tbody>\n",
       "</table>\n",
       "</div>"
      ],
      "text/plain": [
       "             user_id  track  artist  city  time   day\n",
       "genre                                                \n",
       "pop             5892   5892    5892  5892  5892  5892\n",
       "dance           4435   4435    4435  4435  4435  4435\n",
       "rock            3965   3965    3965  3965  3965  3965\n",
       "electronic      3786   3786    3786  3786  3786  3786\n",
       "hiphop          2096   2096    2096  2096  2096  2096\n",
       "classical       1616   1616    1616  1616  1616  1616\n",
       "world           1432   1432    1432  1432  1432  1432\n",
       "alternative     1379   1379    1379  1379  1379  1379\n",
       "ruspop          1372   1372    1372  1372  1372  1372\n",
       "rusrap          1161   1161    1161  1161  1161  1161"
      ]
     },
     "execution_count": 71,
     "metadata": {},
     "output_type": "execute_result"
    }
   ],
   "source": [
    "# просмотр первых 10 строк moscow_genres\n",
    "moscow_genres.head(10)"
   ]
  },
  {
   "cell_type": "markdown",
   "metadata": {
    "deletable": false,
    "editable": false,
    "id": "cnPG2vnN_Zcv",
    "tags": [
     "start_task"
    ]
   },
   "source": [
    "**Задание 28**\n",
    "\n",
    "\n",
    "Теперь повторите то же и для Петербурга.\n",
    "\n",
    "Сгруппируйте таблицу `spb_general` по жанру. Посчитайте прослушивания треков каждого жанра. Результат отсортируйте в порядке убывания и сохраните в таблице `spb_genres`:\n"
   ]
  },
  {
   "cell_type": "code",
   "execution_count": 77,
   "metadata": {
    "deletable": false,
    "id": "gluLIpE7_Zcv"
   },
   "outputs": [],
   "source": [
    "# одной строкой: группировка таблицы spb_general по столбцу 'genre', \n",
    "# подсчёт числа значений 'genre' в этой группировке методом count(), \n",
    "# сортировка получившегося Series в порядке убывания и сохранение в spb_genres\n",
    "spb_genres = spb_general.groupby('genre')['genre'].count().sort_values(ascending=False)"
   ]
  },
  {
   "cell_type": "markdown",
   "metadata": {
    "deletable": false,
    "editable": false,
    "id": "5Doha_ODgyQ8",
    "tags": [
     "start_task"
    ]
   },
   "source": [
    "**Задание 29**\n",
    "\n",
    "Выведите на экран первые десять строк `spb_genres`:"
   ]
  },
  {
   "cell_type": "code",
   "execution_count": null,
   "metadata": {
    "deletable": false,
    "id": "uaGJHjVU_Zcv"
   },
   "outputs": [],
   "source": [
    "# просмотр первых 10 строк spb_genres\n",
    "spb_genres.head(10)"
   ]
  },
  {
   "cell_type": "markdown",
   "metadata": {
    "deletable": false,
    "editable": false,
    "id": "RY51YJYu_Zcv"
   },
   "source": [
    "**Выводы**"
   ]
  },
  {
   "cell_type": "markdown",
   "metadata": {
    "deletable": false,
    "editable": false,
    "id": "nVhnJEm__Zcv"
   },
   "source": [
    "Гипотеза частично подтвердилась:\n",
    "* Поп-музыка — самый популярный жанр в Москве, как и предполагала гипотеза. Более того, в топ-10 жанров встречается близкий жанр — русская популярная музыка.\n",
    "* Вопреки ожиданиям, рэп одинаково популярен в Москве и Петербурге. \n"
   ]
  },
  {
   "cell_type": "markdown",
   "metadata": {
    "deletable": false,
    "editable": false,
    "id": "ykKQ0N65_Zcv"
   },
   "source": [
    "## Итоги исследования"
   ]
  },
  {
   "cell_type": "markdown",
   "metadata": {
    "deletable": false,
    "editable": false,
    "id": "tjUwbHb3_Zcv"
   },
   "source": [
    "Вы проверили три гипотезы и установили:\n",
    "\n",
    "1. День недели по-разному влияет на активность пользователей в Москве и Петербурге. \n",
    "\n",
    "Первая гипотеза полностью подтвердилась.\n",
    "\n",
    "2. Музыкальные предпочтения не сильно меняются в течение недели — будь то Москва или Петербург. Небольшие различия заметны в начале недели, по понедельникам:\n",
    "* в Москве слушают музыку жанра “world”,\n",
    "* в Петербурге — джаз и классику.\n",
    "\n",
    "Таким образом, вторая гипотеза подтвердилась лишь отчасти. Этот результат мог оказаться иным, если бы не пропуски в данных.\n",
    "\n",
    "3. Во вкусах пользователей Москвы и Петербурга больше общего чем различий. Вопреки ожиданиям, предпочтения жанров в Петербурге напоминают московские.\n",
    "\n",
    "Третья гипотеза не подтвердилась. Если различия в предпочтениях и существуют, на основной массе пользователей они незаметны.\n",
    "\n",
    "**На практике исследования содержат проверки статистических гипотез.**\n",
    "Из данных одного сервиса не всегда можно сделать вывод о всех жителях города.\n",
    "Проверки статистических гипотез покажут, насколько они достоверны, исходя из имеющихся данных. \n",
    "С методами проверок гипотез вы ещё познакомитесь в следующих темах."
   ]
  }
 ],
 "metadata": {
  "ExecuteTimeLog": [
   {
    "duration": 347,
    "start_time": "2022-11-17T16:04:49.232Z"
   },
   {
    "duration": 162,
    "start_time": "2022-11-17T16:04:51.656Z"
   },
   {
    "duration": 18,
    "start_time": "2022-11-17T16:05:00.463Z"
   },
   {
    "duration": 29,
    "start_time": "2022-11-17T16:05:14.602Z"
   },
   {
    "duration": 5,
    "start_time": "2022-11-17T16:09:08.149Z"
   },
   {
    "duration": 19,
    "start_time": "2022-11-17T16:10:51.715Z"
   },
   {
    "duration": 5,
    "start_time": "2022-11-17T16:12:04.197Z"
   },
   {
    "duration": 21,
    "start_time": "2022-11-17T16:12:16.895Z"
   },
   {
    "duration": 4,
    "start_time": "2022-11-17T16:12:25.929Z"
   },
   {
    "duration": 10,
    "start_time": "2022-11-17T16:12:54.439Z"
   },
   {
    "duration": 4,
    "start_time": "2022-11-17T16:12:58.427Z"
   },
   {
    "duration": 25,
    "start_time": "2022-11-17T16:13:27.920Z"
   },
   {
    "duration": 25,
    "start_time": "2022-11-17T16:14:35.257Z"
   },
   {
    "duration": 26,
    "start_time": "2022-11-17T16:39:57.019Z"
   },
   {
    "duration": 27,
    "start_time": "2022-11-17T16:40:10.219Z"
   },
   {
    "duration": 28,
    "start_time": "2022-11-17T16:40:24.757Z"
   },
   {
    "duration": 60,
    "start_time": "2022-11-17T16:40:58.111Z"
   },
   {
    "duration": 63,
    "start_time": "2022-11-17T16:41:03.766Z"
   },
   {
    "duration": 71,
    "start_time": "2022-11-17T16:42:36.710Z"
   },
   {
    "duration": 62,
    "start_time": "2022-11-17T16:43:00.333Z"
   },
   {
    "duration": 79,
    "start_time": "2022-11-17T16:43:05.035Z"
   },
   {
    "duration": 64,
    "start_time": "2022-11-17T16:43:12.488Z"
   },
   {
    "duration": 74,
    "start_time": "2022-11-17T16:43:15.152Z"
   },
   {
    "duration": 66,
    "start_time": "2022-11-17T16:46:07.970Z"
   },
   {
    "duration": 7,
    "start_time": "2022-11-17T16:46:43.124Z"
   },
   {
    "duration": 731,
    "start_time": "2022-11-17T16:48:17.246Z"
   },
   {
    "duration": 8,
    "start_time": "2022-11-17T16:48:34.053Z"
   },
   {
    "duration": 939,
    "start_time": "2022-11-17T16:50:00.657Z"
   },
   {
    "duration": 10,
    "start_time": "2022-11-17T16:50:15.477Z"
   },
   {
    "duration": 11,
    "start_time": "2022-11-17T16:51:43.607Z"
   },
   {
    "duration": 25,
    "start_time": "2022-11-17T16:52:13.072Z"
   },
   {
    "duration": 10,
    "start_time": "2022-11-17T16:52:23.909Z"
   },
   {
    "duration": 9,
    "start_time": "2022-11-17T16:54:29.568Z"
   },
   {
    "duration": 6,
    "start_time": "2022-11-17T16:54:48.337Z"
   },
   {
    "duration": 7,
    "start_time": "2022-11-17T16:54:54.045Z"
   },
   {
    "duration": 9,
    "start_time": "2022-11-17T16:55:04.809Z"
   },
   {
    "duration": 7,
    "start_time": "2022-11-17T16:57:25.353Z"
   },
   {
    "duration": 2,
    "start_time": "2022-11-17T17:20:30.390Z"
   },
   {
    "duration": 8,
    "start_time": "2022-11-17T17:20:49.310Z"
   },
   {
    "duration": 7,
    "start_time": "2022-11-17T17:21:33.469Z"
   },
   {
    "duration": 6,
    "start_time": "2022-11-17T17:21:46.209Z"
   },
   {
    "duration": 7,
    "start_time": "2022-11-17T17:23:05.594Z"
   },
   {
    "duration": 6,
    "start_time": "2022-11-17T17:23:24.111Z"
   },
   {
    "duration": 19,
    "start_time": "2022-11-17T17:23:48.613Z"
   },
   {
    "duration": 31,
    "start_time": "2022-11-17T17:23:53.595Z"
   },
   {
    "duration": 24,
    "start_time": "2022-11-17T17:24:01.592Z"
   },
   {
    "duration": 20,
    "start_time": "2022-11-17T17:24:06.381Z"
   },
   {
    "duration": 32,
    "start_time": "2022-11-17T17:24:10.047Z"
   },
   {
    "duration": 7,
    "start_time": "2022-11-17T17:24:48.352Z"
   },
   {
    "duration": 8,
    "start_time": "2022-11-17T17:24:55.410Z"
   },
   {
    "duration": 7,
    "start_time": "2022-11-17T17:25:17.370Z"
   },
   {
    "duration": 10,
    "start_time": "2022-11-17T17:25:22.776Z"
   },
   {
    "duration": 18,
    "start_time": "2022-11-17T17:25:49.173Z"
   },
   {
    "duration": 19,
    "start_time": "2022-11-17T17:25:51.839Z"
   },
   {
    "duration": 30,
    "start_time": "2022-11-17T17:25:55.532Z"
   },
   {
    "duration": 29,
    "start_time": "2022-11-17T17:26:05.114Z"
   },
   {
    "duration": 47,
    "start_time": "2022-11-17T17:26:20.200Z"
   },
   {
    "duration": 31,
    "start_time": "2022-11-17T17:26:22.684Z"
   },
   {
    "duration": 21,
    "start_time": "2022-11-17T17:26:43.013Z"
   },
   {
    "duration": 22,
    "start_time": "2022-11-17T17:27:00.857Z"
   },
   {
    "duration": 28,
    "start_time": "2022-11-17T17:27:13.998Z"
   },
   {
    "duration": 23,
    "start_time": "2022-11-17T17:27:21.842Z"
   },
   {
    "duration": 10,
    "start_time": "2022-11-17T17:27:31.048Z"
   },
   {
    "duration": 8,
    "start_time": "2022-11-17T18:26:32.813Z"
   },
   {
    "duration": 6,
    "start_time": "2022-11-17T18:26:50.451Z"
   },
   {
    "duration": 7,
    "start_time": "2022-11-17T18:27:06.013Z"
   },
   {
    "duration": 10,
    "start_time": "2022-11-17T18:39:59.120Z"
   },
   {
    "duration": 7,
    "start_time": "2022-11-17T18:43:21.948Z"
   },
   {
    "duration": 10,
    "start_time": "2022-11-17T18:43:52.229Z"
   },
   {
    "duration": 666,
    "start_time": "2022-11-17T18:57:46.702Z"
   },
   {
    "duration": 11,
    "start_time": "2022-11-17T19:02:25.183Z"
   },
   {
    "duration": 38,
    "start_time": "2022-11-17T19:02:52.962Z"
   },
   {
    "duration": 4402,
    "start_time": "2022-11-17T19:07:09.092Z"
   },
   {
    "duration": 4345,
    "start_time": "2022-11-17T19:07:18.743Z"
   },
   {
    "duration": 2048,
    "start_time": "2022-11-17T19:08:24.609Z"
   },
   {
    "duration": 1992,
    "start_time": "2022-11-17T19:09:26.984Z"
   },
   {
    "duration": 3,
    "start_time": "2022-11-17T19:10:12.601Z"
   },
   {
    "duration": 1950,
    "start_time": "2022-11-17T19:10:19.071Z"
   },
   {
    "duration": 4361,
    "start_time": "2022-11-17T19:10:26.946Z"
   },
   {
    "duration": 1808,
    "start_time": "2022-11-17T19:11:15.502Z"
   },
   {
    "duration": 6,
    "start_time": "2022-11-17T19:11:40.691Z"
   },
   {
    "duration": 6,
    "start_time": "2022-11-17T19:11:48.698Z"
   },
   {
    "duration": 8,
    "start_time": "2022-11-17T19:12:18.628Z"
   },
   {
    "duration": 11,
    "start_time": "2022-11-17T19:12:38.607Z"
   },
   {
    "duration": 53,
    "start_time": "2022-11-18T03:33:44.765Z"
   },
   {
    "duration": 6,
    "start_time": "2022-11-18T03:34:03.233Z"
   },
   {
    "duration": 6,
    "start_time": "2022-11-18T03:34:07.466Z"
   },
   {
    "duration": 8,
    "start_time": "2022-11-18T03:34:33.360Z"
   },
   {
    "duration": 7,
    "start_time": "2022-11-18T03:34:42.766Z"
   },
   {
    "duration": 6,
    "start_time": "2022-11-18T03:36:21.286Z"
   },
   {
    "duration": 6,
    "start_time": "2022-11-18T03:36:33.956Z"
   },
   {
    "duration": 7,
    "start_time": "2022-11-18T03:36:39.397Z"
   },
   {
    "duration": 6,
    "start_time": "2022-11-18T03:45:45.681Z"
   },
   {
    "duration": 381,
    "start_time": "2022-11-18T03:45:52.153Z"
   },
   {
    "duration": 468,
    "start_time": "2022-11-18T03:45:52.535Z"
   },
   {
    "duration": 17,
    "start_time": "2022-11-18T03:45:53.005Z"
   },
   {
    "duration": 29,
    "start_time": "2022-11-18T03:45:53.024Z"
   },
   {
    "duration": 2,
    "start_time": "2022-11-18T03:45:53.055Z"
   },
   {
    "duration": 7,
    "start_time": "2022-11-18T03:45:53.058Z"
   },
   {
    "duration": 13,
    "start_time": "2022-11-18T03:45:53.067Z"
   },
   {
    "duration": 31,
    "start_time": "2022-11-18T03:45:53.082Z"
   },
   {
    "duration": 26,
    "start_time": "2022-11-18T03:45:53.115Z"
   },
   {
    "duration": 20,
    "start_time": "2022-11-18T03:45:53.144Z"
   },
   {
    "duration": 22,
    "start_time": "2022-11-18T03:45:53.166Z"
   },
   {
    "duration": 86,
    "start_time": "2022-11-18T03:45:53.190Z"
   },
   {
    "duration": 98,
    "start_time": "2022-11-18T03:45:53.279Z"
   },
   {
    "duration": 74,
    "start_time": "2022-11-18T03:45:53.379Z"
   },
   {
    "duration": 37,
    "start_time": "2022-11-18T03:45:53.455Z"
   },
   {
    "duration": 23,
    "start_time": "2022-11-18T03:45:53.493Z"
   },
   {
    "duration": 36,
    "start_time": "2022-11-18T03:45:53.518Z"
   },
   {
    "duration": 11,
    "start_time": "2022-11-18T03:45:53.556Z"
   },
   {
    "duration": 5,
    "start_time": "2022-11-18T03:45:53.568Z"
   },
   {
    "duration": 5,
    "start_time": "2022-11-18T03:45:53.575Z"
   },
   {
    "duration": 45,
    "start_time": "2022-11-18T03:45:53.581Z"
   },
   {
    "duration": 5,
    "start_time": "2022-11-18T03:45:53.627Z"
   },
   {
    "duration": 5,
    "start_time": "2022-11-18T03:45:53.633Z"
   },
   {
    "duration": 5,
    "start_time": "2022-11-18T03:45:53.639Z"
   },
   {
    "duration": 6,
    "start_time": "2022-11-18T03:45:53.645Z"
   },
   {
    "duration": 14,
    "start_time": "2022-11-18T03:45:53.653Z"
   },
   {
    "duration": 7,
    "start_time": "2022-11-18T03:45:53.669Z"
   },
   {
    "duration": 7,
    "start_time": "2022-11-18T03:45:53.679Z"
   },
   {
    "duration": 5,
    "start_time": "2022-11-18T03:45:53.688Z"
   },
   {
    "duration": 50,
    "start_time": "2022-11-18T03:45:53.695Z"
   },
   {
    "duration": 0,
    "start_time": "2022-11-18T03:45:53.746Z"
   },
   {
    "duration": 0,
    "start_time": "2022-11-18T03:45:53.747Z"
   },
   {
    "duration": 0,
    "start_time": "2022-11-18T03:45:53.749Z"
   },
   {
    "duration": 0,
    "start_time": "2022-11-18T03:45:53.750Z"
   },
   {
    "duration": 0,
    "start_time": "2022-11-18T03:45:53.752Z"
   },
   {
    "duration": 0,
    "start_time": "2022-11-18T03:45:53.753Z"
   },
   {
    "duration": 0,
    "start_time": "2022-11-18T03:45:53.755Z"
   },
   {
    "duration": 1,
    "start_time": "2022-11-18T03:45:53.756Z"
   },
   {
    "duration": 11,
    "start_time": "2022-11-18T03:46:04.288Z"
   },
   {
    "duration": 8,
    "start_time": "2022-11-18T03:46:22.862Z"
   },
   {
    "duration": 1885,
    "start_time": "2022-11-18T03:47:13.080Z"
   },
   {
    "duration": 284,
    "start_time": "2022-11-18T03:47:48.832Z"
   },
   {
    "duration": 278,
    "start_time": "2022-11-18T03:48:03.284Z"
   },
   {
    "duration": 33,
    "start_time": "2022-11-18T04:03:19.121Z"
   },
   {
    "duration": 270,
    "start_time": "2022-11-18T04:03:27.929Z"
   },
   {
    "duration": 52,
    "start_time": "2022-11-18T04:04:11.374Z"
   },
   {
    "duration": 229,
    "start_time": "2022-11-18T04:04:18.970Z"
   },
   {
    "duration": 211,
    "start_time": "2022-11-18T04:04:29.005Z"
   },
   {
    "duration": 219,
    "start_time": "2022-11-18T04:04:39.349Z"
   },
   {
    "duration": 256,
    "start_time": "2022-11-18T04:04:43.942Z"
   },
   {
    "duration": 1713,
    "start_time": "2022-11-18T04:04:57.201Z"
   },
   {
    "duration": 23,
    "start_time": "2022-11-18T04:05:43.594Z"
   },
   {
    "duration": 892,
    "start_time": "2022-11-18T04:07:25.220Z"
   },
   {
    "duration": 771,
    "start_time": "2022-11-18T04:07:45.844Z"
   },
   {
    "duration": 733,
    "start_time": "2022-11-18T04:07:55.771Z"
   },
   {
    "duration": 734,
    "start_time": "2022-11-18T04:18:50.907Z"
   },
   {
    "duration": 731,
    "start_time": "2022-11-18T04:28:37.008Z"
   },
   {
    "duration": 47,
    "start_time": "2022-11-18T04:29:28.004Z"
   },
   {
    "duration": 14,
    "start_time": "2022-11-18T04:30:46.555Z"
   },
   {
    "duration": 19,
    "start_time": "2022-11-18T04:32:29.206Z"
   },
   {
    "duration": 12,
    "start_time": "2022-11-18T04:32:40.452Z"
   },
   {
    "duration": 3,
    "start_time": "2022-11-18T04:43:33.143Z"
   },
   {
    "duration": 27,
    "start_time": "2022-11-18T04:44:11.573Z"
   },
   {
    "duration": 9,
    "start_time": "2022-11-18T04:44:39.032Z"
   },
   {
    "duration": 11,
    "start_time": "2022-11-18T04:44:57.409Z"
   },
   {
    "duration": 17,
    "start_time": "2022-11-18T04:46:42.032Z"
   },
   {
    "duration": 24,
    "start_time": "2022-11-18T04:50:42.606Z"
   },
   {
    "duration": 17,
    "start_time": "2022-11-18T04:52:08.720Z"
   },
   {
    "duration": 16,
    "start_time": "2022-11-18T05:46:47.826Z"
   },
   {
    "duration": 17,
    "start_time": "2022-11-18T05:47:02.338Z"
   },
   {
    "duration": 9,
    "start_time": "2022-11-18T05:47:10.890Z"
   },
   {
    "duration": 11,
    "start_time": "2022-11-18T05:47:57.229Z"
   },
   {
    "duration": 9,
    "start_time": "2022-11-18T05:48:17.377Z"
   },
   {
    "duration": 9,
    "start_time": "2022-11-18T05:48:30.897Z"
   },
   {
    "duration": 44,
    "start_time": "2022-11-18T05:48:39.169Z"
   },
   {
    "duration": 8,
    "start_time": "2022-11-18T05:48:59.402Z"
   },
   {
    "duration": 32,
    "start_time": "2022-11-18T05:51:10.266Z"
   },
   {
    "duration": 33,
    "start_time": "2022-11-18T05:51:20.168Z"
   },
   {
    "duration": 41,
    "start_time": "2022-11-18T05:51:27.021Z"
   },
   {
    "duration": 33,
    "start_time": "2022-11-18T05:51:35.376Z"
   },
   {
    "duration": 12,
    "start_time": "2022-11-18T05:58:57.229Z"
   },
   {
    "duration": 4,
    "start_time": "2022-11-18T06:00:59.087Z"
   },
   {
    "duration": 9,
    "start_time": "2022-11-18T06:01:14.658Z"
   },
   {
    "duration": 6,
    "start_time": "2022-11-18T06:01:21.428Z"
   },
   {
    "duration": 6,
    "start_time": "2022-11-18T06:01:26.462Z"
   },
   {
    "duration": 7,
    "start_time": "2022-11-18T06:05:22.446Z"
   },
   {
    "duration": 37,
    "start_time": "2022-11-18T06:05:34.204Z"
   },
   {
    "duration": 23,
    "start_time": "2022-11-18T06:05:55.549Z"
   },
   {
    "duration": 29,
    "start_time": "2022-11-18T06:07:09.662Z"
   },
   {
    "duration": 28,
    "start_time": "2022-11-18T06:07:12.234Z"
   },
   {
    "duration": 29,
    "start_time": "2022-11-18T06:07:15.392Z"
   },
   {
    "duration": 40,
    "start_time": "2022-11-18T06:07:16.698Z"
   },
   {
    "duration": 7,
    "start_time": "2022-11-18T06:08:22.388Z"
   },
   {
    "duration": 10,
    "start_time": "2022-11-18T06:09:22.887Z"
   },
   {
    "duration": 12,
    "start_time": "2022-11-18T06:10:10.723Z"
   },
   {
    "duration": 24,
    "start_time": "2022-11-18T06:10:50.083Z"
   },
   {
    "duration": 30,
    "start_time": "2022-11-18T06:11:10.478Z"
   },
   {
    "duration": 6,
    "start_time": "2022-11-18T06:19:06.402Z"
   },
   {
    "duration": 4,
    "start_time": "2022-11-18T06:27:26.803Z"
   },
   {
    "duration": 28,
    "start_time": "2022-11-18T07:37:54.011Z"
   },
   {
    "duration": 4,
    "start_time": "2022-11-18T07:38:13.891Z"
   },
   {
    "duration": 5,
    "start_time": "2022-11-18T07:39:59.940Z"
   },
   {
    "duration": 5,
    "start_time": "2022-11-18T07:42:39.623Z"
   },
   {
    "duration": 4,
    "start_time": "2022-11-18T07:49:51.473Z"
   },
   {
    "duration": 4,
    "start_time": "2022-11-18T07:50:19.496Z"
   },
   {
    "duration": 25,
    "start_time": "2022-11-18T07:50:41.948Z"
   },
   {
    "duration": 22,
    "start_time": "2022-11-18T07:50:44.455Z"
   },
   {
    "duration": 34,
    "start_time": "2022-11-18T07:50:46.052Z"
   },
   {
    "duration": 20,
    "start_time": "2022-11-18T07:50:47.831Z"
   },
   {
    "duration": 34,
    "start_time": "2022-11-18T07:50:49.197Z"
   },
   {
    "duration": 24,
    "start_time": "2022-11-18T07:50:50.322Z"
   },
   {
    "duration": 4,
    "start_time": "2022-11-18T07:51:11.805Z"
   },
   {
    "duration": 24,
    "start_time": "2022-11-18T07:51:22.069Z"
   },
   {
    "duration": 21,
    "start_time": "2022-11-18T07:51:23.269Z"
   },
   {
    "duration": 23,
    "start_time": "2022-11-18T07:51:24.548Z"
   },
   {
    "duration": 27,
    "start_time": "2022-11-18T07:51:26.260Z"
   },
   {
    "duration": 58,
    "start_time": "2022-11-18T08:01:24.833Z"
   },
   {
    "duration": 5,
    "start_time": "2022-11-18T08:01:30.555Z"
   },
   {
    "duration": 10,
    "start_time": "2022-11-18T08:01:33.109Z"
   },
   {
    "duration": 7,
    "start_time": "2022-11-18T08:01:49.492Z"
   },
   {
    "duration": 398,
    "start_time": "2022-11-18T08:02:08.771Z"
   },
   {
    "duration": 532,
    "start_time": "2022-11-18T08:02:09.171Z"
   },
   {
    "duration": 26,
    "start_time": "2022-11-18T08:02:09.705Z"
   },
   {
    "duration": 39,
    "start_time": "2022-11-18T08:02:09.734Z"
   },
   {
    "duration": 11,
    "start_time": "2022-11-18T08:02:09.775Z"
   },
   {
    "duration": 23,
    "start_time": "2022-11-18T08:02:09.788Z"
   },
   {
    "duration": 34,
    "start_time": "2022-11-18T08:02:09.819Z"
   },
   {
    "duration": 14,
    "start_time": "2022-11-18T08:02:09.855Z"
   },
   {
    "duration": 57,
    "start_time": "2022-11-18T08:02:09.871Z"
   },
   {
    "duration": 35,
    "start_time": "2022-11-18T08:02:09.931Z"
   },
   {
    "duration": 32,
    "start_time": "2022-11-18T08:02:09.968Z"
   },
   {
    "duration": 106,
    "start_time": "2022-11-18T08:02:10.003Z"
   },
   {
    "duration": 85,
    "start_time": "2022-11-18T08:02:10.116Z"
   },
   {
    "duration": 87,
    "start_time": "2022-11-18T08:02:10.203Z"
   },
   {
    "duration": 74,
    "start_time": "2022-11-18T08:02:10.292Z"
   },
   {
    "duration": 26,
    "start_time": "2022-11-18T08:02:10.368Z"
   },
   {
    "duration": 73,
    "start_time": "2022-11-18T08:02:10.397Z"
   },
   {
    "duration": 18,
    "start_time": "2022-11-18T08:02:10.472Z"
   },
   {
    "duration": 39,
    "start_time": "2022-11-18T08:02:10.493Z"
   },
   {
    "duration": 43,
    "start_time": "2022-11-18T08:02:10.535Z"
   },
   {
    "duration": 86,
    "start_time": "2022-11-18T08:02:10.580Z"
   },
   {
    "duration": 0,
    "start_time": "2022-11-18T08:02:10.668Z"
   },
   {
    "duration": 29,
    "start_time": "2022-11-18T08:02:18.580Z"
   },
   {
    "duration": 4,
    "start_time": "2022-11-18T08:02:53.631Z"
   },
   {
    "duration": 23,
    "start_time": "2022-11-18T08:02:56.033Z"
   },
   {
    "duration": 22,
    "start_time": "2022-11-18T08:02:57.922Z"
   },
   {
    "duration": 60,
    "start_time": "2022-11-18T08:03:11.365Z"
   },
   {
    "duration": 4,
    "start_time": "2022-11-18T08:03:16.747Z"
   },
   {
    "duration": 6,
    "start_time": "2022-11-18T08:17:11.612Z"
   },
   {
    "duration": 6,
    "start_time": "2022-11-18T08:23:30.095Z"
   },
   {
    "duration": 7,
    "start_time": "2022-11-18T08:23:46.371Z"
   },
   {
    "duration": 9,
    "start_time": "2022-11-18T08:24:04.168Z"
   },
   {
    "duration": 13,
    "start_time": "2022-11-18T08:24:12.395Z"
   },
   {
    "duration": 397,
    "start_time": "2022-11-18T08:24:18.152Z"
   },
   {
    "duration": 546,
    "start_time": "2022-11-18T08:24:18.551Z"
   },
   {
    "duration": 32,
    "start_time": "2022-11-18T08:24:19.099Z"
   },
   {
    "duration": 42,
    "start_time": "2022-11-18T08:24:19.142Z"
   },
   {
    "duration": 18,
    "start_time": "2022-11-18T08:24:19.187Z"
   },
   {
    "duration": 41,
    "start_time": "2022-11-18T08:24:19.207Z"
   },
   {
    "duration": 23,
    "start_time": "2022-11-18T08:24:19.250Z"
   },
   {
    "duration": 26,
    "start_time": "2022-11-18T08:24:19.275Z"
   },
   {
    "duration": 78,
    "start_time": "2022-11-18T08:24:19.304Z"
   },
   {
    "duration": 39,
    "start_time": "2022-11-18T08:24:19.384Z"
   },
   {
    "duration": 46,
    "start_time": "2022-11-18T08:24:19.434Z"
   },
   {
    "duration": 113,
    "start_time": "2022-11-18T08:24:19.483Z"
   },
   {
    "duration": 106,
    "start_time": "2022-11-18T08:24:19.599Z"
   },
   {
    "duration": 70,
    "start_time": "2022-11-18T08:24:19.708Z"
   },
   {
    "duration": 68,
    "start_time": "2022-11-18T08:24:19.780Z"
   },
   {
    "duration": 11,
    "start_time": "2022-11-18T08:24:19.850Z"
   },
   {
    "duration": 73,
    "start_time": "2022-11-18T08:24:19.863Z"
   },
   {
    "duration": 17,
    "start_time": "2022-11-18T08:24:19.938Z"
   },
   {
    "duration": 18,
    "start_time": "2022-11-18T08:24:19.958Z"
   },
   {
    "duration": 5,
    "start_time": "2022-11-18T08:24:19.978Z"
   },
   {
    "duration": 60,
    "start_time": "2022-11-18T08:24:19.985Z"
   },
   {
    "duration": 23,
    "start_time": "2022-11-18T08:24:20.047Z"
   },
   {
    "duration": 38,
    "start_time": "2022-11-18T08:24:24.194Z"
   },
   {
    "duration": 26,
    "start_time": "2022-11-18T08:25:36.077Z"
   },
   {
    "duration": 25,
    "start_time": "2022-11-18T08:25:46.204Z"
   },
   {
    "duration": 35,
    "start_time": "2022-11-18T08:25:53.790Z"
   },
   {
    "duration": 70,
    "start_time": "2022-11-18T08:28:54.072Z"
   },
   {
    "duration": 121,
    "start_time": "2022-11-18T08:29:29.505Z"
   },
   {
    "duration": 5,
    "start_time": "2022-11-18T08:29:40.931Z"
   },
   {
    "duration": 36,
    "start_time": "2022-11-18T08:30:59.934Z"
   },
   {
    "duration": 52,
    "start_time": "2022-11-18T08:31:41.552Z"
   },
   {
    "duration": 45,
    "start_time": "2022-11-18T08:31:51.659Z"
   },
   {
    "duration": 46,
    "start_time": "2022-11-18T08:32:06.080Z"
   },
   {
    "duration": 47,
    "start_time": "2022-11-18T08:32:14.556Z"
   },
   {
    "duration": 27,
    "start_time": "2022-11-18T08:32:29.229Z"
   },
   {
    "duration": 32,
    "start_time": "2022-11-18T08:32:51.651Z"
   },
   {
    "duration": 48,
    "start_time": "2022-11-18T08:33:11.875Z"
   },
   {
    "duration": 32,
    "start_time": "2022-11-18T08:33:25.156Z"
   },
   {
    "duration": 40,
    "start_time": "2022-11-18T08:34:28.580Z"
   },
   {
    "duration": 4,
    "start_time": "2022-11-18T08:34:51.051Z"
   },
   {
    "duration": 28,
    "start_time": "2022-11-18T08:34:53.838Z"
   },
   {
    "duration": 33,
    "start_time": "2022-11-18T08:35:04.681Z"
   },
   {
    "duration": 45,
    "start_time": "2022-11-18T08:41:34.577Z"
   },
   {
    "duration": 6,
    "start_time": "2022-11-18T08:46:21.384Z"
   },
   {
    "duration": 1233,
    "start_time": "2022-11-18T08:46:23.253Z"
   },
   {
    "duration": 868,
    "start_time": "2022-11-18T08:46:52.632Z"
   },
   {
    "duration": 4,
    "start_time": "2022-11-18T08:47:06.923Z"
   },
   {
    "duration": 27,
    "start_time": "2022-11-18T08:47:09.169Z"
   },
   {
    "duration": 29,
    "start_time": "2022-11-18T08:47:29.359Z"
   },
   {
    "duration": 36,
    "start_time": "2022-11-18T08:47:44.513Z"
   },
   {
    "duration": 46,
    "start_time": "2022-11-18T08:47:57.810Z"
   },
   {
    "duration": 3,
    "start_time": "2022-11-18T09:12:45.309Z"
   },
   {
    "duration": 221,
    "start_time": "2022-11-18T09:12:45.316Z"
   },
   {
    "duration": 12,
    "start_time": "2022-11-18T09:12:45.539Z"
   },
   {
    "duration": 34,
    "start_time": "2022-11-18T09:12:45.553Z"
   },
   {
    "duration": 3,
    "start_time": "2022-11-18T09:12:45.589Z"
   },
   {
    "duration": 5,
    "start_time": "2022-11-18T09:12:45.612Z"
   },
   {
    "duration": 11,
    "start_time": "2022-11-18T09:12:45.619Z"
   },
   {
    "duration": 7,
    "start_time": "2022-11-18T09:12:45.632Z"
   },
   {
    "duration": 25,
    "start_time": "2022-11-18T09:12:45.641Z"
   },
   {
    "duration": 62,
    "start_time": "2022-11-18T09:12:45.668Z"
   },
   {
    "duration": 26,
    "start_time": "2022-11-18T09:12:45.733Z"
   },
   {
    "duration": 83,
    "start_time": "2022-11-18T09:12:45.761Z"
   },
   {
    "duration": 83,
    "start_time": "2022-11-18T09:12:45.847Z"
   },
   {
    "duration": 60,
    "start_time": "2022-11-18T09:12:45.932Z"
   },
   {
    "duration": 53,
    "start_time": "2022-11-18T09:12:45.994Z"
   },
   {
    "duration": 11,
    "start_time": "2022-11-18T09:12:46.049Z"
   },
   {
    "duration": 58,
    "start_time": "2022-11-18T09:12:46.062Z"
   },
   {
    "duration": 12,
    "start_time": "2022-11-18T09:12:46.121Z"
   },
   {
    "duration": 12,
    "start_time": "2022-11-18T09:12:46.135Z"
   },
   {
    "duration": 4,
    "start_time": "2022-11-18T09:12:46.150Z"
   },
   {
    "duration": 76,
    "start_time": "2022-11-18T09:12:46.156Z"
   },
   {
    "duration": 20,
    "start_time": "2022-11-18T09:12:46.234Z"
   },
   {
    "duration": 21,
    "start_time": "2022-11-18T09:12:46.256Z"
   },
   {
    "duration": 40,
    "start_time": "2022-11-18T09:12:46.278Z"
   },
   {
    "duration": 24,
    "start_time": "2022-11-18T09:12:46.320Z"
   },
   {
    "duration": 29,
    "start_time": "2022-11-18T09:12:46.346Z"
   },
   {
    "duration": 7,
    "start_time": "2022-11-18T09:12:46.377Z"
   },
   {
    "duration": 0,
    "start_time": "2022-11-18T09:12:46.386Z"
   },
   {
    "duration": 0,
    "start_time": "2022-11-18T09:12:46.413Z"
   },
   {
    "duration": 0,
    "start_time": "2022-11-18T09:12:46.414Z"
   },
   {
    "duration": 0,
    "start_time": "2022-11-18T09:12:46.416Z"
   },
   {
    "duration": 0,
    "start_time": "2022-11-18T09:12:46.417Z"
   },
   {
    "duration": 0,
    "start_time": "2022-11-18T09:12:46.418Z"
   },
   {
    "duration": 0,
    "start_time": "2022-11-18T09:12:46.419Z"
   },
   {
    "duration": 0,
    "start_time": "2022-11-18T09:12:46.420Z"
   },
   {
    "duration": 0,
    "start_time": "2022-11-18T09:12:46.421Z"
   },
   {
    "duration": 0,
    "start_time": "2022-11-18T09:12:46.422Z"
   },
   {
    "duration": 0,
    "start_time": "2022-11-18T09:12:46.424Z"
   },
   {
    "duration": 45,
    "start_time": "2022-11-18T09:13:33.752Z"
   },
   {
    "duration": 82,
    "start_time": "2022-11-18T09:13:54.100Z"
   },
   {
    "duration": 48,
    "start_time": "2022-11-18T09:14:04.752Z"
   },
   {
    "duration": 33,
    "start_time": "2022-11-18T09:14:25.047Z"
   },
   {
    "duration": 9,
    "start_time": "2022-11-18T09:14:35.757Z"
   },
   {
    "duration": 33,
    "start_time": "2022-11-18T09:14:40.212Z"
   },
   {
    "duration": 28,
    "start_time": "2022-11-18T09:14:46.087Z"
   },
   {
    "duration": 26,
    "start_time": "2022-11-18T09:14:50.691Z"
   },
   {
    "duration": 5,
    "start_time": "2022-11-18T09:15:59.017Z"
   },
   {
    "duration": 57,
    "start_time": "2022-11-18T09:16:29.824Z"
   },
   {
    "duration": 4,
    "start_time": "2022-11-18T09:16:40.867Z"
   },
   {
    "duration": 706,
    "start_time": "2022-11-18T09:17:37.826Z"
   },
   {
    "duration": 51,
    "start_time": "2022-11-18T09:51:52.011Z"
   },
   {
    "duration": 389,
    "start_time": "2022-11-18T09:51:57.142Z"
   },
   {
    "duration": 168,
    "start_time": "2022-11-18T09:51:57.533Z"
   },
   {
    "duration": 20,
    "start_time": "2022-11-18T09:51:57.703Z"
   },
   {
    "duration": 28,
    "start_time": "2022-11-18T09:51:57.725Z"
   },
   {
    "duration": 3,
    "start_time": "2022-11-18T09:51:57.755Z"
   },
   {
    "duration": 8,
    "start_time": "2022-11-18T09:51:57.760Z"
   },
   {
    "duration": 43,
    "start_time": "2022-11-18T09:51:57.770Z"
   },
   {
    "duration": 4,
    "start_time": "2022-11-18T09:51:57.815Z"
   },
   {
    "duration": 30,
    "start_time": "2022-11-18T09:51:57.821Z"
   },
   {
    "duration": 24,
    "start_time": "2022-11-18T09:51:57.855Z"
   },
   {
    "duration": 55,
    "start_time": "2022-11-18T09:51:57.880Z"
   },
   {
    "duration": 87,
    "start_time": "2022-11-18T09:51:57.937Z"
   },
   {
    "duration": 86,
    "start_time": "2022-11-18T09:51:58.026Z"
   },
   {
    "duration": 73,
    "start_time": "2022-11-18T09:51:58.114Z"
   },
   {
    "duration": 69,
    "start_time": "2022-11-18T09:51:58.189Z"
   },
   {
    "duration": 13,
    "start_time": "2022-11-18T09:51:58.260Z"
   },
   {
    "duration": 58,
    "start_time": "2022-11-18T09:51:58.275Z"
   },
   {
    "duration": 12,
    "start_time": "2022-11-18T09:51:58.335Z"
   },
   {
    "duration": 11,
    "start_time": "2022-11-18T09:51:58.349Z"
   },
   {
    "duration": 5,
    "start_time": "2022-11-18T09:51:58.362Z"
   },
   {
    "duration": 749,
    "start_time": "2022-11-18T09:51:58.369Z"
   },
   {
    "duration": 0,
    "start_time": "2022-11-18T09:51:59.120Z"
   },
   {
    "duration": 0,
    "start_time": "2022-11-18T09:51:59.121Z"
   },
   {
    "duration": 0,
    "start_time": "2022-11-18T09:51:59.123Z"
   },
   {
    "duration": 0,
    "start_time": "2022-11-18T09:51:59.124Z"
   },
   {
    "duration": 0,
    "start_time": "2022-11-18T09:51:59.125Z"
   },
   {
    "duration": 0,
    "start_time": "2022-11-18T09:51:59.126Z"
   },
   {
    "duration": 0,
    "start_time": "2022-11-18T09:51:59.127Z"
   },
   {
    "duration": 0,
    "start_time": "2022-11-18T09:51:59.129Z"
   },
   {
    "duration": 0,
    "start_time": "2022-11-18T09:51:59.131Z"
   },
   {
    "duration": 0,
    "start_time": "2022-11-18T09:51:59.131Z"
   },
   {
    "duration": 0,
    "start_time": "2022-11-18T09:51:59.133Z"
   },
   {
    "duration": 0,
    "start_time": "2022-11-18T09:51:59.134Z"
   },
   {
    "duration": 0,
    "start_time": "2022-11-18T09:51:59.135Z"
   },
   {
    "duration": 0,
    "start_time": "2022-11-18T09:51:59.136Z"
   },
   {
    "duration": 0,
    "start_time": "2022-11-18T09:51:59.137Z"
   },
   {
    "duration": 0,
    "start_time": "2022-11-18T09:51:59.138Z"
   },
   {
    "duration": 0,
    "start_time": "2022-11-18T09:51:59.139Z"
   },
   {
    "duration": 4,
    "start_time": "2022-11-18T10:12:52.559Z"
   },
   {
    "duration": 16,
    "start_time": "2022-11-18T10:12:58.834Z"
   },
   {
    "duration": 14,
    "start_time": "2022-11-18T10:13:00.377Z"
   },
   {
    "duration": 17,
    "start_time": "2022-11-18T10:13:02.000Z"
   },
   {
    "duration": 16,
    "start_time": "2022-11-18T10:13:03.240Z"
   },
   {
    "duration": 16,
    "start_time": "2022-11-18T10:13:04.617Z"
   },
   {
    "duration": 15,
    "start_time": "2022-11-18T10:13:05.545Z"
   },
   {
    "duration": 3,
    "start_time": "2022-11-18T10:14:10.265Z"
   },
   {
    "duration": 3,
    "start_time": "2022-11-18T10:14:13.723Z"
   },
   {
    "duration": 54,
    "start_time": "2022-11-18T10:14:40.285Z"
   },
   {
    "duration": 48,
    "start_time": "2022-11-18T10:15:00.845Z"
   },
   {
    "duration": 43,
    "start_time": "2022-11-18T10:16:47.652Z"
   },
   {
    "duration": 49,
    "start_time": "2022-11-18T10:16:50.894Z"
   },
   {
    "duration": 61,
    "start_time": "2022-11-18T10:18:29.544Z"
   },
   {
    "duration": 47,
    "start_time": "2022-11-18T10:24:35.678Z"
   },
   {
    "duration": 5,
    "start_time": "2022-11-18T10:25:06.703Z"
   },
   {
    "duration": 7,
    "start_time": "2022-11-18T10:25:43.364Z"
   },
   {
    "duration": 5,
    "start_time": "2022-11-18T10:29:54.689Z"
   },
   {
    "duration": 29,
    "start_time": "2022-11-18T10:30:13.640Z"
   },
   {
    "duration": 18,
    "start_time": "2022-11-18T10:30:16.662Z"
   },
   {
    "duration": 16,
    "start_time": "2022-11-18T10:32:15.997Z"
   },
   {
    "duration": 14,
    "start_time": "2022-11-18T10:32:54.675Z"
   },
   {
    "duration": 19,
    "start_time": "2022-11-18T10:33:08.335Z"
   },
   {
    "duration": 16,
    "start_time": "2022-11-18T10:35:06.560Z"
   },
   {
    "duration": 13,
    "start_time": "2022-11-18T10:35:15.410Z"
   },
   {
    "duration": 15,
    "start_time": "2022-11-18T10:37:21.771Z"
   },
   {
    "duration": 11,
    "start_time": "2022-11-18T10:37:53.085Z"
   },
   {
    "duration": 19,
    "start_time": "2022-11-18T10:38:24.706Z"
   },
   {
    "duration": 14,
    "start_time": "2022-11-18T10:38:25.571Z"
   },
   {
    "duration": 4,
    "start_time": "2022-11-18T10:44:02.791Z"
   },
   {
    "duration": 4,
    "start_time": "2022-11-18T10:52:59.489Z"
   },
   {
    "duration": 42,
    "start_time": "2022-11-18T10:56:20.027Z"
   },
   {
    "duration": 9,
    "start_time": "2022-11-18T10:56:29.325Z"
   },
   {
    "duration": 7,
    "start_time": "2022-11-18T10:56:40.286Z"
   },
   {
    "duration": 15,
    "start_time": "2022-11-18T10:57:31.256Z"
   },
   {
    "duration": 10,
    "start_time": "2022-11-18T10:57:33.012Z"
   },
   {
    "duration": 7,
    "start_time": "2022-11-18T10:57:38.002Z"
   },
   {
    "duration": 7,
    "start_time": "2022-11-18T10:57:55.521Z"
   },
   {
    "duration": 21,
    "start_time": "2022-11-18T10:58:13.817Z"
   },
   {
    "duration": 48,
    "start_time": "2022-11-18T10:58:54.660Z"
   },
   {
    "duration": 20,
    "start_time": "2022-11-18T10:59:06.246Z"
   },
   {
    "duration": 11,
    "start_time": "2022-11-18T11:00:35.282Z"
   },
   {
    "duration": 11,
    "start_time": "2022-11-18T11:00:46.016Z"
   },
   {
    "duration": 11,
    "start_time": "2022-11-18T11:00:47.147Z"
   },
   {
    "duration": 26,
    "start_time": "2022-11-18T11:02:57.577Z"
   },
   {
    "duration": 23,
    "start_time": "2022-11-18T11:02:59.387Z"
   },
   {
    "duration": 24,
    "start_time": "2022-11-18T11:03:42.256Z"
   },
   {
    "duration": 24,
    "start_time": "2022-11-18T11:07:41.274Z"
   },
   {
    "duration": 9,
    "start_time": "2022-11-18T11:08:39.515Z"
   },
   {
    "duration": 8,
    "start_time": "2022-11-18T11:15:40.503Z"
   },
   {
    "duration": 8,
    "start_time": "2022-11-18T11:16:00.533Z"
   },
   {
    "duration": 27,
    "start_time": "2022-11-18T11:17:46.755Z"
   },
   {
    "duration": 13,
    "start_time": "2022-11-18T11:18:31.422Z"
   },
   {
    "duration": 9,
    "start_time": "2022-11-18T11:18:40.882Z"
   },
   {
    "duration": 6,
    "start_time": "2022-11-18T11:19:41.565Z"
   }
  ],
  "colab": {
   "collapsed_sections": [
    "E0vqbgi9ay0H",
    "VUC88oWjTJw2"
   ],
   "name": "automatization_template_upd4.ipynb",
   "provenance": []
  },
  "kernelspec": {
   "display_name": "Python 3 (ipykernel)",
   "language": "python",
   "name": "python3"
  },
  "language_info": {
   "codemirror_mode": {
    "name": "ipython",
    "version": 3
   },
   "file_extension": ".py",
   "mimetype": "text/x-python",
   "name": "python",
   "nbconvert_exporter": "python",
   "pygments_lexer": "ipython3",
   "version": "3.9.5"
  },
  "toc": {
   "base_numbering": 1,
   "nav_menu": {
    "height": "215px",
    "width": "403px"
   },
   "number_sections": true,
   "sideBar": true,
   "skip_h1_title": true,
   "title_cell": "Оглавление",
   "title_sidebar": "Заголовки",
   "toc_cell": true,
   "toc_position": {
    "height": "calc(100% - 180px)",
    "left": "10px",
    "top": "150px",
    "width": "165px"
   },
   "toc_section_display": true,
   "toc_window_display": false
  }
 },
 "nbformat": 4,
 "nbformat_minor": 1
}
