{
 "cells": [
  {
   "cell_type": "markdown",
   "id": "3958d323",
   "metadata": {},
   "source": [
    "**Вадим, привет!**\n",
    "\n",
    "Меня зовут Василий Митров и я буду проверять твой проект. Предлагаю общаться на «ты». Если это неприемлемо, то дай мне знать и мы перейдем на «вы». Моя основная цель — не указать на совершенные тобою ошибки, а поделиться своим опытом и помочь тебе стать аналитиком данных.\n",
    "\n",
    "Для удобства я оставлю комментарии в отдельных ячейках Markdown с заголовком «Комментарий ревьюера». Пожалуйста, не перемещай, не изменяй и не удаляй их - так наше общение будет более продуктивным. Я буду использовать цветовую разметку:\n",
    "\n",
    "<div class=\"alert alert-danger\">\n",
    "<b>Комментарий ревьюера</b> \n",
    "    \n",
    "✍ Так выделены самые важные замечания. Без их отработки проект не будет принят. При проверке я обращаю внимание не только на код, но и на интерпретацию и анализ результатов, а также соответствие данных техническому заданию.\n",
    "</div>\n",
    "\n",
    "<div class=\"alert alert-warning\">\n",
    "<b>Комментарий ревьюера</b> \n",
    "    \n",
    "📝 Так выделены небольшие замечания или рекомендации. Постарайся, пожалуйста, учесть эти комментарии в этом проекте или в будущих проектах.\n",
    "</div>\n",
    "\n",
    "<div class=\"alert alert-success\">\n",
    "<b>Комментарий ревьюера</b> \n",
    "    \n",
    "👍 Так выделены все остальные комментарии, включая рекомендации, позитивные моменты или какие-то рассуждения и пояснения.\n",
    "</div>\n",
    "\n",
    "Давай работать над проектом в диалоге: если ты что-то меняешь в проекте или отвечаешь на мои комментарии — пиши об этом. Мне будет легче отследить изменения, если ты выделишь свои комментарии:\n",
    "\n",
    "<div class=\"alert alert-info\"> \n",
    "<b>Комментарий студента</b> \n",
    "    \n",
    "Например, вот так. Также, если есть какие-то вопросы, или что-то осталось непонятным по ревью - спрашивай в таких блоках и я постараюсь дать ответ.\n",
    "</div>\n",
    "\n",
    "---"
   ]
  },
  {
   "cell_type": "markdown",
   "id": "1cf84b52",
   "metadata": {
    "deletable": false,
    "editable": false,
    "id": "c81daeeb"
   },
   "source": [
    "# Исследование надежности заемщиков\n"
   ]
  },
  {
   "cell_type": "markdown",
   "id": "dd681ea1",
   "metadata": {
    "deletable": false,
    "editable": false,
    "id": "827c20bf"
   },
   "source": [
    "Во второй части проекта вы выполните шаги 3 и 4. Их вручную проверит ревьюер.\n",
    "Чтобы вам не пришлось писать код заново для шагов 1 и 2, мы добавили авторские решения в ячейки с кодом. \n",
    "\n"
   ]
  },
  {
   "cell_type": "markdown",
   "id": "492a1cf2",
   "metadata": {
    "deletable": false,
    "editable": false,
    "id": "744d7639"
   },
   "source": [
    "## Откройте таблицу и изучите общую информацию о данных"
   ]
  },
  {
   "cell_type": "markdown",
   "id": "0dadc901",
   "metadata": {
    "deletable": false,
    "editable": false,
    "id": "e7a14c31"
   },
   "source": [
    "**Задание 1. Импортируйте библиотеку pandas. Считайте данные из csv-файла в датафрейм и сохраните в переменную `data`. Путь к файлу:**\n",
    "\n",
    "`/datasets/data.csv`"
   ]
  },
  {
   "cell_type": "code",
   "execution_count": 354,
   "id": "50adacc4",
   "metadata": {
    "deletable": false,
    "id": "7bcf75c9"
   },
   "outputs": [],
   "source": [
    "import pandas as pd\n",
    "\n",
    "try:\n",
    "    data = pd.read_csv('/datasets/data.csv')\n",
    "except:\n",
    "    data = pd.read_csv('https://code.s3.yandex.net/datasets/data.csv')"
   ]
  },
  {
   "cell_type": "markdown",
   "id": "2d86e5c9",
   "metadata": {
    "deletable": false,
    "editable": false,
    "id": "b8038fe3"
   },
   "source": [
    "**Задание 2. Выведите первые 20 строчек датафрейма `data` на экран.**"
   ]
  },
  {
   "cell_type": "code",
   "execution_count": 355,
   "id": "ba5fcd3a",
   "metadata": {
    "deletable": false,
    "id": "2a7cab99",
    "outputId": "1a8f3ef2-d323-4ec2-ddf7-89670b5944c4"
   },
   "outputs": [
    {
     "data": {
      "text/html": [
       "<div>\n",
       "<style scoped>\n",
       "    .dataframe tbody tr th:only-of-type {\n",
       "        vertical-align: middle;\n",
       "    }\n",
       "\n",
       "    .dataframe tbody tr th {\n",
       "        vertical-align: top;\n",
       "    }\n",
       "\n",
       "    .dataframe thead th {\n",
       "        text-align: right;\n",
       "    }\n",
       "</style>\n",
       "<table border=\"1\" class=\"dataframe\">\n",
       "  <thead>\n",
       "    <tr style=\"text-align: right;\">\n",
       "      <th></th>\n",
       "      <th>children</th>\n",
       "      <th>days_employed</th>\n",
       "      <th>dob_years</th>\n",
       "      <th>education</th>\n",
       "      <th>education_id</th>\n",
       "      <th>family_status</th>\n",
       "      <th>family_status_id</th>\n",
       "      <th>gender</th>\n",
       "      <th>income_type</th>\n",
       "      <th>debt</th>\n",
       "      <th>total_income</th>\n",
       "      <th>purpose</th>\n",
       "    </tr>\n",
       "  </thead>\n",
       "  <tbody>\n",
       "    <tr>\n",
       "      <th>0</th>\n",
       "      <td>1</td>\n",
       "      <td>-8437.673028</td>\n",
       "      <td>42</td>\n",
       "      <td>высшее</td>\n",
       "      <td>0</td>\n",
       "      <td>женат / замужем</td>\n",
       "      <td>0</td>\n",
       "      <td>F</td>\n",
       "      <td>сотрудник</td>\n",
       "      <td>0</td>\n",
       "      <td>253875.639453</td>\n",
       "      <td>покупка жилья</td>\n",
       "    </tr>\n",
       "    <tr>\n",
       "      <th>1</th>\n",
       "      <td>1</td>\n",
       "      <td>-4024.803754</td>\n",
       "      <td>36</td>\n",
       "      <td>среднее</td>\n",
       "      <td>1</td>\n",
       "      <td>женат / замужем</td>\n",
       "      <td>0</td>\n",
       "      <td>F</td>\n",
       "      <td>сотрудник</td>\n",
       "      <td>0</td>\n",
       "      <td>112080.014102</td>\n",
       "      <td>приобретение автомобиля</td>\n",
       "    </tr>\n",
       "    <tr>\n",
       "      <th>2</th>\n",
       "      <td>0</td>\n",
       "      <td>-5623.422610</td>\n",
       "      <td>33</td>\n",
       "      <td>Среднее</td>\n",
       "      <td>1</td>\n",
       "      <td>женат / замужем</td>\n",
       "      <td>0</td>\n",
       "      <td>M</td>\n",
       "      <td>сотрудник</td>\n",
       "      <td>0</td>\n",
       "      <td>145885.952297</td>\n",
       "      <td>покупка жилья</td>\n",
       "    </tr>\n",
       "    <tr>\n",
       "      <th>3</th>\n",
       "      <td>3</td>\n",
       "      <td>-4124.747207</td>\n",
       "      <td>32</td>\n",
       "      <td>среднее</td>\n",
       "      <td>1</td>\n",
       "      <td>женат / замужем</td>\n",
       "      <td>0</td>\n",
       "      <td>M</td>\n",
       "      <td>сотрудник</td>\n",
       "      <td>0</td>\n",
       "      <td>267628.550329</td>\n",
       "      <td>дополнительное образование</td>\n",
       "    </tr>\n",
       "    <tr>\n",
       "      <th>4</th>\n",
       "      <td>0</td>\n",
       "      <td>340266.072047</td>\n",
       "      <td>53</td>\n",
       "      <td>среднее</td>\n",
       "      <td>1</td>\n",
       "      <td>гражданский брак</td>\n",
       "      <td>1</td>\n",
       "      <td>F</td>\n",
       "      <td>пенсионер</td>\n",
       "      <td>0</td>\n",
       "      <td>158616.077870</td>\n",
       "      <td>сыграть свадьбу</td>\n",
       "    </tr>\n",
       "    <tr>\n",
       "      <th>5</th>\n",
       "      <td>0</td>\n",
       "      <td>-926.185831</td>\n",
       "      <td>27</td>\n",
       "      <td>высшее</td>\n",
       "      <td>0</td>\n",
       "      <td>гражданский брак</td>\n",
       "      <td>1</td>\n",
       "      <td>M</td>\n",
       "      <td>компаньон</td>\n",
       "      <td>0</td>\n",
       "      <td>255763.565419</td>\n",
       "      <td>покупка жилья</td>\n",
       "    </tr>\n",
       "    <tr>\n",
       "      <th>6</th>\n",
       "      <td>0</td>\n",
       "      <td>-2879.202052</td>\n",
       "      <td>43</td>\n",
       "      <td>высшее</td>\n",
       "      <td>0</td>\n",
       "      <td>женат / замужем</td>\n",
       "      <td>0</td>\n",
       "      <td>F</td>\n",
       "      <td>компаньон</td>\n",
       "      <td>0</td>\n",
       "      <td>240525.971920</td>\n",
       "      <td>операции с жильем</td>\n",
       "    </tr>\n",
       "    <tr>\n",
       "      <th>7</th>\n",
       "      <td>0</td>\n",
       "      <td>-152.779569</td>\n",
       "      <td>50</td>\n",
       "      <td>СРЕДНЕЕ</td>\n",
       "      <td>1</td>\n",
       "      <td>женат / замужем</td>\n",
       "      <td>0</td>\n",
       "      <td>M</td>\n",
       "      <td>сотрудник</td>\n",
       "      <td>0</td>\n",
       "      <td>135823.934197</td>\n",
       "      <td>образование</td>\n",
       "    </tr>\n",
       "    <tr>\n",
       "      <th>8</th>\n",
       "      <td>2</td>\n",
       "      <td>-6929.865299</td>\n",
       "      <td>35</td>\n",
       "      <td>ВЫСШЕЕ</td>\n",
       "      <td>0</td>\n",
       "      <td>гражданский брак</td>\n",
       "      <td>1</td>\n",
       "      <td>F</td>\n",
       "      <td>сотрудник</td>\n",
       "      <td>0</td>\n",
       "      <td>95856.832424</td>\n",
       "      <td>на проведение свадьбы</td>\n",
       "    </tr>\n",
       "    <tr>\n",
       "      <th>9</th>\n",
       "      <td>0</td>\n",
       "      <td>-2188.756445</td>\n",
       "      <td>41</td>\n",
       "      <td>среднее</td>\n",
       "      <td>1</td>\n",
       "      <td>женат / замужем</td>\n",
       "      <td>0</td>\n",
       "      <td>M</td>\n",
       "      <td>сотрудник</td>\n",
       "      <td>0</td>\n",
       "      <td>144425.938277</td>\n",
       "      <td>покупка жилья для семьи</td>\n",
       "    </tr>\n",
       "    <tr>\n",
       "      <th>10</th>\n",
       "      <td>2</td>\n",
       "      <td>-4171.483647</td>\n",
       "      <td>36</td>\n",
       "      <td>высшее</td>\n",
       "      <td>0</td>\n",
       "      <td>женат / замужем</td>\n",
       "      <td>0</td>\n",
       "      <td>M</td>\n",
       "      <td>компаньон</td>\n",
       "      <td>0</td>\n",
       "      <td>113943.491460</td>\n",
       "      <td>покупка недвижимости</td>\n",
       "    </tr>\n",
       "    <tr>\n",
       "      <th>11</th>\n",
       "      <td>0</td>\n",
       "      <td>-792.701887</td>\n",
       "      <td>40</td>\n",
       "      <td>среднее</td>\n",
       "      <td>1</td>\n",
       "      <td>женат / замужем</td>\n",
       "      <td>0</td>\n",
       "      <td>F</td>\n",
       "      <td>сотрудник</td>\n",
       "      <td>0</td>\n",
       "      <td>77069.234271</td>\n",
       "      <td>покупка коммерческой недвижимости</td>\n",
       "    </tr>\n",
       "    <tr>\n",
       "      <th>12</th>\n",
       "      <td>0</td>\n",
       "      <td>NaN</td>\n",
       "      <td>65</td>\n",
       "      <td>среднее</td>\n",
       "      <td>1</td>\n",
       "      <td>гражданский брак</td>\n",
       "      <td>1</td>\n",
       "      <td>M</td>\n",
       "      <td>пенсионер</td>\n",
       "      <td>0</td>\n",
       "      <td>NaN</td>\n",
       "      <td>сыграть свадьбу</td>\n",
       "    </tr>\n",
       "    <tr>\n",
       "      <th>13</th>\n",
       "      <td>0</td>\n",
       "      <td>-1846.641941</td>\n",
       "      <td>54</td>\n",
       "      <td>неоконченное высшее</td>\n",
       "      <td>2</td>\n",
       "      <td>женат / замужем</td>\n",
       "      <td>0</td>\n",
       "      <td>F</td>\n",
       "      <td>сотрудник</td>\n",
       "      <td>0</td>\n",
       "      <td>130458.228857</td>\n",
       "      <td>приобретение автомобиля</td>\n",
       "    </tr>\n",
       "    <tr>\n",
       "      <th>14</th>\n",
       "      <td>0</td>\n",
       "      <td>-1844.956182</td>\n",
       "      <td>56</td>\n",
       "      <td>высшее</td>\n",
       "      <td>0</td>\n",
       "      <td>гражданский брак</td>\n",
       "      <td>1</td>\n",
       "      <td>F</td>\n",
       "      <td>компаньон</td>\n",
       "      <td>1</td>\n",
       "      <td>165127.911772</td>\n",
       "      <td>покупка жилой недвижимости</td>\n",
       "    </tr>\n",
       "    <tr>\n",
       "      <th>15</th>\n",
       "      <td>1</td>\n",
       "      <td>-972.364419</td>\n",
       "      <td>26</td>\n",
       "      <td>среднее</td>\n",
       "      <td>1</td>\n",
       "      <td>женат / замужем</td>\n",
       "      <td>0</td>\n",
       "      <td>F</td>\n",
       "      <td>сотрудник</td>\n",
       "      <td>0</td>\n",
       "      <td>116820.904450</td>\n",
       "      <td>строительство собственной недвижимости</td>\n",
       "    </tr>\n",
       "    <tr>\n",
       "      <th>16</th>\n",
       "      <td>0</td>\n",
       "      <td>-1719.934226</td>\n",
       "      <td>35</td>\n",
       "      <td>среднее</td>\n",
       "      <td>1</td>\n",
       "      <td>женат / замужем</td>\n",
       "      <td>0</td>\n",
       "      <td>F</td>\n",
       "      <td>сотрудник</td>\n",
       "      <td>0</td>\n",
       "      <td>289202.704229</td>\n",
       "      <td>недвижимость</td>\n",
       "    </tr>\n",
       "    <tr>\n",
       "      <th>17</th>\n",
       "      <td>0</td>\n",
       "      <td>-2369.999720</td>\n",
       "      <td>33</td>\n",
       "      <td>высшее</td>\n",
       "      <td>0</td>\n",
       "      <td>гражданский брак</td>\n",
       "      <td>1</td>\n",
       "      <td>M</td>\n",
       "      <td>сотрудник</td>\n",
       "      <td>0</td>\n",
       "      <td>90410.586745</td>\n",
       "      <td>строительство недвижимости</td>\n",
       "    </tr>\n",
       "    <tr>\n",
       "      <th>18</th>\n",
       "      <td>0</td>\n",
       "      <td>400281.136913</td>\n",
       "      <td>53</td>\n",
       "      <td>среднее</td>\n",
       "      <td>1</td>\n",
       "      <td>вдовец / вдова</td>\n",
       "      <td>2</td>\n",
       "      <td>F</td>\n",
       "      <td>пенсионер</td>\n",
       "      <td>0</td>\n",
       "      <td>56823.777243</td>\n",
       "      <td>на покупку подержанного автомобиля</td>\n",
       "    </tr>\n",
       "    <tr>\n",
       "      <th>19</th>\n",
       "      <td>0</td>\n",
       "      <td>-10038.818549</td>\n",
       "      <td>48</td>\n",
       "      <td>СРЕДНЕЕ</td>\n",
       "      <td>1</td>\n",
       "      <td>в разводе</td>\n",
       "      <td>3</td>\n",
       "      <td>F</td>\n",
       "      <td>сотрудник</td>\n",
       "      <td>0</td>\n",
       "      <td>242831.107982</td>\n",
       "      <td>на покупку своего автомобиля</td>\n",
       "    </tr>\n",
       "  </tbody>\n",
       "</table>\n",
       "</div>"
      ],
      "text/plain": [
       "    children  days_employed  dob_years            education  education_id  \\\n",
       "0          1   -8437.673028         42               высшее             0   \n",
       "1          1   -4024.803754         36              среднее             1   \n",
       "2          0   -5623.422610         33              Среднее             1   \n",
       "3          3   -4124.747207         32              среднее             1   \n",
       "4          0  340266.072047         53              среднее             1   \n",
       "5          0    -926.185831         27               высшее             0   \n",
       "6          0   -2879.202052         43               высшее             0   \n",
       "7          0    -152.779569         50              СРЕДНЕЕ             1   \n",
       "8          2   -6929.865299         35               ВЫСШЕЕ             0   \n",
       "9          0   -2188.756445         41              среднее             1   \n",
       "10         2   -4171.483647         36               высшее             0   \n",
       "11         0    -792.701887         40              среднее             1   \n",
       "12         0            NaN         65              среднее             1   \n",
       "13         0   -1846.641941         54  неоконченное высшее             2   \n",
       "14         0   -1844.956182         56               высшее             0   \n",
       "15         1    -972.364419         26              среднее             1   \n",
       "16         0   -1719.934226         35              среднее             1   \n",
       "17         0   -2369.999720         33               высшее             0   \n",
       "18         0  400281.136913         53              среднее             1   \n",
       "19         0  -10038.818549         48              СРЕДНЕЕ             1   \n",
       "\n",
       "       family_status  family_status_id gender income_type  debt  \\\n",
       "0    женат / замужем                 0      F   сотрудник     0   \n",
       "1    женат / замужем                 0      F   сотрудник     0   \n",
       "2    женат / замужем                 0      M   сотрудник     0   \n",
       "3    женат / замужем                 0      M   сотрудник     0   \n",
       "4   гражданский брак                 1      F   пенсионер     0   \n",
       "5   гражданский брак                 1      M   компаньон     0   \n",
       "6    женат / замужем                 0      F   компаньон     0   \n",
       "7    женат / замужем                 0      M   сотрудник     0   \n",
       "8   гражданский брак                 1      F   сотрудник     0   \n",
       "9    женат / замужем                 0      M   сотрудник     0   \n",
       "10   женат / замужем                 0      M   компаньон     0   \n",
       "11   женат / замужем                 0      F   сотрудник     0   \n",
       "12  гражданский брак                 1      M   пенсионер     0   \n",
       "13   женат / замужем                 0      F   сотрудник     0   \n",
       "14  гражданский брак                 1      F   компаньон     1   \n",
       "15   женат / замужем                 0      F   сотрудник     0   \n",
       "16   женат / замужем                 0      F   сотрудник     0   \n",
       "17  гражданский брак                 1      M   сотрудник     0   \n",
       "18    вдовец / вдова                 2      F   пенсионер     0   \n",
       "19         в разводе                 3      F   сотрудник     0   \n",
       "\n",
       "     total_income                                 purpose  \n",
       "0   253875.639453                           покупка жилья  \n",
       "1   112080.014102                 приобретение автомобиля  \n",
       "2   145885.952297                           покупка жилья  \n",
       "3   267628.550329              дополнительное образование  \n",
       "4   158616.077870                         сыграть свадьбу  \n",
       "5   255763.565419                           покупка жилья  \n",
       "6   240525.971920                       операции с жильем  \n",
       "7   135823.934197                             образование  \n",
       "8    95856.832424                   на проведение свадьбы  \n",
       "9   144425.938277                 покупка жилья для семьи  \n",
       "10  113943.491460                    покупка недвижимости  \n",
       "11   77069.234271       покупка коммерческой недвижимости  \n",
       "12            NaN                         сыграть свадьбу  \n",
       "13  130458.228857                 приобретение автомобиля  \n",
       "14  165127.911772              покупка жилой недвижимости  \n",
       "15  116820.904450  строительство собственной недвижимости  \n",
       "16  289202.704229                            недвижимость  \n",
       "17   90410.586745              строительство недвижимости  \n",
       "18   56823.777243      на покупку подержанного автомобиля  \n",
       "19  242831.107982            на покупку своего автомобиля  "
      ]
     },
     "execution_count": 355,
     "metadata": {},
     "output_type": "execute_result"
    }
   ],
   "source": [
    "data.head(20)"
   ]
  },
  {
   "cell_type": "markdown",
   "id": "32815e64",
   "metadata": {
    "deletable": false,
    "editable": false,
    "id": "1c12e233"
   },
   "source": [
    "**Задание 3. Выведите основную информацию о датафрейме с помощью метода `info()`.**"
   ]
  },
  {
   "cell_type": "code",
   "execution_count": 356,
   "id": "d234d793",
   "metadata": {
    "deletable": false,
    "id": "2b757bca",
    "outputId": "15376089-8dad-46c9-b520-c05248d43158"
   },
   "outputs": [
    {
     "name": "stdout",
     "output_type": "stream",
     "text": [
      "<class 'pandas.core.frame.DataFrame'>\n",
      "RangeIndex: 21525 entries, 0 to 21524\n",
      "Data columns (total 12 columns):\n",
      " #   Column            Non-Null Count  Dtype  \n",
      "---  ------            --------------  -----  \n",
      " 0   children          21525 non-null  int64  \n",
      " 1   days_employed     19351 non-null  float64\n",
      " 2   dob_years         21525 non-null  int64  \n",
      " 3   education         21525 non-null  object \n",
      " 4   education_id      21525 non-null  int64  \n",
      " 5   family_status     21525 non-null  object \n",
      " 6   family_status_id  21525 non-null  int64  \n",
      " 7   gender            21525 non-null  object \n",
      " 8   income_type       21525 non-null  object \n",
      " 9   debt              21525 non-null  int64  \n",
      " 10  total_income      19351 non-null  float64\n",
      " 11  purpose           21525 non-null  object \n",
      "dtypes: float64(2), int64(5), object(5)\n",
      "memory usage: 2.0+ MB\n"
     ]
    }
   ],
   "source": [
    "data.info()"
   ]
  },
  {
   "cell_type": "markdown",
   "id": "3fbd16b4",
   "metadata": {
    "deletable": false,
    "editable": false,
    "id": "333ec665"
   },
   "source": [
    "## Предобработка данных"
   ]
  },
  {
   "cell_type": "markdown",
   "id": "d41928e1",
   "metadata": {
    "deletable": false,
    "editable": false,
    "id": "02d92d53"
   },
   "source": [
    "### Удаление пропусков"
   ]
  },
  {
   "cell_type": "markdown",
   "id": "0d11ab62",
   "metadata": {
    "deletable": false,
    "editable": false,
    "id": "cd84967c"
   },
   "source": [
    "**Задание 4. Выведите количество пропущенных значений для каждого столбца. Используйте комбинацию двух методов.**"
   ]
  },
  {
   "cell_type": "code",
   "execution_count": 357,
   "id": "ca2060da",
   "metadata": {
    "deletable": false,
    "id": "7f9b2309",
    "outputId": "81f4d817-781c-465c-ed15-91ce4446810d"
   },
   "outputs": [
    {
     "data": {
      "text/plain": [
       "children               0\n",
       "days_employed       2174\n",
       "dob_years              0\n",
       "education              0\n",
       "education_id           0\n",
       "family_status          0\n",
       "family_status_id       0\n",
       "gender                 0\n",
       "income_type            0\n",
       "debt                   0\n",
       "total_income        2174\n",
       "purpose                0\n",
       "dtype: int64"
      ]
     },
     "execution_count": 357,
     "metadata": {},
     "output_type": "execute_result"
    }
   ],
   "source": [
    "data.isna().sum()"
   ]
  },
  {
   "cell_type": "markdown",
   "id": "d7e333db",
   "metadata": {
    "deletable": false,
    "editable": false,
    "id": "db86e27b"
   },
   "source": [
    "**Задание 5. В двух столбцах есть пропущенные значения. Один из них — `days_employed`. Пропуски в этом столбце вы обработаете на следующем этапе. Другой столбец с пропущенными значениями — `total_income` — хранит данные о доходах. На сумму дохода сильнее всего влияет тип занятости, поэтому заполнить пропуски в этом столбце нужно медианным значением по каждому типу из столбца `income_type`. Например, у человека с типом занятости `сотрудник` пропуск в столбце `total_income` должен быть заполнен медианным доходом среди всех записей с тем же типом.**"
   ]
  },
  {
   "cell_type": "code",
   "execution_count": 358,
   "id": "d9c0502a",
   "metadata": {
    "deletable": false,
    "id": "42006a93"
   },
   "outputs": [],
   "source": [
    "for t in data['income_type'].unique():\n",
    "    data.loc[(data['income_type'] == t) & (data['total_income'].isna()), 'total_income'] = \\\n",
    "    data.loc[(data['income_type'] == t), 'total_income'].median()"
   ]
  },
  {
   "cell_type": "markdown",
   "id": "9e2ce469",
   "metadata": {
    "deletable": false,
    "editable": false,
    "id": "89da5ece"
   },
   "source": [
    "### Обработка аномальных значений"
   ]
  },
  {
   "cell_type": "markdown",
   "id": "1e92438b",
   "metadata": {
    "deletable": false,
    "editable": false,
    "id": "57964554"
   },
   "source": [
    "**Задание 6. В данных могут встречаться артефакты (аномалии) — значения, которые не отражают действительность и появились по какой-то ошибке. таким артефактом будет отрицательное количество дней трудового стажа в столбце `days_employed`. Для реальных данных это нормально. Обработайте значения в этом столбце: замените все отрицательные значения положительными с помощью метода `abs()`.**"
   ]
  },
  {
   "cell_type": "code",
   "execution_count": 359,
   "id": "764605af",
   "metadata": {
    "deletable": false,
    "id": "f6f055bf"
   },
   "outputs": [],
   "source": [
    "data['days_employed'] = data['days_employed'].abs()"
   ]
  },
  {
   "cell_type": "markdown",
   "id": "fcd998f7",
   "metadata": {
    "deletable": false,
    "editable": false,
    "id": "6107dd2f"
   },
   "source": [
    "**Задание 7. Для каждого типа занятости выведите медианное значение трудового стажа `days_employed` в днях.**"
   ]
  },
  {
   "cell_type": "code",
   "execution_count": 360,
   "id": "e0d74bfa",
   "metadata": {
    "deletable": false,
    "id": "85a5faf6",
    "outputId": "801ef80e-522b-4668-f34e-565af7432bcf"
   },
   "outputs": [
    {
     "data": {
      "text/plain": [
       "income_type\n",
       "безработный        366413.652744\n",
       "в декрете            3296.759962\n",
       "госслужащий          2689.368353\n",
       "компаньон            1547.382223\n",
       "пенсионер          365213.306266\n",
       "предприниматель       520.848083\n",
       "сотрудник            1574.202821\n",
       "студент               578.751554\n",
       "Name: days_employed, dtype: float64"
      ]
     },
     "execution_count": 360,
     "metadata": {},
     "output_type": "execute_result"
    }
   ],
   "source": [
    "data.groupby('income_type')['days_employed'].agg('median')"
   ]
  },
  {
   "cell_type": "markdown",
   "id": "5f66c15c",
   "metadata": {
    "deletable": false,
    "editable": false,
    "id": "38d1a030"
   },
   "source": [
    "У двух типов (безработные и пенсионеры) получатся аномально большие значения. Исправить такие значения сложно, поэтому оставьте их как есть. Тем более этот столбец не понадобится вам для исследования."
   ]
  },
  {
   "cell_type": "markdown",
   "id": "15927d45",
   "metadata": {
    "deletable": false,
    "editable": false,
    "id": "d8a9f147"
   },
   "source": [
    "**Задание 8. Выведите перечень уникальных значений столбца `children`.**"
   ]
  },
  {
   "cell_type": "code",
   "execution_count": 361,
   "id": "1f46c8e3",
   "metadata": {
    "deletable": false,
    "id": "ef5056eb",
    "outputId": "6975b15c-7f95-4697-d16d-a0c79b657b03"
   },
   "outputs": [
    {
     "data": {
      "text/plain": [
       "array([ 1,  0,  3,  2, -1,  4, 20,  5])"
      ]
     },
     "execution_count": 361,
     "metadata": {},
     "output_type": "execute_result"
    }
   ],
   "source": [
    "data['children'].unique()"
   ]
  },
  {
   "cell_type": "markdown",
   "id": "aa326b0b",
   "metadata": {
    "deletable": false,
    "editable": false,
    "id": "40b9ebf2"
   },
   "source": [
    "**Задание 9. В столбце `children` есть два аномальных значения. Удалите строки, в которых встречаются такие аномальные значения из датафрейма `data`.**"
   ]
  },
  {
   "cell_type": "code",
   "execution_count": 362,
   "id": "35502011",
   "metadata": {
    "deletable": false,
    "id": "3ff9801d"
   },
   "outputs": [],
   "source": [
    "data = data[(data['children'] != -1) & (data['children'] != 20)]"
   ]
  },
  {
   "cell_type": "markdown",
   "id": "82bf19c1",
   "metadata": {
    "deletable": false,
    "editable": false,
    "id": "bbc4d0ce"
   },
   "source": [
    "**Задание 10. Ещё раз выведите перечень уникальных значений столбца `children`, чтобы убедиться, что артефакты удалены.**"
   ]
  },
  {
   "cell_type": "code",
   "execution_count": 363,
   "id": "6c30108b",
   "metadata": {
    "deletable": false,
    "id": "ad4fa8b7",
    "outputId": "b2097101-d49d-44d9-901b-32a65c9463d1"
   },
   "outputs": [
    {
     "data": {
      "text/plain": [
       "array([1, 0, 3, 2, 4, 5])"
      ]
     },
     "execution_count": 363,
     "metadata": {},
     "output_type": "execute_result"
    }
   ],
   "source": [
    "data['children'].unique()"
   ]
  },
  {
   "cell_type": "markdown",
   "id": "0ff2de21",
   "metadata": {
    "deletable": false,
    "editable": false,
    "id": "75440b63"
   },
   "source": [
    "### Удаление пропусков (продолжение)"
   ]
  },
  {
   "cell_type": "markdown",
   "id": "e51ead54",
   "metadata": {
    "deletable": false,
    "editable": false,
    "id": "f4ea573f"
   },
   "source": [
    "**Задание 11. Заполните пропуски в столбце `days_employed` медианными значениями по каждого типа занятости `income_type`.**"
   ]
  },
  {
   "cell_type": "code",
   "execution_count": 364,
   "id": "85d187a8",
   "metadata": {
    "deletable": false,
    "id": "af6b1a7e"
   },
   "outputs": [],
   "source": [
    "for t in data['income_type'].unique():\n",
    "    data.loc[(data['income_type'] == t) & (data['days_employed'].isna()), 'days_employed'] = \\\n",
    "    data.loc[(data['income_type'] == t), 'days_employed'].median()"
   ]
  },
  {
   "cell_type": "markdown",
   "id": "0d0b64d9",
   "metadata": {
    "deletable": false,
    "editable": false,
    "id": "2753f40d"
   },
   "source": [
    "**Задание 12. Убедитесь, что все пропуски заполнены. Проверьте себя и ещё раз выведите количество пропущенных значений для каждого столбца с помощью двух методов.**"
   ]
  },
  {
   "cell_type": "code",
   "execution_count": 365,
   "id": "f5d3925a",
   "metadata": {
    "deletable": false,
    "id": "55f78bc2",
    "outputId": "8da1e4e1-358e-4e87-98c9-f261bce0a7b2"
   },
   "outputs": [
    {
     "data": {
      "text/plain": [
       "children            0\n",
       "days_employed       0\n",
       "dob_years           0\n",
       "education           0\n",
       "education_id        0\n",
       "family_status       0\n",
       "family_status_id    0\n",
       "gender              0\n",
       "income_type         0\n",
       "debt                0\n",
       "total_income        0\n",
       "purpose             0\n",
       "dtype: int64"
      ]
     },
     "execution_count": 365,
     "metadata": {},
     "output_type": "execute_result"
    }
   ],
   "source": [
    "data.isna().sum()"
   ]
  },
  {
   "cell_type": "markdown",
   "id": "cf251c69",
   "metadata": {
    "deletable": false,
    "editable": false,
    "id": "ddc81e43"
   },
   "source": [
    "### Изменение типов данных"
   ]
  },
  {
   "cell_type": "markdown",
   "id": "27e74e37",
   "metadata": {
    "deletable": false,
    "editable": false,
    "id": "42d19d24"
   },
   "source": [
    "**Задание 13. Замените вещественный тип данных в столбце `total_income` на целочисленный с помощью метода `astype()`.**"
   ]
  },
  {
   "cell_type": "code",
   "execution_count": 366,
   "id": "cc330215",
   "metadata": {
    "deletable": false,
    "id": "920b65ad"
   },
   "outputs": [],
   "source": [
    "data['total_income'] = data['total_income'].astype(int)"
   ]
  },
  {
   "cell_type": "markdown",
   "id": "7a70110d",
   "metadata": {
    "deletable": false,
    "editable": false,
    "id": "80c420ba"
   },
   "source": [
    "### Обработка дубликатов"
   ]
  },
  {
   "cell_type": "markdown",
   "id": "6bf7cf2b",
   "metadata": {
    "deletable": false,
    "editable": false
   },
   "source": [
    "**Задание 14. Обработайте неявные дубликаты в столбце `education`. В этом столбце есть одни и те же значения, но записанные по-разному: с использованием заглавных и строчных букв. Приведите их к нижнему регистру. Проверьте остальные столбцы.**"
   ]
  },
  {
   "cell_type": "code",
   "execution_count": 367,
   "id": "02efe1a6",
   "metadata": {
    "deletable": false
   },
   "outputs": [],
   "source": [
    "data['education'] = data['education'].str.lower()"
   ]
  },
  {
   "cell_type": "markdown",
   "id": "4f0b2f15",
   "metadata": {
    "deletable": false,
    "editable": false,
    "id": "dc587695"
   },
   "source": [
    "**Задание 15. Выведите на экран количество строк-дубликатов в данных. Если такие строки присутствуют, удалите их.**"
   ]
  },
  {
   "cell_type": "code",
   "execution_count": 368,
   "id": "727aa809",
   "metadata": {
    "deletable": false,
    "id": "3ee445e4",
    "outputId": "9684deba-1934-42d1-99e1-cda61740f822"
   },
   "outputs": [
    {
     "data": {
      "text/plain": [
       "71"
      ]
     },
     "execution_count": 368,
     "metadata": {},
     "output_type": "execute_result"
    }
   ],
   "source": [
    "data.duplicated().sum()"
   ]
  },
  {
   "cell_type": "code",
   "execution_count": 369,
   "id": "b15ce592",
   "metadata": {
    "deletable": false,
    "id": "8575fe05"
   },
   "outputs": [],
   "source": [
    "data = data.drop_duplicates()"
   ]
  },
  {
   "cell_type": "markdown",
   "id": "e16f9864",
   "metadata": {
    "deletable": false,
    "editable": false,
    "id": "9904cf55"
   },
   "source": [
    "### Категоризация данных"
   ]
  },
  {
   "cell_type": "markdown",
   "id": "7011130f",
   "metadata": {
    "deletable": false,
    "editable": false,
    "id": "72fcc8a2"
   },
   "source": [
    "**Задание 16. На основании диапазонов, указанных ниже, создайте в датафрейме `data` столбец `total_income_category` с категориями:**\n",
    "\n",
    "- 0–30000 — `'E'`;\n",
    "- 30001–50000 — `'D'`;\n",
    "- 50001–200000 — `'C'`;\n",
    "- 200001–1000000 — `'B'`;\n",
    "- 1000001 и выше — `'A'`.\n",
    "\n",
    "\n",
    "**Например, кредитополучателю с доходом 25000 нужно назначить категорию `'E'`, а клиенту, получающему 235000, — `'B'`. Используйте собственную функцию с именем `categorize_income()` и метод `apply()`.**"
   ]
  },
  {
   "cell_type": "code",
   "execution_count": 370,
   "id": "3f83c4d9",
   "metadata": {
    "deletable": false,
    "id": "e1771346"
   },
   "outputs": [],
   "source": [
    "def categorize_income(income):\n",
    "    try:\n",
    "        if 0 <= income <= 30000:\n",
    "            return 'E'\n",
    "        elif 30001 <= income <= 50000:\n",
    "            return 'D'\n",
    "        elif 50001 <= income <= 200000:\n",
    "            return 'C'\n",
    "        elif 200001 <= income <= 1000000:\n",
    "            return 'B'\n",
    "        elif income >= 1000001:\n",
    "            return 'A'\n",
    "    except:\n",
    "        pass"
   ]
  },
  {
   "cell_type": "code",
   "execution_count": 371,
   "id": "8421f05d",
   "metadata": {
    "deletable": false,
    "id": "d5f3586d"
   },
   "outputs": [],
   "source": [
    "data['total_income_category'] = data['total_income'].apply(categorize_income)"
   ]
  },
  {
   "cell_type": "markdown",
   "id": "ecf30372",
   "metadata": {
    "deletable": false,
    "editable": false,
    "id": "dde49b5c"
   },
   "source": [
    "**Задание 17. Выведите на экран перечень уникальных целей взятия кредита из столбца `purpose`.**"
   ]
  },
  {
   "cell_type": "code",
   "execution_count": 372,
   "id": "d70ee242",
   "metadata": {
    "deletable": false,
    "id": "f67ce9b3",
    "outputId": "673c12d9-7d7e-4ae0-9812-c622c89dd244"
   },
   "outputs": [
    {
     "data": {
      "text/plain": [
       "array(['покупка жилья', 'приобретение автомобиля',\n",
       "       'дополнительное образование', 'сыграть свадьбу',\n",
       "       'операции с жильем', 'образование', 'на проведение свадьбы',\n",
       "       'покупка жилья для семьи', 'покупка недвижимости',\n",
       "       'покупка коммерческой недвижимости', 'покупка жилой недвижимости',\n",
       "       'строительство собственной недвижимости', 'недвижимость',\n",
       "       'строительство недвижимости', 'на покупку подержанного автомобиля',\n",
       "       'на покупку своего автомобиля',\n",
       "       'операции с коммерческой недвижимостью',\n",
       "       'строительство жилой недвижимости', 'жилье',\n",
       "       'операции со своей недвижимостью', 'автомобили',\n",
       "       'заняться образованием', 'сделка с подержанным автомобилем',\n",
       "       'получение образования', 'автомобиль', 'свадьба',\n",
       "       'получение дополнительного образования', 'покупка своего жилья',\n",
       "       'операции с недвижимостью', 'получение высшего образования',\n",
       "       'свой автомобиль', 'сделка с автомобилем',\n",
       "       'профильное образование', 'высшее образование',\n",
       "       'покупка жилья для сдачи', 'на покупку автомобиля', 'ремонт жилью',\n",
       "       'заняться высшим образованием'], dtype=object)"
      ]
     },
     "execution_count": 372,
     "metadata": {},
     "output_type": "execute_result"
    }
   ],
   "source": [
    "data['purpose'].unique()"
   ]
  },
  {
   "cell_type": "markdown",
   "id": "4fb0ff58",
   "metadata": {
    "deletable": false,
    "editable": false,
    "id": "85d0aef0"
   },
   "source": [
    "**Задание 18. Создайте функцию, которая на основании данных из столбца `purpose` сформирует новый столбец `purpose_category`, в который войдут следующие категории:**\n",
    "\n",
    "- `'операции с автомобилем'`,\n",
    "- `'операции с недвижимостью'`,\n",
    "- `'проведение свадьбы'`,\n",
    "- `'получение образования'`.\n",
    "\n",
    "**Например, если в столбце `purpose` находится подстрока `'на покупку автомобиля'`, то в столбце `purpose_category` должна появиться строка `'операции с автомобилем'`.**\n",
    "\n",
    "**Используйте собственную функцию с именем `categorize_purpose()` и метод `apply()`. Изучите данные в столбце `purpose` и определите, какие подстроки помогут вам правильно определить категорию.**"
   ]
  },
  {
   "cell_type": "code",
   "execution_count": 373,
   "id": "f089a7a1",
   "metadata": {
    "deletable": false,
    "id": "e149fab4"
   },
   "outputs": [],
   "source": [
    "def categorize_purpose(row):\n",
    "    try:\n",
    "        if 'автом' in row:\n",
    "            return 'операции с автомобилем'\n",
    "        elif 'жил' in row or 'недвиж' in row:\n",
    "            return 'операции с недвижимостью'\n",
    "        elif 'свад' in row:\n",
    "            return 'проведение свадьбы'\n",
    "        elif 'образов' in row:\n",
    "            return 'получение образования'\n",
    "    except:\n",
    "        return 'нет категории'"
   ]
  },
  {
   "cell_type": "code",
   "execution_count": 374,
   "id": "911d1c7a",
   "metadata": {
    "deletable": false,
    "id": "bf36e69b"
   },
   "outputs": [],
   "source": [
    "data['purpose_category'] = data['purpose'].apply(categorize_purpose)"
   ]
  },
  {
   "cell_type": "markdown",
   "id": "cb6e4166",
   "metadata": {
    "deletable": false,
    "editable": false,
    "id": "09b242bf"
   },
   "source": [
    "### Шаг 3. Исследуйте данные и ответьте на вопросы"
   ]
  },
  {
   "cell_type": "markdown",
   "id": "cc87fd5e",
   "metadata": {
    "deletable": false,
    "editable": false,
    "id": "c5d66278"
   },
   "source": [
    "#### 3.1 Есть ли зависимость между количеством детей и возвратом кредита в срок?"
   ]
  },
  {
   "cell_type": "code",
   "execution_count": 376,
   "id": "0ed46deb",
   "metadata": {
    "deletable": false,
    "id": "2cacfc4a",
    "scrolled": false
   },
   "outputs": [
    {
     "data": {
      "text/plain": [
       "children\n",
       "3    179460\n",
       "2    169746\n",
       "1    169194\n",
       "5    167336\n",
       "4    166360\n",
       "0    163052\n",
       "Name: total_income, dtype: int64"
      ]
     },
     "execution_count": 376,
     "metadata": {},
     "output_type": "execute_result"
    }
   ],
   "source": [
    "data.groupby('children')['total_income'].mean().sort_values(ascending=False).astype(int)"
   ]
  },
  {
   "cell_type": "markdown",
   "id": "03ad7a4c",
   "metadata": {
    "deletable": false,
    "id": "3a6b99ec"
   },
   "source": [
    "**Вывод:** 1: В среднем семьи имеющие трех детей возвращают наибольшую сумму по кредитам, затем семьи от 1 до 2 и семьи приносящие наименьший возврат от 4 и более детей."
   ]
  },
  {
   "cell_type": "markdown",
   "id": "4508a830",
   "metadata": {},
   "source": [
    "<div class=\"alert alert-danger\">\n",
    "<b>Комментарий ревьюера v.1</b> \n",
    "    \n",
    "✍ \n",
    "<s>Отлично! Вывод верный, а расчет необходимо доработать и сделать лучше:\n",
    "\n",
    "Можно вывести наши расчеты в сводной таблице `pivot_table`, хочу напомнить, что сводные таблицы это те же датафремы. То есть в них можно добавлять столбцы и делать нужные нам расчеты. Выведи пожалуйста сводную таблицу формата: название категории, количество заемщиков (кредитов), средний процент просрочки. Такая таблица должна быть выведена при каждом ответе на вопрос по выявлению зависимости. Также это можно сделать с помомщью  `groupby`\n",
    "\n",
    "</div>"
   ]
  },
  {
   "cell_type": "code",
   "execution_count": 377,
   "id": "2811b219",
   "metadata": {},
   "outputs": [
    {
     "data": {
      "text/html": [
       "<div>\n",
       "<style scoped>\n",
       "    .dataframe tbody tr th:only-of-type {\n",
       "        vertical-align: middle;\n",
       "    }\n",
       "\n",
       "    .dataframe tbody tr th {\n",
       "        vertical-align: top;\n",
       "    }\n",
       "\n",
       "    .dataframe thead tr th {\n",
       "        text-align: left;\n",
       "    }\n",
       "\n",
       "    .dataframe thead tr:last-of-type th {\n",
       "        text-align: right;\n",
       "    }\n",
       "</style>\n",
       "<table border=\"1\" class=\"dataframe\">\n",
       "  <thead>\n",
       "    <tr>\n",
       "      <th></th>\n",
       "      <th colspan=\"2\" halign=\"left\">debt</th>\n",
       "    </tr>\n",
       "    <tr>\n",
       "      <th></th>\n",
       "      <th>mean</th>\n",
       "      <th>count</th>\n",
       "    </tr>\n",
       "    <tr>\n",
       "      <th>children</th>\n",
       "      <th></th>\n",
       "      <th></th>\n",
       "    </tr>\n",
       "  </thead>\n",
       "  <tbody>\n",
       "    <tr>\n",
       "      <th>0</th>\n",
       "      <td>0.075</td>\n",
       "      <td>14091.0</td>\n",
       "    </tr>\n",
       "    <tr>\n",
       "      <th>1</th>\n",
       "      <td>0.092</td>\n",
       "      <td>4808.0</td>\n",
       "    </tr>\n",
       "    <tr>\n",
       "      <th>2</th>\n",
       "      <td>0.095</td>\n",
       "      <td>2052.0</td>\n",
       "    </tr>\n",
       "    <tr>\n",
       "      <th>3</th>\n",
       "      <td>0.082</td>\n",
       "      <td>330.0</td>\n",
       "    </tr>\n",
       "    <tr>\n",
       "      <th>4</th>\n",
       "      <td>0.098</td>\n",
       "      <td>41.0</td>\n",
       "    </tr>\n",
       "    <tr>\n",
       "      <th>5</th>\n",
       "      <td>0.000</td>\n",
       "      <td>9.0</td>\n",
       "    </tr>\n",
       "  </tbody>\n",
       "</table>\n",
       "</div>"
      ],
      "text/plain": [
       "           debt         \n",
       "           mean    count\n",
       "children                \n",
       "0         0.075  14091.0\n",
       "1         0.092   4808.0\n",
       "2         0.095   2052.0\n",
       "3         0.082    330.0\n",
       "4         0.098     41.0\n",
       "5         0.000      9.0"
      ]
     },
     "execution_count": 377,
     "metadata": {},
     "output_type": "execute_result"
    }
   ],
   "source": [
    "pd.pivot_table(data, \n",
    "               index=['children'], \n",
    "               values=['debt'],\n",
    "               aggfunc={'debt':['count', 'mean']}).sort_index(axis=1,ascending=False).round(3) #Рассчет с помощью power_table"
   ]
  },
  {
   "cell_type": "code",
   "execution_count": 378,
   "id": "7f9ca1fd",
   "metadata": {},
   "outputs": [
    {
     "data": {
      "text/html": [
       "<div>\n",
       "<style scoped>\n",
       "    .dataframe tbody tr th:only-of-type {\n",
       "        vertical-align: middle;\n",
       "    }\n",
       "\n",
       "    .dataframe tbody tr th {\n",
       "        vertical-align: top;\n",
       "    }\n",
       "\n",
       "    .dataframe thead tr th {\n",
       "        text-align: left;\n",
       "    }\n",
       "\n",
       "    .dataframe thead tr:last-of-type th {\n",
       "        text-align: right;\n",
       "    }\n",
       "</style>\n",
       "<table border=\"1\" class=\"dataframe\">\n",
       "  <thead>\n",
       "    <tr>\n",
       "      <th></th>\n",
       "      <th colspan=\"2\" halign=\"left\">debt</th>\n",
       "    </tr>\n",
       "    <tr>\n",
       "      <th></th>\n",
       "      <th>count</th>\n",
       "      <th>mean</th>\n",
       "    </tr>\n",
       "    <tr>\n",
       "      <th>children</th>\n",
       "      <th></th>\n",
       "      <th></th>\n",
       "    </tr>\n",
       "  </thead>\n",
       "  <tbody>\n",
       "    <tr>\n",
       "      <th>0</th>\n",
       "      <td>14091</td>\n",
       "      <td>0.075</td>\n",
       "    </tr>\n",
       "    <tr>\n",
       "      <th>1</th>\n",
       "      <td>4808</td>\n",
       "      <td>0.092</td>\n",
       "    </tr>\n",
       "    <tr>\n",
       "      <th>2</th>\n",
       "      <td>2052</td>\n",
       "      <td>0.095</td>\n",
       "    </tr>\n",
       "    <tr>\n",
       "      <th>3</th>\n",
       "      <td>330</td>\n",
       "      <td>0.082</td>\n",
       "    </tr>\n",
       "    <tr>\n",
       "      <th>4</th>\n",
       "      <td>41</td>\n",
       "      <td>0.098</td>\n",
       "    </tr>\n",
       "    <tr>\n",
       "      <th>5</th>\n",
       "      <td>9</td>\n",
       "      <td>0.000</td>\n",
       "    </tr>\n",
       "  </tbody>\n",
       "</table>\n",
       "</div>"
      ],
      "text/plain": [
       "           debt       \n",
       "          count   mean\n",
       "children              \n",
       "0         14091  0.075\n",
       "1          4808  0.092\n",
       "2          2052  0.095\n",
       "3           330  0.082\n",
       "4            41  0.098\n",
       "5             9  0.000"
      ]
     },
     "execution_count": 378,
     "metadata": {},
     "output_type": "execute_result"
    }
   ],
   "source": [
    "data.groupby(['children']).agg({'debt': ['count', 'mean']}).round(3) #Рассчет с помощью groupby"
   ]
  },
  {
   "cell_type": "markdown",
   "id": "1c6db3bc",
   "metadata": {},
   "source": [
    "**Вывод:** 2: В среднем семьи имеющие трех детей возвращают наибольшую сумму по кредитам, затем семьи от 1 до 2 и семьи приносящие наименьший возврат от 4 и более детей. "
   ]
  },
  {
   "cell_type": "markdown",
   "id": "947f1aa5",
   "metadata": {
    "deletable": false,
    "editable": false,
    "id": "97be82ca"
   },
   "source": [
    "#### 3.2 Есть ли зависимость между семейным положением и возвратом кредита в срок?"
   ]
  },
  {
   "cell_type": "code",
   "execution_count": 379,
   "id": "852acb82",
   "metadata": {
    "deletable": false,
    "id": "dc3f7ee8"
   },
   "outputs": [
    {
     "data": {
      "text/plain": [
       "family_status\n",
       "в разводе                167955\n",
       "женат / замужем          166757\n",
       "Не женат / не замужем    166552\n",
       "гражданский брак         164819\n",
       "вдовец / вдова           142559\n",
       "Name: total_income, dtype: int64"
      ]
     },
     "execution_count": 379,
     "metadata": {},
     "output_type": "execute_result"
    }
   ],
   "source": [
    "data.groupby('family_status')['total_income'].mean().sort_values(ascending=False).astype(int)"
   ]
  },
  {
   "cell_type": "markdown",
   "id": "3825d630",
   "metadata": {
    "deletable": false,
    "id": "1cef7837"
   },
   "source": [
    "**Вывод:** 1: Наиболее платежеспособные оказались в статусе \"в разводе\". Потерявщие супруга в среднем платят меньше по кредиту чем остальные категории семейного положения."
   ]
  },
  {
   "cell_type": "markdown",
   "id": "cdbd71c3",
   "metadata": {},
   "source": [
    "<div class=\"alert alert-success\">\n",
    "<b>Комментарий ревьюера v.1</b> \n",
    "    \n",
    "👍 \n",
    "В точку! Кредитному отделу следует с осторожностью относиться к клиентам, которые не состоят или не состояли в браке."
   ]
  },
  {
   "cell_type": "markdown",
   "id": "c3e97c45",
   "metadata": {},
   "source": [
    "<div class=\"alert alert-danger\">\n",
    "<b>Комментарий ревьюера v.1</b> \n",
    "    \n",
    "✍ \n",
    "<s>Также нужна корректная сводная.\n",
    "</div>"
   ]
  },
  {
   "cell_type": "code",
   "execution_count": 380,
   "id": "d2001f5b",
   "metadata": {},
   "outputs": [
    {
     "data": {
      "text/html": [
       "<div>\n",
       "<style scoped>\n",
       "    .dataframe tbody tr th:only-of-type {\n",
       "        vertical-align: middle;\n",
       "    }\n",
       "\n",
       "    .dataframe tbody tr th {\n",
       "        vertical-align: top;\n",
       "    }\n",
       "\n",
       "    .dataframe thead tr th {\n",
       "        text-align: left;\n",
       "    }\n",
       "\n",
       "    .dataframe thead tr:last-of-type th {\n",
       "        text-align: right;\n",
       "    }\n",
       "</style>\n",
       "<table border=\"1\" class=\"dataframe\">\n",
       "  <thead>\n",
       "    <tr>\n",
       "      <th></th>\n",
       "      <th colspan=\"2\" halign=\"left\">debt</th>\n",
       "    </tr>\n",
       "    <tr>\n",
       "      <th></th>\n",
       "      <th>count</th>\n",
       "      <th>mean</th>\n",
       "    </tr>\n",
       "    <tr>\n",
       "      <th>family_status</th>\n",
       "      <th></th>\n",
       "      <th></th>\n",
       "    </tr>\n",
       "  </thead>\n",
       "  <tbody>\n",
       "    <tr>\n",
       "      <th>Не женат / не замужем</th>\n",
       "      <td>2796</td>\n",
       "      <td>0.098</td>\n",
       "    </tr>\n",
       "    <tr>\n",
       "      <th>в разводе</th>\n",
       "      <td>1189</td>\n",
       "      <td>0.071</td>\n",
       "    </tr>\n",
       "    <tr>\n",
       "      <th>вдовец / вдова</th>\n",
       "      <td>951</td>\n",
       "      <td>0.066</td>\n",
       "    </tr>\n",
       "    <tr>\n",
       "      <th>гражданский брак</th>\n",
       "      <td>4134</td>\n",
       "      <td>0.093</td>\n",
       "    </tr>\n",
       "    <tr>\n",
       "      <th>женат / замужем</th>\n",
       "      <td>12261</td>\n",
       "      <td>0.076</td>\n",
       "    </tr>\n",
       "  </tbody>\n",
       "</table>\n",
       "</div>"
      ],
      "text/plain": [
       "                        debt       \n",
       "                       count   mean\n",
       "family_status                      \n",
       "Не женат / не замужем   2796  0.098\n",
       "в разводе               1189  0.071\n",
       "вдовец / вдова           951  0.066\n",
       "гражданский брак        4134  0.093\n",
       "женат / замужем        12261  0.076"
      ]
     },
     "execution_count": 380,
     "metadata": {},
     "output_type": "execute_result"
    }
   ],
   "source": [
    "data.groupby(['family_status']).agg({'debt': ['count', 'mean']}).round(3) #Второй анализ - выводим количество и средний процент "
   ]
  },
  {
   "cell_type": "markdown",
   "id": "3b3aaf65",
   "metadata": {},
   "source": [
    "**Вывод:** 2 : Наиболее платежеспособные оказались в статусе \"вдовцы\". Состоящие не в официальном браке в среднем платят меньше по кредиту чем остальные категории семейного положения."
   ]
  },
  {
   "cell_type": "markdown",
   "id": "127bf419",
   "metadata": {
    "deletable": false,
    "editable": false,
    "id": "1e8b2fca"
   },
   "source": [
    "#### 3.3 Есть ли зависимость между уровнем дохода и возвратом кредита в срок?"
   ]
  },
  {
   "cell_type": "markdown",
   "id": "6ec95cc9",
   "metadata": {},
   "source": [
    "Уровни дохода:\n",
    "\n",
    "0–30000 — 'E'\n",
    "\n",
    "30001–50000 — 'D'\n",
    "\n",
    "50001–200000 — 'C'\n",
    "\n",
    "200001–1000000 — 'B'\n",
    "\n",
    "1000001 и выше — 'A'\n"
   ]
  },
  {
   "cell_type": "code",
   "execution_count": 381,
   "id": "5972ae20",
   "metadata": {
    "deletable": false,
    "id": "cd7e3720"
   },
   "outputs": [
    {
     "data": {
      "text/plain": [
       "total_income_category\n",
       "C    1353\n",
       "B     354\n",
       "D      21\n",
       "A       2\n",
       "E       2\n",
       "Name: debt, dtype: int64"
      ]
     },
     "execution_count": 381,
     "metadata": {},
     "output_type": "execute_result"
    }
   ],
   "source": [
    "data.groupby('total_income_category')['debt'].sum().sort_values(ascending=False)"
   ]
  },
  {
   "cell_type": "markdown",
   "id": "4c17d6bc",
   "metadata": {
    "deletable": false,
    "id": "e8593def"
   },
   "source": [
    "**Вывод:** У подавляющего большенства самые возвращаемые кредиты у людей с доходом С, далее категория В. Остальные категории населения прибигают к услугам не так часто."
   ]
  },
  {
   "cell_type": "markdown",
   "id": "d5a0578b",
   "metadata": {},
   "source": [
    "<div class=\"alert alert-success\">\n",
    "<b>Комментарий ревьюера v.1</b> \n",
    "    \n",
    "👍 \n",
    "Метко подметил, что выборки крайне несбалансированны и для выявления зависимости нужно сравнивать только самые многочисленные выборки B и C.\n",
    "</div>"
   ]
  },
  {
   "cell_type": "markdown",
   "id": "2869b263",
   "metadata": {
    "deletable": false,
    "editable": false,
    "id": "99ecbd1f"
   },
   "source": [
    "#### 3.4 Как разные цели кредита влияют на его возврат в срок?"
   ]
  },
  {
   "cell_type": "code",
   "execution_count": 382,
   "id": "47fefa4b",
   "metadata": {
    "deletable": false,
    "id": "2b687290"
   },
   "outputs": [
    {
     "data": {
      "text/plain": [
       "purpose_category\n",
       "операции с недвижимостью    166752\n",
       "операции с автомобилем      165162\n",
       "проведение свадьбы          163817\n",
       "получение образования       162621\n",
       "Name: total_income, dtype: int64"
      ]
     },
     "execution_count": 382,
     "metadata": {},
     "output_type": "execute_result"
    }
   ],
   "source": [
    "data.groupby('purpose_category')['total_income'].mean().sort_values(ascending=False).astype(int) #Первый анализ"
   ]
  },
  {
   "cell_type": "markdown",
   "id": "ad994025",
   "metadata": {
    "deletable": false,
    "id": "b4bb2ce6"
   },
   "source": [
    "**Вывод:**№1 Самым возвратным видом кредитования являются покупки недвижимости, а так же авто кредитование. Следющими по возвратности идет категория свадебных церемоний и получения образования."
   ]
  },
  {
   "cell_type": "markdown",
   "id": "a8be225a",
   "metadata": {},
   "source": [
    "<div class=\"alert alert-danger\">\n",
    "<b>Комментарий ревьюера v.1</b> \n",
    "    \n",
    "✍ \n",
    "К сожалению здесь ошибка. Для этого нам необходима сводная, где будет четко виден средний процент просрочки.\n",
    "</div>"
   ]
  },
  {
   "cell_type": "code",
   "execution_count": 383,
   "id": "55d0fa3d",
   "metadata": {},
   "outputs": [
    {
     "data": {
      "text/html": [
       "<div>\n",
       "<style scoped>\n",
       "    .dataframe tbody tr th:only-of-type {\n",
       "        vertical-align: middle;\n",
       "    }\n",
       "\n",
       "    .dataframe tbody tr th {\n",
       "        vertical-align: top;\n",
       "    }\n",
       "\n",
       "    .dataframe thead tr th {\n",
       "        text-align: left;\n",
       "    }\n",
       "\n",
       "    .dataframe thead tr:last-of-type th {\n",
       "        text-align: right;\n",
       "    }\n",
       "</style>\n",
       "<table border=\"1\" class=\"dataframe\">\n",
       "  <thead>\n",
       "    <tr>\n",
       "      <th></th>\n",
       "      <th colspan=\"2\" halign=\"left\">debt</th>\n",
       "    </tr>\n",
       "    <tr>\n",
       "      <th></th>\n",
       "      <th>count</th>\n",
       "      <th>mean</th>\n",
       "    </tr>\n",
       "    <tr>\n",
       "      <th>purpose_category</th>\n",
       "      <th></th>\n",
       "      <th></th>\n",
       "    </tr>\n",
       "  </thead>\n",
       "  <tbody>\n",
       "    <tr>\n",
       "      <th>операции с автомобилем</th>\n",
       "      <td>4279</td>\n",
       "      <td>0.093</td>\n",
       "    </tr>\n",
       "    <tr>\n",
       "      <th>получение образования</th>\n",
       "      <td>3988</td>\n",
       "      <td>0.093</td>\n",
       "    </tr>\n",
       "    <tr>\n",
       "      <th>проведение свадьбы</th>\n",
       "      <td>2313</td>\n",
       "      <td>0.079</td>\n",
       "    </tr>\n",
       "    <tr>\n",
       "      <th>операции с недвижимостью</th>\n",
       "      <td>10751</td>\n",
       "      <td>0.073</td>\n",
       "    </tr>\n",
       "  </tbody>\n",
       "</table>\n",
       "</div>"
      ],
      "text/plain": [
       "                           debt       \n",
       "                          count   mean\n",
       "purpose_category                      \n",
       "операции с автомобилем     4279  0.093\n",
       "получение образования      3988  0.093\n",
       "проведение свадьбы         2313  0.079\n",
       "операции с недвижимостью  10751  0.073"
      ]
     },
     "execution_count": 383,
     "metadata": {},
     "output_type": "execute_result"
    }
   ],
   "source": [
    "#Второй анализ - выводим количество и средний процент\n",
    "data.groupby('purpose_category').agg({'debt':\n",
    "                                        ['count', 'mean']}).round(3).sort_values(by=[('debt', 'mean')\n",
    "                                                                                     ,('debt', 'count')], ascending=False)  "
   ]
  },
  {
   "cell_type": "markdown",
   "id": "f716e26e",
   "metadata": {},
   "source": [
    "**Вывод:**№2 Самым возвратным видом кредитования по среднему показателю в категории являются авто кредитование, а так же получение образования. Следющими по возвратности идет категория свадебных церемоний и операций с недвижимостью."
   ]
  },
  {
   "cell_type": "markdown",
   "id": "7966a846",
   "metadata": {},
   "source": [
    "<div class=\"alert alert-danger\">\n",
    "<b>Комментарий ревьюера v.2</b> \n",
    "    \n",
    "✍ \n",
    "Только наоборот. Клиенты, бравшие кредит на автомобиль и на образование, чаще становятся должниками.\n",
    "</div>"
   ]
  },
  {
   "cell_type": "markdown",
   "id": "4d1269ea",
   "metadata": {},
   "source": [
    "**Вывод:**№2.1 Самым частыми должниками  по среднему показателю в категории являются авто кредитование, а так же получение образования. Следющими по задолженности идут категории свадебных церемоний и операций с недвижимостью."
   ]
  },
  {
   "cell_type": "markdown",
   "id": "c54e9db6",
   "metadata": {},
   "source": [
    "<div class=\"alert alert-success\">\n",
    "<b>Комментарий ревьюера v.3</b> \n",
    "    \n",
    "👍 \n",
    "\n",
    "</div>"
   ]
  },
  {
   "cell_type": "markdown",
   "id": "7a126da6",
   "metadata": {
    "deletable": false,
    "editable": false,
    "id": "09c3ac4c"
   },
   "source": [
    "#### 3.5 Приведите возможные причины появления пропусков в исходных данных."
   ]
  },
  {
   "cell_type": "markdown",
   "id": "bb87039d",
   "metadata": {
    "deletable": false,
    "id": "9da2ceda"
   },
   "source": [
    "*Ответ:* \n",
    "1. Ошибки при заполнении данных пользователем.\n",
    "2. Допущение программы ввода некорретных значений.\n",
    "3. Выгрузка данных произведена с ошибками или не корректно.\n",
    "4. При сращивании нескольких файлов использовали не внутреннее соедниение таблиц.\n",
    "5. Оставили намеренно для полноты данных."
   ]
  },
  {
   "cell_type": "markdown",
   "id": "89e16b2c",
   "metadata": {},
   "source": [
    "<div class=\"alert alert-success\">\n",
    "<b>Комментарий ревьюера v.1</b> \n",
    "    \n",
    "👍 \n",
    "Совершенно верно"
   ]
  },
  {
   "cell_type": "markdown",
   "id": "c56dd15a",
   "metadata": {
    "deletable": false,
    "editable": false,
    "id": "7b0487d6"
   },
   "source": [
    "#### 3.6 Объясните, почему заполнить пропуски медианным значением — лучшее решение для количественных переменных."
   ]
  },
  {
   "cell_type": "markdown",
   "id": "1a4b1765",
   "metadata": {
    "deletable": false,
    "id": "7ecf2b8e"
   },
   "source": [
    "*Ответ:* Лушче всего заполнять медианным зачением т.к. оно показывает средний заработок без аномалий и выбросов, а так же не дает сильного искажения в понимании представленных значений."
   ]
  },
  {
   "cell_type": "markdown",
   "id": "f86a1f32",
   "metadata": {},
   "source": [
    "<div class=\"alert alert-success\">\n",
    "<b>Комментарий ревьюера v.1</b> \n",
    "    \n",
    "👍 \n",
    " Верно, медианы более устойчивы к выборсам. "
   ]
  },
  {
   "cell_type": "markdown",
   "id": "d90fe82c",
   "metadata": {
    "deletable": false,
    "editable": false,
    "id": "6db5255a"
   },
   "source": [
    "### Шаг 4: общий вывод."
   ]
  },
  {
   "cell_type": "markdown",
   "id": "930467ff",
   "metadata": {
    "deletable": false,
    "id": "bad65432"
   },
   "source": [
    "Среди представленного набора данных, мы выяснили что у клиентов банка имеются определенные зависимости между количеством дитей, целям взятия кредита, семейным положением, а так же уровнем дохода, которые в свою очередь влияют на возврат кредита в срок. Для рекомендаций: нужно обратить внимание на программу кредитования для наболее платежеспособного населения, а так же клиентов не имеющих детей для разработки и превлечения наиболее выгодных условий выдачи займа."
   ]
  },
  {
   "cell_type": "markdown",
   "id": "6aa425d1",
   "metadata": {},
   "source": [
    "<div class=\"alert alert-success\">\n",
    "<b>Комментарий ревьюера v.1</b> \n",
    "    \n",
    "👍 \n",
    "Выводы понятны и логичны, но не забудь пожалуйста их перепроверить после корректировок.\n",
    "</div>"
   ]
  },
  {
   "cell_type": "markdown",
   "id": "7049a615",
   "metadata": {},
   "source": [
    "<div style=\"border:solid blue 3px; padding: 20px\">\n",
    "<div class=\"alert alert-success\">\n",
    "<b>Обратная связь v.1</b> \n",
    "    \n",
    "👋  \n",
    "Вадим, замечательная работа, ты мыслишь нестандартно, это отличный навык, который у тебя уже есть, ты последователен и вдумчив. Твою работу очень интересно читать и проверять.  Я оставил несколько обязательных поправок для тебя и после этого буду готов сразу принять проект. \n",
    "\n",
    "Удачи в доработках, жду!  "
   ]
  },
  {
   "cell_type": "markdown",
   "id": "801d3a1d",
   "metadata": {},
   "source": [
    "<div style=\"border:solid blue 3px; padding: 20px\">\n",
    "<div class=\"alert alert-success\">\n",
    "<b>Обратная связь v.2</b> \n",
    "    \n",
    "👋 \n",
    "Вадим, спасибо, что прислал работу на повторное ревью с исправлениями. Осталось совсем немного подправить работу и я с удовольствием ее приме. Мои комментарии ты найдешь выше. Буду ждать твою работу."
   ]
  },
  {
   "cell_type": "markdown",
   "id": "e80b4dda",
   "metadata": {},
   "source": [
    "<div style=\"border:solid blue 3px; padding: 20px\">\n",
    "<div class=\"alert alert-success\">\n",
    "<b>Обратная связь v.2</b> \n",
    "    \n",
    "👋 \n",
    "      \n",
    "Вадим, спасибо за исправления критических моментов, а также спасибо за хорошую работу.\n",
    "    \n",
    "Поздравляю с успешным завершением проекта 😊👍\n",
    "    \n",
    "И желаю успехов в новых работах 😊"
   ]
  }
 ],
 "metadata": {
  "ExecuteTimeLog": [
   {
    "duration": 489,
    "start_time": "2022-12-05T07:38:48.706Z"
   },
   {
    "duration": 20,
    "start_time": "2022-12-05T07:38:49.197Z"
   },
   {
    "duration": 18,
    "start_time": "2022-12-05T07:38:49.218Z"
   },
   {
    "duration": 14,
    "start_time": "2022-12-05T07:38:49.238Z"
   },
   {
    "duration": 35,
    "start_time": "2022-12-05T07:38:49.254Z"
   },
   {
    "duration": 3,
    "start_time": "2022-12-05T07:38:49.290Z"
   },
   {
    "duration": 22,
    "start_time": "2022-12-05T07:38:49.294Z"
   },
   {
    "duration": 4,
    "start_time": "2022-12-05T07:38:49.317Z"
   },
   {
    "duration": 11,
    "start_time": "2022-12-05T07:38:49.322Z"
   },
   {
    "duration": 4,
    "start_time": "2022-12-05T07:38:49.336Z"
   },
   {
    "duration": 36,
    "start_time": "2022-12-05T07:38:49.341Z"
   },
   {
    "duration": 8,
    "start_time": "2022-12-05T07:38:49.379Z"
   },
   {
    "duration": 10,
    "start_time": "2022-12-05T07:38:49.388Z"
   },
   {
    "duration": 23,
    "start_time": "2022-12-05T07:38:49.399Z"
   },
   {
    "duration": 18,
    "start_time": "2022-12-05T07:38:49.423Z"
   },
   {
    "duration": 20,
    "start_time": "2022-12-05T07:38:49.442Z"
   },
   {
    "duration": 3,
    "start_time": "2022-12-05T07:38:49.463Z"
   },
   {
    "duration": 16,
    "start_time": "2022-12-05T07:38:49.468Z"
   },
   {
    "duration": 10,
    "start_time": "2022-12-05T07:38:49.486Z"
   },
   {
    "duration": 5,
    "start_time": "2022-12-05T07:38:49.515Z"
   },
   {
    "duration": 14,
    "start_time": "2022-12-05T07:38:49.521Z"
   },
   {
    "duration": 8,
    "start_time": "2022-12-05T07:38:49.536Z"
   },
   {
    "duration": 5,
    "start_time": "2022-12-05T07:38:49.546Z"
   },
   {
    "duration": 7,
    "start_time": "2022-12-05T07:38:49.552Z"
   },
   {
    "duration": 5,
    "start_time": "2022-12-05T07:38:49.560Z"
   },
   {
    "duration": 6,
    "start_time": "2022-12-05T09:54:15.709Z"
   },
   {
    "duration": 6,
    "start_time": "2022-12-05T09:54:34.611Z"
   },
   {
    "duration": 7,
    "start_time": "2022-12-05T09:58:40.328Z"
   },
   {
    "duration": 8,
    "start_time": "2022-12-05T09:59:38.919Z"
   },
   {
    "duration": 9,
    "start_time": "2022-12-05T10:00:03.140Z"
   },
   {
    "duration": 9,
    "start_time": "2022-12-05T10:06:41.123Z"
   },
   {
    "duration": 8,
    "start_time": "2022-12-05T10:09:09.902Z"
   },
   {
    "duration": 69,
    "start_time": "2022-12-05T10:09:51.038Z"
   },
   {
    "duration": 14,
    "start_time": "2022-12-05T10:10:06.362Z"
   },
   {
    "duration": 715,
    "start_time": "2022-12-06T03:14:34.734Z"
   },
   {
    "duration": 24,
    "start_time": "2022-12-06T03:14:35.451Z"
   },
   {
    "duration": 22,
    "start_time": "2022-12-06T03:14:35.477Z"
   },
   {
    "duration": 15,
    "start_time": "2022-12-06T03:14:35.501Z"
   },
   {
    "duration": 40,
    "start_time": "2022-12-06T03:14:35.518Z"
   },
   {
    "duration": 4,
    "start_time": "2022-12-06T03:14:35.560Z"
   },
   {
    "duration": 15,
    "start_time": "2022-12-06T03:14:35.565Z"
   },
   {
    "duration": 7,
    "start_time": "2022-12-06T03:14:35.582Z"
   },
   {
    "duration": 16,
    "start_time": "2022-12-06T03:14:35.591Z"
   },
   {
    "duration": 16,
    "start_time": "2022-12-06T03:14:35.609Z"
   },
   {
    "duration": 61,
    "start_time": "2022-12-06T03:14:35.626Z"
   },
   {
    "duration": 10,
    "start_time": "2022-12-06T03:14:35.689Z"
   },
   {
    "duration": 13,
    "start_time": "2022-12-06T03:14:35.700Z"
   },
   {
    "duration": 20,
    "start_time": "2022-12-06T03:14:35.716Z"
   },
   {
    "duration": 27,
    "start_time": "2022-12-06T03:14:35.738Z"
   },
   {
    "duration": 18,
    "start_time": "2022-12-06T03:14:35.767Z"
   },
   {
    "duration": 4,
    "start_time": "2022-12-06T03:14:35.787Z"
   },
   {
    "duration": 17,
    "start_time": "2022-12-06T03:14:35.792Z"
   },
   {
    "duration": 13,
    "start_time": "2022-12-06T03:14:35.810Z"
   },
   {
    "duration": 9,
    "start_time": "2022-12-06T03:14:35.826Z"
   },
   {
    "duration": 16,
    "start_time": "2022-12-06T03:14:35.837Z"
   },
   {
    "duration": 16,
    "start_time": "2022-12-06T03:14:35.855Z"
   },
   {
    "duration": 12,
    "start_time": "2022-12-06T03:14:35.873Z"
   },
   {
    "duration": 11,
    "start_time": "2022-12-06T03:14:35.887Z"
   },
   {
    "duration": 21,
    "start_time": "2022-12-06T03:14:35.900Z"
   },
   {
    "duration": 11,
    "start_time": "2022-12-06T03:14:57.246Z"
   },
   {
    "duration": 8,
    "start_time": "2022-12-06T03:15:07.464Z"
   },
   {
    "duration": 9,
    "start_time": "2022-12-06T03:17:50.332Z"
   },
   {
    "duration": 7,
    "start_time": "2022-12-06T03:17:54.180Z"
   },
   {
    "duration": 7,
    "start_time": "2022-12-06T03:29:08.676Z"
   },
   {
    "duration": 73,
    "start_time": "2022-12-06T03:30:20.546Z"
   },
   {
    "duration": 7,
    "start_time": "2022-12-06T03:30:27.849Z"
   },
   {
    "duration": 16,
    "start_time": "2022-12-06T03:47:18.582Z"
   },
   {
    "duration": 9,
    "start_time": "2022-12-06T03:47:51.932Z"
   },
   {
    "duration": 7,
    "start_time": "2022-12-06T03:48:00.778Z"
   },
   {
    "duration": 9,
    "start_time": "2022-12-06T03:48:22.121Z"
   },
   {
    "duration": 9,
    "start_time": "2022-12-06T04:39:27.588Z"
   },
   {
    "duration": 9,
    "start_time": "2022-12-06T04:39:39.182Z"
   },
   {
    "duration": 8,
    "start_time": "2022-12-06T04:39:47.612Z"
   },
   {
    "duration": 8,
    "start_time": "2022-12-06T04:40:07.218Z"
   },
   {
    "duration": 8,
    "start_time": "2022-12-06T04:40:23.147Z"
   },
   {
    "duration": 7,
    "start_time": "2022-12-06T04:40:31.653Z"
   },
   {
    "duration": 689,
    "start_time": "2022-12-06T06:10:44.232Z"
   },
   {
    "duration": 22,
    "start_time": "2022-12-06T06:10:44.923Z"
   },
   {
    "duration": 13,
    "start_time": "2022-12-06T06:10:44.946Z"
   },
   {
    "duration": 24,
    "start_time": "2022-12-06T06:10:44.961Z"
   },
   {
    "duration": 37,
    "start_time": "2022-12-06T06:10:44.987Z"
   },
   {
    "duration": 3,
    "start_time": "2022-12-06T06:10:45.026Z"
   },
   {
    "duration": 37,
    "start_time": "2022-12-06T06:10:45.030Z"
   },
   {
    "duration": 21,
    "start_time": "2022-12-06T06:10:45.068Z"
   },
   {
    "duration": 26,
    "start_time": "2022-12-06T06:10:45.091Z"
   },
   {
    "duration": 32,
    "start_time": "2022-12-06T06:10:45.120Z"
   },
   {
    "duration": 53,
    "start_time": "2022-12-06T06:10:45.153Z"
   },
   {
    "duration": 11,
    "start_time": "2022-12-06T06:10:45.208Z"
   },
   {
    "duration": 22,
    "start_time": "2022-12-06T06:10:45.220Z"
   },
   {
    "duration": 17,
    "start_time": "2022-12-06T06:10:45.244Z"
   },
   {
    "duration": 34,
    "start_time": "2022-12-06T06:10:45.263Z"
   },
   {
    "duration": 18,
    "start_time": "2022-12-06T06:10:45.299Z"
   },
   {
    "duration": 3,
    "start_time": "2022-12-06T06:10:45.319Z"
   },
   {
    "duration": 27,
    "start_time": "2022-12-06T06:10:45.324Z"
   },
   {
    "duration": 24,
    "start_time": "2022-12-06T06:10:45.353Z"
   },
   {
    "duration": 23,
    "start_time": "2022-12-06T06:10:45.378Z"
   },
   {
    "duration": 23,
    "start_time": "2022-12-06T06:10:45.403Z"
   },
   {
    "duration": 23,
    "start_time": "2022-12-06T06:10:45.428Z"
   },
   {
    "duration": 16,
    "start_time": "2022-12-06T06:10:45.452Z"
   },
   {
    "duration": 7,
    "start_time": "2022-12-06T06:10:45.469Z"
   },
   {
    "duration": 9,
    "start_time": "2022-12-06T06:10:45.477Z"
   },
   {
    "duration": 45,
    "start_time": "2022-12-06T06:52:43.225Z"
   },
   {
    "duration": 566,
    "start_time": "2022-12-06T06:52:51.134Z"
   },
   {
    "duration": 24,
    "start_time": "2022-12-06T06:52:51.702Z"
   },
   {
    "duration": 31,
    "start_time": "2022-12-06T06:52:51.727Z"
   },
   {
    "duration": 29,
    "start_time": "2022-12-06T06:52:51.759Z"
   },
   {
    "duration": 38,
    "start_time": "2022-12-06T06:52:51.789Z"
   },
   {
    "duration": 3,
    "start_time": "2022-12-06T06:52:51.829Z"
   },
   {
    "duration": 29,
    "start_time": "2022-12-06T06:52:51.833Z"
   },
   {
    "duration": 21,
    "start_time": "2022-12-06T06:52:51.864Z"
   },
   {
    "duration": 30,
    "start_time": "2022-12-06T06:52:51.886Z"
   },
   {
    "duration": 7,
    "start_time": "2022-12-06T06:52:51.918Z"
   },
   {
    "duration": 66,
    "start_time": "2022-12-06T06:52:51.926Z"
   },
   {
    "duration": 10,
    "start_time": "2022-12-06T06:52:51.994Z"
   },
   {
    "duration": 15,
    "start_time": "2022-12-06T06:52:52.005Z"
   },
   {
    "duration": 21,
    "start_time": "2022-12-06T06:52:52.022Z"
   },
   {
    "duration": 31,
    "start_time": "2022-12-06T06:52:52.044Z"
   },
   {
    "duration": 32,
    "start_time": "2022-12-06T06:52:52.076Z"
   },
   {
    "duration": 4,
    "start_time": "2022-12-06T06:52:52.109Z"
   },
   {
    "duration": 20,
    "start_time": "2022-12-06T06:52:52.115Z"
   },
   {
    "duration": 6,
    "start_time": "2022-12-06T06:52:52.137Z"
   },
   {
    "duration": 24,
    "start_time": "2022-12-06T06:52:52.144Z"
   },
   {
    "duration": 30,
    "start_time": "2022-12-06T06:52:52.170Z"
   },
   {
    "duration": 38,
    "start_time": "2022-12-06T06:52:52.202Z"
   },
   {
    "duration": 34,
    "start_time": "2022-12-06T06:52:52.242Z"
   },
   {
    "duration": 22,
    "start_time": "2022-12-06T06:52:52.278Z"
   },
   {
    "duration": 18,
    "start_time": "2022-12-06T06:52:52.302Z"
   },
   {
    "duration": 42,
    "start_time": "2022-12-06T06:52:52.321Z"
   },
   {
    "duration": 444,
    "start_time": "2022-12-06T06:54:09.314Z"
   },
   {
    "duration": 19,
    "start_time": "2022-12-06T06:54:31.300Z"
   },
   {
    "duration": 21,
    "start_time": "2022-12-06T06:56:38.185Z"
   },
   {
    "duration": 55,
    "start_time": "2022-12-06T11:56:54.434Z"
   },
   {
    "duration": 18,
    "start_time": "2022-12-06T11:56:59.398Z"
   },
   {
    "duration": 75,
    "start_time": "2022-12-06T11:57:09.100Z"
   },
   {
    "duration": 15,
    "start_time": "2022-12-06T11:57:09.177Z"
   },
   {
    "duration": 16,
    "start_time": "2022-12-06T11:57:09.194Z"
   },
   {
    "duration": 9,
    "start_time": "2022-12-06T11:57:09.212Z"
   },
   {
    "duration": 31,
    "start_time": "2022-12-06T11:57:09.223Z"
   },
   {
    "duration": 3,
    "start_time": "2022-12-06T11:57:09.256Z"
   },
   {
    "duration": 10,
    "start_time": "2022-12-06T11:57:09.261Z"
   },
   {
    "duration": 4,
    "start_time": "2022-12-06T11:57:09.273Z"
   },
   {
    "duration": 6,
    "start_time": "2022-12-06T11:57:09.305Z"
   },
   {
    "duration": 4,
    "start_time": "2022-12-06T11:57:09.314Z"
   },
   {
    "duration": 34,
    "start_time": "2022-12-06T11:57:09.319Z"
   },
   {
    "duration": 10,
    "start_time": "2022-12-06T11:57:09.354Z"
   },
   {
    "duration": 4,
    "start_time": "2022-12-06T11:57:09.365Z"
   },
   {
    "duration": 40,
    "start_time": "2022-12-06T11:57:09.370Z"
   },
   {
    "duration": 19,
    "start_time": "2022-12-06T11:57:09.412Z"
   },
   {
    "duration": 16,
    "start_time": "2022-12-06T11:57:09.432Z"
   },
   {
    "duration": 4,
    "start_time": "2022-12-06T11:57:09.450Z"
   },
   {
    "duration": 16,
    "start_time": "2022-12-06T11:57:09.455Z"
   },
   {
    "duration": 9,
    "start_time": "2022-12-06T11:57:09.472Z"
   },
   {
    "duration": 23,
    "start_time": "2022-12-06T11:57:09.482Z"
   },
   {
    "duration": 10,
    "start_time": "2022-12-06T11:57:09.506Z"
   },
   {
    "duration": 6,
    "start_time": "2022-12-06T11:57:09.517Z"
   },
   {
    "duration": 15,
    "start_time": "2022-12-06T11:57:09.524Z"
   },
   {
    "duration": 0,
    "start_time": "2022-12-06T11:57:09.541Z"
   },
   {
    "duration": 0,
    "start_time": "2022-12-06T11:57:09.541Z"
   },
   {
    "duration": 0,
    "start_time": "2022-12-06T11:57:09.542Z"
   },
   {
    "duration": 13,
    "start_time": "2022-12-06T11:57:13.935Z"
   },
   {
    "duration": 13,
    "start_time": "2022-12-06T11:57:32.129Z"
   },
   {
    "duration": 24,
    "start_time": "2022-12-06T11:58:11.358Z"
   },
   {
    "duration": 12,
    "start_time": "2022-12-06T13:18:14.705Z"
   },
   {
    "duration": 22,
    "start_time": "2022-12-06T13:24:32.597Z"
   },
   {
    "duration": 23,
    "start_time": "2022-12-06T13:26:51.754Z"
   },
   {
    "duration": 23,
    "start_time": "2022-12-06T13:26:59.571Z"
   },
   {
    "duration": 23,
    "start_time": "2022-12-06T13:28:05.049Z"
   },
   {
    "duration": 17,
    "start_time": "2022-12-06T13:29:09.621Z"
   },
   {
    "duration": 838,
    "start_time": "2022-12-06T13:29:23.231Z"
   },
   {
    "duration": 221,
    "start_time": "2022-12-06T13:29:43.251Z"
   },
   {
    "duration": 19,
    "start_time": "2022-12-06T13:29:50.415Z"
   },
   {
    "duration": 17,
    "start_time": "2022-12-06T13:30:05.968Z"
   },
   {
    "duration": 21,
    "start_time": "2022-12-06T13:30:43.153Z"
   },
   {
    "duration": 23,
    "start_time": "2022-12-06T13:30:55.096Z"
   },
   {
    "duration": 18,
    "start_time": "2022-12-06T13:31:14.386Z"
   },
   {
    "duration": 19,
    "start_time": "2022-12-06T13:31:36.121Z"
   },
   {
    "duration": 13,
    "start_time": "2022-12-06T13:31:51.969Z"
   },
   {
    "duration": 7,
    "start_time": "2022-12-06T13:31:56.294Z"
   },
   {
    "duration": 14,
    "start_time": "2022-12-06T13:32:17.488Z"
   },
   {
    "duration": 9,
    "start_time": "2022-12-06T13:32:28.658Z"
   },
   {
    "duration": 9,
    "start_time": "2022-12-06T13:32:41.505Z"
   },
   {
    "duration": 8,
    "start_time": "2022-12-06T13:42:34.352Z"
   },
   {
    "duration": 6,
    "start_time": "2022-12-06T13:42:48.060Z"
   },
   {
    "duration": 9,
    "start_time": "2022-12-06T13:42:57.955Z"
   },
   {
    "duration": 6,
    "start_time": "2022-12-06T13:43:14.381Z"
   },
   {
    "duration": 6,
    "start_time": "2022-12-06T13:43:38.110Z"
   },
   {
    "duration": 7,
    "start_time": "2022-12-06T13:43:43.084Z"
   },
   {
    "duration": 13,
    "start_time": "2022-12-06T15:30:52.058Z"
   },
   {
    "duration": 14,
    "start_time": "2022-12-06T15:31:30.853Z"
   },
   {
    "duration": 14,
    "start_time": "2022-12-06T15:31:39.953Z"
   },
   {
    "duration": 11,
    "start_time": "2022-12-06T15:31:47.239Z"
   },
   {
    "duration": 11,
    "start_time": "2022-12-06T15:32:00.059Z"
   },
   {
    "duration": 14,
    "start_time": "2022-12-06T15:32:14.906Z"
   },
   {
    "duration": 12,
    "start_time": "2022-12-06T15:32:25.027Z"
   },
   {
    "duration": 10,
    "start_time": "2022-12-06T15:32:30.593Z"
   },
   {
    "duration": 5,
    "start_time": "2022-12-06T15:33:44.286Z"
   },
   {
    "duration": 6,
    "start_time": "2022-12-06T15:34:04.519Z"
   },
   {
    "duration": 6,
    "start_time": "2022-12-06T15:34:23.616Z"
   },
   {
    "duration": 7,
    "start_time": "2022-12-06T15:34:27.290Z"
   },
   {
    "duration": 6,
    "start_time": "2022-12-06T15:34:40.000Z"
   },
   {
    "duration": 5,
    "start_time": "2022-12-06T15:34:46.556Z"
   },
   {
    "duration": 8,
    "start_time": "2022-12-06T15:36:53.820Z"
   },
   {
    "duration": 7,
    "start_time": "2022-12-06T15:37:06.449Z"
   },
   {
    "duration": 8,
    "start_time": "2022-12-06T15:37:10.961Z"
   },
   {
    "duration": 7,
    "start_time": "2022-12-06T15:37:21.826Z"
   },
   {
    "duration": 8,
    "start_time": "2022-12-06T15:37:30.885Z"
   },
   {
    "duration": 5,
    "start_time": "2022-12-06T15:37:39.854Z"
   },
   {
    "duration": 7,
    "start_time": "2022-12-06T15:41:11.486Z"
   },
   {
    "duration": 10,
    "start_time": "2022-12-06T15:41:17.380Z"
   },
   {
    "duration": 8,
    "start_time": "2022-12-06T15:41:28.030Z"
   },
   {
    "duration": 68,
    "start_time": "2022-12-06T15:41:37.110Z"
   },
   {
    "duration": 14,
    "start_time": "2022-12-06T15:41:37.180Z"
   },
   {
    "duration": 16,
    "start_time": "2022-12-06T15:41:37.196Z"
   },
   {
    "duration": 9,
    "start_time": "2022-12-06T15:41:37.214Z"
   },
   {
    "duration": 32,
    "start_time": "2022-12-06T15:41:37.224Z"
   },
   {
    "duration": 3,
    "start_time": "2022-12-06T15:41:37.258Z"
   },
   {
    "duration": 9,
    "start_time": "2022-12-06T15:41:37.262Z"
   },
   {
    "duration": 3,
    "start_time": "2022-12-06T15:41:37.272Z"
   },
   {
    "duration": 31,
    "start_time": "2022-12-06T15:41:37.277Z"
   },
   {
    "duration": 4,
    "start_time": "2022-12-06T15:41:37.310Z"
   },
   {
    "duration": 37,
    "start_time": "2022-12-06T15:41:37.315Z"
   },
   {
    "duration": 10,
    "start_time": "2022-12-06T15:41:37.354Z"
   },
   {
    "duration": 4,
    "start_time": "2022-12-06T15:41:37.366Z"
   },
   {
    "duration": 11,
    "start_time": "2022-12-06T15:41:37.371Z"
   },
   {
    "duration": 18,
    "start_time": "2022-12-06T15:41:37.404Z"
   },
   {
    "duration": 15,
    "start_time": "2022-12-06T15:41:37.424Z"
   },
   {
    "duration": 3,
    "start_time": "2022-12-06T15:41:37.440Z"
   },
   {
    "duration": 16,
    "start_time": "2022-12-06T15:41:37.445Z"
   },
   {
    "duration": 6,
    "start_time": "2022-12-06T15:41:37.465Z"
   },
   {
    "duration": 4,
    "start_time": "2022-12-06T15:41:37.473Z"
   },
   {
    "duration": 32,
    "start_time": "2022-12-06T15:41:37.479Z"
   },
   {
    "duration": 6,
    "start_time": "2022-12-06T15:41:37.513Z"
   },
   {
    "duration": 15,
    "start_time": "2022-12-06T15:41:37.522Z"
   },
   {
    "duration": 40,
    "start_time": "2022-12-06T15:41:37.539Z"
   },
   {
    "duration": 38,
    "start_time": "2022-12-06T15:41:37.580Z"
   },
   {
    "duration": 20,
    "start_time": "2022-12-06T15:41:37.620Z"
   },
   {
    "duration": 14,
    "start_time": "2022-12-06T15:41:37.642Z"
   },
   {
    "duration": 0,
    "start_time": "2022-12-06T15:41:37.658Z"
   },
   {
    "duration": 0,
    "start_time": "2022-12-06T15:41:37.659Z"
   },
   {
    "duration": 0,
    "start_time": "2022-12-06T15:41:37.662Z"
   },
   {
    "duration": 9,
    "start_time": "2022-12-06T15:41:43.759Z"
   },
   {
    "duration": 7,
    "start_time": "2022-12-06T15:42:02.596Z"
   },
   {
    "duration": 7,
    "start_time": "2022-12-06T15:42:06.877Z"
   },
   {
    "duration": 13,
    "start_time": "2022-12-06T15:42:29.577Z"
   },
   {
    "duration": 6,
    "start_time": "2022-12-06T15:45:05.263Z"
   },
   {
    "duration": 6,
    "start_time": "2022-12-06T15:45:15.196Z"
   },
   {
    "duration": 20,
    "start_time": "2022-12-06T15:46:02.269Z"
   },
   {
    "duration": 19,
    "start_time": "2022-12-06T15:46:06.087Z"
   },
   {
    "duration": 20,
    "start_time": "2022-12-06T15:46:18.396Z"
   },
   {
    "duration": 19,
    "start_time": "2022-12-06T15:46:23.895Z"
   },
   {
    "duration": 4,
    "start_time": "2022-12-06T15:50:31.572Z"
   },
   {
    "duration": 3,
    "start_time": "2022-12-06T15:50:35.069Z"
   },
   {
    "duration": 4,
    "start_time": "2022-12-06T15:50:38.021Z"
   },
   {
    "duration": 3,
    "start_time": "2022-12-06T15:50:49.600Z"
   },
   {
    "duration": 17,
    "start_time": "2022-12-06T15:51:20.258Z"
   },
   {
    "duration": 18,
    "start_time": "2022-12-06T15:52:41.006Z"
   },
   {
    "duration": 17,
    "start_time": "2022-12-06T15:52:46.063Z"
   },
   {
    "duration": 67,
    "start_time": "2022-12-06T15:52:48.953Z"
   },
   {
    "duration": 15,
    "start_time": "2022-12-06T15:52:49.022Z"
   },
   {
    "duration": 15,
    "start_time": "2022-12-06T15:52:49.039Z"
   },
   {
    "duration": 9,
    "start_time": "2022-12-06T15:52:49.056Z"
   },
   {
    "duration": 56,
    "start_time": "2022-12-06T15:52:49.066Z"
   },
   {
    "duration": 4,
    "start_time": "2022-12-06T15:52:49.123Z"
   },
   {
    "duration": 22,
    "start_time": "2022-12-06T15:52:49.129Z"
   },
   {
    "duration": 8,
    "start_time": "2022-12-06T15:52:49.153Z"
   },
   {
    "duration": 9,
    "start_time": "2022-12-06T15:52:49.162Z"
   },
   {
    "duration": 6,
    "start_time": "2022-12-06T15:52:49.174Z"
   },
   {
    "duration": 44,
    "start_time": "2022-12-06T15:52:49.181Z"
   },
   {
    "duration": 10,
    "start_time": "2022-12-06T15:52:49.227Z"
   },
   {
    "duration": 4,
    "start_time": "2022-12-06T15:52:49.239Z"
   },
   {
    "duration": 16,
    "start_time": "2022-12-06T15:52:49.251Z"
   },
   {
    "duration": 20,
    "start_time": "2022-12-06T15:52:49.269Z"
   },
   {
    "duration": 24,
    "start_time": "2022-12-06T15:52:49.291Z"
   },
   {
    "duration": 6,
    "start_time": "2022-12-06T15:52:49.317Z"
   },
   {
    "duration": 12,
    "start_time": "2022-12-06T15:52:49.324Z"
   },
   {
    "duration": 5,
    "start_time": "2022-12-06T15:52:49.337Z"
   },
   {
    "duration": 4,
    "start_time": "2022-12-06T15:52:49.343Z"
   },
   {
    "duration": 9,
    "start_time": "2022-12-06T15:52:49.348Z"
   },
   {
    "duration": 8,
    "start_time": "2022-12-06T15:52:49.359Z"
   },
   {
    "duration": 0,
    "start_time": "2022-12-06T15:52:49.368Z"
   },
   {
    "duration": 0,
    "start_time": "2022-12-06T15:52:49.369Z"
   },
   {
    "duration": 0,
    "start_time": "2022-12-06T15:52:49.370Z"
   },
   {
    "duration": 23,
    "start_time": "2022-12-06T15:53:00.327Z"
   },
   {
    "duration": 19,
    "start_time": "2022-12-06T15:53:13.120Z"
   },
   {
    "duration": 25,
    "start_time": "2022-12-06T15:53:21.373Z"
   },
   {
    "duration": 22,
    "start_time": "2022-12-06T15:53:30.401Z"
   },
   {
    "duration": 21,
    "start_time": "2022-12-06T15:53:38.678Z"
   },
   {
    "duration": 21,
    "start_time": "2022-12-06T15:53:41.653Z"
   },
   {
    "duration": 18,
    "start_time": "2022-12-06T15:53:49.241Z"
   },
   {
    "duration": 20,
    "start_time": "2022-12-06T15:54:00.067Z"
   },
   {
    "duration": 21,
    "start_time": "2022-12-06T15:54:35.190Z"
   },
   {
    "duration": 18,
    "start_time": "2022-12-06T15:54:44.270Z"
   },
   {
    "duration": 20,
    "start_time": "2022-12-06T15:54:58.280Z"
   },
   {
    "duration": 19,
    "start_time": "2022-12-06T15:55:05.702Z"
   },
   {
    "duration": 20,
    "start_time": "2022-12-06T15:55:09.912Z"
   },
   {
    "duration": 19,
    "start_time": "2022-12-06T15:56:14.025Z"
   },
   {
    "duration": 19,
    "start_time": "2022-12-06T15:56:19.293Z"
   },
   {
    "duration": 13,
    "start_time": "2022-12-06T15:56:47.634Z"
   },
   {
    "duration": 18,
    "start_time": "2022-12-06T15:56:57.918Z"
   },
   {
    "duration": 13,
    "start_time": "2022-12-06T15:57:16.627Z"
   },
   {
    "duration": 15,
    "start_time": "2022-12-06T15:57:22.338Z"
   },
   {
    "duration": 13,
    "start_time": "2022-12-06T15:58:56.731Z"
   },
   {
    "duration": 19,
    "start_time": "2022-12-06T15:59:07.405Z"
   },
   {
    "duration": 15,
    "start_time": "2022-12-06T15:59:15.008Z"
   },
   {
    "duration": 21,
    "start_time": "2022-12-06T16:00:01.029Z"
   },
   {
    "duration": 19,
    "start_time": "2022-12-06T16:00:18.331Z"
   },
   {
    "duration": 20,
    "start_time": "2022-12-06T16:00:26.265Z"
   },
   {
    "duration": 21,
    "start_time": "2022-12-06T16:00:32.713Z"
   },
   {
    "duration": 21,
    "start_time": "2022-12-06T16:00:49.579Z"
   },
   {
    "duration": 23,
    "start_time": "2022-12-06T16:00:54.925Z"
   },
   {
    "duration": 86,
    "start_time": "2022-12-06T16:02:19.676Z"
   },
   {
    "duration": 67,
    "start_time": "2022-12-06T16:02:29.624Z"
   },
   {
    "duration": 69,
    "start_time": "2022-12-06T16:07:39.204Z"
   },
   {
    "duration": 71,
    "start_time": "2022-12-06T16:08:01.511Z"
   },
   {
    "duration": 72,
    "start_time": "2022-12-06T16:08:12.205Z"
   },
   {
    "duration": 69,
    "start_time": "2022-12-06T16:08:20.164Z"
   },
   {
    "duration": 75,
    "start_time": "2022-12-06T16:08:43.790Z"
   },
   {
    "duration": 78,
    "start_time": "2022-12-06T16:08:52.175Z"
   },
   {
    "duration": 86,
    "start_time": "2022-12-06T16:09:15.461Z"
   },
   {
    "duration": 9,
    "start_time": "2022-12-06T16:09:32.533Z"
   },
   {
    "duration": 8,
    "start_time": "2022-12-06T16:09:50.693Z"
   },
   {
    "duration": 8,
    "start_time": "2022-12-06T16:10:08.773Z"
   },
   {
    "duration": 8,
    "start_time": "2022-12-06T16:10:19.578Z"
   },
   {
    "duration": 7,
    "start_time": "2022-12-06T16:10:34.694Z"
   },
   {
    "duration": 8,
    "start_time": "2022-12-06T16:10:44.640Z"
   },
   {
    "duration": 4,
    "start_time": "2022-12-06T16:11:00.034Z"
   },
   {
    "duration": 17,
    "start_time": "2022-12-06T16:11:05.433Z"
   },
   {
    "duration": 20,
    "start_time": "2022-12-06T16:11:25.320Z"
   },
   {
    "duration": 16,
    "start_time": "2022-12-06T16:11:39.626Z"
   },
   {
    "duration": 8,
    "start_time": "2022-12-06T16:12:39.480Z"
   },
   {
    "duration": 9,
    "start_time": "2022-12-06T16:13:04.940Z"
   },
   {
    "duration": 9,
    "start_time": "2022-12-06T16:13:07.711Z"
   },
   {
    "duration": 10,
    "start_time": "2022-12-06T16:13:16.331Z"
   },
   {
    "duration": 27,
    "start_time": "2022-12-06T16:13:30.915Z"
   },
   {
    "duration": 8,
    "start_time": "2022-12-06T16:16:15.202Z"
   },
   {
    "duration": 3,
    "start_time": "2022-12-06T16:17:04.677Z"
   },
   {
    "duration": 8,
    "start_time": "2022-12-06T16:17:13.673Z"
   },
   {
    "duration": 9,
    "start_time": "2022-12-06T16:17:19.992Z"
   },
   {
    "duration": 9,
    "start_time": "2022-12-06T16:17:32.692Z"
   },
   {
    "duration": 13,
    "start_time": "2022-12-06T16:17:38.750Z"
   },
   {
    "duration": 22,
    "start_time": "2022-12-06T16:19:14.441Z"
   },
   {
    "duration": 8,
    "start_time": "2022-12-06T16:19:23.682Z"
   },
   {
    "duration": 21,
    "start_time": "2022-12-06T16:19:27.544Z"
   },
   {
    "duration": 14,
    "start_time": "2022-12-06T16:19:50.239Z"
   },
   {
    "duration": 15,
    "start_time": "2022-12-06T16:20:13.763Z"
   },
   {
    "duration": 15,
    "start_time": "2022-12-06T16:20:21.557Z"
   },
   {
    "duration": 13,
    "start_time": "2022-12-06T16:20:47.140Z"
   },
   {
    "duration": 73,
    "start_time": "2022-12-06T16:21:24.555Z"
   },
   {
    "duration": 17,
    "start_time": "2022-12-06T16:21:33.550Z"
   },
   {
    "duration": 14,
    "start_time": "2022-12-06T16:21:44.233Z"
   },
   {
    "duration": 15,
    "start_time": "2022-12-06T16:21:53.556Z"
   },
   {
    "duration": 15,
    "start_time": "2022-12-06T16:23:25.898Z"
   },
   {
    "duration": 9,
    "start_time": "2022-12-06T16:23:35.744Z"
   },
   {
    "duration": 21,
    "start_time": "2022-12-06T16:24:03.934Z"
   },
   {
    "duration": 22,
    "start_time": "2022-12-06T16:24:12.632Z"
   },
   {
    "duration": 17,
    "start_time": "2022-12-06T16:25:53.671Z"
   },
   {
    "duration": 9,
    "start_time": "2022-12-06T16:28:02.378Z"
   },
   {
    "duration": 9,
    "start_time": "2022-12-06T16:28:16.336Z"
   },
   {
    "duration": 11,
    "start_time": "2022-12-06T16:28:23.602Z"
   },
   {
    "duration": 12,
    "start_time": "2022-12-06T16:28:28.923Z"
   },
   {
    "duration": 10,
    "start_time": "2022-12-06T16:34:30.044Z"
   },
   {
    "duration": 10,
    "start_time": "2022-12-06T16:35:10.264Z"
   },
   {
    "duration": 9,
    "start_time": "2022-12-06T16:35:26.561Z"
   },
   {
    "duration": 8,
    "start_time": "2022-12-06T16:37:04.003Z"
   },
   {
    "duration": 9,
    "start_time": "2022-12-06T16:37:15.409Z"
   },
   {
    "duration": 10,
    "start_time": "2022-12-06T16:37:23.410Z"
   },
   {
    "duration": 10,
    "start_time": "2022-12-06T16:37:30.162Z"
   },
   {
    "duration": 8,
    "start_time": "2022-12-06T16:38:56.722Z"
   },
   {
    "duration": 8,
    "start_time": "2022-12-06T16:39:06.307Z"
   },
   {
    "duration": 9,
    "start_time": "2022-12-06T16:40:26.399Z"
   },
   {
    "duration": 9,
    "start_time": "2022-12-06T16:40:31.482Z"
   },
   {
    "duration": 117,
    "start_time": "2022-12-06T16:42:24.676Z"
   },
   {
    "duration": 9,
    "start_time": "2022-12-06T16:43:14.436Z"
   },
   {
    "duration": 9,
    "start_time": "2022-12-06T16:45:24.246Z"
   },
   {
    "duration": 8,
    "start_time": "2022-12-06T16:46:50.327Z"
   },
   {
    "duration": 8,
    "start_time": "2022-12-06T16:47:15.852Z"
   },
   {
    "duration": 9,
    "start_time": "2022-12-06T16:48:03.498Z"
   },
   {
    "duration": 7,
    "start_time": "2022-12-06T16:48:10.637Z"
   },
   {
    "duration": 8,
    "start_time": "2022-12-06T16:48:24.363Z"
   },
   {
    "duration": 10,
    "start_time": "2022-12-06T16:55:52.335Z"
   },
   {
    "duration": 12,
    "start_time": "2022-12-06T16:56:19.830Z"
   },
   {
    "duration": 7,
    "start_time": "2022-12-06T16:57:15.848Z"
   },
   {
    "duration": 16,
    "start_time": "2022-12-06T16:58:35.308Z"
   },
   {
    "duration": 19,
    "start_time": "2022-12-06T16:59:02.329Z"
   },
   {
    "duration": 13,
    "start_time": "2022-12-06T16:59:13.519Z"
   },
   {
    "duration": 19,
    "start_time": "2022-12-06T17:00:28.309Z"
   },
   {
    "duration": 24,
    "start_time": "2022-12-06T17:00:39.096Z"
   },
   {
    "duration": 12,
    "start_time": "2022-12-06T17:00:48.179Z"
   },
   {
    "duration": 17,
    "start_time": "2022-12-06T17:00:53.711Z"
   },
   {
    "duration": 16,
    "start_time": "2022-12-06T17:00:54.572Z"
   },
   {
    "duration": 15,
    "start_time": "2022-12-06T17:01:10.860Z"
   },
   {
    "duration": 68,
    "start_time": "2022-12-06T17:01:29.189Z"
   },
   {
    "duration": 4,
    "start_time": "2022-12-06T17:01:41.740Z"
   },
   {
    "duration": 18,
    "start_time": "2022-12-06T17:01:52.420Z"
   },
   {
    "duration": 14,
    "start_time": "2022-12-06T17:02:02.389Z"
   },
   {
    "duration": 14,
    "start_time": "2022-12-06T17:02:12.414Z"
   },
   {
    "duration": 13,
    "start_time": "2022-12-06T17:02:23.111Z"
   },
   {
    "duration": 13,
    "start_time": "2022-12-06T17:02:32.563Z"
   },
   {
    "duration": 12,
    "start_time": "2022-12-06T17:02:43.434Z"
   },
   {
    "duration": 12,
    "start_time": "2022-12-06T17:04:07.851Z"
   },
   {
    "duration": 19,
    "start_time": "2022-12-06T17:04:19.152Z"
   },
   {
    "duration": 8,
    "start_time": "2022-12-06T17:04:33.650Z"
   },
   {
    "duration": 18,
    "start_time": "2022-12-06T17:04:39.386Z"
   },
   {
    "duration": 13,
    "start_time": "2022-12-06T17:04:50.729Z"
   },
   {
    "duration": 13,
    "start_time": "2022-12-06T17:06:29.363Z"
   },
   {
    "duration": 19,
    "start_time": "2022-12-06T17:06:34.155Z"
   },
   {
    "duration": 15,
    "start_time": "2022-12-06T17:06:46.303Z"
   },
   {
    "duration": 16,
    "start_time": "2022-12-06T17:08:01.447Z"
   },
   {
    "duration": 17,
    "start_time": "2022-12-06T17:10:55.656Z"
   },
   {
    "duration": 14,
    "start_time": "2022-12-06T17:11:01.666Z"
   },
   {
    "duration": 18,
    "start_time": "2022-12-06T17:11:37.379Z"
   },
   {
    "duration": 19,
    "start_time": "2022-12-06T17:11:47.336Z"
   },
   {
    "duration": 24,
    "start_time": "2022-12-06T17:11:56.069Z"
   },
   {
    "duration": 10,
    "start_time": "2022-12-06T17:12:07.497Z"
   },
   {
    "duration": 18,
    "start_time": "2022-12-06T17:12:20.831Z"
   },
   {
    "duration": 19,
    "start_time": "2022-12-06T17:12:33.012Z"
   },
   {
    "duration": 19,
    "start_time": "2022-12-06T17:12:36.945Z"
   },
   {
    "duration": 18,
    "start_time": "2022-12-06T17:12:41.705Z"
   },
   {
    "duration": 20,
    "start_time": "2022-12-06T17:12:48.483Z"
   },
   {
    "duration": 18,
    "start_time": "2022-12-06T17:13:03.377Z"
   },
   {
    "duration": 19,
    "start_time": "2022-12-06T17:13:09.557Z"
   },
   {
    "duration": 18,
    "start_time": "2022-12-06T17:14:01.875Z"
   },
   {
    "duration": 19,
    "start_time": "2022-12-06T17:14:10.186Z"
   },
   {
    "duration": 22,
    "start_time": "2022-12-06T17:15:39.786Z"
   },
   {
    "duration": 20,
    "start_time": "2022-12-06T17:15:51.245Z"
   },
   {
    "duration": 18,
    "start_time": "2022-12-06T17:15:54.331Z"
   },
   {
    "duration": 21,
    "start_time": "2022-12-06T17:16:01.456Z"
   },
   {
    "duration": 20,
    "start_time": "2022-12-06T17:16:10.059Z"
   },
   {
    "duration": 9,
    "start_time": "2022-12-06T17:17:29.841Z"
   },
   {
    "duration": 11,
    "start_time": "2022-12-06T17:17:42.768Z"
   },
   {
    "duration": 10,
    "start_time": "2022-12-06T17:17:51.141Z"
   },
   {
    "duration": 10,
    "start_time": "2022-12-06T17:18:04.696Z"
   },
   {
    "duration": 12,
    "start_time": "2022-12-06T17:18:12.806Z"
   },
   {
    "duration": 25,
    "start_time": "2022-12-06T17:18:31.052Z"
   },
   {
    "duration": 22,
    "start_time": "2022-12-06T17:18:46.284Z"
   },
   {
    "duration": 7,
    "start_time": "2022-12-06T17:19:33.309Z"
   },
   {
    "duration": 20,
    "start_time": "2022-12-06T17:20:03.458Z"
   },
   {
    "duration": 29,
    "start_time": "2022-12-06T17:20:27.505Z"
   },
   {
    "duration": 26,
    "start_time": "2022-12-06T17:20:36.796Z"
   },
   {
    "duration": 13,
    "start_time": "2022-12-06T17:21:47.392Z"
   },
   {
    "duration": 23,
    "start_time": "2022-12-06T17:22:09.986Z"
   },
   {
    "duration": 14,
    "start_time": "2022-12-06T17:32:06.344Z"
   },
   {
    "duration": 17,
    "start_time": "2022-12-06T17:37:19.347Z"
   },
   {
    "duration": 13,
    "start_time": "2022-12-06T17:38:45.366Z"
   },
   {
    "duration": 9,
    "start_time": "2022-12-06T17:39:01.065Z"
   },
   {
    "duration": 90,
    "start_time": "2022-12-06T17:39:33.694Z"
   },
   {
    "duration": 17,
    "start_time": "2022-12-06T17:39:39.734Z"
   },
   {
    "duration": 17,
    "start_time": "2022-12-06T17:40:57.241Z"
   },
   {
    "duration": 10,
    "start_time": "2022-12-06T17:41:11.033Z"
   },
   {
    "duration": 10,
    "start_time": "2022-12-06T17:41:19.763Z"
   },
   {
    "duration": 15,
    "start_time": "2022-12-06T17:41:27.119Z"
   },
   {
    "duration": 18,
    "start_time": "2022-12-06T17:41:32.648Z"
   },
   {
    "duration": 15,
    "start_time": "2022-12-06T17:41:48.557Z"
   },
   {
    "duration": 13,
    "start_time": "2022-12-06T17:44:48.184Z"
   },
   {
    "duration": 10,
    "start_time": "2022-12-06T17:45:02.378Z"
   },
   {
    "duration": 9,
    "start_time": "2022-12-06T17:45:12.440Z"
   },
   {
    "duration": 11,
    "start_time": "2022-12-06T17:45:43.210Z"
   },
   {
    "duration": 14,
    "start_time": "2022-12-06T17:45:49.183Z"
   },
   {
    "duration": 16,
    "start_time": "2022-12-06T17:46:59.753Z"
   },
   {
    "duration": 19,
    "start_time": "2022-12-06T17:47:17.723Z"
   },
   {
    "duration": 16,
    "start_time": "2022-12-06T17:48:39.904Z"
   },
   {
    "duration": 17,
    "start_time": "2022-12-06T17:48:45.341Z"
   },
   {
    "duration": 9,
    "start_time": "2022-12-06T17:49:28.917Z"
   },
   {
    "duration": 67,
    "start_time": "2022-12-06T17:52:54.536Z"
   },
   {
    "duration": 16,
    "start_time": "2022-12-06T17:52:54.604Z"
   },
   {
    "duration": 18,
    "start_time": "2022-12-06T17:52:54.621Z"
   },
   {
    "duration": 14,
    "start_time": "2022-12-06T17:52:54.641Z"
   },
   {
    "duration": 54,
    "start_time": "2022-12-06T17:52:54.657Z"
   },
   {
    "duration": 3,
    "start_time": "2022-12-06T17:52:54.713Z"
   },
   {
    "duration": 10,
    "start_time": "2022-12-06T17:52:54.717Z"
   },
   {
    "duration": 5,
    "start_time": "2022-12-06T17:52:54.728Z"
   },
   {
    "duration": 8,
    "start_time": "2022-12-06T17:52:54.735Z"
   },
   {
    "duration": 4,
    "start_time": "2022-12-06T17:52:54.745Z"
   },
   {
    "duration": 56,
    "start_time": "2022-12-06T17:52:54.751Z"
   },
   {
    "duration": 10,
    "start_time": "2022-12-06T17:52:54.809Z"
   },
   {
    "duration": 4,
    "start_time": "2022-12-06T17:52:54.820Z"
   },
   {
    "duration": 15,
    "start_time": "2022-12-06T17:52:54.825Z"
   },
   {
    "duration": 18,
    "start_time": "2022-12-06T17:52:54.841Z"
   },
   {
    "duration": 16,
    "start_time": "2022-12-06T17:52:54.861Z"
   },
   {
    "duration": 4,
    "start_time": "2022-12-06T17:52:54.905Z"
   },
   {
    "duration": 13,
    "start_time": "2022-12-06T17:52:54.911Z"
   },
   {
    "duration": 7,
    "start_time": "2022-12-06T17:52:54.927Z"
   },
   {
    "duration": 9,
    "start_time": "2022-12-06T17:52:54.936Z"
   },
   {
    "duration": 12,
    "start_time": "2022-12-06T17:52:54.946Z"
   },
   {
    "duration": 5,
    "start_time": "2022-12-06T17:52:54.959Z"
   },
   {
    "duration": 10,
    "start_time": "2022-12-06T17:52:54.966Z"
   },
   {
    "duration": 51,
    "start_time": "2022-12-06T17:52:54.979Z"
   },
   {
    "duration": 13,
    "start_time": "2022-12-06T17:52:55.032Z"
   },
   {
    "duration": 8,
    "start_time": "2022-12-06T17:52:55.046Z"
   },
   {
    "duration": 16,
    "start_time": "2022-12-06T17:52:55.055Z"
   },
   {
    "duration": 34,
    "start_time": "2022-12-06T17:52:55.072Z"
   },
   {
    "duration": 9,
    "start_time": "2022-12-06T17:52:55.108Z"
   },
   {
    "duration": 18,
    "start_time": "2022-12-06T17:52:55.118Z"
   }
  ],
  "colab": {
   "name": "dpp_template_part2.ipynb",
   "provenance": []
  },
  "kernelspec": {
   "display_name": "Python 3 (ipykernel)",
   "language": "python",
   "name": "python3"
  },
  "language_info": {
   "codemirror_mode": {
    "name": "ipython",
    "version": 3
   },
   "file_extension": ".py",
   "mimetype": "text/x-python",
   "name": "python",
   "nbconvert_exporter": "python",
   "pygments_lexer": "ipython3",
   "version": "3.9.5"
  },
  "toc": {
   "base_numbering": 1,
   "nav_menu": {},
   "number_sections": true,
   "sideBar": true,
   "skip_h1_title": true,
   "title_cell": "Table of Contents",
   "title_sidebar": "Contents",
   "toc_cell": false,
   "toc_position": {},
   "toc_section_display": true,
   "toc_window_display": false
  }
 },
 "nbformat": 4,
 "nbformat_minor": 5
}
