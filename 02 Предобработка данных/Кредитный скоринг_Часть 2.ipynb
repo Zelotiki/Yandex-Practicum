{
    "metadata": {
        "kernelspec": {
            "name": "python3",
            "display_name": "Python 3 (ipykernel)",
            "language": "python"
        },
        "language_info": {
            "name": "python",
            "version": "3.11.4",
            "mimetype": "text/x-python",
            "codemirror_mode": {
                "name": "ipython",
                "version": 3
            },
            "pygments_lexer": "ipython3",
            "nbconvert_exporter": "python",
            "file_extension": ".py"
        },
        "ExecuteTimeLog": [
            {
                "duration": 489,
                "start_time": "2022-12-05T07:38:48.706Z"
            },
            {
                "duration": 20,
                "start_time": "2022-12-05T07:38:49.197Z"
            },
            {
                "duration": 18,
                "start_time": "2022-12-05T07:38:49.218Z"
            },
            {
                "duration": 14,
                "start_time": "2022-12-05T07:38:49.238Z"
            },
            {
                "duration": 35,
                "start_time": "2022-12-05T07:38:49.254Z"
            },
            {
                "duration": 3,
                "start_time": "2022-12-05T07:38:49.290Z"
            },
            {
                "duration": 22,
                "start_time": "2022-12-05T07:38:49.294Z"
            },
            {
                "duration": 4,
                "start_time": "2022-12-05T07:38:49.317Z"
            },
            {
                "duration": 11,
                "start_time": "2022-12-05T07:38:49.322Z"
            },
            {
                "duration": 4,
                "start_time": "2022-12-05T07:38:49.336Z"
            },
            {
                "duration": 36,
                "start_time": "2022-12-05T07:38:49.341Z"
            },
            {
                "duration": 8,
                "start_time": "2022-12-05T07:38:49.379Z"
            },
            {
                "duration": 10,
                "start_time": "2022-12-05T07:38:49.388Z"
            },
            {
                "duration": 23,
                "start_time": "2022-12-05T07:38:49.399Z"
            },
            {
                "duration": 18,
                "start_time": "2022-12-05T07:38:49.423Z"
            },
            {
                "duration": 20,
                "start_time": "2022-12-05T07:38:49.442Z"
            },
            {
                "duration": 3,
                "start_time": "2022-12-05T07:38:49.463Z"
            },
            {
                "duration": 16,
                "start_time": "2022-12-05T07:38:49.468Z"
            },
            {
                "duration": 10,
                "start_time": "2022-12-05T07:38:49.486Z"
            },
            {
                "duration": 5,
                "start_time": "2022-12-05T07:38:49.515Z"
            },
            {
                "duration": 14,
                "start_time": "2022-12-05T07:38:49.521Z"
            },
            {
                "duration": 8,
                "start_time": "2022-12-05T07:38:49.536Z"
            },
            {
                "duration": 5,
                "start_time": "2022-12-05T07:38:49.546Z"
            },
            {
                "duration": 7,
                "start_time": "2022-12-05T07:38:49.552Z"
            },
            {
                "duration": 5,
                "start_time": "2022-12-05T07:38:49.560Z"
            },
            {
                "duration": 6,
                "start_time": "2022-12-05T09:54:15.709Z"
            },
            {
                "duration": 6,
                "start_time": "2022-12-05T09:54:34.611Z"
            },
            {
                "duration": 7,
                "start_time": "2022-12-05T09:58:40.328Z"
            },
            {
                "duration": 8,
                "start_time": "2022-12-05T09:59:38.919Z"
            },
            {
                "duration": 9,
                "start_time": "2022-12-05T10:00:03.140Z"
            },
            {
                "duration": 9,
                "start_time": "2022-12-05T10:06:41.123Z"
            },
            {
                "duration": 8,
                "start_time": "2022-12-05T10:09:09.902Z"
            },
            {
                "duration": 69,
                "start_time": "2022-12-05T10:09:51.038Z"
            },
            {
                "duration": 14,
                "start_time": "2022-12-05T10:10:06.362Z"
            },
            {
                "duration": 715,
                "start_time": "2022-12-06T03:14:34.734Z"
            },
            {
                "duration": 24,
                "start_time": "2022-12-06T03:14:35.451Z"
            },
            {
                "duration": 22,
                "start_time": "2022-12-06T03:14:35.477Z"
            },
            {
                "duration": 15,
                "start_time": "2022-12-06T03:14:35.501Z"
            },
            {
                "duration": 40,
                "start_time": "2022-12-06T03:14:35.518Z"
            },
            {
                "duration": 4,
                "start_time": "2022-12-06T03:14:35.560Z"
            },
            {
                "duration": 15,
                "start_time": "2022-12-06T03:14:35.565Z"
            },
            {
                "duration": 7,
                "start_time": "2022-12-06T03:14:35.582Z"
            },
            {
                "duration": 16,
                "start_time": "2022-12-06T03:14:35.591Z"
            },
            {
                "duration": 16,
                "start_time": "2022-12-06T03:14:35.609Z"
            },
            {
                "duration": 61,
                "start_time": "2022-12-06T03:14:35.626Z"
            },
            {
                "duration": 10,
                "start_time": "2022-12-06T03:14:35.689Z"
            },
            {
                "duration": 13,
                "start_time": "2022-12-06T03:14:35.700Z"
            },
            {
                "duration": 20,
                "start_time": "2022-12-06T03:14:35.716Z"
            },
            {
                "duration": 27,
                "start_time": "2022-12-06T03:14:35.738Z"
            },
            {
                "duration": 18,
                "start_time": "2022-12-06T03:14:35.767Z"
            },
            {
                "duration": 4,
                "start_time": "2022-12-06T03:14:35.787Z"
            },
            {
                "duration": 17,
                "start_time": "2022-12-06T03:14:35.792Z"
            },
            {
                "duration": 13,
                "start_time": "2022-12-06T03:14:35.810Z"
            },
            {
                "duration": 9,
                "start_time": "2022-12-06T03:14:35.826Z"
            },
            {
                "duration": 16,
                "start_time": "2022-12-06T03:14:35.837Z"
            },
            {
                "duration": 16,
                "start_time": "2022-12-06T03:14:35.855Z"
            },
            {
                "duration": 12,
                "start_time": "2022-12-06T03:14:35.873Z"
            },
            {
                "duration": 11,
                "start_time": "2022-12-06T03:14:35.887Z"
            },
            {
                "duration": 21,
                "start_time": "2022-12-06T03:14:35.900Z"
            },
            {
                "duration": 11,
                "start_time": "2022-12-06T03:14:57.246Z"
            },
            {
                "duration": 8,
                "start_time": "2022-12-06T03:15:07.464Z"
            },
            {
                "duration": 9,
                "start_time": "2022-12-06T03:17:50.332Z"
            },
            {
                "duration": 7,
                "start_time": "2022-12-06T03:17:54.180Z"
            },
            {
                "duration": 7,
                "start_time": "2022-12-06T03:29:08.676Z"
            },
            {
                "duration": 73,
                "start_time": "2022-12-06T03:30:20.546Z"
            },
            {
                "duration": 7,
                "start_time": "2022-12-06T03:30:27.849Z"
            },
            {
                "duration": 16,
                "start_time": "2022-12-06T03:47:18.582Z"
            },
            {
                "duration": 9,
                "start_time": "2022-12-06T03:47:51.932Z"
            },
            {
                "duration": 7,
                "start_time": "2022-12-06T03:48:00.778Z"
            },
            {
                "duration": 9,
                "start_time": "2022-12-06T03:48:22.121Z"
            },
            {
                "duration": 9,
                "start_time": "2022-12-06T04:39:27.588Z"
            },
            {
                "duration": 9,
                "start_time": "2022-12-06T04:39:39.182Z"
            },
            {
                "duration": 8,
                "start_time": "2022-12-06T04:39:47.612Z"
            },
            {
                "duration": 8,
                "start_time": "2022-12-06T04:40:07.218Z"
            },
            {
                "duration": 8,
                "start_time": "2022-12-06T04:40:23.147Z"
            },
            {
                "duration": 7,
                "start_time": "2022-12-06T04:40:31.653Z"
            },
            {
                "duration": 689,
                "start_time": "2022-12-06T06:10:44.232Z"
            },
            {
                "duration": 22,
                "start_time": "2022-12-06T06:10:44.923Z"
            },
            {
                "duration": 13,
                "start_time": "2022-12-06T06:10:44.946Z"
            },
            {
                "duration": 24,
                "start_time": "2022-12-06T06:10:44.961Z"
            },
            {
                "duration": 37,
                "start_time": "2022-12-06T06:10:44.987Z"
            },
            {
                "duration": 3,
                "start_time": "2022-12-06T06:10:45.026Z"
            },
            {
                "duration": 37,
                "start_time": "2022-12-06T06:10:45.030Z"
            },
            {
                "duration": 21,
                "start_time": "2022-12-06T06:10:45.068Z"
            },
            {
                "duration": 26,
                "start_time": "2022-12-06T06:10:45.091Z"
            },
            {
                "duration": 32,
                "start_time": "2022-12-06T06:10:45.120Z"
            },
            {
                "duration": 53,
                "start_time": "2022-12-06T06:10:45.153Z"
            },
            {
                "duration": 11,
                "start_time": "2022-12-06T06:10:45.208Z"
            },
            {
                "duration": 22,
                "start_time": "2022-12-06T06:10:45.220Z"
            },
            {
                "duration": 17,
                "start_time": "2022-12-06T06:10:45.244Z"
            },
            {
                "duration": 34,
                "start_time": "2022-12-06T06:10:45.263Z"
            },
            {
                "duration": 18,
                "start_time": "2022-12-06T06:10:45.299Z"
            },
            {
                "duration": 3,
                "start_time": "2022-12-06T06:10:45.319Z"
            },
            {
                "duration": 27,
                "start_time": "2022-12-06T06:10:45.324Z"
            },
            {
                "duration": 24,
                "start_time": "2022-12-06T06:10:45.353Z"
            },
            {
                "duration": 23,
                "start_time": "2022-12-06T06:10:45.378Z"
            },
            {
                "duration": 23,
                "start_time": "2022-12-06T06:10:45.403Z"
            },
            {
                "duration": 23,
                "start_time": "2022-12-06T06:10:45.428Z"
            },
            {
                "duration": 16,
                "start_time": "2022-12-06T06:10:45.452Z"
            },
            {
                "duration": 7,
                "start_time": "2022-12-06T06:10:45.469Z"
            },
            {
                "duration": 9,
                "start_time": "2022-12-06T06:10:45.477Z"
            },
            {
                "duration": 45,
                "start_time": "2022-12-06T06:52:43.225Z"
            },
            {
                "duration": 566,
                "start_time": "2022-12-06T06:52:51.134Z"
            },
            {
                "duration": 24,
                "start_time": "2022-12-06T06:52:51.702Z"
            },
            {
                "duration": 31,
                "start_time": "2022-12-06T06:52:51.727Z"
            },
            {
                "duration": 29,
                "start_time": "2022-12-06T06:52:51.759Z"
            },
            {
                "duration": 38,
                "start_time": "2022-12-06T06:52:51.789Z"
            },
            {
                "duration": 3,
                "start_time": "2022-12-06T06:52:51.829Z"
            },
            {
                "duration": 29,
                "start_time": "2022-12-06T06:52:51.833Z"
            },
            {
                "duration": 21,
                "start_time": "2022-12-06T06:52:51.864Z"
            },
            {
                "duration": 30,
                "start_time": "2022-12-06T06:52:51.886Z"
            },
            {
                "duration": 7,
                "start_time": "2022-12-06T06:52:51.918Z"
            },
            {
                "duration": 66,
                "start_time": "2022-12-06T06:52:51.926Z"
            },
            {
                "duration": 10,
                "start_time": "2022-12-06T06:52:51.994Z"
            },
            {
                "duration": 15,
                "start_time": "2022-12-06T06:52:52.005Z"
            },
            {
                "duration": 21,
                "start_time": "2022-12-06T06:52:52.022Z"
            },
            {
                "duration": 31,
                "start_time": "2022-12-06T06:52:52.044Z"
            },
            {
                "duration": 32,
                "start_time": "2022-12-06T06:52:52.076Z"
            },
            {
                "duration": 4,
                "start_time": "2022-12-06T06:52:52.109Z"
            },
            {
                "duration": 20,
                "start_time": "2022-12-06T06:52:52.115Z"
            },
            {
                "duration": 6,
                "start_time": "2022-12-06T06:52:52.137Z"
            },
            {
                "duration": 24,
                "start_time": "2022-12-06T06:52:52.144Z"
            },
            {
                "duration": 30,
                "start_time": "2022-12-06T06:52:52.170Z"
            },
            {
                "duration": 38,
                "start_time": "2022-12-06T06:52:52.202Z"
            },
            {
                "duration": 34,
                "start_time": "2022-12-06T06:52:52.242Z"
            },
            {
                "duration": 22,
                "start_time": "2022-12-06T06:52:52.278Z"
            },
            {
                "duration": 18,
                "start_time": "2022-12-06T06:52:52.302Z"
            },
            {
                "duration": 42,
                "start_time": "2022-12-06T06:52:52.321Z"
            },
            {
                "duration": 444,
                "start_time": "2022-12-06T06:54:09.314Z"
            },
            {
                "duration": 19,
                "start_time": "2022-12-06T06:54:31.300Z"
            },
            {
                "duration": 21,
                "start_time": "2022-12-06T06:56:38.185Z"
            },
            {
                "duration": 55,
                "start_time": "2022-12-06T11:56:54.434Z"
            },
            {
                "duration": 18,
                "start_time": "2022-12-06T11:56:59.398Z"
            },
            {
                "duration": 75,
                "start_time": "2022-12-06T11:57:09.100Z"
            },
            {
                "duration": 15,
                "start_time": "2022-12-06T11:57:09.177Z"
            },
            {
                "duration": 16,
                "start_time": "2022-12-06T11:57:09.194Z"
            },
            {
                "duration": 9,
                "start_time": "2022-12-06T11:57:09.212Z"
            },
            {
                "duration": 31,
                "start_time": "2022-12-06T11:57:09.223Z"
            },
            {
                "duration": 3,
                "start_time": "2022-12-06T11:57:09.256Z"
            },
            {
                "duration": 10,
                "start_time": "2022-12-06T11:57:09.261Z"
            },
            {
                "duration": 4,
                "start_time": "2022-12-06T11:57:09.273Z"
            },
            {
                "duration": 6,
                "start_time": "2022-12-06T11:57:09.305Z"
            },
            {
                "duration": 4,
                "start_time": "2022-12-06T11:57:09.314Z"
            },
            {
                "duration": 34,
                "start_time": "2022-12-06T11:57:09.319Z"
            },
            {
                "duration": 10,
                "start_time": "2022-12-06T11:57:09.354Z"
            },
            {
                "duration": 4,
                "start_time": "2022-12-06T11:57:09.365Z"
            },
            {
                "duration": 40,
                "start_time": "2022-12-06T11:57:09.370Z"
            },
            {
                "duration": 19,
                "start_time": "2022-12-06T11:57:09.412Z"
            },
            {
                "duration": 16,
                "start_time": "2022-12-06T11:57:09.432Z"
            },
            {
                "duration": 4,
                "start_time": "2022-12-06T11:57:09.450Z"
            },
            {
                "duration": 16,
                "start_time": "2022-12-06T11:57:09.455Z"
            },
            {
                "duration": 9,
                "start_time": "2022-12-06T11:57:09.472Z"
            },
            {
                "duration": 23,
                "start_time": "2022-12-06T11:57:09.482Z"
            },
            {
                "duration": 10,
                "start_time": "2022-12-06T11:57:09.506Z"
            },
            {
                "duration": 6,
                "start_time": "2022-12-06T11:57:09.517Z"
            },
            {
                "duration": 15,
                "start_time": "2022-12-06T11:57:09.524Z"
            },
            {
                "duration": 0,
                "start_time": "2022-12-06T11:57:09.541Z"
            },
            {
                "duration": 0,
                "start_time": "2022-12-06T11:57:09.541Z"
            },
            {
                "duration": 0,
                "start_time": "2022-12-06T11:57:09.542Z"
            },
            {
                "duration": 13,
                "start_time": "2022-12-06T11:57:13.935Z"
            },
            {
                "duration": 13,
                "start_time": "2022-12-06T11:57:32.129Z"
            },
            {
                "duration": 24,
                "start_time": "2022-12-06T11:58:11.358Z"
            },
            {
                "duration": 12,
                "start_time": "2022-12-06T13:18:14.705Z"
            },
            {
                "duration": 22,
                "start_time": "2022-12-06T13:24:32.597Z"
            },
            {
                "duration": 23,
                "start_time": "2022-12-06T13:26:51.754Z"
            },
            {
                "duration": 23,
                "start_time": "2022-12-06T13:26:59.571Z"
            },
            {
                "duration": 23,
                "start_time": "2022-12-06T13:28:05.049Z"
            },
            {
                "duration": 17,
                "start_time": "2022-12-06T13:29:09.621Z"
            },
            {
                "duration": 838,
                "start_time": "2022-12-06T13:29:23.231Z"
            },
            {
                "duration": 221,
                "start_time": "2022-12-06T13:29:43.251Z"
            },
            {
                "duration": 19,
                "start_time": "2022-12-06T13:29:50.415Z"
            },
            {
                "duration": 17,
                "start_time": "2022-12-06T13:30:05.968Z"
            },
            {
                "duration": 21,
                "start_time": "2022-12-06T13:30:43.153Z"
            },
            {
                "duration": 23,
                "start_time": "2022-12-06T13:30:55.096Z"
            },
            {
                "duration": 18,
                "start_time": "2022-12-06T13:31:14.386Z"
            },
            {
                "duration": 19,
                "start_time": "2022-12-06T13:31:36.121Z"
            },
            {
                "duration": 13,
                "start_time": "2022-12-06T13:31:51.969Z"
            },
            {
                "duration": 7,
                "start_time": "2022-12-06T13:31:56.294Z"
            },
            {
                "duration": 14,
                "start_time": "2022-12-06T13:32:17.488Z"
            },
            {
                "duration": 9,
                "start_time": "2022-12-06T13:32:28.658Z"
            },
            {
                "duration": 9,
                "start_time": "2022-12-06T13:32:41.505Z"
            },
            {
                "duration": 8,
                "start_time": "2022-12-06T13:42:34.352Z"
            },
            {
                "duration": 6,
                "start_time": "2022-12-06T13:42:48.060Z"
            },
            {
                "duration": 9,
                "start_time": "2022-12-06T13:42:57.955Z"
            },
            {
                "duration": 6,
                "start_time": "2022-12-06T13:43:14.381Z"
            },
            {
                "duration": 6,
                "start_time": "2022-12-06T13:43:38.110Z"
            },
            {
                "duration": 7,
                "start_time": "2022-12-06T13:43:43.084Z"
            },
            {
                "duration": 13,
                "start_time": "2022-12-06T15:30:52.058Z"
            },
            {
                "duration": 14,
                "start_time": "2022-12-06T15:31:30.853Z"
            },
            {
                "duration": 14,
                "start_time": "2022-12-06T15:31:39.953Z"
            },
            {
                "duration": 11,
                "start_time": "2022-12-06T15:31:47.239Z"
            },
            {
                "duration": 11,
                "start_time": "2022-12-06T15:32:00.059Z"
            },
            {
                "duration": 14,
                "start_time": "2022-12-06T15:32:14.906Z"
            },
            {
                "duration": 12,
                "start_time": "2022-12-06T15:32:25.027Z"
            },
            {
                "duration": 10,
                "start_time": "2022-12-06T15:32:30.593Z"
            },
            {
                "duration": 5,
                "start_time": "2022-12-06T15:33:44.286Z"
            },
            {
                "duration": 6,
                "start_time": "2022-12-06T15:34:04.519Z"
            },
            {
                "duration": 6,
                "start_time": "2022-12-06T15:34:23.616Z"
            },
            {
                "duration": 7,
                "start_time": "2022-12-06T15:34:27.290Z"
            },
            {
                "duration": 6,
                "start_time": "2022-12-06T15:34:40.000Z"
            },
            {
                "duration": 5,
                "start_time": "2022-12-06T15:34:46.556Z"
            },
            {
                "duration": 8,
                "start_time": "2022-12-06T15:36:53.820Z"
            },
            {
                "duration": 7,
                "start_time": "2022-12-06T15:37:06.449Z"
            },
            {
                "duration": 8,
                "start_time": "2022-12-06T15:37:10.961Z"
            },
            {
                "duration": 7,
                "start_time": "2022-12-06T15:37:21.826Z"
            },
            {
                "duration": 8,
                "start_time": "2022-12-06T15:37:30.885Z"
            },
            {
                "duration": 5,
                "start_time": "2022-12-06T15:37:39.854Z"
            },
            {
                "duration": 7,
                "start_time": "2022-12-06T15:41:11.486Z"
            },
            {
                "duration": 10,
                "start_time": "2022-12-06T15:41:17.380Z"
            },
            {
                "duration": 8,
                "start_time": "2022-12-06T15:41:28.030Z"
            },
            {
                "duration": 68,
                "start_time": "2022-12-06T15:41:37.110Z"
            },
            {
                "duration": 14,
                "start_time": "2022-12-06T15:41:37.180Z"
            },
            {
                "duration": 16,
                "start_time": "2022-12-06T15:41:37.196Z"
            },
            {
                "duration": 9,
                "start_time": "2022-12-06T15:41:37.214Z"
            },
            {
                "duration": 32,
                "start_time": "2022-12-06T15:41:37.224Z"
            },
            {
                "duration": 3,
                "start_time": "2022-12-06T15:41:37.258Z"
            },
            {
                "duration": 9,
                "start_time": "2022-12-06T15:41:37.262Z"
            },
            {
                "duration": 3,
                "start_time": "2022-12-06T15:41:37.272Z"
            },
            {
                "duration": 31,
                "start_time": "2022-12-06T15:41:37.277Z"
            },
            {
                "duration": 4,
                "start_time": "2022-12-06T15:41:37.310Z"
            },
            {
                "duration": 37,
                "start_time": "2022-12-06T15:41:37.315Z"
            },
            {
                "duration": 10,
                "start_time": "2022-12-06T15:41:37.354Z"
            },
            {
                "duration": 4,
                "start_time": "2022-12-06T15:41:37.366Z"
            },
            {
                "duration": 11,
                "start_time": "2022-12-06T15:41:37.371Z"
            },
            {
                "duration": 18,
                "start_time": "2022-12-06T15:41:37.404Z"
            },
            {
                "duration": 15,
                "start_time": "2022-12-06T15:41:37.424Z"
            },
            {
                "duration": 3,
                "start_time": "2022-12-06T15:41:37.440Z"
            },
            {
                "duration": 16,
                "start_time": "2022-12-06T15:41:37.445Z"
            },
            {
                "duration": 6,
                "start_time": "2022-12-06T15:41:37.465Z"
            },
            {
                "duration": 4,
                "start_time": "2022-12-06T15:41:37.473Z"
            },
            {
                "duration": 32,
                "start_time": "2022-12-06T15:41:37.479Z"
            },
            {
                "duration": 6,
                "start_time": "2022-12-06T15:41:37.513Z"
            },
            {
                "duration": 15,
                "start_time": "2022-12-06T15:41:37.522Z"
            },
            {
                "duration": 40,
                "start_time": "2022-12-06T15:41:37.539Z"
            },
            {
                "duration": 38,
                "start_time": "2022-12-06T15:41:37.580Z"
            },
            {
                "duration": 20,
                "start_time": "2022-12-06T15:41:37.620Z"
            },
            {
                "duration": 14,
                "start_time": "2022-12-06T15:41:37.642Z"
            },
            {
                "duration": 0,
                "start_time": "2022-12-06T15:41:37.658Z"
            },
            {
                "duration": 0,
                "start_time": "2022-12-06T15:41:37.659Z"
            },
            {
                "duration": 0,
                "start_time": "2022-12-06T15:41:37.662Z"
            },
            {
                "duration": 9,
                "start_time": "2022-12-06T15:41:43.759Z"
            },
            {
                "duration": 7,
                "start_time": "2022-12-06T15:42:02.596Z"
            },
            {
                "duration": 7,
                "start_time": "2022-12-06T15:42:06.877Z"
            },
            {
                "duration": 13,
                "start_time": "2022-12-06T15:42:29.577Z"
            },
            {
                "duration": 6,
                "start_time": "2022-12-06T15:45:05.263Z"
            },
            {
                "duration": 6,
                "start_time": "2022-12-06T15:45:15.196Z"
            },
            {
                "duration": 20,
                "start_time": "2022-12-06T15:46:02.269Z"
            },
            {
                "duration": 19,
                "start_time": "2022-12-06T15:46:06.087Z"
            },
            {
                "duration": 20,
                "start_time": "2022-12-06T15:46:18.396Z"
            },
            {
                "duration": 19,
                "start_time": "2022-12-06T15:46:23.895Z"
            },
            {
                "duration": 4,
                "start_time": "2022-12-06T15:50:31.572Z"
            },
            {
                "duration": 3,
                "start_time": "2022-12-06T15:50:35.069Z"
            },
            {
                "duration": 4,
                "start_time": "2022-12-06T15:50:38.021Z"
            },
            {
                "duration": 3,
                "start_time": "2022-12-06T15:50:49.600Z"
            },
            {
                "duration": 17,
                "start_time": "2022-12-06T15:51:20.258Z"
            },
            {
                "duration": 18,
                "start_time": "2022-12-06T15:52:41.006Z"
            },
            {
                "duration": 17,
                "start_time": "2022-12-06T15:52:46.063Z"
            },
            {
                "duration": 67,
                "start_time": "2022-12-06T15:52:48.953Z"
            },
            {
                "duration": 15,
                "start_time": "2022-12-06T15:52:49.022Z"
            },
            {
                "duration": 15,
                "start_time": "2022-12-06T15:52:49.039Z"
            },
            {
                "duration": 9,
                "start_time": "2022-12-06T15:52:49.056Z"
            },
            {
                "duration": 56,
                "start_time": "2022-12-06T15:52:49.066Z"
            },
            {
                "duration": 4,
                "start_time": "2022-12-06T15:52:49.123Z"
            },
            {
                "duration": 22,
                "start_time": "2022-12-06T15:52:49.129Z"
            },
            {
                "duration": 8,
                "start_time": "2022-12-06T15:52:49.153Z"
            },
            {
                "duration": 9,
                "start_time": "2022-12-06T15:52:49.162Z"
            },
            {
                "duration": 6,
                "start_time": "2022-12-06T15:52:49.174Z"
            },
            {
                "duration": 44,
                "start_time": "2022-12-06T15:52:49.181Z"
            },
            {
                "duration": 10,
                "start_time": "2022-12-06T15:52:49.227Z"
            },
            {
                "duration": 4,
                "start_time": "2022-12-06T15:52:49.239Z"
            },
            {
                "duration": 16,
                "start_time": "2022-12-06T15:52:49.251Z"
            },
            {
                "duration": 20,
                "start_time": "2022-12-06T15:52:49.269Z"
            },
            {
                "duration": 24,
                "start_time": "2022-12-06T15:52:49.291Z"
            },
            {
                "duration": 6,
                "start_time": "2022-12-06T15:52:49.317Z"
            },
            {
                "duration": 12,
                "start_time": "2022-12-06T15:52:49.324Z"
            },
            {
                "duration": 5,
                "start_time": "2022-12-06T15:52:49.337Z"
            },
            {
                "duration": 4,
                "start_time": "2022-12-06T15:52:49.343Z"
            },
            {
                "duration": 9,
                "start_time": "2022-12-06T15:52:49.348Z"
            },
            {
                "duration": 8,
                "start_time": "2022-12-06T15:52:49.359Z"
            },
            {
                "duration": 0,
                "start_time": "2022-12-06T15:52:49.368Z"
            },
            {
                "duration": 0,
                "start_time": "2022-12-06T15:52:49.369Z"
            },
            {
                "duration": 0,
                "start_time": "2022-12-06T15:52:49.370Z"
            },
            {
                "duration": 23,
                "start_time": "2022-12-06T15:53:00.327Z"
            },
            {
                "duration": 19,
                "start_time": "2022-12-06T15:53:13.120Z"
            },
            {
                "duration": 25,
                "start_time": "2022-12-06T15:53:21.373Z"
            },
            {
                "duration": 22,
                "start_time": "2022-12-06T15:53:30.401Z"
            },
            {
                "duration": 21,
                "start_time": "2022-12-06T15:53:38.678Z"
            },
            {
                "duration": 21,
                "start_time": "2022-12-06T15:53:41.653Z"
            },
            {
                "duration": 18,
                "start_time": "2022-12-06T15:53:49.241Z"
            },
            {
                "duration": 20,
                "start_time": "2022-12-06T15:54:00.067Z"
            },
            {
                "duration": 21,
                "start_time": "2022-12-06T15:54:35.190Z"
            },
            {
                "duration": 18,
                "start_time": "2022-12-06T15:54:44.270Z"
            },
            {
                "duration": 20,
                "start_time": "2022-12-06T15:54:58.280Z"
            },
            {
                "duration": 19,
                "start_time": "2022-12-06T15:55:05.702Z"
            },
            {
                "duration": 20,
                "start_time": "2022-12-06T15:55:09.912Z"
            },
            {
                "duration": 19,
                "start_time": "2022-12-06T15:56:14.025Z"
            },
            {
                "duration": 19,
                "start_time": "2022-12-06T15:56:19.293Z"
            },
            {
                "duration": 13,
                "start_time": "2022-12-06T15:56:47.634Z"
            },
            {
                "duration": 18,
                "start_time": "2022-12-06T15:56:57.918Z"
            },
            {
                "duration": 13,
                "start_time": "2022-12-06T15:57:16.627Z"
            },
            {
                "duration": 15,
                "start_time": "2022-12-06T15:57:22.338Z"
            },
            {
                "duration": 13,
                "start_time": "2022-12-06T15:58:56.731Z"
            },
            {
                "duration": 19,
                "start_time": "2022-12-06T15:59:07.405Z"
            },
            {
                "duration": 15,
                "start_time": "2022-12-06T15:59:15.008Z"
            },
            {
                "duration": 21,
                "start_time": "2022-12-06T16:00:01.029Z"
            },
            {
                "duration": 19,
                "start_time": "2022-12-06T16:00:18.331Z"
            },
            {
                "duration": 20,
                "start_time": "2022-12-06T16:00:26.265Z"
            },
            {
                "duration": 21,
                "start_time": "2022-12-06T16:00:32.713Z"
            },
            {
                "duration": 21,
                "start_time": "2022-12-06T16:00:49.579Z"
            },
            {
                "duration": 23,
                "start_time": "2022-12-06T16:00:54.925Z"
            },
            {
                "duration": 86,
                "start_time": "2022-12-06T16:02:19.676Z"
            },
            {
                "duration": 67,
                "start_time": "2022-12-06T16:02:29.624Z"
            },
            {
                "duration": 69,
                "start_time": "2022-12-06T16:07:39.204Z"
            },
            {
                "duration": 71,
                "start_time": "2022-12-06T16:08:01.511Z"
            },
            {
                "duration": 72,
                "start_time": "2022-12-06T16:08:12.205Z"
            },
            {
                "duration": 69,
                "start_time": "2022-12-06T16:08:20.164Z"
            },
            {
                "duration": 75,
                "start_time": "2022-12-06T16:08:43.790Z"
            },
            {
                "duration": 78,
                "start_time": "2022-12-06T16:08:52.175Z"
            },
            {
                "duration": 86,
                "start_time": "2022-12-06T16:09:15.461Z"
            },
            {
                "duration": 9,
                "start_time": "2022-12-06T16:09:32.533Z"
            },
            {
                "duration": 8,
                "start_time": "2022-12-06T16:09:50.693Z"
            },
            {
                "duration": 8,
                "start_time": "2022-12-06T16:10:08.773Z"
            },
            {
                "duration": 8,
                "start_time": "2022-12-06T16:10:19.578Z"
            },
            {
                "duration": 7,
                "start_time": "2022-12-06T16:10:34.694Z"
            },
            {
                "duration": 8,
                "start_time": "2022-12-06T16:10:44.640Z"
            },
            {
                "duration": 4,
                "start_time": "2022-12-06T16:11:00.034Z"
            },
            {
                "duration": 17,
                "start_time": "2022-12-06T16:11:05.433Z"
            },
            {
                "duration": 20,
                "start_time": "2022-12-06T16:11:25.320Z"
            },
            {
                "duration": 16,
                "start_time": "2022-12-06T16:11:39.626Z"
            },
            {
                "duration": 8,
                "start_time": "2022-12-06T16:12:39.480Z"
            },
            {
                "duration": 9,
                "start_time": "2022-12-06T16:13:04.940Z"
            },
            {
                "duration": 9,
                "start_time": "2022-12-06T16:13:07.711Z"
            },
            {
                "duration": 10,
                "start_time": "2022-12-06T16:13:16.331Z"
            },
            {
                "duration": 27,
                "start_time": "2022-12-06T16:13:30.915Z"
            },
            {
                "duration": 8,
                "start_time": "2022-12-06T16:16:15.202Z"
            },
            {
                "duration": 3,
                "start_time": "2022-12-06T16:17:04.677Z"
            },
            {
                "duration": 8,
                "start_time": "2022-12-06T16:17:13.673Z"
            },
            {
                "duration": 9,
                "start_time": "2022-12-06T16:17:19.992Z"
            },
            {
                "duration": 9,
                "start_time": "2022-12-06T16:17:32.692Z"
            },
            {
                "duration": 13,
                "start_time": "2022-12-06T16:17:38.750Z"
            },
            {
                "duration": 22,
                "start_time": "2022-12-06T16:19:14.441Z"
            },
            {
                "duration": 8,
                "start_time": "2022-12-06T16:19:23.682Z"
            },
            {
                "duration": 21,
                "start_time": "2022-12-06T16:19:27.544Z"
            },
            {
                "duration": 14,
                "start_time": "2022-12-06T16:19:50.239Z"
            },
            {
                "duration": 15,
                "start_time": "2022-12-06T16:20:13.763Z"
            },
            {
                "duration": 15,
                "start_time": "2022-12-06T16:20:21.557Z"
            },
            {
                "duration": 13,
                "start_time": "2022-12-06T16:20:47.140Z"
            },
            {
                "duration": 73,
                "start_time": "2022-12-06T16:21:24.555Z"
            },
            {
                "duration": 17,
                "start_time": "2022-12-06T16:21:33.550Z"
            },
            {
                "duration": 14,
                "start_time": "2022-12-06T16:21:44.233Z"
            },
            {
                "duration": 15,
                "start_time": "2022-12-06T16:21:53.556Z"
            },
            {
                "duration": 15,
                "start_time": "2022-12-06T16:23:25.898Z"
            },
            {
                "duration": 9,
                "start_time": "2022-12-06T16:23:35.744Z"
            },
            {
                "duration": 21,
                "start_time": "2022-12-06T16:24:03.934Z"
            },
            {
                "duration": 22,
                "start_time": "2022-12-06T16:24:12.632Z"
            },
            {
                "duration": 17,
                "start_time": "2022-12-06T16:25:53.671Z"
            },
            {
                "duration": 9,
                "start_time": "2022-12-06T16:28:02.378Z"
            },
            {
                "duration": 9,
                "start_time": "2022-12-06T16:28:16.336Z"
            },
            {
                "duration": 11,
                "start_time": "2022-12-06T16:28:23.602Z"
            },
            {
                "duration": 12,
                "start_time": "2022-12-06T16:28:28.923Z"
            },
            {
                "duration": 10,
                "start_time": "2022-12-06T16:34:30.044Z"
            },
            {
                "duration": 10,
                "start_time": "2022-12-06T16:35:10.264Z"
            },
            {
                "duration": 9,
                "start_time": "2022-12-06T16:35:26.561Z"
            },
            {
                "duration": 8,
                "start_time": "2022-12-06T16:37:04.003Z"
            },
            {
                "duration": 9,
                "start_time": "2022-12-06T16:37:15.409Z"
            },
            {
                "duration": 10,
                "start_time": "2022-12-06T16:37:23.410Z"
            },
            {
                "duration": 10,
                "start_time": "2022-12-06T16:37:30.162Z"
            },
            {
                "duration": 8,
                "start_time": "2022-12-06T16:38:56.722Z"
            },
            {
                "duration": 8,
                "start_time": "2022-12-06T16:39:06.307Z"
            },
            {
                "duration": 9,
                "start_time": "2022-12-06T16:40:26.399Z"
            },
            {
                "duration": 9,
                "start_time": "2022-12-06T16:40:31.482Z"
            },
            {
                "duration": 117,
                "start_time": "2022-12-06T16:42:24.676Z"
            },
            {
                "duration": 9,
                "start_time": "2022-12-06T16:43:14.436Z"
            },
            {
                "duration": 9,
                "start_time": "2022-12-06T16:45:24.246Z"
            },
            {
                "duration": 8,
                "start_time": "2022-12-06T16:46:50.327Z"
            },
            {
                "duration": 8,
                "start_time": "2022-12-06T16:47:15.852Z"
            },
            {
                "duration": 9,
                "start_time": "2022-12-06T16:48:03.498Z"
            },
            {
                "duration": 7,
                "start_time": "2022-12-06T16:48:10.637Z"
            },
            {
                "duration": 8,
                "start_time": "2022-12-06T16:48:24.363Z"
            },
            {
                "duration": 10,
                "start_time": "2022-12-06T16:55:52.335Z"
            },
            {
                "duration": 12,
                "start_time": "2022-12-06T16:56:19.830Z"
            },
            {
                "duration": 7,
                "start_time": "2022-12-06T16:57:15.848Z"
            },
            {
                "duration": 16,
                "start_time": "2022-12-06T16:58:35.308Z"
            },
            {
                "duration": 19,
                "start_time": "2022-12-06T16:59:02.329Z"
            },
            {
                "duration": 13,
                "start_time": "2022-12-06T16:59:13.519Z"
            },
            {
                "duration": 19,
                "start_time": "2022-12-06T17:00:28.309Z"
            },
            {
                "duration": 24,
                "start_time": "2022-12-06T17:00:39.096Z"
            },
            {
                "duration": 12,
                "start_time": "2022-12-06T17:00:48.179Z"
            },
            {
                "duration": 17,
                "start_time": "2022-12-06T17:00:53.711Z"
            },
            {
                "duration": 16,
                "start_time": "2022-12-06T17:00:54.572Z"
            },
            {
                "duration": 15,
                "start_time": "2022-12-06T17:01:10.860Z"
            },
            {
                "duration": 68,
                "start_time": "2022-12-06T17:01:29.189Z"
            },
            {
                "duration": 4,
                "start_time": "2022-12-06T17:01:41.740Z"
            },
            {
                "duration": 18,
                "start_time": "2022-12-06T17:01:52.420Z"
            },
            {
                "duration": 14,
                "start_time": "2022-12-06T17:02:02.389Z"
            },
            {
                "duration": 14,
                "start_time": "2022-12-06T17:02:12.414Z"
            },
            {
                "duration": 13,
                "start_time": "2022-12-06T17:02:23.111Z"
            },
            {
                "duration": 13,
                "start_time": "2022-12-06T17:02:32.563Z"
            },
            {
                "duration": 12,
                "start_time": "2022-12-06T17:02:43.434Z"
            },
            {
                "duration": 12,
                "start_time": "2022-12-06T17:04:07.851Z"
            },
            {
                "duration": 19,
                "start_time": "2022-12-06T17:04:19.152Z"
            },
            {
                "duration": 8,
                "start_time": "2022-12-06T17:04:33.650Z"
            },
            {
                "duration": 18,
                "start_time": "2022-12-06T17:04:39.386Z"
            },
            {
                "duration": 13,
                "start_time": "2022-12-06T17:04:50.729Z"
            },
            {
                "duration": 13,
                "start_time": "2022-12-06T17:06:29.363Z"
            },
            {
                "duration": 19,
                "start_time": "2022-12-06T17:06:34.155Z"
            },
            {
                "duration": 15,
                "start_time": "2022-12-06T17:06:46.303Z"
            },
            {
                "duration": 16,
                "start_time": "2022-12-06T17:08:01.447Z"
            },
            {
                "duration": 17,
                "start_time": "2022-12-06T17:10:55.656Z"
            },
            {
                "duration": 14,
                "start_time": "2022-12-06T17:11:01.666Z"
            },
            {
                "duration": 18,
                "start_time": "2022-12-06T17:11:37.379Z"
            },
            {
                "duration": 19,
                "start_time": "2022-12-06T17:11:47.336Z"
            },
            {
                "duration": 24,
                "start_time": "2022-12-06T17:11:56.069Z"
            },
            {
                "duration": 10,
                "start_time": "2022-12-06T17:12:07.497Z"
            },
            {
                "duration": 18,
                "start_time": "2022-12-06T17:12:20.831Z"
            },
            {
                "duration": 19,
                "start_time": "2022-12-06T17:12:33.012Z"
            },
            {
                "duration": 19,
                "start_time": "2022-12-06T17:12:36.945Z"
            },
            {
                "duration": 18,
                "start_time": "2022-12-06T17:12:41.705Z"
            },
            {
                "duration": 20,
                "start_time": "2022-12-06T17:12:48.483Z"
            },
            {
                "duration": 18,
                "start_time": "2022-12-06T17:13:03.377Z"
            },
            {
                "duration": 19,
                "start_time": "2022-12-06T17:13:09.557Z"
            },
            {
                "duration": 18,
                "start_time": "2022-12-06T17:14:01.875Z"
            },
            {
                "duration": 19,
                "start_time": "2022-12-06T17:14:10.186Z"
            },
            {
                "duration": 22,
                "start_time": "2022-12-06T17:15:39.786Z"
            },
            {
                "duration": 20,
                "start_time": "2022-12-06T17:15:51.245Z"
            },
            {
                "duration": 18,
                "start_time": "2022-12-06T17:15:54.331Z"
            },
            {
                "duration": 21,
                "start_time": "2022-12-06T17:16:01.456Z"
            },
            {
                "duration": 20,
                "start_time": "2022-12-06T17:16:10.059Z"
            },
            {
                "duration": 9,
                "start_time": "2022-12-06T17:17:29.841Z"
            },
            {
                "duration": 11,
                "start_time": "2022-12-06T17:17:42.768Z"
            },
            {
                "duration": 10,
                "start_time": "2022-12-06T17:17:51.141Z"
            },
            {
                "duration": 10,
                "start_time": "2022-12-06T17:18:04.696Z"
            },
            {
                "duration": 12,
                "start_time": "2022-12-06T17:18:12.806Z"
            },
            {
                "duration": 25,
                "start_time": "2022-12-06T17:18:31.052Z"
            },
            {
                "duration": 22,
                "start_time": "2022-12-06T17:18:46.284Z"
            },
            {
                "duration": 7,
                "start_time": "2022-12-06T17:19:33.309Z"
            },
            {
                "duration": 20,
                "start_time": "2022-12-06T17:20:03.458Z"
            },
            {
                "duration": 29,
                "start_time": "2022-12-06T17:20:27.505Z"
            },
            {
                "duration": 26,
                "start_time": "2022-12-06T17:20:36.796Z"
            },
            {
                "duration": 13,
                "start_time": "2022-12-06T17:21:47.392Z"
            },
            {
                "duration": 23,
                "start_time": "2022-12-06T17:22:09.986Z"
            },
            {
                "duration": 14,
                "start_time": "2022-12-06T17:32:06.344Z"
            },
            {
                "duration": 17,
                "start_time": "2022-12-06T17:37:19.347Z"
            },
            {
                "duration": 13,
                "start_time": "2022-12-06T17:38:45.366Z"
            },
            {
                "duration": 9,
                "start_time": "2022-12-06T17:39:01.065Z"
            },
            {
                "duration": 90,
                "start_time": "2022-12-06T17:39:33.694Z"
            },
            {
                "duration": 17,
                "start_time": "2022-12-06T17:39:39.734Z"
            },
            {
                "duration": 17,
                "start_time": "2022-12-06T17:40:57.241Z"
            },
            {
                "duration": 10,
                "start_time": "2022-12-06T17:41:11.033Z"
            },
            {
                "duration": 10,
                "start_time": "2022-12-06T17:41:19.763Z"
            },
            {
                "duration": 15,
                "start_time": "2022-12-06T17:41:27.119Z"
            },
            {
                "duration": 18,
                "start_time": "2022-12-06T17:41:32.648Z"
            },
            {
                "duration": 15,
                "start_time": "2022-12-06T17:41:48.557Z"
            },
            {
                "duration": 13,
                "start_time": "2022-12-06T17:44:48.184Z"
            },
            {
                "duration": 10,
                "start_time": "2022-12-06T17:45:02.378Z"
            },
            {
                "duration": 9,
                "start_time": "2022-12-06T17:45:12.440Z"
            },
            {
                "duration": 11,
                "start_time": "2022-12-06T17:45:43.210Z"
            },
            {
                "duration": 14,
                "start_time": "2022-12-06T17:45:49.183Z"
            },
            {
                "duration": 16,
                "start_time": "2022-12-06T17:46:59.753Z"
            },
            {
                "duration": 19,
                "start_time": "2022-12-06T17:47:17.723Z"
            },
            {
                "duration": 16,
                "start_time": "2022-12-06T17:48:39.904Z"
            },
            {
                "duration": 17,
                "start_time": "2022-12-06T17:48:45.341Z"
            },
            {
                "duration": 9,
                "start_time": "2022-12-06T17:49:28.917Z"
            },
            {
                "duration": 67,
                "start_time": "2022-12-06T17:52:54.536Z"
            },
            {
                "duration": 16,
                "start_time": "2022-12-06T17:52:54.604Z"
            },
            {
                "duration": 18,
                "start_time": "2022-12-06T17:52:54.621Z"
            },
            {
                "duration": 14,
                "start_time": "2022-12-06T17:52:54.641Z"
            },
            {
                "duration": 54,
                "start_time": "2022-12-06T17:52:54.657Z"
            },
            {
                "duration": 3,
                "start_time": "2022-12-06T17:52:54.713Z"
            },
            {
                "duration": 10,
                "start_time": "2022-12-06T17:52:54.717Z"
            },
            {
                "duration": 5,
                "start_time": "2022-12-06T17:52:54.728Z"
            },
            {
                "duration": 8,
                "start_time": "2022-12-06T17:52:54.735Z"
            },
            {
                "duration": 4,
                "start_time": "2022-12-06T17:52:54.745Z"
            },
            {
                "duration": 56,
                "start_time": "2022-12-06T17:52:54.751Z"
            },
            {
                "duration": 10,
                "start_time": "2022-12-06T17:52:54.809Z"
            },
            {
                "duration": 4,
                "start_time": "2022-12-06T17:52:54.820Z"
            },
            {
                "duration": 15,
                "start_time": "2022-12-06T17:52:54.825Z"
            },
            {
                "duration": 18,
                "start_time": "2022-12-06T17:52:54.841Z"
            },
            {
                "duration": 16,
                "start_time": "2022-12-06T17:52:54.861Z"
            },
            {
                "duration": 4,
                "start_time": "2022-12-06T17:52:54.905Z"
            },
            {
                "duration": 13,
                "start_time": "2022-12-06T17:52:54.911Z"
            },
            {
                "duration": 7,
                "start_time": "2022-12-06T17:52:54.927Z"
            },
            {
                "duration": 9,
                "start_time": "2022-12-06T17:52:54.936Z"
            },
            {
                "duration": 12,
                "start_time": "2022-12-06T17:52:54.946Z"
            },
            {
                "duration": 5,
                "start_time": "2022-12-06T17:52:54.959Z"
            },
            {
                "duration": 10,
                "start_time": "2022-12-06T17:52:54.966Z"
            },
            {
                "duration": 51,
                "start_time": "2022-12-06T17:52:54.979Z"
            },
            {
                "duration": 13,
                "start_time": "2022-12-06T17:52:55.032Z"
            },
            {
                "duration": 8,
                "start_time": "2022-12-06T17:52:55.046Z"
            },
            {
                "duration": 16,
                "start_time": "2022-12-06T17:52:55.055Z"
            },
            {
                "duration": 34,
                "start_time": "2022-12-06T17:52:55.072Z"
            },
            {
                "duration": 9,
                "start_time": "2022-12-06T17:52:55.108Z"
            },
            {
                "duration": 18,
                "start_time": "2022-12-06T17:52:55.118Z"
            }
        ],
        "colab": {
            "name": "dpp_template_part2.ipynb",
            "provenance": []
        },
        "toc": {
            "base_numbering": 1,
            "nav_menu": {},
            "number_sections": true,
            "sideBar": true,
            "skip_h1_title": true,
            "title_cell": "Table of Contents",
            "title_sidebar": "Contents",
            "toc_cell": false,
            "toc_position": {},
            "toc_section_display": true,
            "toc_window_display": false
        }
    },
    "nbformat_minor": 2,
    "nbformat": 4,
    "cells": [
        {
            "cell_type": "markdown",
            "source": [
                "# Исследование надежности заемщиков\n"
            ],
            "metadata": {
                "deletable": false,
                "editable": false,
                "id": "c81daeeb",
                "azdata_cell_guid": "4d1b27a7-d551-4103-829c-e19c81120f32"
            }
        },
        {
            "cell_type": "markdown",
            "source": [
                "Во второй части проекта вы выполните шаги 3 и 4. Их вручную проверит ревьюер.\n",
                "Чтобы вам не пришлось писать код заново для шагов 1 и 2, мы добавили авторские решения в ячейки с кодом. \n",
                "\n"
            ],
            "metadata": {
                "deletable": false,
                "editable": false,
                "id": "827c20bf",
                "azdata_cell_guid": "d0b37e9a-29db-4248-b0ec-82e4ac05540f"
            }
        },
        {
            "cell_type": "markdown",
            "source": [
                "## Откройте таблицу и изучите общую информацию о данных"
            ],
            "metadata": {
                "deletable": false,
                "editable": false,
                "id": "744d7639",
                "azdata_cell_guid": "ec88f970-5237-4df4-ae11-1b4fe986ea73"
            }
        },
        {
            "cell_type": "markdown",
            "source": [
                "**Задание 1. Импортируйте библиотеку pandas. Считайте данные из csv-файла в датафрейм и сохраните в переменную `data`. Путь к файлу:**\n",
                "\n",
                "`/datasets/data.csv`"
            ],
            "metadata": {
                "deletable": false,
                "editable": false,
                "id": "e7a14c31",
                "azdata_cell_guid": "30e858d2-67c4-42ec-aeb1-ae1aaf90ed80"
            }
        },
        {
            "cell_type": "code",
            "source": [
                "import pandas as pd\n",
                "\n",
                "try:\n",
                "    data = pd.read_csv('/datasets/data.csv')\n",
                "except:\n",
                "    data = pd.read_csv('https://code.s3.yandex.net/datasets/data.csv')"
            ],
            "metadata": {
                "deletable": false,
                "id": "7bcf75c9",
                "azdata_cell_guid": "c8575878-b1ba-4a15-b1ca-9235bdca93fd",
                "language": "python"
            },
            "outputs": [],
            "execution_count": 354
        },
        {
            "cell_type": "markdown",
            "source": [
                "**Задание 2. Выведите первые 20 строчек датафрейма `data` на экран.**"
            ],
            "metadata": {
                "deletable": false,
                "editable": false,
                "id": "b8038fe3",
                "azdata_cell_guid": "7d92b6ea-a0ed-49c9-80d2-f5905b38e90f"
            }
        },
        {
            "cell_type": "code",
            "source": [
                "data.head(20)"
            ],
            "metadata": {
                "deletable": false,
                "id": "2a7cab99",
                "outputId": "1a8f3ef2-d323-4ec2-ddf7-89670b5944c4",
                "azdata_cell_guid": "4d1d4f4b-97d2-45ed-8c7f-ab461f96f61b",
                "language": "python"
            },
            "outputs": [
                {
                    "output_type": "execute_result",
                    "execution_count": 355,
                    "data": {
                        "text/html": "<div>\n<style scoped>\n    .dataframe tbody tr th:only-of-type {\n        vertical-align: middle;\n    }\n\n    .dataframe tbody tr th {\n        vertical-align: top;\n    }\n\n    .dataframe thead th {\n        text-align: right;\n    }\n</style>\n<table border=\"1\" class=\"dataframe\">\n  <thead>\n    <tr style=\"text-align: right;\">\n      <th></th>\n      <th>children</th>\n      <th>days_employed</th>\n      <th>dob_years</th>\n      <th>education</th>\n      <th>education_id</th>\n      <th>family_status</th>\n      <th>family_status_id</th>\n      <th>gender</th>\n      <th>income_type</th>\n      <th>debt</th>\n      <th>total_income</th>\n      <th>purpose</th>\n    </tr>\n  </thead>\n  <tbody>\n    <tr>\n      <th>0</th>\n      <td>1</td>\n      <td>-8437.673028</td>\n      <td>42</td>\n      <td>высшее</td>\n      <td>0</td>\n      <td>женат / замужем</td>\n      <td>0</td>\n      <td>F</td>\n      <td>сотрудник</td>\n      <td>0</td>\n      <td>253875.639453</td>\n      <td>покупка жилья</td>\n    </tr>\n    <tr>\n      <th>1</th>\n      <td>1</td>\n      <td>-4024.803754</td>\n      <td>36</td>\n      <td>среднее</td>\n      <td>1</td>\n      <td>женат / замужем</td>\n      <td>0</td>\n      <td>F</td>\n      <td>сотрудник</td>\n      <td>0</td>\n      <td>112080.014102</td>\n      <td>приобретение автомобиля</td>\n    </tr>\n    <tr>\n      <th>2</th>\n      <td>0</td>\n      <td>-5623.422610</td>\n      <td>33</td>\n      <td>Среднее</td>\n      <td>1</td>\n      <td>женат / замужем</td>\n      <td>0</td>\n      <td>M</td>\n      <td>сотрудник</td>\n      <td>0</td>\n      <td>145885.952297</td>\n      <td>покупка жилья</td>\n    </tr>\n    <tr>\n      <th>3</th>\n      <td>3</td>\n      <td>-4124.747207</td>\n      <td>32</td>\n      <td>среднее</td>\n      <td>1</td>\n      <td>женат / замужем</td>\n      <td>0</td>\n      <td>M</td>\n      <td>сотрудник</td>\n      <td>0</td>\n      <td>267628.550329</td>\n      <td>дополнительное образование</td>\n    </tr>\n    <tr>\n      <th>4</th>\n      <td>0</td>\n      <td>340266.072047</td>\n      <td>53</td>\n      <td>среднее</td>\n      <td>1</td>\n      <td>гражданский брак</td>\n      <td>1</td>\n      <td>F</td>\n      <td>пенсионер</td>\n      <td>0</td>\n      <td>158616.077870</td>\n      <td>сыграть свадьбу</td>\n    </tr>\n    <tr>\n      <th>5</th>\n      <td>0</td>\n      <td>-926.185831</td>\n      <td>27</td>\n      <td>высшее</td>\n      <td>0</td>\n      <td>гражданский брак</td>\n      <td>1</td>\n      <td>M</td>\n      <td>компаньон</td>\n      <td>0</td>\n      <td>255763.565419</td>\n      <td>покупка жилья</td>\n    </tr>\n    <tr>\n      <th>6</th>\n      <td>0</td>\n      <td>-2879.202052</td>\n      <td>43</td>\n      <td>высшее</td>\n      <td>0</td>\n      <td>женат / замужем</td>\n      <td>0</td>\n      <td>F</td>\n      <td>компаньон</td>\n      <td>0</td>\n      <td>240525.971920</td>\n      <td>операции с жильем</td>\n    </tr>\n    <tr>\n      <th>7</th>\n      <td>0</td>\n      <td>-152.779569</td>\n      <td>50</td>\n      <td>СРЕДНЕЕ</td>\n      <td>1</td>\n      <td>женат / замужем</td>\n      <td>0</td>\n      <td>M</td>\n      <td>сотрудник</td>\n      <td>0</td>\n      <td>135823.934197</td>\n      <td>образование</td>\n    </tr>\n    <tr>\n      <th>8</th>\n      <td>2</td>\n      <td>-6929.865299</td>\n      <td>35</td>\n      <td>ВЫСШЕЕ</td>\n      <td>0</td>\n      <td>гражданский брак</td>\n      <td>1</td>\n      <td>F</td>\n      <td>сотрудник</td>\n      <td>0</td>\n      <td>95856.832424</td>\n      <td>на проведение свадьбы</td>\n    </tr>\n    <tr>\n      <th>9</th>\n      <td>0</td>\n      <td>-2188.756445</td>\n      <td>41</td>\n      <td>среднее</td>\n      <td>1</td>\n      <td>женат / замужем</td>\n      <td>0</td>\n      <td>M</td>\n      <td>сотрудник</td>\n      <td>0</td>\n      <td>144425.938277</td>\n      <td>покупка жилья для семьи</td>\n    </tr>\n    <tr>\n      <th>10</th>\n      <td>2</td>\n      <td>-4171.483647</td>\n      <td>36</td>\n      <td>высшее</td>\n      <td>0</td>\n      <td>женат / замужем</td>\n      <td>0</td>\n      <td>M</td>\n      <td>компаньон</td>\n      <td>0</td>\n      <td>113943.491460</td>\n      <td>покупка недвижимости</td>\n    </tr>\n    <tr>\n      <th>11</th>\n      <td>0</td>\n      <td>-792.701887</td>\n      <td>40</td>\n      <td>среднее</td>\n      <td>1</td>\n      <td>женат / замужем</td>\n      <td>0</td>\n      <td>F</td>\n      <td>сотрудник</td>\n      <td>0</td>\n      <td>77069.234271</td>\n      <td>покупка коммерческой недвижимости</td>\n    </tr>\n    <tr>\n      <th>12</th>\n      <td>0</td>\n      <td>NaN</td>\n      <td>65</td>\n      <td>среднее</td>\n      <td>1</td>\n      <td>гражданский брак</td>\n      <td>1</td>\n      <td>M</td>\n      <td>пенсионер</td>\n      <td>0</td>\n      <td>NaN</td>\n      <td>сыграть свадьбу</td>\n    </tr>\n    <tr>\n      <th>13</th>\n      <td>0</td>\n      <td>-1846.641941</td>\n      <td>54</td>\n      <td>неоконченное высшее</td>\n      <td>2</td>\n      <td>женат / замужем</td>\n      <td>0</td>\n      <td>F</td>\n      <td>сотрудник</td>\n      <td>0</td>\n      <td>130458.228857</td>\n      <td>приобретение автомобиля</td>\n    </tr>\n    <tr>\n      <th>14</th>\n      <td>0</td>\n      <td>-1844.956182</td>\n      <td>56</td>\n      <td>высшее</td>\n      <td>0</td>\n      <td>гражданский брак</td>\n      <td>1</td>\n      <td>F</td>\n      <td>компаньон</td>\n      <td>1</td>\n      <td>165127.911772</td>\n      <td>покупка жилой недвижимости</td>\n    </tr>\n    <tr>\n      <th>15</th>\n      <td>1</td>\n      <td>-972.364419</td>\n      <td>26</td>\n      <td>среднее</td>\n      <td>1</td>\n      <td>женат / замужем</td>\n      <td>0</td>\n      <td>F</td>\n      <td>сотрудник</td>\n      <td>0</td>\n      <td>116820.904450</td>\n      <td>строительство собственной недвижимости</td>\n    </tr>\n    <tr>\n      <th>16</th>\n      <td>0</td>\n      <td>-1719.934226</td>\n      <td>35</td>\n      <td>среднее</td>\n      <td>1</td>\n      <td>женат / замужем</td>\n      <td>0</td>\n      <td>F</td>\n      <td>сотрудник</td>\n      <td>0</td>\n      <td>289202.704229</td>\n      <td>недвижимость</td>\n    </tr>\n    <tr>\n      <th>17</th>\n      <td>0</td>\n      <td>-2369.999720</td>\n      <td>33</td>\n      <td>высшее</td>\n      <td>0</td>\n      <td>гражданский брак</td>\n      <td>1</td>\n      <td>M</td>\n      <td>сотрудник</td>\n      <td>0</td>\n      <td>90410.586745</td>\n      <td>строительство недвижимости</td>\n    </tr>\n    <tr>\n      <th>18</th>\n      <td>0</td>\n      <td>400281.136913</td>\n      <td>53</td>\n      <td>среднее</td>\n      <td>1</td>\n      <td>вдовец / вдова</td>\n      <td>2</td>\n      <td>F</td>\n      <td>пенсионер</td>\n      <td>0</td>\n      <td>56823.777243</td>\n      <td>на покупку подержанного автомобиля</td>\n    </tr>\n    <tr>\n      <th>19</th>\n      <td>0</td>\n      <td>-10038.818549</td>\n      <td>48</td>\n      <td>СРЕДНЕЕ</td>\n      <td>1</td>\n      <td>в разводе</td>\n      <td>3</td>\n      <td>F</td>\n      <td>сотрудник</td>\n      <td>0</td>\n      <td>242831.107982</td>\n      <td>на покупку своего автомобиля</td>\n    </tr>\n  </tbody>\n</table>\n</div>",
                        "text/plain": "    children  days_employed  dob_years            education  education_id  \\\n0          1   -8437.673028         42               высшее             0   \n1          1   -4024.803754         36              среднее             1   \n2          0   -5623.422610         33              Среднее             1   \n3          3   -4124.747207         32              среднее             1   \n4          0  340266.072047         53              среднее             1   \n5          0    -926.185831         27               высшее             0   \n6          0   -2879.202052         43               высшее             0   \n7          0    -152.779569         50              СРЕДНЕЕ             1   \n8          2   -6929.865299         35               ВЫСШЕЕ             0   \n9          0   -2188.756445         41              среднее             1   \n10         2   -4171.483647         36               высшее             0   \n11         0    -792.701887         40              среднее             1   \n12         0            NaN         65              среднее             1   \n13         0   -1846.641941         54  неоконченное высшее             2   \n14         0   -1844.956182         56               высшее             0   \n15         1    -972.364419         26              среднее             1   \n16         0   -1719.934226         35              среднее             1   \n17         0   -2369.999720         33               высшее             0   \n18         0  400281.136913         53              среднее             1   \n19         0  -10038.818549         48              СРЕДНЕЕ             1   \n\n       family_status  family_status_id gender income_type  debt  \\\n0    женат / замужем                 0      F   сотрудник     0   \n1    женат / замужем                 0      F   сотрудник     0   \n2    женат / замужем                 0      M   сотрудник     0   \n3    женат / замужем                 0      M   сотрудник     0   \n4   гражданский брак                 1      F   пенсионер     0   \n5   гражданский брак                 1      M   компаньон     0   \n6    женат / замужем                 0      F   компаньон     0   \n7    женат / замужем                 0      M   сотрудник     0   \n8   гражданский брак                 1      F   сотрудник     0   \n9    женат / замужем                 0      M   сотрудник     0   \n10   женат / замужем                 0      M   компаньон     0   \n11   женат / замужем                 0      F   сотрудник     0   \n12  гражданский брак                 1      M   пенсионер     0   \n13   женат / замужем                 0      F   сотрудник     0   \n14  гражданский брак                 1      F   компаньон     1   \n15   женат / замужем                 0      F   сотрудник     0   \n16   женат / замужем                 0      F   сотрудник     0   \n17  гражданский брак                 1      M   сотрудник     0   \n18    вдовец / вдова                 2      F   пенсионер     0   \n19         в разводе                 3      F   сотрудник     0   \n\n     total_income                                 purpose  \n0   253875.639453                           покупка жилья  \n1   112080.014102                 приобретение автомобиля  \n2   145885.952297                           покупка жилья  \n3   267628.550329              дополнительное образование  \n4   158616.077870                         сыграть свадьбу  \n5   255763.565419                           покупка жилья  \n6   240525.971920                       операции с жильем  \n7   135823.934197                             образование  \n8    95856.832424                   на проведение свадьбы  \n9   144425.938277                 покупка жилья для семьи  \n10  113943.491460                    покупка недвижимости  \n11   77069.234271       покупка коммерческой недвижимости  \n12            NaN                         сыграть свадьбу  \n13  130458.228857                 приобретение автомобиля  \n14  165127.911772              покупка жилой недвижимости  \n15  116820.904450  строительство собственной недвижимости  \n16  289202.704229                            недвижимость  \n17   90410.586745              строительство недвижимости  \n18   56823.777243      на покупку подержанного автомобиля  \n19  242831.107982            на покупку своего автомобиля  "
                    },
                    "metadata": {}
                }
            ],
            "execution_count": 355
        },
        {
            "cell_type": "markdown",
            "source": [
                "**Задание 3. Выведите основную информацию о датафрейме с помощью метода `info()`.**"
            ],
            "metadata": {
                "deletable": false,
                "editable": false,
                "id": "1c12e233",
                "azdata_cell_guid": "cb4acbc0-0bf5-490a-bd79-72bf52581b35"
            }
        },
        {
            "cell_type": "code",
            "source": [
                "data.info()"
            ],
            "metadata": {
                "deletable": false,
                "id": "2b757bca",
                "outputId": "15376089-8dad-46c9-b520-c05248d43158",
                "azdata_cell_guid": "c98a55b3-9bac-4d74-ba3a-19458cfabc3d",
                "language": "python"
            },
            "outputs": [
                {
                    "output_type": "stream",
                    "name": "stdout",
                    "text": "<class 'pandas.core.frame.DataFrame'>\nRangeIndex: 21525 entries, 0 to 21524\nData columns (total 12 columns):\n #   Column            Non-Null Count  Dtype  \n---  ------            --------------  -----  \n 0   children          21525 non-null  int64  \n 1   days_employed     19351 non-null  float64\n 2   dob_years         21525 non-null  int64  \n 3   education         21525 non-null  object \n 4   education_id      21525 non-null  int64  \n 5   family_status     21525 non-null  object \n 6   family_status_id  21525 non-null  int64  \n 7   gender            21525 non-null  object \n 8   income_type       21525 non-null  object \n 9   debt              21525 non-null  int64  \n 10  total_income      19351 non-null  float64\n 11  purpose           21525 non-null  object \ndtypes: float64(2), int64(5), object(5)\nmemory usage: 2.0+ MB\n"
                }
            ],
            "execution_count": 356
        },
        {
            "cell_type": "markdown",
            "source": [
                "## Предобработка данных"
            ],
            "metadata": {
                "deletable": false,
                "editable": false,
                "id": "333ec665",
                "azdata_cell_guid": "57839fd7-fc6d-470c-ade5-e8af378c9790"
            }
        },
        {
            "cell_type": "markdown",
            "source": [
                "### Удаление пропусков"
            ],
            "metadata": {
                "deletable": false,
                "editable": false,
                "id": "02d92d53",
                "azdata_cell_guid": "5f7e35d5-d5cd-4828-8355-8dc8fabe702d"
            }
        },
        {
            "cell_type": "markdown",
            "source": [
                "**Задание 4. Выведите количество пропущенных значений для каждого столбца. Используйте комбинацию двух методов.**"
            ],
            "metadata": {
                "deletable": false,
                "editable": false,
                "id": "cd84967c",
                "azdata_cell_guid": "8106e926-c6cf-4eb3-a84f-b28e4fc81bbd"
            }
        },
        {
            "cell_type": "code",
            "source": [
                "data.isna().sum()"
            ],
            "metadata": {
                "deletable": false,
                "id": "7f9b2309",
                "outputId": "81f4d817-781c-465c-ed15-91ce4446810d",
                "azdata_cell_guid": "8ffc5196-8407-4a58-a1d7-885fda81ca12",
                "language": "python"
            },
            "outputs": [
                {
                    "output_type": "execute_result",
                    "execution_count": 357,
                    "data": {
                        "text/plain": "children               0\ndays_employed       2174\ndob_years              0\neducation              0\neducation_id           0\nfamily_status          0\nfamily_status_id       0\ngender                 0\nincome_type            0\ndebt                   0\ntotal_income        2174\npurpose                0\ndtype: int64"
                    },
                    "metadata": {}
                }
            ],
            "execution_count": 357
        },
        {
            "cell_type": "markdown",
            "source": [
                "**Задание 5. В двух столбцах есть пропущенные значения. Один из них — `days_employed`. Пропуски в этом столбце вы обработаете на следующем этапе. Другой столбец с пропущенными значениями — `total_income` — хранит данные о доходах. На сумму дохода сильнее всего влияет тип занятости, поэтому заполнить пропуски в этом столбце нужно медианным значением по каждому типу из столбца `income_type`. Например, у человека с типом занятости `сотрудник` пропуск в столбце `total_income` должен быть заполнен медианным доходом среди всех записей с тем же типом.**"
            ],
            "metadata": {
                "deletable": false,
                "editable": false,
                "id": "db86e27b",
                "azdata_cell_guid": "5760513c-0261-4354-a748-15fdbae31726"
            }
        },
        {
            "cell_type": "code",
            "source": [
                "for t in data['income_type'].unique():\n",
                "    data.loc[(data['income_type'] == t) & (data['total_income'].isna()), 'total_income'] = \\\n",
                "    data.loc[(data['income_type'] == t), 'total_income'].median()"
            ],
            "metadata": {
                "deletable": false,
                "id": "42006a93",
                "azdata_cell_guid": "69b6ac89-1e15-4a52-a591-187956eaed8b",
                "language": "python"
            },
            "outputs": [],
            "execution_count": 358
        },
        {
            "cell_type": "markdown",
            "source": [
                "### Обработка аномальных значений"
            ],
            "metadata": {
                "deletable": false,
                "editable": false,
                "id": "89da5ece",
                "azdata_cell_guid": "0f4c6f42-b155-4127-8657-52fdb275383b"
            }
        },
        {
            "cell_type": "markdown",
            "source": [
                "**Задание 6. В данных могут встречаться артефакты (аномалии) — значения, которые не отражают действительность и появились по какой-то ошибке. таким артефактом будет отрицательное количество дней трудового стажа в столбце `days_employed`. Для реальных данных это нормально. Обработайте значения в этом столбце: замените все отрицательные значения положительными с помощью метода `abs()`.**"
            ],
            "metadata": {
                "deletable": false,
                "editable": false,
                "id": "57964554",
                "azdata_cell_guid": "d85adf71-48cf-4ccc-9e1e-90c6343c2297"
            }
        },
        {
            "cell_type": "code",
            "source": [
                "data['days_employed'] = data['days_employed'].abs()"
            ],
            "metadata": {
                "deletable": false,
                "id": "f6f055bf",
                "azdata_cell_guid": "1043fbcb-1186-42fa-993f-26b04a5fe006",
                "language": "python"
            },
            "outputs": [],
            "execution_count": 359
        },
        {
            "cell_type": "markdown",
            "source": [
                "**Задание 7. Для каждого типа занятости выведите медианное значение трудового стажа `days_employed` в днях.**"
            ],
            "metadata": {
                "deletable": false,
                "editable": false,
                "id": "6107dd2f",
                "azdata_cell_guid": "0b2afe85-d814-478f-ab6e-7f2ab59341bc"
            }
        },
        {
            "cell_type": "code",
            "source": [
                "data.groupby('income_type')['days_employed'].agg('median')"
            ],
            "metadata": {
                "deletable": false,
                "id": "85a5faf6",
                "outputId": "801ef80e-522b-4668-f34e-565af7432bcf",
                "azdata_cell_guid": "d739c824-aa62-4767-8a45-e5acbc0636a3",
                "language": "python"
            },
            "outputs": [
                {
                    "output_type": "execute_result",
                    "execution_count": 360,
                    "data": {
                        "text/plain": "income_type\nбезработный        366413.652744\nв декрете            3296.759962\nгосслужащий          2689.368353\nкомпаньон            1547.382223\nпенсионер          365213.306266\nпредприниматель       520.848083\nсотрудник            1574.202821\nстудент               578.751554\nName: days_employed, dtype: float64"
                    },
                    "metadata": {}
                }
            ],
            "execution_count": 360
        },
        {
            "cell_type": "markdown",
            "source": [
                "У двух типов (безработные и пенсионеры) получатся аномально большие значения. Исправить такие значения сложно, поэтому оставьте их как есть. Тем более этот столбец не понадобится вам для исследования."
            ],
            "metadata": {
                "deletable": false,
                "editable": false,
                "id": "38d1a030",
                "azdata_cell_guid": "8ca13245-60a7-4f20-ae7e-1a79105b80a0"
            }
        },
        {
            "cell_type": "markdown",
            "source": [
                "**Задание 8. Выведите перечень уникальных значений столбца `children`.**"
            ],
            "metadata": {
                "deletable": false,
                "editable": false,
                "id": "d8a9f147",
                "azdata_cell_guid": "fa439df5-d338-410c-b8e2-f2c387a61f1d"
            }
        },
        {
            "cell_type": "code",
            "source": [
                "data['children'].unique()"
            ],
            "metadata": {
                "deletable": false,
                "id": "ef5056eb",
                "outputId": "6975b15c-7f95-4697-d16d-a0c79b657b03",
                "azdata_cell_guid": "ed05efa7-5c04-4d61-a4a2-fac39b1c1f36",
                "language": "python"
            },
            "outputs": [
                {
                    "output_type": "execute_result",
                    "execution_count": 361,
                    "data": {
                        "text/plain": "array([ 1,  0,  3,  2, -1,  4, 20,  5])"
                    },
                    "metadata": {}
                }
            ],
            "execution_count": 361
        },
        {
            "cell_type": "markdown",
            "source": [
                "**Задание 9. В столбце `children` есть два аномальных значения. Удалите строки, в которых встречаются такие аномальные значения из датафрейма `data`.**"
            ],
            "metadata": {
                "deletable": false,
                "editable": false,
                "id": "40b9ebf2",
                "azdata_cell_guid": "98371dcc-5cfd-44db-950b-6f126f13ac8e"
            }
        },
        {
            "cell_type": "code",
            "source": [
                "data = data[(data['children'] != -1) & (data['children'] != 20)]"
            ],
            "metadata": {
                "deletable": false,
                "id": "3ff9801d",
                "azdata_cell_guid": "5dcdd9d8-594a-4c18-842c-82add92b94a5",
                "language": "python"
            },
            "outputs": [],
            "execution_count": 362
        },
        {
            "cell_type": "markdown",
            "source": [
                "**Задание 10. Ещё раз выведите перечень уникальных значений столбца `children`, чтобы убедиться, что артефакты удалены.**"
            ],
            "metadata": {
                "deletable": false,
                "editable": false,
                "id": "bbc4d0ce",
                "azdata_cell_guid": "943be205-76e2-4de8-acb9-61e58111151c"
            }
        },
        {
            "cell_type": "code",
            "source": [
                "data['children'].unique()"
            ],
            "metadata": {
                "deletable": false,
                "id": "ad4fa8b7",
                "outputId": "b2097101-d49d-44d9-901b-32a65c9463d1",
                "azdata_cell_guid": "3125714d-13bb-4e4b-b48f-b212925a51b2",
                "language": "python"
            },
            "outputs": [
                {
                    "output_type": "execute_result",
                    "execution_count": 363,
                    "data": {
                        "text/plain": "array([1, 0, 3, 2, 4, 5])"
                    },
                    "metadata": {}
                }
            ],
            "execution_count": 363
        },
        {
            "cell_type": "markdown",
            "source": [
                "### Удаление пропусков (продолжение)"
            ],
            "metadata": {
                "deletable": false,
                "editable": false,
                "id": "75440b63",
                "azdata_cell_guid": "079fb9c0-2eac-4efd-801f-667100818304"
            }
        },
        {
            "cell_type": "markdown",
            "source": [
                "**Задание 11. Заполните пропуски в столбце `days_employed` медианными значениями по каждого типа занятости `income_type`.**"
            ],
            "metadata": {
                "deletable": false,
                "editable": false,
                "id": "f4ea573f",
                "azdata_cell_guid": "9be480ae-1a8a-4ecd-8838-39845577f028"
            }
        },
        {
            "cell_type": "code",
            "source": [
                "for t in data['income_type'].unique():\n",
                "    data.loc[(data['income_type'] == t) & (data['days_employed'].isna()), 'days_employed'] = \\\n",
                "    data.loc[(data['income_type'] == t), 'days_employed'].median()"
            ],
            "metadata": {
                "deletable": false,
                "id": "af6b1a7e",
                "azdata_cell_guid": "038f2e87-e220-4e28-982d-44e299e0f838",
                "language": "python"
            },
            "outputs": [],
            "execution_count": 364
        },
        {
            "cell_type": "markdown",
            "source": [
                "**Задание 12. Убедитесь, что все пропуски заполнены. Проверьте себя и ещё раз выведите количество пропущенных значений для каждого столбца с помощью двух методов.**"
            ],
            "metadata": {
                "deletable": false,
                "editable": false,
                "id": "2753f40d",
                "azdata_cell_guid": "62579dfd-e247-4758-91ae-b69b0cd8af9d"
            }
        },
        {
            "cell_type": "code",
            "source": [
                "data.isna().sum()"
            ],
            "metadata": {
                "deletable": false,
                "id": "55f78bc2",
                "outputId": "8da1e4e1-358e-4e87-98c9-f261bce0a7b2",
                "azdata_cell_guid": "40e3c609-0da6-4b25-818c-d3b94270945d",
                "language": "python"
            },
            "outputs": [
                {
                    "output_type": "execute_result",
                    "execution_count": 365,
                    "data": {
                        "text/plain": "children            0\ndays_employed       0\ndob_years           0\neducation           0\neducation_id        0\nfamily_status       0\nfamily_status_id    0\ngender              0\nincome_type         0\ndebt                0\ntotal_income        0\npurpose             0\ndtype: int64"
                    },
                    "metadata": {}
                }
            ],
            "execution_count": 365
        },
        {
            "cell_type": "markdown",
            "source": [
                "### Изменение типов данных"
            ],
            "metadata": {
                "deletable": false,
                "editable": false,
                "id": "ddc81e43",
                "azdata_cell_guid": "37533eed-4bf7-43f2-8af0-c8ee1d375fca"
            }
        },
        {
            "cell_type": "markdown",
            "source": [
                "**Задание 13. Замените вещественный тип данных в столбце `total_income` на целочисленный с помощью метода `astype()`.**"
            ],
            "metadata": {
                "deletable": false,
                "editable": false,
                "id": "42d19d24",
                "azdata_cell_guid": "c5b2aecf-7d27-4ebc-b6f1-04fc837f3d65"
            }
        },
        {
            "cell_type": "code",
            "source": [
                "data['total_income'] = data['total_income'].astype(int)"
            ],
            "metadata": {
                "deletable": false,
                "id": "920b65ad",
                "azdata_cell_guid": "ee3b8033-7ea8-4df5-badd-fb2a74e8eab8",
                "language": "python"
            },
            "outputs": [],
            "execution_count": 366
        },
        {
            "cell_type": "markdown",
            "source": [
                "### Обработка дубликатов"
            ],
            "metadata": {
                "deletable": false,
                "editable": false,
                "id": "80c420ba",
                "azdata_cell_guid": "ecaf112a-a54c-4f56-a86e-88bef5addc19"
            }
        },
        {
            "cell_type": "markdown",
            "source": [
                "**Задание 14. Обработайте неявные дубликаты в столбце `education`. В этом столбце есть одни и те же значения, но записанные по-разному: с использованием заглавных и строчных букв. Приведите их к нижнему регистру. Проверьте остальные столбцы.**"
            ],
            "metadata": {
                "deletable": false,
                "editable": false,
                "azdata_cell_guid": "8ca42d89-7d27-4d8c-9612-5c58a8c90c7b"
            }
        },
        {
            "cell_type": "code",
            "source": [
                "data['education'] = data['education'].str.lower()"
            ],
            "metadata": {
                "deletable": false,
                "azdata_cell_guid": "1c32c675-5f06-421a-a057-155a844df2d9",
                "language": "python"
            },
            "outputs": [],
            "execution_count": 367
        },
        {
            "cell_type": "markdown",
            "source": [
                "**Задание 15. Выведите на экран количество строк-дубликатов в данных. Если такие строки присутствуют, удалите их.**"
            ],
            "metadata": {
                "deletable": false,
                "editable": false,
                "id": "dc587695",
                "azdata_cell_guid": "a524087e-9183-43ad-8b5f-67c495047a9a"
            }
        },
        {
            "cell_type": "code",
            "source": [
                "data.duplicated().sum()"
            ],
            "metadata": {
                "deletable": false,
                "id": "3ee445e4",
                "outputId": "9684deba-1934-42d1-99e1-cda61740f822",
                "azdata_cell_guid": "ed6bf0e2-a705-4495-af0f-b72f43f4d096",
                "language": "python"
            },
            "outputs": [
                {
                    "output_type": "execute_result",
                    "execution_count": 368,
                    "data": {
                        "text/plain": "71"
                    },
                    "metadata": {}
                }
            ],
            "execution_count": 368
        },
        {
            "cell_type": "code",
            "source": [
                "data = data.drop_duplicates()"
            ],
            "metadata": {
                "deletable": false,
                "id": "8575fe05",
                "azdata_cell_guid": "5c529971-6f92-4918-a47a-d24f77b62669",
                "language": "python"
            },
            "outputs": [],
            "execution_count": 369
        },
        {
            "cell_type": "markdown",
            "source": [
                "### Категоризация данных"
            ],
            "metadata": {
                "deletable": false,
                "editable": false,
                "id": "9904cf55",
                "azdata_cell_guid": "e4f5eb66-3eb5-44ee-978b-1ddf296b8f36"
            }
        },
        {
            "cell_type": "markdown",
            "source": [
                "**Задание 16. На основании диапазонов, указанных ниже, создайте в датафрейме `data` столбец `total_income_category` с категориями:**\n",
                "\n",
                "- 0–30000 — `'E'`;\n",
                "- 30001–50000 — `'D'`;\n",
                "- 50001–200000 — `'C'`;\n",
                "- 200001–1000000 — `'B'`;\n",
                "- 1000001 и выше — `'A'`.\n",
                "\n",
                "\n",
                "**Например, кредитополучателю с доходом 25000 нужно назначить категорию `'E'`, а клиенту, получающему 235000, — `'B'`. Используйте собственную функцию с именем `categorize_income()` и метод `apply()`.**"
            ],
            "metadata": {
                "deletable": false,
                "editable": false,
                "id": "72fcc8a2",
                "azdata_cell_guid": "4269b597-e957-4f71-b1bc-e60489c0e61b"
            }
        },
        {
            "cell_type": "code",
            "source": [
                "def categorize_income(income):\n",
                "    try:\n",
                "        if 0 <= income <= 30000:\n",
                "            return 'E'\n",
                "        elif 30001 <= income <= 50000:\n",
                "            return 'D'\n",
                "        elif 50001 <= income <= 200000:\n",
                "            return 'C'\n",
                "        elif 200001 <= income <= 1000000:\n",
                "            return 'B'\n",
                "        elif income >= 1000001:\n",
                "            return 'A'\n",
                "    except:\n",
                "        pass"
            ],
            "metadata": {
                "deletable": false,
                "id": "e1771346",
                "azdata_cell_guid": "4cd096ac-128c-4f3b-8ede-b06495f7da23",
                "language": "python"
            },
            "outputs": [],
            "execution_count": 370
        },
        {
            "cell_type": "code",
            "source": [
                "data['total_income_category'] = data['total_income'].apply(categorize_income)"
            ],
            "metadata": {
                "deletable": false,
                "id": "d5f3586d",
                "azdata_cell_guid": "260f6a0f-65ef-4a2a-9e8a-47c3d63eda91",
                "language": "python"
            },
            "outputs": [],
            "execution_count": 371
        },
        {
            "cell_type": "markdown",
            "source": [
                "**Задание 17. Выведите на экран перечень уникальных целей взятия кредита из столбца `purpose`.**"
            ],
            "metadata": {
                "deletable": false,
                "editable": false,
                "id": "dde49b5c",
                "azdata_cell_guid": "a832100a-0656-43dc-bfd5-1f7980b58294"
            }
        },
        {
            "cell_type": "code",
            "source": [
                "data['purpose'].unique()"
            ],
            "metadata": {
                "deletable": false,
                "id": "f67ce9b3",
                "outputId": "673c12d9-7d7e-4ae0-9812-c622c89dd244",
                "azdata_cell_guid": "a3267ade-1410-4620-a8af-9427875882a9",
                "language": "python"
            },
            "outputs": [
                {
                    "output_type": "execute_result",
                    "execution_count": 372,
                    "data": {
                        "text/plain": "array(['покупка жилья', 'приобретение автомобиля',\n       'дополнительное образование', 'сыграть свадьбу',\n       'операции с жильем', 'образование', 'на проведение свадьбы',\n       'покупка жилья для семьи', 'покупка недвижимости',\n       'покупка коммерческой недвижимости', 'покупка жилой недвижимости',\n       'строительство собственной недвижимости', 'недвижимость',\n       'строительство недвижимости', 'на покупку подержанного автомобиля',\n       'на покупку своего автомобиля',\n       'операции с коммерческой недвижимостью',\n       'строительство жилой недвижимости', 'жилье',\n       'операции со своей недвижимостью', 'автомобили',\n       'заняться образованием', 'сделка с подержанным автомобилем',\n       'получение образования', 'автомобиль', 'свадьба',\n       'получение дополнительного образования', 'покупка своего жилья',\n       'операции с недвижимостью', 'получение высшего образования',\n       'свой автомобиль', 'сделка с автомобилем',\n       'профильное образование', 'высшее образование',\n       'покупка жилья для сдачи', 'на покупку автомобиля', 'ремонт жилью',\n       'заняться высшим образованием'], dtype=object)"
                    },
                    "metadata": {}
                }
            ],
            "execution_count": 372
        },
        {
            "cell_type": "markdown",
            "source": [
                "**Задание 18. Создайте функцию, которая на основании данных из столбца `purpose` сформирует новый столбец `purpose_category`, в который войдут следующие категории:**\n",
                "\n",
                "- `'операции с автомобилем'`,\n",
                "- `'операции с недвижимостью'`,\n",
                "- `'проведение свадьбы'`,\n",
                "- `'получение образования'`.\n",
                "\n",
                "**Например, если в столбце `purpose` находится подстрока `'на покупку автомобиля'`, то в столбце `purpose_category` должна появиться строка `'операции с автомобилем'`.**\n",
                "\n",
                "**Используйте собственную функцию с именем `categorize_purpose()` и метод `apply()`. Изучите данные в столбце `purpose` и определите, какие подстроки помогут вам правильно определить категорию.**"
            ],
            "metadata": {
                "deletable": false,
                "editable": false,
                "id": "85d0aef0",
                "azdata_cell_guid": "342dd94b-0824-4ad6-b848-17dfa6749234"
            }
        },
        {
            "cell_type": "code",
            "source": [
                "def categorize_purpose(row):\n",
                "    try:\n",
                "        if 'автом' in row:\n",
                "            return 'операции с автомобилем'\n",
                "        elif 'жил' in row or 'недвиж' in row:\n",
                "            return 'операции с недвижимостью'\n",
                "        elif 'свад' in row:\n",
                "            return 'проведение свадьбы'\n",
                "        elif 'образов' in row:\n",
                "            return 'получение образования'\n",
                "    except:\n",
                "        return 'нет категории'"
            ],
            "metadata": {
                "deletable": false,
                "id": "e149fab4",
                "azdata_cell_guid": "3196926e-39a8-4cbb-b9c7-e7f64ceaab8c",
                "language": "python"
            },
            "outputs": [],
            "execution_count": 373
        },
        {
            "cell_type": "code",
            "source": [
                "data['purpose_category'] = data['purpose'].apply(categorize_purpose)"
            ],
            "metadata": {
                "deletable": false,
                "id": "bf36e69b",
                "azdata_cell_guid": "92b447c8-d542-4eb3-90a1-69b19ec0768f",
                "language": "python"
            },
            "outputs": [],
            "execution_count": 374
        },
        {
            "cell_type": "markdown",
            "source": [
                "### Шаг 3. Исследуйте данные и ответьте на вопросы"
            ],
            "metadata": {
                "deletable": false,
                "editable": false,
                "id": "09b242bf",
                "azdata_cell_guid": "d4532cf2-c1bc-4450-a952-78b1ffe4e9e9"
            }
        },
        {
            "cell_type": "markdown",
            "source": [
                "#### 3.1 Есть ли зависимость между количеством детей и возвратом кредита в срок?"
            ],
            "metadata": {
                "deletable": false,
                "editable": false,
                "id": "c5d66278",
                "azdata_cell_guid": "8ba8a81b-a046-4f88-b419-f9d9de9d3c91"
            }
        },
        {
            "cell_type": "code",
            "source": [
                "data.groupby('children')['total_income'].mean().sort_values(ascending=False).astype(int)"
            ],
            "metadata": {
                "deletable": false,
                "id": "2cacfc4a",
                "scrolled": false,
                "azdata_cell_guid": "4619922f-f731-460f-b7fa-f93ef635a07f",
                "language": "python"
            },
            "outputs": [
                {
                    "output_type": "execute_result",
                    "execution_count": 376,
                    "data": {
                        "text/plain": "children\n3    179460\n2    169746\n1    169194\n5    167336\n4    166360\n0    163052\nName: total_income, dtype: int64"
                    },
                    "metadata": {}
                }
            ],
            "execution_count": 376
        },
        {
            "cell_type": "markdown",
            "source": [
                "**Вывод:** 1: В среднем семьи имеющие трех детей возвращают наибольшую сумму по кредитам, затем семьи от 1 до 2 и семьи приносящие наименьший возврат от 4 и более детей."
            ],
            "metadata": {
                "deletable": false,
                "id": "3a6b99ec",
                "azdata_cell_guid": "552caaa7-044e-4842-aa9d-a6d4f92c6ffb"
            }
        },
        {
            "cell_type": "code",
            "source": [
                "pd.pivot_table(data, \n",
                "               index=['children'], \n",
                "               values=['debt'],\n",
                "               aggfunc={'debt':['count', 'mean']}).sort_index(axis=1,ascending=False).round(3) #Рассчет с помощью power_table"
            ],
            "metadata": {
                "azdata_cell_guid": "ffa8bf56-1620-42cc-a519-c50b85cd3ca2",
                "language": "python"
            },
            "outputs": [
                {
                    "output_type": "execute_result",
                    "execution_count": 377,
                    "data": {
                        "text/html": "<div>\n<style scoped>\n    .dataframe tbody tr th:only-of-type {\n        vertical-align: middle;\n    }\n\n    .dataframe tbody tr th {\n        vertical-align: top;\n    }\n\n    .dataframe thead tr th {\n        text-align: left;\n    }\n\n    .dataframe thead tr:last-of-type th {\n        text-align: right;\n    }\n</style>\n<table border=\"1\" class=\"dataframe\">\n  <thead>\n    <tr>\n      <th></th>\n      <th colspan=\"2\" halign=\"left\">debt</th>\n    </tr>\n    <tr>\n      <th></th>\n      <th>mean</th>\n      <th>count</th>\n    </tr>\n    <tr>\n      <th>children</th>\n      <th></th>\n      <th></th>\n    </tr>\n  </thead>\n  <tbody>\n    <tr>\n      <th>0</th>\n      <td>0.075</td>\n      <td>14091.0</td>\n    </tr>\n    <tr>\n      <th>1</th>\n      <td>0.092</td>\n      <td>4808.0</td>\n    </tr>\n    <tr>\n      <th>2</th>\n      <td>0.095</td>\n      <td>2052.0</td>\n    </tr>\n    <tr>\n      <th>3</th>\n      <td>0.082</td>\n      <td>330.0</td>\n    </tr>\n    <tr>\n      <th>4</th>\n      <td>0.098</td>\n      <td>41.0</td>\n    </tr>\n    <tr>\n      <th>5</th>\n      <td>0.000</td>\n      <td>9.0</td>\n    </tr>\n  </tbody>\n</table>\n</div>",
                        "text/plain": "           debt         \n           mean    count\nchildren                \n0         0.075  14091.0\n1         0.092   4808.0\n2         0.095   2052.0\n3         0.082    330.0\n4         0.098     41.0\n5         0.000      9.0"
                    },
                    "metadata": {}
                }
            ],
            "execution_count": 377
        },
        {
            "cell_type": "code",
            "source": [
                "data.groupby(['children']).agg({'debt': ['count', 'mean']}).round(3) #Рассчет с помощью groupby"
            ],
            "metadata": {
                "azdata_cell_guid": "01ff0394-0e45-4677-9669-28547b87d6ce",
                "language": "python"
            },
            "outputs": [
                {
                    "output_type": "execute_result",
                    "execution_count": 378,
                    "data": {
                        "text/html": "<div>\n<style scoped>\n    .dataframe tbody tr th:only-of-type {\n        vertical-align: middle;\n    }\n\n    .dataframe tbody tr th {\n        vertical-align: top;\n    }\n\n    .dataframe thead tr th {\n        text-align: left;\n    }\n\n    .dataframe thead tr:last-of-type th {\n        text-align: right;\n    }\n</style>\n<table border=\"1\" class=\"dataframe\">\n  <thead>\n    <tr>\n      <th></th>\n      <th colspan=\"2\" halign=\"left\">debt</th>\n    </tr>\n    <tr>\n      <th></th>\n      <th>count</th>\n      <th>mean</th>\n    </tr>\n    <tr>\n      <th>children</th>\n      <th></th>\n      <th></th>\n    </tr>\n  </thead>\n  <tbody>\n    <tr>\n      <th>0</th>\n      <td>14091</td>\n      <td>0.075</td>\n    </tr>\n    <tr>\n      <th>1</th>\n      <td>4808</td>\n      <td>0.092</td>\n    </tr>\n    <tr>\n      <th>2</th>\n      <td>2052</td>\n      <td>0.095</td>\n    </tr>\n    <tr>\n      <th>3</th>\n      <td>330</td>\n      <td>0.082</td>\n    </tr>\n    <tr>\n      <th>4</th>\n      <td>41</td>\n      <td>0.098</td>\n    </tr>\n    <tr>\n      <th>5</th>\n      <td>9</td>\n      <td>0.000</td>\n    </tr>\n  </tbody>\n</table>\n</div>",
                        "text/plain": "           debt       \n          count   mean\nchildren              \n0         14091  0.075\n1          4808  0.092\n2          2052  0.095\n3           330  0.082\n4            41  0.098\n5             9  0.000"
                    },
                    "metadata": {}
                }
            ],
            "execution_count": 378
        },
        {
            "cell_type": "markdown",
            "source": [
                "**Вывод:** 2: В среднем семьи имеющие трех детей возвращают наибольшую сумму по кредитам, затем семьи от 1 до 2 и семьи приносящие наименьший возврат от 4 и более детей. "
            ],
            "metadata": {
                "azdata_cell_guid": "4c5b9c26-b5ff-4cf2-abe6-70fea7ac6536"
            }
        },
        {
            "cell_type": "markdown",
            "source": [
                "#### 3.2 Есть ли зависимость между семейным положением и возвратом кредита в срок?"
            ],
            "metadata": {
                "deletable": false,
                "editable": false,
                "id": "97be82ca",
                "azdata_cell_guid": "33c0b8ea-4480-4711-bc9d-98724ab2a491"
            }
        },
        {
            "cell_type": "code",
            "source": [
                "data.groupby('family_status')['total_income'].mean().sort_values(ascending=False).astype(int)"
            ],
            "metadata": {
                "deletable": false,
                "id": "dc3f7ee8",
                "azdata_cell_guid": "50b234aa-4587-464e-a7ac-222af4b47bf1",
                "language": "python"
            },
            "outputs": [
                {
                    "output_type": "execute_result",
                    "execution_count": 379,
                    "data": {
                        "text/plain": "family_status\nв разводе                167955\nженат / замужем          166757\nНе женат / не замужем    166552\nгражданский брак         164819\nвдовец / вдова           142559\nName: total_income, dtype: int64"
                    },
                    "metadata": {}
                }
            ],
            "execution_count": 379
        },
        {
            "cell_type": "markdown",
            "source": [
                "**Вывод:** 1: Наиболее платежеспособные оказались в статусе \"в разводе\". Потерявщие супруга в среднем платят меньше по кредиту чем остальные категории семейного положения."
            ],
            "metadata": {
                "deletable": false,
                "id": "1cef7837",
                "azdata_cell_guid": "1a07c3bc-3d66-4b6a-99a6-b0399d92d39b"
            }
        },
        {
            "cell_type": "code",
            "source": [
                "data.groupby(['family_status']).agg({'debt': ['count', 'mean']}).round(3) #Второй анализ - выводим количество и средний процент "
            ],
            "metadata": {
                "azdata_cell_guid": "73b8a983-44fd-4076-9611-209979fec783",
                "language": "python"
            },
            "outputs": [
                {
                    "output_type": "execute_result",
                    "execution_count": 380,
                    "data": {
                        "text/html": "<div>\n<style scoped>\n    .dataframe tbody tr th:only-of-type {\n        vertical-align: middle;\n    }\n\n    .dataframe tbody tr th {\n        vertical-align: top;\n    }\n\n    .dataframe thead tr th {\n        text-align: left;\n    }\n\n    .dataframe thead tr:last-of-type th {\n        text-align: right;\n    }\n</style>\n<table border=\"1\" class=\"dataframe\">\n  <thead>\n    <tr>\n      <th></th>\n      <th colspan=\"2\" halign=\"left\">debt</th>\n    </tr>\n    <tr>\n      <th></th>\n      <th>count</th>\n      <th>mean</th>\n    </tr>\n    <tr>\n      <th>family_status</th>\n      <th></th>\n      <th></th>\n    </tr>\n  </thead>\n  <tbody>\n    <tr>\n      <th>Не женат / не замужем</th>\n      <td>2796</td>\n      <td>0.098</td>\n    </tr>\n    <tr>\n      <th>в разводе</th>\n      <td>1189</td>\n      <td>0.071</td>\n    </tr>\n    <tr>\n      <th>вдовец / вдова</th>\n      <td>951</td>\n      <td>0.066</td>\n    </tr>\n    <tr>\n      <th>гражданский брак</th>\n      <td>4134</td>\n      <td>0.093</td>\n    </tr>\n    <tr>\n      <th>женат / замужем</th>\n      <td>12261</td>\n      <td>0.076</td>\n    </tr>\n  </tbody>\n</table>\n</div>",
                        "text/plain": "                        debt       \n                       count   mean\nfamily_status                      \nНе женат / не замужем   2796  0.098\nв разводе               1189  0.071\nвдовец / вдова           951  0.066\nгражданский брак        4134  0.093\nженат / замужем        12261  0.076"
                    },
                    "metadata": {}
                }
            ],
            "execution_count": 380
        },
        {
            "cell_type": "markdown",
            "source": [
                "**Вывод:** 2 : Наиболее платежеспособные оказались в статусе \"вдовцы\". Состоящие не в официальном браке в среднем платят меньше по кредиту чем остальные категории семейного положения."
            ],
            "metadata": {
                "azdata_cell_guid": "75a5bc78-579c-4dc8-a59b-354ac324bda2"
            }
        },
        {
            "cell_type": "markdown",
            "source": [
                "#### 3.3 Есть ли зависимость между уровнем дохода и возвратом кредита в срок?"
            ],
            "metadata": {
                "deletable": false,
                "editable": false,
                "id": "1e8b2fca",
                "azdata_cell_guid": "a2344a17-07c2-497c-a230-fa0003269bdd"
            }
        },
        {
            "cell_type": "markdown",
            "source": [
                "Уровни дохода:\n",
                "\n",
                "0–30000 — 'E'\n",
                "\n",
                "30001–50000 — 'D'\n",
                "\n",
                "50001–200000 — 'C'\n",
                "\n",
                "200001–1000000 — 'B'\n",
                "\n",
                "1000001 и выше — 'A'\n"
            ],
            "metadata": {
                "azdata_cell_guid": "1b1d99f1-dcc5-4199-9779-92b568ebcd0e"
            }
        },
        {
            "cell_type": "code",
            "source": [
                "data.groupby('total_income_category')['debt'].sum().sort_values(ascending=False)"
            ],
            "metadata": {
                "deletable": false,
                "id": "cd7e3720",
                "azdata_cell_guid": "01fa4395-b2de-4046-91b0-320db8cd1351",
                "language": "python"
            },
            "outputs": [
                {
                    "output_type": "execute_result",
                    "execution_count": 381,
                    "data": {
                        "text/plain": "total_income_category\nC    1353\nB     354\nD      21\nA       2\nE       2\nName: debt, dtype: int64"
                    },
                    "metadata": {}
                }
            ],
            "execution_count": 381
        },
        {
            "cell_type": "markdown",
            "source": [
                "**Вывод:** У подавляющего большенства самые возвращаемые кредиты у людей с доходом С, далее категория В. Остальные категории населения прибигают к услугам не так часто."
            ],
            "metadata": {
                "deletable": false,
                "id": "e8593def",
                "azdata_cell_guid": "ef0008cb-9c6c-4c8f-b3b5-291366a3dd31"
            }
        },
        {
            "cell_type": "markdown",
            "source": [
                "#### 3.4 Как разные цели кредита влияют на его возврат в срок?"
            ],
            "metadata": {
                "deletable": false,
                "editable": false,
                "id": "99ecbd1f",
                "azdata_cell_guid": "6a70b3d1-af47-460c-b055-3e8bffbac521"
            }
        },
        {
            "cell_type": "code",
            "source": [
                "data.groupby('purpose_category')['total_income'].mean().sort_values(ascending=False).astype(int) #Первый анализ"
            ],
            "metadata": {
                "deletable": false,
                "id": "2b687290",
                "azdata_cell_guid": "19bc09cd-7095-4ac7-94ee-5f31cd10bb41",
                "language": "python"
            },
            "outputs": [
                {
                    "output_type": "execute_result",
                    "execution_count": 382,
                    "data": {
                        "text/plain": "purpose_category\nоперации с недвижимостью    166752\nоперации с автомобилем      165162\nпроведение свадьбы          163817\nполучение образования       162621\nName: total_income, dtype: int64"
                    },
                    "metadata": {}
                }
            ],
            "execution_count": 382
        },
        {
            "cell_type": "markdown",
            "source": [
                "**Вывод:**№1 Самым возвратным видом кредитования являются покупки недвижимости, а так же авто кредитование. Следющими по возвратности идет категория свадебных церемоний и получения образования."
            ],
            "metadata": {
                "deletable": false,
                "id": "b4bb2ce6",
                "azdata_cell_guid": "fa085813-cc07-4435-9c7d-215a655742a7"
            }
        },
        {
            "cell_type": "code",
            "source": [
                "#Второй анализ - выводим количество и средний процент\n",
                "data.groupby('purpose_category').agg({'debt':\n",
                "                                        ['count', 'mean']}).round(3).sort_values(by=[('debt', 'mean')\n",
                "                                                                                     ,('debt', 'count')], ascending=False)  "
            ],
            "metadata": {
                "azdata_cell_guid": "da47492e-d2f9-4017-89b2-988dbb352ebd",
                "language": "python"
            },
            "outputs": [
                {
                    "output_type": "execute_result",
                    "execution_count": 383,
                    "data": {
                        "text/html": "<div>\n<style scoped>\n    .dataframe tbody tr th:only-of-type {\n        vertical-align: middle;\n    }\n\n    .dataframe tbody tr th {\n        vertical-align: top;\n    }\n\n    .dataframe thead tr th {\n        text-align: left;\n    }\n\n    .dataframe thead tr:last-of-type th {\n        text-align: right;\n    }\n</style>\n<table border=\"1\" class=\"dataframe\">\n  <thead>\n    <tr>\n      <th></th>\n      <th colspan=\"2\" halign=\"left\">debt</th>\n    </tr>\n    <tr>\n      <th></th>\n      <th>count</th>\n      <th>mean</th>\n    </tr>\n    <tr>\n      <th>purpose_category</th>\n      <th></th>\n      <th></th>\n    </tr>\n  </thead>\n  <tbody>\n    <tr>\n      <th>операции с автомобилем</th>\n      <td>4279</td>\n      <td>0.093</td>\n    </tr>\n    <tr>\n      <th>получение образования</th>\n      <td>3988</td>\n      <td>0.093</td>\n    </tr>\n    <tr>\n      <th>проведение свадьбы</th>\n      <td>2313</td>\n      <td>0.079</td>\n    </tr>\n    <tr>\n      <th>операции с недвижимостью</th>\n      <td>10751</td>\n      <td>0.073</td>\n    </tr>\n  </tbody>\n</table>\n</div>",
                        "text/plain": "                           debt       \n                          count   mean\npurpose_category                      \nоперации с автомобилем     4279  0.093\nполучение образования      3988  0.093\nпроведение свадьбы         2313  0.079\nоперации с недвижимостью  10751  0.073"
                    },
                    "metadata": {}
                }
            ],
            "execution_count": 383
        },
        {
            "cell_type": "markdown",
            "source": [
                "**Вывод:**№2.1 Самым частыми должниками  по среднему показателю в категории являются авто кредитование, а так же получение образования. Следющими по задолженности идут категории свадебных церемоний и операций с недвижимостью."
            ],
            "metadata": {
                "azdata_cell_guid": "0d65f1a8-915a-4864-ae7f-bef81c5b14bc"
            }
        },
        {
            "cell_type": "markdown",
            "source": [
                "#### 3.5 Приведите возможные причины появления пропусков в исходных данных."
            ],
            "metadata": {
                "deletable": false,
                "editable": false,
                "id": "09c3ac4c",
                "azdata_cell_guid": "80c38691-2624-4c1b-9dce-08a4d78b41ab"
            }
        },
        {
            "cell_type": "markdown",
            "source": [
                "*Ответ:* \n",
                "1. Ошибки при заполнении данных пользователем.\n",
                "2. Допущение программы ввода некорретных значений.\n",
                "3. Выгрузка данных произведена с ошибками или не корректно.\n",
                "4. При сращивании нескольких файлов использовали не внутреннее соедниение таблиц.\n",
                "5. Оставили намеренно для полноты данных."
            ],
            "metadata": {
                "deletable": false,
                "id": "9da2ceda",
                "azdata_cell_guid": "d91d2da6-4a9e-4f89-87e4-ffe009df4664"
            }
        },
        {
            "cell_type": "markdown",
            "source": [
                "#### 3.6 Объясните, почему заполнить пропуски медианным значением — лучшее решение для количественных переменных."
            ],
            "metadata": {
                "deletable": false,
                "editable": false,
                "id": "7b0487d6",
                "azdata_cell_guid": "783e465f-ccd6-4f23-993a-34c60cfe76c4"
            }
        },
        {
            "cell_type": "markdown",
            "source": [
                "*Ответ:* Лушче всего заполнять медианным зачением т.к. оно показывает средний заработок без аномалий и выбросов, а так же не дает сильного искажения в понимании представленных значений."
            ],
            "metadata": {
                "deletable": false,
                "id": "7ecf2b8e",
                "azdata_cell_guid": "a21b9334-95cd-4473-ba6e-646d2ddf61fa"
            }
        },
        {
            "cell_type": "markdown",
            "source": [
                "### Шаг 4: общий вывод."
            ],
            "metadata": {
                "deletable": false,
                "editable": false,
                "id": "6db5255a",
                "azdata_cell_guid": "c694f100-5c39-4a0c-b1a5-a32747e64ba0"
            }
        },
        {
            "cell_type": "markdown",
            "source": [
                "Среди представленного набора данных, мы выяснили что у клиентов банка имеются определенные зависимости между количеством дитей, целям взятия кредита, семейным положением, а так же уровнем дохода, которые в свою очередь влияют на возврат кредита в срок. Для рекомендаций: нужно обратить внимание на программу кредитования для наболее платежеспособного населения, а так же клиентов не имеющих детей для разработки и превлечения наиболее выгодных условий выдачи займа."
            ],
            "metadata": {
                "deletable": false,
                "id": "bad65432",
                "azdata_cell_guid": "48ce0bd3-0c44-43cc-ab5f-2f71c97f3f37"
            }
        }
    ]
}