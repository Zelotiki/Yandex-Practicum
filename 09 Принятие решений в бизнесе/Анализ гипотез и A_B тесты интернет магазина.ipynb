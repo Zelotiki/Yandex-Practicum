{
 "cells": [
  {
   "cell_type": "markdown",
   "metadata": {},
   "source": [
    "<div style=\"border:solid Chocolate 2px; padding: 40px\">\n",
    "\n",
    "<b> Вадим, привет!👋</b>\n",
    "\n",
    "Меня зовут Алексей Гриб, и я буду ревьюером твоего проекта. \n",
    "\n",
    "Сразу хочу предложить в дальнейшем общаться на \"ты\" - надеюсь, так будет комфортнее:) Но если это неудобно, обязательно дай знать, и мы придумаем что-нибудь ещё!\n",
    "    \n",
    "Цель ревью - не искать ошибки в твоём проекте, а помочь тебе сделать твою работу ещё лучше, устранив недочёты и приблизив её к реальным задачам аналитика. Поэтому не расстраивайся, если что-то не получилось с первого раза - это нормально, и это поможет тебе вырасти!\n",
    "    \n",
    "Ты можешь найти мои комментарии, обозначенные <font color='green'>зеленым</font>, <font color='gold'>желтым</font> и <font color='red'>красным</font> цветами, например:\n",
    "\n",
    "<br/>\n",
    "\n",
    "<div class=\"alert alert-success\">\n",
    "<h2> Комментарий ревьюера <a class=\"tocSkip\"> </h2>\n",
    "\n",
    "<b>Все отлично!👍:</b> похвала, рекомендации «со звёздочкой», полезные лайфхаки, которые сделают и без того красивое решение ещё более элегантным.\n",
    "</div>\n",
    "\n",
    "<br/>\n",
    "\n",
    "<div class=\"alert alert-warning\">\n",
    "    <h2> Комментарий ревьюера <a class=\"tocSkip\"> </h2>\n",
    "    \n",
    "<b>Некоторые замечания и рекомендации⚠️:</b> некритичные ошибки или развивающие рекомендации на будущее. \n",
    "</div>\n",
    "\n",
    "\n",
    "<br/>\n",
    "<div class=\"alert alert-block alert-danger\">\n",
    "<h2> Комментарий ревьюера <a class=\"tocSkip\"></h2>\n",
    "\n",
    "    \n",
    "<b>На доработку❌:</b>\n",
    "Критичные ошибки, которые обязательно нужно исправить.\n",
    "</div>\n",
    "\n",
    "Я не смогу принять проект, если в нём будет хотя бы одна критичная ошибка или несколько некритичных ошибок - тогда проект нужно будет немного доработать. Но это нестрашно - я обязательно дам тебе подсказку или укажу верное направление.\n",
    "    \n",
    "Пожалуйста, не удаляй мои комментарии, они будут особенно полезны для нашей работы в случае повторной проверки проекта. \n",
    "    \n",
    "Ты также можешь задавать свои вопросы, реагировать на мои комментарии, делать пометки и пояснения - полная творческая свобода! Но маленькая просьба - пускай они будут отличаться от моих комментариев, это поможет избежать путаницы в нашем общении:)\n",
    "Например, вот так:\n",
    "    \n",
    "<div class=\"alert alert-info\">\n",
    "<h2> Комментарий студента <a class=\"tocSkip\"> </h2>\n",
    "\n",
    "*твой текст*\n",
    "</div>\n",
    "    \n",
    "Давай посмотрим на твой проект!"
   ]
  },
  {
   "cell_type": "markdown",
   "metadata": {
    "id": "fRHaFtaOQav5"
   },
   "source": [
    "# Шаг 0. Описание проекта"
   ]
  },
  {
   "cell_type": "markdown",
   "metadata": {
    "id": "-If04HF-C_TJ"
   },
   "source": [
    "## Описание данных\n",
    "\n",
    "### Файл hypothesis.csv.\n",
    "- Hypothesis — краткое описание гипотезы;\n",
    "- Reach — охват пользователей по 10-балльной шкале;\n",
    "- Impact — влияние на пользователей по 10-балльной шкале;\n",
    "- Confidence — уверенность в гипотезе по 10-балльной шкале;\n",
    "- Efforts — затраты ресурсов на проверку гипотезы по 10-балльной шкале. Чем больше значение Efforts, тем дороже проверка гипотезы.\n",
    "\n",
    "### Файл orders.csv. \n",
    "- transactionId — идентификатор заказа;\n",
    "- visitorId — идентификатор пользователя, совершившего заказ;\n",
    "- date — дата, когда был совершён заказ;\n",
    "- revenue — выручка заказа;\n",
    "- group — группа A/B-теста, в которую попал заказ.\n",
    "\n",
    "### Файл visitors.csv. \n",
    "- date — дата;\n",
    "- group — группа A/B-теста;\n",
    "- visitors — количество пользователей в указанную дату в указанной группе A/B-теста\n",
    "\n",
    "# Описание проекта\n",
    "Вы — аналитик крупного интернет-магазина. Вместе с отделом маркетинга вы подготовили список гипотез для увеличения выручки.\n",
    "Приоритизируйте гипотезы, запустите A/B-тест и проанализируйте результаты. \n",
    "### Часть 1. Приоритизация гипотез.\n",
    "В файле hypothesis.csv 9 гипотез по увеличению выручки интернет-магазина с указанными параметрами Reach, Impact, Confidence, Effort.\n",
    "#### Задача\n",
    "- Примените фреймворк ICE для приоритизации гипотез. Отсортируйте их по убыванию приоритета.\n",
    "- Примените фреймворк RICE для приоритизации гипотез. Отсортируйте их по убыванию приоритета.\n",
    "- Укажите, как изменилась приоритизация гипотез при применении RICE вместо ICE. Объясните, почему так произошло.\n",
    "\n",
    "### Часть 2. Анализ A/B-теста\n",
    "Вы провели A/B-тест и получили результаты, которые описаны в файлах orders.csv и visitors.csv.\n",
    "#### Задача\n",
    "##### Проанализировать A/B-тест:\n",
    "1. Постройте график кумулятивной выручки по группам. Сделайте выводы и предположения.\n",
    "2. Постройте график кумулятивного среднего чека по группам. Сделайте выводы и предположения.\n",
    "3. Постройте график относительного изменения кумулятивного среднего чека группы B к группе A. Сделайте выводы и предположения.\n",
    "4. Постройте график кумулятивного среднего количества заказов на посетителя по группам. Сделайте выводы и предположения.\n",
    "5. Постройте график относительного изменения кумулятивного среднего количества заказов на посетителя группы B к группе A. Сделайте выводы и предположения.\n",
    "6. Постройте точечный график количества заказов по пользователям. Сделайте выводы и предположения.\n",
    "7. Посчитайте 95-й и 99-й перцентили количества заказов на пользователя. Выберите границу для определения аномальных пользователей.\n",
    "8. Постройте точечный график стоимостей заказов. Сделайте выводы и предположения.\n",
    "9. Посчитайте 95-й и 99-й перцентили стоимости заказов. Выберите границу для определения аномальных заказов.\n",
    "10. Посчитайте статистическую значимость различий в среднем количестве заказов на посетителя между группами по «сырым» данным. Сделайте выводы и предположения.\n",
    "11. Посчитайте статистическую значимость различий в среднем чеке заказа между группами по «сырым» данным. Сделайте выводы и предположения.\n",
    "12. Посчитайте статистическую значимость различий в среднем количестве заказов на посетителя между группами по «очищенным» данным. Сделайте выводы и предположения.\n",
    "13. Посчитайте статистическую значимость различий в среднем чеке заказа между группами по «очищенным» данным. Сделайте выводы и предположения.\n",
    "14. Примите решение по результатам теста и объясните его. Варианты решений:\n",
    "    1. Остановить тест, зафиксировать победу одной из групп.\n",
    "    2. Остановить тест, зафиксировать отсутствие различий между группами.\n",
    "    3. Продолжить тест.\n",
    "\n",
    "\n",
    "Критерии оценки проекта:\n",
    "\n",
    "- На что обращают внимание, когда проверяют проект:\n",
    "- Как вы готовите данные к анализу?\n",
    "- Как вы проводите приоритизацию гипотез?\n",
    "- Как вы интерпретируете полученные графики?\n",
    "- Как вы рассчитываете статистическую значимость?\n",
    "- Какие выводы вы делаете по результатам A/B-теста?\n",
    "- Соблюдаете ли вы структуру проекта и поддерживаете аккуратность кода?\n",
    "- Делаете ли подписи к графикам?\n",
    "- Какие выводы вы делаете?\n",
    "- Оставляете ли вы комментарии к шагам?"
   ]
  },
  {
   "cell_type": "markdown",
   "metadata": {},
   "source": [
    "<div class=\"alert alert-success\">\n",
    "<h2> Комментарий ревьюера <a class=\"tocSkip\"> </h2>\n",
    "\n",
    "<b>Все отлично!👍:</b> Есть небольшое вступление - хороший старт.\n",
    "    \n",
    "Спасибо, что есть оглавление в плагине toc - по проекту удобно перемещаться:)"
   ]
  },
  {
   "cell_type": "markdown",
   "metadata": {
    "id": "P8GcQVILPs4n"
   },
   "source": [
    "# Шаг 1. Подготовка данных к анализу."
   ]
  },
  {
   "cell_type": "markdown",
   "metadata": {
    "id": "QOfHT1zzRfO2"
   },
   "source": [
    "## Загрузка данных"
   ]
  },
  {
   "cell_type": "code",
   "execution_count": 1,
   "metadata": {
    "id": "d97zfGXdCxsR"
   },
   "outputs": [],
   "source": [
    "import pandas as pd\n",
    "import matplotlib.pyplot as plt\n",
    "import numpy as np\n",
    "import seaborn as sns\n",
    "import datetime as dt\n",
    "from datetime import datetime, timedelta\n",
    "import scipy.stats as stats"
   ]
  },
  {
   "cell_type": "markdown",
   "metadata": {},
   "source": [
    "<div class=\"alert alert-success\">\n",
    "<h2> Комментарий ревьюера <a class=\"tocSkip\"> </h2>\n",
    "\n",
    "<b>Все отлично!👍:</b> Библиотеки импортировали - отлично! Спасибо, что перезапускаешь проект перед отправкой на ревью - это важный шаг, который поможет избежать простых и досадных ошибок при воспроизведении решнеия:)\n",
    "</div>"
   ]
  },
  {
   "cell_type": "code",
   "execution_count": 2,
   "metadata": {
    "id": "IlvqHL6EpZgP"
   },
   "outputs": [],
   "source": [
    "orders = pd.read_csv('/datasets/orders.csv')\n",
    "hypothesis = pd.read_csv('/datasets/hypothesis.csv')\n",
    "visitors = pd.read_csv('/datasets/visitors.csv')"
   ]
  },
  {
   "cell_type": "markdown",
   "metadata": {},
   "source": [
    "<div class=\"alert alert-success\">\n",
    "<h2> Комментарий ревьюера <a class=\"tocSkip\"> </h2>\n",
    "\n",
    "<b>Все отлично!👍</b> \n",
    "    \n",
    "Данные загрузили.\n",
    "    \n",
    "При считывании данных из файла здорово перестраховывать себя от ошибок, связанных, например, с неверным указанием пути к файлу. А иногда бывает, что работаешь с файлом локально, выгружаешь его на сервер, ожидая, что он будет принимать данные, которые лежат на том же сервере, а код падает с ошибкой, потому что путь к файлу не поменялся с локального на серверный.\n",
    "    \n",
    "Для этого, например, можно использовать конструкцию `try-except`: сначала пробуешь локальный путь, при возникновении ошибки используется серверный путь (подробнее можешь почитать тут: https://pythonworld.ru/tipy-dannyx-v-python/isklyucheniya-v-python-konstrukciya-try-except-dlya-obrabotki-isklyuchenij.html).\n",
    "    \n",
    "Но еще лучше использовать библиотеку `os` - её использование позволит тебе проверять существование указанных директорий (что может быть актуально при одновременной работа на локальном и сетевом окружении) и загружать данные из существующей директории, избегая ошибок. Как пример:\n",
    "    \n",
    "    import os\n",
    "\n",
    "    pth1 = '/folder_1/data.csv'\n",
    "    pth2 = '/folder_2/data.csv'\n",
    "    \n",
    "    if os.path.exists(pth1):\n",
    "        query_1 = pd.read_csv(pth1)\n",
    "    elif os.path.exists(pth2):\n",
    "        query_1 = pd.read_csv(pth2)\n",
    "    else:\n",
    "        print('Something is wrong')\n",
    "\n",
    "Также ещё на этапе считывания данных можно спарсить дату: за это действие отвечает параметр `parse_dates` метода `read_csv()`, в него нужно передать список с названием полей-дат, и в большинстве случаев дата будет корректно преобразована в нужный формат сразу:) \n",
    "</div>"
   ]
  },
  {
   "cell_type": "markdown",
   "metadata": {
    "id": "euszxDoqRX9O"
   },
   "source": [
    "## Предобработка данных"
   ]
  },
  {
   "cell_type": "code",
   "execution_count": 3,
   "metadata": {
    "colab": {
     "base_uri": "https://localhost:8080/"
    },
    "id": "dGOcoIICN17h",
    "outputId": "ef8021f4-258e-44c9-e510-12e00dc87ff3"
   },
   "outputs": [
    {
     "name": "stdout",
     "output_type": "stream",
     "text": [
      "<class 'pandas.core.frame.DataFrame'>\n",
      "RangeIndex: 1197 entries, 0 to 1196\n",
      "Data columns (total 5 columns):\n",
      " #   Column          Non-Null Count  Dtype         \n",
      "---  ------          --------------  -----         \n",
      " 0   id_transaction  1197 non-null   int64         \n",
      " 1   id_visitor      1197 non-null   int64         \n",
      " 2   date            1197 non-null   datetime64[ns]\n",
      " 3   revenue         1197 non-null   int64         \n",
      " 4   group           1197 non-null   object        \n",
      "dtypes: datetime64[ns](1), int64(3), object(1)\n",
      "memory usage: 46.9+ KB\n",
      "Пропусков 0\n",
      "Дубликатов 0\n"
     ]
    }
   ],
   "source": [
    "# приводим все в нижний регистр\n",
    "orders.columns = orders.columns.str.lower()\n",
    "# меняем назавание у идентификаторов транзакций и визитов\n",
    "orders.rename(columns={'transactionid':'id_transaction', \n",
    "                       'visitorid':'id_visitor'},\n",
    "                        inplace = True)\n",
    "orders['date'] = orders['date'].map(lambda x: dt.datetime.strptime(x, '%Y-%m-%d'))\n",
    "orders.info()\n",
    "print('Пропусков', orders.isna().sum().sum())\n",
    "print('Дубликатов', orders.duplicated().sum())"
   ]
  },
  {
   "cell_type": "code",
   "execution_count": 4,
   "metadata": {
    "colab": {
     "base_uri": "https://localhost:8080/"
    },
    "id": "km_cj0Q_Mub6",
    "outputId": "95cafe0e-cb4d-4885-f9a9-02a4429b09cc"
   },
   "outputs": [
    {
     "name": "stdout",
     "output_type": "stream",
     "text": [
      "<class 'pandas.core.frame.DataFrame'>\n",
      "RangeIndex: 9 entries, 0 to 8\n",
      "Data columns (total 5 columns):\n",
      " #   Column      Non-Null Count  Dtype \n",
      "---  ------      --------------  ----- \n",
      " 0   hypothesis  9 non-null      object\n",
      " 1   reach       9 non-null      int64 \n",
      " 2   impact      9 non-null      int64 \n",
      " 3   confidence  9 non-null      int64 \n",
      " 4   efforts     9 non-null      int64 \n",
      "dtypes: int64(4), object(1)\n",
      "memory usage: 488.0+ bytes\n",
      "Пропусков 0\n",
      "Дубликатов 0\n"
     ]
    }
   ],
   "source": [
    "hypothesis.columns = hypothesis.columns.str.lower()\n",
    "hypothesis.info()\n",
    "print('Пропусков', hypothesis.isna().sum().sum())\n",
    "print('Дубликатов', hypothesis.duplicated().sum())"
   ]
  },
  {
   "cell_type": "code",
   "execution_count": 5,
   "metadata": {
    "colab": {
     "base_uri": "https://localhost:8080/"
    },
    "id": "_ostqFZ1Lrhu",
    "outputId": "4101202d-3651-46bb-95c1-b247a0a615d4",
    "scrolled": false
   },
   "outputs": [
    {
     "name": "stdout",
     "output_type": "stream",
     "text": [
      "<class 'pandas.core.frame.DataFrame'>\n",
      "RangeIndex: 62 entries, 0 to 61\n",
      "Data columns (total 3 columns):\n",
      " #   Column    Non-Null Count  Dtype         \n",
      "---  ------    --------------  -----         \n",
      " 0   date      62 non-null     datetime64[ns]\n",
      " 1   group     62 non-null     object        \n",
      " 2   visitors  62 non-null     int64         \n",
      "dtypes: datetime64[ns](1), int64(1), object(1)\n",
      "memory usage: 1.6+ KB\n",
      "Пропусков 0\n",
      "Дубликатов 0\n"
     ]
    }
   ],
   "source": [
    "visitors['date'] = visitors['date'].map(lambda x: dt.datetime.strptime(x, '%Y-%m-%d'))\n",
    "visitors.info()\n",
    "print('Пропусков', visitors.isna().sum().sum())\n",
    "print('Дубликатов', visitors.duplicated().sum())"
   ]
  },
  {
   "cell_type": "code",
   "execution_count": 6,
   "metadata": {
    "scrolled": true
   },
   "outputs": [
    {
     "name": "stdout",
     "output_type": "stream",
     "text": [
      "Количество пользователей, состоящие в 2-ух группах одновременно: 58 человек \n",
      "Доля пользователей, состоящие в 2-ух группах: 5.63%\n"
     ]
    }
   ],
   "source": [
    "duplicated_users = (orders.groupby('id_visitor').agg({'group': 'nunique'}) > 1).sum().item()\n",
    "\n",
    "print('Количество пользователей, состоящие в 2-ух группах одновременно:', f'{duplicated_users} человек',\n",
    "      '\\nДоля пользователей, состоящие в 2-ух группах: %.2f%%' % (duplicated_users / orders['id_visitor'].nunique() * 100))"
   ]
  },
  {
   "cell_type": "markdown",
   "metadata": {},
   "source": [
    "Количество пересекающихся пользователей не критично, но нужно будет учитывать их при разбросе аномальных значений, провести сравнение по сырым данным и с отсеяными пользователями."
   ]
  },
  {
   "cell_type": "markdown",
   "metadata": {},
   "source": [
    "<div class=\"alert alert-success\">\n",
    "<h2> Комментарий ревьюера <a class=\"tocSkip\"> </h2>\n",
    "\n",
    "<b>Все отлично!👍:</b> Данные осмотрели, проверили пропуски и дубликаты, преобразовали дату и столбцы - отлично!"
   ]
  },
  {
   "cell_type": "markdown",
   "metadata": {},
   "source": [
    "<div class=\"alert alert-warning\">\n",
    "    <h2> Комментарий ревьюера <a class=\"tocSkip\"> </h2>\n",
    "    \n",
    "<b>Некоторые замечания и рекомендации⚠️:</b> \n",
    "\n",
    "При анализе А/В тестов очень важно отвтетить на следующие вопросы:\n",
    "- сколько у нас групп в А/В тесте - важно понять, парный он или множественный;\n",
    "- даты начала и окончания теста - не помешает в целом понимание временных рамок теста, а также в случае, если у нас есть информация о том, как тест был запроектирован, важно сравнить даты его фактического проведения с запланированными;\n",
    "- сколько пользователей в каждой группе (по таблице с заказами) - поможет сделать вывод о сбалансированности групп по числу пользователей.\n",
    "         \n",
    "</div>"
   ]
  },
  {
   "cell_type": "markdown",
   "metadata": {},
   "source": [
    "<div class=\"alert alert-block alert-danger\">\n",
    "<h2> Комментарий ревьюера <a class=\"tocSkip\"></h2>\n",
    "\n",
    "    \n",
    "<b>На доработку❌:</b>\n",
    "\n",
    "Очень важно также проверить, нет ли в данных пользователей, участвовавших в нескольких группах теста одновременно - это иногда случается в реальных А/В тестах из-за технических ошибок в распределяющей системе, и такие моменты важно отлавливать, потому что пользователи, участвующие в нескольких группах, не позволят проверсти корректное сравнение среднего количества заказов на посетителя между группами: если, например, пользователь, участвующий в обоих группах, совершил целевое событие, мы не сможем оценить, повлияло на это нововведение в системе, или это стандартное повдение пользователя.\n",
    "    \n",
    "Если такие пользователи найдутся, тебе, как аналитику, важно сделать вывод и принять решение о том, как дальше работать с такими пользователями - удалить из данных или продолжить работать с данными с учётом таких пользователей."
   ]
  },
  {
   "cell_type": "markdown",
   "metadata": {},
   "source": [
    "<div class=\"alert alert-info\">\n",
    "<h2> Комментарий студента <a class=\"tocSkip\"> </h2>\n",
    "Добавил расчет уникального количества пользователей на группу, определил их количество и значимость \n",
    "</div>"
   ]
  },
  {
   "cell_type": "markdown",
   "metadata": {},
   "source": [
    "<div class=\"alert alert-success\">\n",
    "<h2> Комментарий ревьюера v.2 <a class=\"tocSkip\"> </h2>\n",
    "\n",
    "<b>Все отлично!👍:</b> Учтено."
   ]
  },
  {
   "cell_type": "markdown",
   "metadata": {
    "id": "oDmXpeb7Qvt-"
   },
   "source": [
    "# Шаг 2. Приоритизация гипотез."
   ]
  },
  {
   "cell_type": "markdown",
   "metadata": {
    "id": "ByFMM8cqRUA3"
   },
   "source": [
    "9 гипотез по увеличению выручки интернет-магазина с указанными параметрами Reach, Impact, Confidence, Effort.\n",
    "\n",
    "Задача:\n",
    "Примените фреймворк ICE для приоритизации гипотез. Отсортируйте их по убыванию приоритета.\n",
    "Примените фреймворк RICE для приоритизации гипотез. Отсортируйте их по убыванию приоритета.\n",
    "Укажите, как изменилась приоритизация гипотез при применении RICE вместо ICE. Объясните, почему так произошло."
   ]
  },
  {
   "cell_type": "markdown",
   "metadata": {
    "id": "30STJElGQdRb"
   },
   "source": [
    "## Применяем фреймворк ICE"
   ]
  },
  {
   "cell_type": "code",
   "execution_count": 7,
   "metadata": {
    "colab": {
     "base_uri": "https://localhost:8080/"
    },
    "id": "omX6uWQlRKfn",
    "outputId": "f4fbdad9-a77f-4de2-fa74-8308f1d6abf3"
   },
   "outputs": [
    {
     "name": "stdout",
     "output_type": "stream",
     "text": [
      "                                          hypothesis        ICE\n",
      "8  Запустить акцию, дающую скидку на товар в день...  16.200000\n",
      "0  Добавить два новых канала привлечения трафика,...  13.333333\n",
      "7  Добавить форму подписки на все основные страни...  11.200000\n",
      "6  Показать на главной странице баннеры с актуаль...   8.000000\n",
      "2  Добавить блоки рекомендаций товаров на сайт ин...   7.000000\n",
      "1  Запустить собственную службу доставки, что сок...   2.000000\n",
      "5  Добавить страницу отзывов клиентов о магазине,...   1.333333\n",
      "3  Изменить структура категорий, что увеличит кон...   1.125000\n",
      "4  Изменить цвет фона главной страницы, чтобы уве...   1.000000\n"
     ]
    }
   ],
   "source": [
    "hypothesis['ICE'] = (hypothesis['impact'] * hypothesis['confidence'] / hypothesis['efforts'])\n",
    "print(hypothesis[['hypothesis', 'ICE']].sort_values(by='ICE', ascending=False))"
   ]
  },
  {
   "cell_type": "markdown",
   "metadata": {},
   "source": [
    "<div class=\"alert alert-success\">\n",
    "<h2> Комментарий ревьюера <a class=\"tocSkip\"> </h2>\n",
    "\n",
    "<b>Все отлично!👍:</b> Приоритизация по ICE в порядке!"
   ]
  },
  {
   "cell_type": "markdown",
   "metadata": {},
   "source": [
    "<div class=\"alert alert-warning\">\n",
    "    <h2> Комментарий ревьюера <a class=\"tocSkip\"> </h2>\n",
    "    \n",
    "<b>Некоторые замечания и рекомендации⚠️:</b> \n",
    "\n",
    "1. Значение метрики стоит округлить до двух знаков после запятой.\n",
    "2. Метод `.print()` не очень подходит для работы с таблицами типа `pd.DataFrame`, так как выводит их на экран просто как отформатированный текст. Для отображения небольших таблиц можно воспользоваться методом `.head()`, для таблиц побольше - модулем `display`."
   ]
  },
  {
   "cell_type": "markdown",
   "metadata": {
    "id": "DZAajMh2QyDa"
   },
   "source": [
    "## Применяем фреймворк RICE"
   ]
  },
  {
   "cell_type": "code",
   "execution_count": 8,
   "metadata": {
    "colab": {
     "base_uri": "https://localhost:8080/"
    },
    "id": "vaQcMWeL0G8q",
    "outputId": "0c010b07-166b-4345-c6c2-7d2042bbb997"
   },
   "outputs": [
    {
     "name": "stdout",
     "output_type": "stream",
     "text": [
      "                                          hypothesis   RICE\n",
      "7  Добавить форму подписки на все основные страни...  112.0\n",
      "2  Добавить блоки рекомендаций товаров на сайт ин...   56.0\n",
      "0  Добавить два новых канала привлечения трафика,...   40.0\n",
      "6  Показать на главной странице баннеры с актуаль...   40.0\n",
      "8  Запустить акцию, дающую скидку на товар в день...   16.2\n",
      "3  Изменить структура категорий, что увеличит кон...    9.0\n",
      "1  Запустить собственную службу доставки, что сок...    4.0\n",
      "5  Добавить страницу отзывов клиентов о магазине,...    4.0\n",
      "4  Изменить цвет фона главной страницы, чтобы уве...    3.0\n"
     ]
    }
   ],
   "source": [
    "hypothesis['RICE'] = hypothesis['reach'] * hypothesis['impact'] * hypothesis['confidence'] / hypothesis['efforts']\n",
    "print(hypothesis[['hypothesis', 'RICE']].sort_values(by='RICE', ascending=False))"
   ]
  },
  {
   "cell_type": "markdown",
   "metadata": {},
   "source": [
    "<div class=\"alert alert-success\">\n",
    "<h2> Комментарий ревьюера <a class=\"tocSkip\"> </h2>\n",
    "\n",
    "<b>Все отлично!👍:</b> Приоритизация по RICE выполнена."
   ]
  },
  {
   "cell_type": "markdown",
   "metadata": {
    "id": "8CkFAL7Z0Xmp"
   },
   "source": [
    "**Вывод**: \n",
    "Преоритезация у гепотиз по фреймворку ICE имеет порядок:\n",
    "- Акция, дающуя скидку\n",
    "- Два новых канала привлечения трафика\n",
    "- Формы подписки на все основные страницы\n",
    "Преоритезация у гепотиз по фреймворку RICE имеет порядок:\n",
    "- Форма подписки на все основные страницы \n",
    "- Блоки рекомендаций товаров на сайт \n",
    "- Два новых канала привлечения трафика \n",
    "\n",
    "Почему сменилась преоритезация у фреймворков:\n",
    "Основная прчина в том, что метод RICE в отличии ICE включает в себя количество пользователей которое затронет изменение и при большем значении он показывает как аудитория может оказывать влияние на результат.\n",
    "\n",
    "\n",
    "\n"
   ]
  },
  {
   "cell_type": "markdown",
   "metadata": {},
   "source": [
    "<div class=\"alert alert-success\">\n",
    "<h2> Комментарий ревьюера <a class=\"tocSkip\"> </h2>\n",
    "\n",
    "<b>Все отлично!👍:</b> Пояснили различия фреймворков, а также интерпретировали различия в приоритетах гипотез - отлично!"
   ]
  },
  {
   "cell_type": "markdown",
   "metadata": {
    "id": "8cp47z3O0auZ"
   },
   "source": [
    "# Шаг 3. Анализ A/B-теста"
   ]
  },
  {
   "cell_type": "markdown",
   "metadata": {
    "id": "80qBpJ27VBNp"
   },
   "source": [
    "## Делаем разбивку на группы и производим рассчет "
   ]
  },
  {
   "cell_type": "code",
   "execution_count": 9,
   "metadata": {
    "colab": {
     "base_uri": "https://localhost:8080/"
    },
    "id": "ZUWnBCWP0iMF",
    "outputId": "aeab164f-41e8-4a2c-c20e-7954bbdd1902"
   },
   "outputs": [
    {
     "name": "stdout",
     "output_type": "stream",
     "text": [
      "        date group  orders  buyers  revenue  visitors\n",
      "0 2019-08-01     A      24      20   148579       719\n",
      "1 2019-08-01     B      21      20   101217       713\n",
      "2 2019-08-02     A      44      38   242401      1338\n",
      "3 2019-08-02     B      45      43   266748      1294\n",
      "4 2019-08-03     A      68      62   354874      1845\n"
     ]
    }
   ],
   "source": [
    "# создаем массив уникальных пар значений дат и групп теста\n",
    "datesGroups = orders[['date','group']].drop_duplicates()\n",
    "\n",
    "# получаем агрегированные кумулятивные по дням данные о заказах \n",
    "ordersAggregated = datesGroups.apply(lambda x: orders[np.logical_and(orders['date'] <= x['date'], \n",
    "                                                                     orders['group'] == x['group'])].agg({'date' : 'max', \n",
    "                                                                                                          'group' : 'max', \n",
    "                                                                                                          'id_transaction' : 'nunique', \n",
    "                                                                                                          'id_visitor' : 'nunique', \n",
    "                                                                                                          'revenue' : 'sum'}), axis=1).sort_values(by=['date',\n",
    "                                                                                                                                                       'group'])\n",
    "\n",
    "# получаем агрегированные кумулятивные по дням данные о посетителях интернет-магазина \n",
    "visitorsAggregated = datesGroups.apply(lambda x: visitors[np.logical_and(visitors['date'] <= x['date'], visitors['group'] == x['group'])].agg({'date' : 'max', \n",
    "                                                                                                                                               'group' : 'max', \n",
    "                                                                                                                                               'visitors' : 'sum'}), axis=1).sort_values(by=['date',\n",
    "                                                                                                                                                                                             'group'])\n",
    "\n",
    "# объединяем кумулятивные данные в одной таблице и присваиваем ее столбцам понятные названия\n",
    "cumulativeData = ordersAggregated.merge(visitorsAggregated, left_on=['date', \n",
    "                                                                     'group'], right_on=['date', \n",
    "                                                                                         'group'])\n",
    "cumulativeData.columns = ['date', \n",
    "                          'group', \n",
    "                          'orders', \n",
    "                          'buyers', \n",
    "                          'revenue', \n",
    "                          'visitors']\n",
    "\n",
    "print(cumulativeData.head(5))"
   ]
  },
  {
   "cell_type": "markdown",
   "metadata": {},
   "source": [
    "<div class=\"alert alert-success\">\n",
    "<h2> Комментарий ревьюера <a class=\"tocSkip\"> </h2>\n",
    "\n",
    "<b>Все отлично!👍:</b> Кумулятивные данные собрали - отлично!"
   ]
  },
  {
   "cell_type": "markdown",
   "metadata": {
    "id": "AxV7voAZYt-x"
   },
   "source": [
    "Заметно что при равном росте количества посетителей в группе А покупок совершали больше чем в группе Б. Взглянем на график."
   ]
  },
  {
   "cell_type": "markdown",
   "metadata": {
    "id": "pwxkJtogU9kC"
   },
   "source": [
    "## График кумулятивной выручки по группам"
   ]
  },
  {
   "cell_type": "code",
   "execution_count": 10,
   "metadata": {
    "colab": {
     "base_uri": "https://localhost:8080/",
     "height": 0
    },
    "id": "9HopjGaNBmNi",
    "outputId": "bc9fbcf2-99d2-4cdc-cf6a-2dd7c67e6044"
   },
   "outputs": [
    {
     "data": {
      "image/png": "[encoded data removed]",
      "text/plain": [
       "<Figure size 1440x504 with 1 Axes>"
      ]
     },
     "metadata": {
      "needs_background": "light"
     },
     "output_type": "display_data"
    }
   ],
   "source": [
    "plt.figure(figsize=(20, 7))\n",
    "# датафрейм с кумулятивным количеством заказов и кумулятивной выручкой по дням в группе А\n",
    "cumulativeRevenueA = cumulativeData[cumulativeData['group']=='A'][['date','revenue', 'orders']]\n",
    "\n",
    "# датафрейм с кумулятивным количеством заказов и кумулятивной выручкой по дням в группе B\n",
    "cumulativeRevenueB = cumulativeData[cumulativeData['group']=='B'][['date','revenue', 'orders']]\n",
    "\n",
    "# Строим график выручки группы А\n",
    "plt.plot(cumulativeRevenueA['date'], cumulativeRevenueA['revenue'], label='A')\n",
    "\n",
    "# Строим график выручки группы B\n",
    "plt.plot(cumulativeRevenueB['date'], cumulativeRevenueB['revenue'], label='B')\n",
    "\n",
    "plt.xlabel('Дата')\n",
    "plt.ylabel('Выручка')\n",
    "plt.title('График кумулятивной выручки по группам')\n",
    "plt.legend();"
   ]
  },
  {
   "cell_type": "markdown",
   "metadata": {},
   "source": [
    "<div class=\"alert alert-block alert-danger\">\n",
    "<h2> Комментарий ревьюера <a class=\"tocSkip\"></h2>\n",
    "\n",
    "    \n",
    "<b>На доработку❌:</b>\n",
    "\n",
    "При работе с графиками важно соблюдать следующие правила:\n",
    "1. Стоит подписать названия осей X и Y.\n",
    "2. Также стоит дать название графику.\n",
    "3. Технические комментарии типа `<AxesSubplot:xlabel='datetime'>` стоит убирать - это можно сделать, поставив точку с запятой в последней строке кода в блоке визуализации, либо сделать последней строкой кода этого блока метод `plt.show()`.\n",
    "        \n",
    "Несколько таких нехитрых приёмов очень повысят ценность твоей визуализации:)\n",
    "        \n",
    "Убедись, пожалуйста, что графики в твоём проекте соответствуют этим правилам.\n",
    "</div>"
   ]
  },
  {
   "cell_type": "markdown",
   "metadata": {},
   "source": [
    "<div class=\"alert alert-info\">\n",
    "<h2> Комментарий студента <a class=\"tocSkip\"> </h2>\n",
    "Добавил описание и убрал технические коментарии\n",
    "</div>   "
   ]
  },
  {
   "cell_type": "markdown",
   "metadata": {},
   "source": [
    "<div class=\"alert alert-success\">\n",
    "<h2> Комментарий ревьюера v.2 <a class=\"tocSkip\"> </h2>\n",
    "\n",
    "<b>Все отлично!👍:</b> Учтено."
   ]
  },
  {
   "cell_type": "markdown",
   "metadata": {
    "id": "99aHEcSGEK-D"
   },
   "source": [
    "Выручка почти равномерно увеличивается в течение всего теста. Хороший знак.\n",
    "Однако графики выручки группы А резко возрос после 18 дня продаж. Это может сигнализировать о всплесках числа заказов, либо о появлении очень дорогих заказов в выборке."
   ]
  },
  {
   "cell_type": "markdown",
   "metadata": {
    "id": "DudAc3EqMdtD"
   },
   "source": [
    "## Построим графики среднего чека по группам — разделим кумулятивную выручку на кумулятивное число заказов:"
   ]
  },
  {
   "cell_type": "code",
   "execution_count": 11,
   "metadata": {
    "colab": {
     "base_uri": "https://localhost:8080/",
     "height": 0
    },
    "id": "4mHinpX4EMR8",
    "outputId": "f65932b4-e343-4b0c-d5f3-edd429ba8b0a"
   },
   "outputs": [
    {
     "data": {
      "image/png": "[encoded data removed]",
      "text/plain": [
       "<Figure size 1440x504 with 1 Axes>"
      ]
     },
     "metadata": {
      "needs_background": "light"
     },
     "output_type": "display_data"
    }
   ],
   "source": [
    "# Построим графики среднего чека по группам — разделим кумулятивную выручку на кумулятивное число заказов:\n",
    "plt.figure(figsize=(20, 7))\n",
    "plt.plot(cumulativeRevenueA['date'], cumulativeRevenueA['revenue']/cumulativeRevenueA['orders'], label='A')\n",
    "plt.plot(cumulativeRevenueB['date'], cumulativeRevenueB['revenue']/cumulativeRevenueB['orders'], label='B')\n",
    "plt.xlabel('Дата')\n",
    "plt.ylabel('Средний чек')\n",
    "plt.title('График среднего чека по группам')\n",
    "plt.legend();"
   ]
  },
  {
   "cell_type": "markdown",
   "metadata": {
    "id": "ukvORbvSEkwc"
   },
   "source": [
    "Средний чек показывает в первой половине месяца в группе Б небольшое падение и выход на уровень 7000, в Группе А стаблильно уровень 6000-7000 ближе к концу теста: установился для группы A предел 10000. Возможно, в группу А во второй половине теста попали крупные заказы (резкий всплеск на графике)."
   ]
  },
  {
   "cell_type": "markdown",
   "metadata": {
    "id": "CbibEEcZFXP1"
   },
   "source": [
    "## График относительного различия для среднего чека"
   ]
  },
  {
   "cell_type": "code",
   "execution_count": 12,
   "metadata": {
    "colab": {
     "base_uri": "https://localhost:8080/",
     "height": 0
    },
    "id": "iIB568xQElM9",
    "outputId": "304224c8-2d50-447b-c541-c3b76e4434c9"
   },
   "outputs": [
    {
     "data": {
      "image/png": "[encoded data removed]",
      "text/plain": [
       "<Figure size 1440x504 with 1 Axes>"
      ]
     },
     "metadata": {
      "needs_background": "light"
     },
     "output_type": "display_data"
    }
   ],
   "source": [
    "# собираем данные в одном датафрейме\n",
    "mergedCumulativeRevenue = cumulativeRevenueA.merge(cumulativeRevenueB, \n",
    "                                                   left_on='date', \n",
    "                                                   right_on='date', \n",
    "                                                   how='left', \n",
    "                                                   suffixes=['A', 'B'])\n",
    "plt.figure(figsize=(20, 7))\n",
    "# cтроим отношение средних чеков\n",
    "plt.plot(mergedCumulativeRevenue['date'], \n",
    "         (mergedCumulativeRevenue['revenueB']/mergedCumulativeRevenue['ordersB'])/(mergedCumulativeRevenue['revenueA']/mergedCumulativeRevenue['ordersA'])-1)\n",
    "plt.xlabel('Дата')\n",
    "plt.ylabel('Относительное различие')\n",
    "plt.title('График относительного различия для среднего чека')\n",
    "# добавляем ось X\n",
    "plt.axhline(y=0, \n",
    "            color='black', \n",
    "            \n",
    "            linestyle='--');"
   ]
  },
  {
   "cell_type": "markdown",
   "metadata": {
    "id": "DSUE-04zFiov"
   },
   "source": [
    "В нескольких точках график различия между сегментами резко «скачет». Где-то уж точно спрятались крупные заказы и выбросы"
   ]
  },
  {
   "cell_type": "markdown",
   "metadata": {
    "id": "dPQxUFSQORAT"
   },
   "source": [
    "## График относительного изменения кумулятивного среднего количества заказов на посетителя группы B к группе A"
   ]
  },
  {
   "cell_type": "code",
   "execution_count": 13,
   "metadata": {
    "colab": {
     "base_uri": "https://localhost:8080/",
     "height": 613
    },
    "id": "-rQrDfrNFqYs",
    "outputId": "b852b246-3a23-4fc9-f2fa-f26ce1a67753"
   },
   "outputs": [
    {
     "data": {
      "image/png": "[encoded data removed]",
      "text/plain": [
       "<Figure size 1440x504 with 1 Axes>"
      ]
     },
     "metadata": {
      "needs_background": "light"
     },
     "output_type": "display_data"
    }
   ],
   "source": [
    "# считаем кумулятивную конверсию\n",
    "cumulativeData['conversion'] = cumulativeData['orders']/cumulativeData['visitors']\n",
    "\n",
    "# отделяем данные по группе A\n",
    "cumulativeDataA = cumulativeData[cumulativeData['group']=='A']\n",
    "\n",
    "# отделяем данные по группе B\n",
    "cumulativeDataB = cumulativeData[cumulativeData['group']=='B']\n",
    "\n",
    "# строим графики\n",
    "plt.figure(figsize=(20, 7))\n",
    "plt.xlabel('Дата')\n",
    "plt.ylabel('Кумулятивное среднее количество заказов на посетителя')\n",
    "plt.title('График кумулятивного среднего количества заказов на посетителя по группам')\n",
    "plt.plot(cumulativeDataA['date'], cumulativeDataA['conversion'], label='A')\n",
    "plt.plot(cumulativeDataB['date'], cumulativeDataB['conversion'], label='B')\n",
    "plt.legend();"
   ]
  },
  {
   "cell_type": "markdown",
   "metadata": {},
   "source": [
    "<div class=\"alert alert-block alert-danger\">\n",
    "<h2> Комментарий ревьюера v.2 <a class=\"tocSkip\"></h2>\n",
    "\n",
    "    \n",
    "<b>На доработку❌:</b>\n",
    "\n",
    "А этот график зачем закомментировал? Он был верный, его только оформить нужно было."
   ]
  },
  {
   "cell_type": "markdown",
   "metadata": {},
   "source": [
    "<div class=\"alert alert-success\">\n",
    "<h2> Комментарий ревьюера v.3 <a class=\"tocSkip\"> </h2>\n",
    "\n",
    "<b>Все отлично!👍:</b> Учтено."
   ]
  },
  {
   "cell_type": "code",
   "execution_count": 14,
   "metadata": {
    "scrolled": false
   },
   "outputs": [
    {
     "data": {
      "image/png": "[encoded data removed]",
      "text/plain": [
       "<Figure size 1440x504 with 1 Axes>"
      ]
     },
     "metadata": {
      "needs_background": "light"
     },
     "output_type": "display_data"
    }
   ],
   "source": [
    "mergedCumulativeConversions = cumulativeDataA[['date','conversion']].merge(cumulativeDataB[['date','conversion']], left_on='date', right_on='date', how='left', suffixes=['A', 'B'])\n",
    "plt.figure(figsize=(20, 7))\n",
    "plt.plot(mergedCumulativeConversions['date'], mergedCumulativeConversions['conversionB']/mergedCumulativeConversions['conversionA']-1, label=\"Изменения\")\n",
    "plt.legend()\n",
    "plt.xlabel('дата')\n",
    "plt.ylabel('относительное изменение')\n",
    "plt.title('График относительного изменения кумулятивного среднего количества заказов на посетителя группы B к группе A')\n",
    "plt.axhline(y=0, color='black', linestyle='--')\n",
    "plt.axhline(y=0.2, color='grey', linestyle='--');"
   ]
  },
  {
   "cell_type": "markdown",
   "metadata": {},
   "source": [
    "<div class=\"alert alert-block alert-danger\">\n",
    "<h2> Комментарий ревьюера v.2 <a class=\"tocSkip\"></h2>\n",
    "\n",
    "    \n",
    "<b>На доработку❌:</b>\n",
    "\n",
    "Заново собирать кумулятивные данные не нужно."
   ]
  },
  {
   "cell_type": "markdown",
   "metadata": {},
   "source": [
    "<div class=\"alert alert-info\">\n",
    "<h2> Комментарий студента <a class=\"tocSkip\"> </h2>\n",
    "Удалил лишний код\n",
    "</div>   "
   ]
  },
  {
   "cell_type": "markdown",
   "metadata": {},
   "source": [
    "<div class=\"alert alert-success\">\n",
    "<h2> Комментарий ревьюера v.3 <a class=\"tocSkip\"> </h2>\n",
    "\n",
    "<b>Все отлично!👍:</b> Учтено."
   ]
  },
  {
   "cell_type": "markdown",
   "metadata": {
    "id": "IMJZVCg6bAqS"
   },
   "source": [
    "Для граффика относительного изменения кумулятивного среднего количества заказов на посетителя группы B к группе A. График чуть выше, чем по сырым данным. "
   ]
  },
  {
   "cell_type": "markdown",
   "metadata": {},
   "source": [
    "<div class=\"alert alert-block alert-danger\">\n",
    "<h2> Комментарий ревьюера <a class=\"tocSkip\"></h2>\n",
    "\n",
    "    \n",
    "<b>На доработку❌:</b>\n",
    "\n",
    "Нет графика относительного изменения кумулятивного среднего количества заказов на посетителя группы B к группе A. "
   ]
  },
  {
   "cell_type": "markdown",
   "metadata": {},
   "source": [
    "<div class=\"alert alert-info\">\n",
    "<h2> Комментарий студента <a class=\"tocSkip\"> </h2>\n",
    "Добавил график относительного изменения кумулятивного среднего количества заказов на посетителя группы B к группе A. Изменил вывод\n",
    "</div>   "
   ]
  },
  {
   "cell_type": "markdown",
   "metadata": {},
   "source": [
    "<div class=\"alert alert-success\">\n",
    "<h2> Комментарий ревьюера v.2 <a class=\"tocSkip\"> </h2>\n",
    "\n",
    "<b>Все отлично!👍:</b> Учтено."
   ]
  },
  {
   "cell_type": "markdown",
   "metadata": {
    "id": "7x_UcDJnMwrE"
   },
   "source": [
    "## Точечный график количества заказов по пользователям"
   ]
  },
  {
   "cell_type": "code",
   "execution_count": 15,
   "metadata": {
    "scrolled": false
   },
   "outputs": [
    {
     "data": {
      "image/png": "[encoded data removed]",
      "text/plain": [
       "<Figure size 1440x504 with 1 Axes>"
      ]
     },
     "metadata": {
      "needs_background": "light"
     },
     "output_type": "display_data"
    }
   ],
   "source": [
    "ordersByUsers = (orders.groupby('id_visitor', as_index=False).agg({'id_transaction': 'nunique'}))\n",
    "ordersByUsers.columns = ['id_visitor', 'orders']\n",
    "\n",
    "x_values = pd.Series(range(0,len(ordersByUsers['orders'])))\n",
    "plt.figure(figsize=(20, 7))\n",
    "plt.xlabel('Количество пользователей')\n",
    "plt.ylabel('Количество заказов заказов')\n",
    "plt.title('Точечный график стоимостей заказов')\n",
    "plt.scatter(x_values, ordersByUsers['orders']);"
   ]
  },
  {
   "cell_type": "markdown",
   "metadata": {},
   "source": [
    "<div class=\"alert alert-block alert-danger\">\n",
    "<h2> Комментарий ревьюера <a class=\"tocSkip\"></h2>\n",
    "\n",
    "    \n",
    "<b>На доработку❌:</b>\n",
    "\n",
    "Тут ты анализируешь кумулятивную выручку, а не количество заказов на пользователя."
   ]
  },
  {
   "cell_type": "markdown",
   "metadata": {},
   "source": [
    "<div class=\"alert alert-info\">\n",
    "<h2> Комментарий студента <a class=\"tocSkip\"> </h2>\n",
    "Изменил график по количеству заказов на пользователя скорректировал вывод\n",
    "</div>   "
   ]
  },
  {
   "cell_type": "markdown",
   "metadata": {},
   "source": [
    "<div class=\"alert alert-block alert-danger\">\n",
    "<h2> Комментарий ревьюера v.2 <a class=\"tocSkip\"></h2>\n",
    "\n",
    "    \n",
    "<b>На доработку❌:</b>\n",
    "\n",
    "У нас тут должен быть точечный график покупок каждого отдельного пользователя, по аналогии с графиком точечным графиком стоимостей заказов. Ты здесь используешь кумулятивные покуки - это неправильно, нужно использовать покупки каждого отдельного пользователя."
   ]
  },
  {
   "cell_type": "markdown",
   "metadata": {},
   "source": [
    "<div class=\"alert alert-info\">\n",
    "<h2> Комментарий студента <a class=\"tocSkip\"> </h2>\n",
    "Построил точечный график покупок каждого отдельного пользователя\n",
    "</div>   "
   ]
  },
  {
   "cell_type": "markdown",
   "metadata": {},
   "source": [
    "<div class=\"alert alert-success\">\n",
    "<h2> Комментарий ревьюера v.3 <a class=\"tocSkip\"> </h2>\n",
    "\n",
    "<b>Все отлично!👍:</b> Учтено."
   ]
  },
  {
   "cell_type": "markdown",
   "metadata": {
    "id": "VcKYnvDuNB5H"
   },
   "source": [
    "На данном графике мы видим довольно линейную связь распределения значений заказов на пользователя, и довольно ровное и близкое распределение значений"
   ]
  },
  {
   "cell_type": "markdown",
   "metadata": {
    "id": "swtaWmyONyzM"
   },
   "source": [
    "## Рассчет количества заказов по пользователям и 95, 99 перцентили"
   ]
  },
  {
   "cell_type": "code",
   "execution_count": 16,
   "metadata": {
    "colab": {
     "base_uri": "https://localhost:8080/"
    },
    "id": "pmgGsv-JMk1i",
    "outputId": "44633da9-e699-4d20-cb0f-78f2c0fc6e17"
   },
   "outputs": [
    {
     "name": "stdout",
     "output_type": "stream",
     "text": [
      "            count\n",
      "id_visitor       \n",
      "4256040402     11\n",
      "2458001652     11\n",
      "2378935119      9\n",
      "2038680547      8\n",
      "199603092       5\n",
      "3062433592      5\n",
      "237748145       5\n",
      "3803269165      5\n",
      "1230306981      5\n",
      "3717692402      5\n"
     ]
    }
   ],
   "source": [
    "ordersByUsers = (orders.groupby('id_visitor')['id_transaction'].agg({'count'}))\n",
    "\n",
    "print(ordersByUsers.sort_values(by='count', \n",
    "                                ascending=False).head(10)) "
   ]
  },
  {
   "cell_type": "markdown",
   "metadata": {
    "id": "YaWjMsqUO0P_"
   },
   "source": [
    "### 95-й и 99-й перцентили количества заказов на пользователя."
   ]
  },
  {
   "cell_type": "code",
   "execution_count": 17,
   "metadata": {
    "colab": {
     "base_uri": "https://localhost:8080/"
    },
    "id": "LZXsMaKZ7PvT",
    "outputId": "17289159-c765-445d-902f-716df4ce15a7"
   },
   "outputs": [
    {
     "name": "stdout",
     "output_type": "stream",
     "text": [
      "[2. 4.]\n"
     ]
    }
   ],
   "source": [
    "print(np.percentile(ordersByUsers['count'], [95, 99]))"
   ]
  },
  {
   "cell_type": "markdown",
   "metadata": {},
   "source": [
    "<div class=\"alert alert-success\">\n",
    "<h2> Комментарий ревьюера <a class=\"tocSkip\"> </h2>\n",
    "\n",
    "<b>Все отлично!👍:</b> Персентили посчитаны верно."
   ]
  },
  {
   "cell_type": "markdown",
   "metadata": {
    "id": "DbmeOHnRcTrt"
   },
   "source": [
    "Граница для поиска анломальных пользователей на уровне количества 5 и более заказов"
   ]
  },
  {
   "cell_type": "markdown",
   "metadata": {},
   "source": [
    "<div class=\"alert alert-success\">\n",
    "<h2> Комментарий ревьюера <a class=\"tocSkip\"> </h2>\n",
    "\n",
    "<b>Все отлично!👍:</b> Определили границу для фильтрации аномалий - отлично!"
   ]
  },
  {
   "cell_type": "markdown",
   "metadata": {},
   "source": [
    "<div class=\"alert alert-block alert-danger\">\n",
    "<h2> Комментарий ревьюера <a class=\"tocSkip\"></h2>\n",
    "\n",
    "    \n",
    "<b>На доработку❌:</b>\n",
    "\n",
    "Тут, возможно, ты имел в виду 5 и более, а не более 5? Потому что 99% пользователей совершили 4 заказа, при фильтрации `5 и более` мы отбрасываем оставшийся 1% пользователей, а при фильтрации `более 5` отбросим вообще незначительное количество пользователей."
   ]
  },
  {
   "cell_type": "markdown",
   "metadata": {},
   "source": [
    "<div class=\"alert alert-info\">\n",
    "<h2> Комментарий студента <a class=\"tocSkip\"> </h2>\n",
    "Поправил вывод на 5 и более заказов включительно\n",
    "</div>   "
   ]
  },
  {
   "cell_type": "markdown",
   "metadata": {},
   "source": [
    "<div class=\"alert alert-success\">\n",
    "<h2> Комментарий ревьюера v.2 <a class=\"tocSkip\"> </h2>\n",
    "\n",
    "<b>Все отлично!👍:</b> Учтено."
   ]
  },
  {
   "cell_type": "markdown",
   "metadata": {
    "id": "mYuX28U3OAU0"
   },
   "source": [
    "## Точечный график стоимостей заказов и 95-й , 99-й перцентили "
   ]
  },
  {
   "cell_type": "code",
   "execution_count": 18,
   "metadata": {
    "colab": {
     "base_uri": "https://localhost:8080/",
     "height": 0
    },
    "id": "cnhFDHZx9k9e",
    "outputId": "ef8e3112-1aad-4502-8258-e56e306b24dc"
   },
   "outputs": [
    {
     "data": {
      "image/png": "[encoded data removed]",
      "text/plain": [
       "<Figure size 432x288 with 1 Axes>"
      ]
     },
     "metadata": {
      "needs_background": "light"
     },
     "output_type": "display_data"
    }
   ],
   "source": [
    "x_values = pd.Series(range(0,len(orders['revenue'])))\n",
    "plt.xlabel('количество пользователей')\n",
    "plt.ylabel('стоимости заказов')\n",
    "plt.title('Точечный график стоимостей заказов')\n",
    "plt.scatter(x_values, orders['revenue']); "
   ]
  },
  {
   "cell_type": "markdown",
   "metadata": {
    "id": "heACSEApcwr9"
   },
   "source": [
    "На графике мы видим аномально дорогую закупку"
   ]
  },
  {
   "cell_type": "markdown",
   "metadata": {},
   "source": [
    "<div class=\"alert alert-success\">\n",
    "<h2> Комментарий ревьюера <a class=\"tocSkip\"> </h2>\n",
    "\n",
    "<b>Все отлично!👍:</b> Проанализировали распределение стоимости заказов и нашли аномально дорогие заказы - отлично!"
   ]
  },
  {
   "cell_type": "code",
   "execution_count": 19,
   "metadata": {
    "scrolled": true
   },
   "outputs": [
    {
     "data": {
      "image/png": "[encoded data removed]",
      "text/plain": [
       "<Figure size 432x288 with 1 Axes>"
      ]
     },
     "metadata": {
      "needs_background": "light"
     },
     "output_type": "display_data"
    }
   ],
   "source": [
    "x_values = pd.Series(range(0,len(orders['revenue'])))\n",
    "plt.xlabel('количество пользователей')\n",
    "plt.ylabel('стоимости заказов')\n",
    "plt.title('Точечный график стоимостей заказов')\n",
    "plt.ylim(0, 100000)\n",
    "plt.scatter(x_values, orders['revenue']); "
   ]
  },
  {
   "cell_type": "markdown",
   "metadata": {},
   "source": [
    "<div class=\"alert alert-warning\">\n",
    "    <h2> Комментарий ревьюера <a class=\"tocSkip\"> </h2>\n",
    "    \n",
    "<b>Некоторые замечания и рекомендации⚠️:</b> \n",
    "\n",
    "Как видишь, на фоне двух достаточно крупных заказов остальные, менее аномальные заказы, сбились в одну кучу на оси Х. Было бы полезно сделать такой же график, но без двух крупных покупок, чтобы исследовать распределение менее аномальных покупок.\n",
    "        \n",
    "</div>"
   ]
  },
  {
   "cell_type": "markdown",
   "metadata": {},
   "source": [
    "<div class=\"alert alert-info\">\n",
    "<h2> Комментарий студента <a class=\"tocSkip\"> </h2>\n",
    "Добавил график без крупных покупок \n",
    "</div>   "
   ]
  },
  {
   "cell_type": "markdown",
   "metadata": {},
   "source": [
    "<div class=\"alert alert-success\">\n",
    "<h2> Комментарий ревьюера v.2 <a class=\"tocSkip\"> </h2>\n",
    "\n",
    "<b>Все отлично!👍:</b> Учтено."
   ]
  },
  {
   "cell_type": "markdown",
   "metadata": {
    "id": "fc2QwNi1PAoq"
   },
   "source": [
    "### 95-й и 99-й перцентили стоимости заказов"
   ]
  },
  {
   "cell_type": "code",
   "execution_count": 20,
   "metadata": {
    "colab": {
     "base_uri": "https://localhost:8080/"
    },
    "id": "_kb-dpoDDark",
    "outputId": "e91a7593-e16b-47b1-85ff-78e8a1c83020"
   },
   "outputs": [
    {
     "name": "stdout",
     "output_type": "stream",
     "text": [
      "[28000.  58233.2]\n"
     ]
    }
   ],
   "source": [
    "print(np.percentile(orders['revenue'], [95, 99])) "
   ]
  },
  {
   "cell_type": "markdown",
   "metadata": {},
   "source": [
    "Граница для поиска стомостей заказов на уровне количества 28000 и более "
   ]
  },
  {
   "cell_type": "markdown",
   "metadata": {},
   "source": [
    "<div class=\"alert alert-success\">\n",
    "<h2> Комментарий ревьюера <a class=\"tocSkip\"> </h2>\n",
    "\n",
    "<b>Все отлично!👍:</b> Персентили посчитаны верно."
   ]
  },
  {
   "cell_type": "markdown",
   "metadata": {},
   "source": [
    "<div class=\"alert alert-block alert-danger\">\n",
    "<h2> Комментарий ревьюера <a class=\"tocSkip\"></h2>\n",
    "\n",
    "    \n",
    "<b>На доработку❌:</b>\n",
    "\n",
    "Стоит явно указать, какое значение было принято как граница для фильтра аномалий."
   ]
  },
  {
   "cell_type": "markdown",
   "metadata": {},
   "source": [
    "<div class=\"alert alert-info\">\n",
    "<h2> Комментарий студента <a class=\"tocSkip\"> </h2>\n",
    "Добавил определение уровня границы исследования\n",
    "</div>"
   ]
  },
  {
   "cell_type": "markdown",
   "metadata": {},
   "source": [
    "<div class=\"alert alert-success\">\n",
    "<h2> Комментарий ревьюера v.2 <a class=\"tocSkip\"> </h2>\n",
    "\n",
    "<b>Все отлично!👍:</b> Учтено."
   ]
  },
  {
   "cell_type": "markdown",
   "metadata": {
    "id": "qTa3R_U5PE2F"
   },
   "source": [
    "## Cтатистическая значимость различий в среднем количестве заказов на посетителя между группами по «сырым» данным."
   ]
  },
  {
   "cell_type": "markdown",
   "metadata": {},
   "source": [
    "Н0 - Нулевая гипотеза таким образом что между средним количеством заказов на посетителя значимых различий нет. \n",
    "Н1 - Альтернативная гипотеза о том что между средним количеством заказов на посетителя значимые различия есть. \n",
    "\n",
    "Критерий уровня значимости - 0.05\n",
    "\n",
    "Для исследования гипотез мы будем использовать метод Манна-Уитни т.к. в наших данных имеются большие выбросы"
   ]
  },
  {
   "cell_type": "code",
   "execution_count": 21,
   "metadata": {
    "colab": {
     "base_uri": "https://localhost:8080/"
    },
    "id": "2lmot-jKFPdM",
    "outputId": "58aa2fed-2c6f-485a-b243-03ceb9867694",
    "scrolled": false
   },
   "outputs": [],
   "source": [
    "ordersByUsersA = (\n",
    "    orders[orders['group'] == 'A']\n",
    "    .groupby('id_visitor', as_index=False)\n",
    "    .agg({'id_transaction': pd.Series.nunique})\n",
    ")\n",
    "ordersByUsersA.columns = ['id_visitor', 'orders']\n",
    "\n",
    "ordersByUsersB = (\n",
    "    orders[orders['group'] == 'B']\n",
    "    .groupby('id_visitor', as_index=False)\n",
    "    .agg({'id_transaction': pd.Series.nunique})\n",
    ")\n",
    "ordersByUsersB.columns = ['id_visitor', 'orders']"
   ]
  },
  {
   "cell_type": "markdown",
   "metadata": {},
   "source": [
    "<div class=\"alert alert-block alert-danger\">\n",
    "<h2> Комментарий ревьюера <a class=\"tocSkip\"></h2>\n",
    "\n",
    "    \n",
    "<b>На доработку❌:</b>\n",
    "\n",
    "Здесь заново собираются кумулятивные данные: из переменной `data` далее в расчётах мы берём только количество посетителей в зависимости от группы - эти данные у нас уже есть в переменной `visitors`. Нет большого смысла писать полотно кода и тратить ресурсы на его выполнение, если эти данные есть в исходной таблице - давай попробуем использовать исходные данные?\n",
    "        \n",
    "</div>"
   ]
  },
  {
   "cell_type": "markdown",
   "metadata": {},
   "source": [
    "<div class=\"alert alert-info\">\n",
    "<h2> Комментарий студента <a class=\"tocSkip\"> </h2>\n",
    "Убрал сбор переменной дата\n",
    "</div>   "
   ]
  },
  {
   "cell_type": "markdown",
   "metadata": {},
   "source": [
    "<div class=\"alert alert-block alert-danger\">\n",
    "<h2> Комментарий ревьюера v.2 <a class=\"tocSkip\"></h2>\n",
    "\n",
    "    \n",
    "<b>На доработку❌:</b>\n",
    "\n",
    "Ты убрал расчёт переменной, но не убрал зависимости от неё - в результате теперь твоё решение не воспроизводится. Также ты убрал `data`, но не убрал таблицы, из которых она собиралась - выше собираются таблицы, которые ты нигде не используешь, их тоже стоит удалить.\n",
    "    \n",
    "Перед отправкой проекта стоит проверять работоспособность кода — это можно сделать, нажав на панели Jupiter Hub ``Kernel`` и ``Restart & Run All`` (см скриншот ниже).\n",
    "\n",
    "![](https://i.postimg.cc/yd19rYf6/Screenshot-428.png)\n",
    "        \n",
    "Важно также убедиться, что все ячейки проекта исполнились - можно просто пролистать работу до конца и убедиться, что последняя ячейка исполнена. Такая проверка поможет тебе убедиться, что твоё решение будет должным образом воспроизведено во время ревью или во время передачи его заказчику - это очень важный этап, пренебрегать которым не стоит:)"
   ]
  },
  {
   "cell_type": "markdown",
   "metadata": {},
   "source": [
    "<div class=\"alert alert-info\">\n",
    "<h2> Комментарий студента <a class=\"tocSkip\"> </h2>\n",
    "Метод Restart & Run All в этом юпитер ноутбуке только перезагружает Kernel но не воспроизводит из, функция блокнота не рабочая.\n",
    "</div>   "
   ]
  },
  {
   "cell_type": "markdown",
   "metadata": {},
   "source": [
    "<div class=\"alert alert-block alert-danger\">\n",
    "<h2> Комментарий ревьюера v.3 <a class=\"tocSkip\"></h2>\n",
    "\n",
    "    \n",
    "<b>На доработку❌:</b>\n",
    "\n",
    "Возможно, ты просто выбираешь `Restart` вместо `Restart and Run All` - у меня всё работает.\n",
    "    \n",
    "Мы снова вернулись к первому замечанию - снова по всему проекту ниже дублируется `data`, а также сбор таблиц, из которых `data` формируется.\n",
    "    \n",
    "Переменная `data` используется только при создании переменных `sampleA` и `sampleB` в части общего количества посетителей - это следующие строки кода:\n",
    "\n",
    "    data['visitorsPerDateA'].sum()\n",
    "    data['visitorsPerDateA'].sum()\n",
    "        \n",
    "Аналогичную информацию мы можем получить из таблицы `visitors` - для этого её предварительно фильтруем по нужной нам группе и суммируем столбец `visitors`:\n",
    "        \n",
    "    visitors[visitors['group'] == 'A']['visitors'].sum()\n",
    "    visitors[visitors['group'] == 'B']['visitors'].sum()\n",
    "        \n",
    "Таким образом получаем аналогичые цифры, но не выполняем ненужный код и не забиваем память ненужными переменными."
   ]
  },
  {
   "cell_type": "markdown",
   "metadata": {},
   "source": [
    "<div class=\"alert alert-block alert-danger\">\n",
    "<h2> Комментарий ревьюера v.4 <a class=\"tocSkip\"></h2>\n",
    "\n",
    "    \n",
    "<b>На доработку❌:</b>\n",
    "\n",
    "Не учтено - стоит избавиться от лишней переменной и оптимизировать код."
   ]
  },
  {
   "cell_type": "markdown",
   "metadata": {},
   "source": [
    "<div class=\"alert alert-info\">\n",
    "<h2> Комментарий студента <a class=\"tocSkip\"> </h2>\n",
    "Избавился от переменной, оптимизировал код.\n",
    "</div>   "
   ]
  },
  {
   "cell_type": "markdown",
   "metadata": {},
   "source": [
    "<div class=\"alert alert-success\">\n",
    "<h2> Комментарий ревьюера v.5 <a class=\"tocSkip\"> </h2>\n",
    "\n",
    "<b>Все отлично!👍:</b> Учтено."
   ]
  },
  {
   "cell_type": "markdown",
   "metadata": {},
   "source": [
    "<div class=\"alert alert-block alert-danger\">\n",
    "<h2> Комментарий ревьюера <a class=\"tocSkip\"></h2>\n",
    "\n",
    "    \n",
    "<b>На доработку❌:</b>\n",
    "Перед проведением А/В тестов обязательно стоит:\n",
    "- сформулировать гипотезы - нулевую и альтернативную;\n",
    "- указать, с помощью какого статистического критерия мы будем осуществлять их проверку, а также обосновать его выбор - это связано с наличием в данных каких-то особенностей и характера их распределения (про это упоминалось в тренажёре).\n",
    "    \n",
    "Так как мы проверяем две разные величины на сырых и очищенных данных, гипотезы стоит формулировать перед каждым сравнением, указывая, что и на каких данных сравниваем.\n",
    "    \n",
    "Статистический критерий можно указать один раз.\n",
    "    \n",
    "</div>"
   ]
  },
  {
   "cell_type": "markdown",
   "metadata": {},
   "source": [
    "<div class=\"alert alert-info\">\n",
    "<h2> Комментарий студента <a class=\"tocSkip\"> </h2>\n",
    "Сформулировал вначале нулевую и альтернативную гипотезу, указал критерий для проверкии \n",
    "</div>   "
   ]
  },
  {
   "cell_type": "markdown",
   "metadata": {},
   "source": [
    "<div class=\"alert alert-block alert-danger\">\n",
    "<h2> Комментарий ревьюера v.2 <a class=\"tocSkip\"></h2>\n",
    "\n",
    "    \n",
    "<b>На доработку❌:</b>\n",
    "А между исследуемыми показателями - это какими?\n",
    "    \n",
    "Тут нужно явно указывать, какую метрику (среднее количество заказов на посетителя или средний чек) и на каких данных (сырые или очищенные) мы ищем стат значимую разницу. \n",
    "    \n",
    "Кроме того, гипотезы нужно формулировать перед каждым тестов - совокупно у тебя должно быть сформулированы четыре пары гипотезы."
   ]
  },
  {
   "cell_type": "markdown",
   "metadata": {},
   "source": [
    "<div class=\"alert alert-block alert-danger\">\n",
    "<h2> Комментарий ревьюера v.3 <a class=\"tocSkip\"></h2>\n",
    "\n",
    "    \n",
    "<b>На доработку❌:</b>\n",
    "Альтернативная гипотеза не исправлена - в ней также нужно указать метрику, которую мы в ней првоеряем. Также она должна быть сформулирована в полном, а не усечённом виде, по аналогии с нулевой."
   ]
  },
  {
   "cell_type": "markdown",
   "metadata": {},
   "source": [
    "<div class=\"alert alert-info\">\n",
    "<h2> Комментарий студента <a class=\"tocSkip\"> </h2>\n",
    "Поправил алтернативную гипотезу \n",
    "</div>   "
   ]
  },
  {
   "cell_type": "markdown",
   "metadata": {},
   "source": [
    "<div class=\"alert alert-success\">\n",
    "<h2> Комментарий ревьюера v.4 <a class=\"tocSkip\"> </h2>\n",
    "\n",
    "<b>Все отлично!👍:</b> Учтено."
   ]
  },
  {
   "cell_type": "code",
   "execution_count": 22,
   "metadata": {
    "scrolled": true
   },
   "outputs": [
    {
     "name": "stdout",
     "output_type": "stream",
     "text": [
      "Значение p-value = 0.01679\n",
      "Относительная разница между сравниваемыи величинами = 0.138\n"
     ]
    }
   ],
   "source": [
    "sampleA = pd.concat(\n",
    "    [\n",
    "        ordersByUsersA['orders'],\n",
    "        pd.Series(\n",
    "            0,\n",
    "            index=np.arange(\n",
    "                visitors[visitors['group'] == 'A']['visitors'].sum() - len(ordersByUsersA['orders'])\n",
    "            ),\n",
    "            name='orders',\n",
    "        ),\n",
    "    ],\n",
    "    axis=0,\n",
    ")\n",
    "\n",
    "sampleB = pd.concat(\n",
    "    [\n",
    "        ordersByUsersB['orders'],\n",
    "        pd.Series(\n",
    "            0,\n",
    "            index=np.arange(\n",
    "                visitors[visitors['group'] == 'B']['visitors'].sum() - len(ordersByUsersB['orders'])\n",
    "            ),\n",
    "            name='orders',\n",
    "        ),\n",
    "    ],\n",
    "    axis=0,\n",
    ")\n",
    "\n",
    "print(\"Значение p-value =\",\"{0:.5f}\".format(stats.mannwhitneyu(sampleA, sampleB)[1]))\n",
    "print(\"Относительная разница между сравниваемыи величинами =\",\"{0:.3f}\".format((ordersByUsersB['orders'].sum()/visitors[visitors['group'] == 'B']['visitors'].sum())/(ordersByUsersA['orders'].sum()/visitors[visitors['group'] == 'A']['visitors'].sum())-1))"
   ]
  },
  {
   "cell_type": "markdown",
   "metadata": {
    "id": "H-M-BAxPdN6T"
   },
   "source": [
    "Вывод: По «сырым» данным различя в среднем числе заказов на посетителя групп A и B есть. \n",
    "Первое число — p-value = 0.01679 ментше 0.05. Значит, нулевую гипотезу о том, что статистически значимых различий в средним количеством заказов на посетителя между группами нет, мы принимаем. Однако относительный проигрыш группы А равен 13.8% — второе число в выводе."
   ]
  },
  {
   "cell_type": "markdown",
   "metadata": {},
   "source": [
    "<div class=\"alert alert-success\">\n",
    "<h2> Комментарий ревьюера <a class=\"tocSkip\"> </h2>\n",
    "\n",
    "<b>Все отлично!👍:</b> Оценили значимость различий среднего количества заказов на посетителя между группами на сырых данных - отлично!"
   ]
  },
  {
   "cell_type": "markdown",
   "metadata": {},
   "source": [
    "<div class=\"alert alert-block alert-danger\">\n",
    "<h2> Комментарий ревьюера <a class=\"tocSkip\"></h2>\n",
    "\n",
    "    \n",
    "<b>На доработку❌:</b>\n",
    "\n",
    "В выводе кода стоит явно подписать, какое из двух значений - `p-value`, а какое - относительная разница между сравниваемыми величинами. Замечание актуально для этой и следующих проверок.\n",
    "    \n",
    "Обрати внимание, что в рамках проекта мы работаем не просто со средним количеством заказов, а со средним количеством заказов на посетителя - это две очень разные метрики. Текст гипотез (когда будешь формулировать) и выводы по результатам их проверки нужно формировать с правильной метрикой."
   ]
  },
  {
   "cell_type": "markdown",
   "metadata": {},
   "source": [
    "<div class=\"alert alert-info\">\n",
    "<h2> Комментарий студента <a class=\"tocSkip\"> </h2>\n",
    "Добавил подписи к выводимым значениям , поменял текст на правельную метрику\n",
    "</div>   "
   ]
  },
  {
   "cell_type": "markdown",
   "metadata": {},
   "source": [
    "<div class=\"alert alert-block alert-danger\">\n",
    "<h2> Комментарий ревьюера v.2 <a class=\"tocSkip\"></h2>\n",
    "\n",
    "    \n",
    "<b>На доработку❌:</b>\n",
    "\n",
    "Метрика в выводе не исправлена."
   ]
  },
  {
   "cell_type": "markdown",
   "metadata": {},
   "source": [
    "<div class=\"alert alert-info\">\n",
    "<h2> Комментарий студента <a class=\"tocSkip\"> </h2>\n",
    "Поменял метрику в выводе на точную.\n",
    "</div>   "
   ]
  },
  {
   "cell_type": "markdown",
   "metadata": {},
   "source": [
    "<div class=\"alert alert-success\">\n",
    "<h2> Комментарий ревьюера v.3 <a class=\"tocSkip\"> </h2>\n",
    "\n",
    "<b>Все отлично!👍:</b> Учтено."
   ]
  },
  {
   "cell_type": "markdown",
   "metadata": {
    "id": "5BEAA_-jPI9G"
   },
   "source": [
    "## Cтатистическая значимость различий в среднем чеке заказа между группами по «сырым» данным"
   ]
  },
  {
   "cell_type": "markdown",
   "metadata": {},
   "source": [
    "Н0 - Нулевая гипотезу о том различий в среднем чеке заказа между группами по «сырым» данным значимых различий нет. \n",
    "\n",
    "Н1 - Альтернативная гипотеза о том что разница в среднем чеке заказа между группами по «сырым» данным значимых различий есть.\n",
    "\n",
    "Критерий уровня значимости - 0.05\n",
    "\n",
    "Для исследования гипотез мы будем использовать метод Манна-Уитни т.к. в наших данных имеются большие выбросы"
   ]
  },
  {
   "cell_type": "code",
   "execution_count": 23,
   "metadata": {
    "colab": {
     "base_uri": "https://localhost:8080/"
    },
    "id": "DyS4IJlzDlfU",
    "outputId": "8689c724-dcf4-4791-a213-53adb9340c3f"
   },
   "outputs": [
    {
     "name": "stdout",
     "output_type": "stream",
     "text": [
      "Значение p-value = 0.729\n",
      "Относительная разница между сравниваемыи величинами = 0.259\n"
     ]
    }
   ],
   "source": [
    "print(\"Значение p-value =\",'{0:.3f}'.format(stats.mannwhitneyu(orders[orders['group']=='A']['revenue'], orders[orders['group']=='B']['revenue'])[1]))\n",
    "print(\"Относительная разница между сравниваемыи величинами =\",'{0:.3f}'.format(orders[orders['group']=='B']['revenue'].mean()/orders[orders['group']=='A']['revenue'].mean()-1))"
   ]
  },
  {
   "cell_type": "markdown",
   "metadata": {
    "id": "dWMFCNQ8l61v"
   },
   "source": [
    "P-value значительно больше 0.05. Значит, причин отвергать нулевую гипотезу и считать, что в среднем чеке есть различия, нет. Впрочем, средний чек группы А значительно ниже среднего чека группы В."
   ]
  },
  {
   "cell_type": "markdown",
   "metadata": {},
   "source": [
    "<div class=\"alert alert-success\">\n",
    "<h2> Комментарий ревьюера <a class=\"tocSkip\"> </h2>\n",
    "\n",
    "<b>Все отлично!👍:</b> Оценили значимость различий среднего чека между группами на сырых данных - отлично!"
   ]
  },
  {
   "cell_type": "markdown",
   "metadata": {},
   "source": [
    "<div class=\"alert alert-block alert-danger\">\n",
    "<h2> Комментарий ревьюера <a class=\"tocSkip\"></h2>\n",
    "\n",
    "    \n",
    "<b>На доработку❌:</b>\n",
    "\n",
    "Дублируется создание переменной `data`."
   ]
  },
  {
   "cell_type": "markdown",
   "metadata": {},
   "source": [
    "<div class=\"alert alert-info\">\n",
    "<h2> Комментарий студента <a class=\"tocSkip\"> </h2>\n",
    "Убрал сбор переменной дата\n",
    "</div>   "
   ]
  },
  {
   "cell_type": "markdown",
   "metadata": {},
   "source": [
    "<div class=\"alert alert-block alert-danger\">\n",
    "<h2> Комментарий ревьюера v.2 <a class=\"tocSkip\"></h2>\n",
    "\n",
    "    \n",
    "<b>На доработку❌:</b>\n",
    "\n",
    "Аналогично нужно убрать и таблицы, из которых формировалась `data` - сейчас ни одна таблица из блока кода выше не используется далее в проекте."
   ]
  },
  {
   "cell_type": "markdown",
   "metadata": {},
   "source": [
    "<div class=\"alert alert-success\">\n",
    "<h2> Комментарий ревьюера v.3 <a class=\"tocSkip\"> </h2>\n",
    "\n",
    "<b>Все отлично!👍:</b> Учтено."
   ]
  },
  {
   "cell_type": "markdown",
   "metadata": {
    "id": "gtmmCBXxPS4W"
   },
   "source": [
    "## Статистическая значимость различий в среднем количестве заказов на посетителя между группами по «очищенным» данным"
   ]
  },
  {
   "cell_type": "markdown",
   "metadata": {},
   "source": [
    "Н0 - Нулевая гипотеза что различий в среднем количестве заказов на посетителя между группами по «очищенным» данным значимых различий нет. \n",
    "Н1 - Альтернативная гипотеза о том что значимые различия в среднем количестве заказов на посетителя между группами по «очищенным» данным есть. \n",
    "\n",
    "Критерий уровня значимости - 0.05\n",
    "\n",
    "Для исследования гипотез мы будем использовать метод Манна-Уитни т.к. в наших данных имеются большие выбросы"
   ]
  },
  {
   "cell_type": "markdown",
   "metadata": {},
   "source": [
    "<div class=\"alert alert-block alert-danger\">\n",
    "<h2> Комментарий ревьюера <a class=\"tocSkip\"></h2>\n",
    "\n",
    "    \n",
    "<b>На доработку❌:</b>\n",
    "\n",
    "Дублируется создание переменных `data`, `ordersByUsersA` и `ordersByUsersB`."
   ]
  },
  {
   "cell_type": "markdown",
   "metadata": {},
   "source": [
    "<div class=\"alert alert-info\">\n",
    "<h2> Комментарий студента <a class=\"tocSkip\"> </h2>\n",
    "Убрал лишний сбор переменной data, ordersByUsersA, ordersByUsersB\n",
    "</div>   "
   ]
  },
  {
   "cell_type": "markdown",
   "metadata": {},
   "source": [
    "<div class=\"alert alert-block alert-danger\">\n",
    "<h2> Комментарий ревьюера v.2 <a class=\"tocSkip\"></h2>\n",
    "\n",
    "    \n",
    "<b>На доработку❌:</b>\n",
    "\n",
    "Аналогично нужно убрать и таблицы, из которых формировалась `data` - сейчас ни одна таблица из блока кода выше не используется далее в проекте."
   ]
  },
  {
   "cell_type": "markdown",
   "metadata": {},
   "source": [
    "<div class=\"alert alert-block alert-danger\">\n",
    "<h2> Комментарий ревьюера v.3 <a class=\"tocSkip\"></h2>\n",
    "\n",
    "    \n",
    "<b>На доработку❌:</b>\n",
    "\n",
    "Не учтено."
   ]
  },
  {
   "cell_type": "markdown",
   "metadata": {},
   "source": [
    "<div class=\"alert alert-success\">\n",
    "<h2> Комментарий ревьюера v.4 <a class=\"tocSkip\"> </h2>\n",
    "\n",
    "<b>Все отлично!👍:</b> Учтено."
   ]
  },
  {
   "cell_type": "markdown",
   "metadata": {},
   "source": [
    "<div class=\"alert alert-block alert-danger\">\n",
    "<h2> Комментарий ревьюера <a class=\"tocSkip\"></h2>\n",
    "\n",
    "    \n",
    "<b>На доработку❌:</b>\n",
    "\n",
    "Выбранные границы аномалий не соответствуют выводам, полученным на этапе анализа точечных графиков в части количества заказов. Граница для стоимости заказов не обоснова и кажется недостаточно высокой - так мы фильтруем и большое количество неаномальных пользователей."
   ]
  },
  {
   "cell_type": "markdown",
   "metadata": {},
   "source": [
    "<div class=\"alert alert-success\">\n",
    "<h2> Комментарий ревьюера v.2 <a class=\"tocSkip\"> </h2>\n",
    "\n",
    "<b>Все отлично!👍:</b> Учтено."
   ]
  },
  {
   "cell_type": "code",
   "execution_count": 24,
   "metadata": {},
   "outputs": [
    {
     "name": "stdout",
     "output_type": "stream",
     "text": [
      "Количество аномальных пользователей составило: 74, что соответствует 7.2% относительно общего числа пользователей\n"
     ]
    }
   ],
   "source": [
    "usersWithManyOrders = pd.concat(\n",
    "    [\n",
    "        ordersByUsersA[ordersByUsersA['orders'] > np.percentile(ordersByUsersA['orders'], 95)]['id_visitor'],\n",
    "        ordersByUsersB[ordersByUsersB['orders'] > np.percentile(ordersByUsersB['orders'], 95)]['id_visitor'],\n",
    "    ],\n",
    "    axis=0, \n",
    ")\n",
    "usersWithExpensiveOrders = orders[orders['revenue'] > np.percentile(orders['revenue'], 95)]['id_visitor']\n",
    "abnormalUsers = (\n",
    "    pd.concat([usersWithManyOrders, usersWithExpensiveOrders], axis=0)\n",
    "    .drop_duplicates()\n",
    "    .sort_values()\n",
    ")\n",
    "a = abnormalUsers.shape[0]/orders['id_visitor'].nunique()\n",
    "v = abnormalUsers.shape[0]\n",
    "print(f'Количество аномальных пользователей составило: {v}, что соответствует {a:.1%} относительно общего числа пользователей')"
   ]
  },
  {
   "cell_type": "markdown",
   "metadata": {},
   "source": [
    "<div class=\"alert alert-success\">\n",
    "<h2> Комментарий ревьюера <a class=\"tocSkip\"> </h2>\n",
    "\n",
    "<b>Все отлично!👍:</b> Отфильтровали аномалии  - отлично!"
   ]
  },
  {
   "cell_type": "markdown",
   "metadata": {},
   "source": [
    "<div class=\"alert alert-warning\">\n",
    "    <h2> Комментарий ревьюера <a class=\"tocSkip\"> </h2>\n",
    "    \n",
    "<b>Некоторые замечания и рекомендации⚠️:</b>\n",
    "\n",
    "Значения границ для фильтрации заданы руками - такой подход делает твоё решение зависимым от внешних данных: при их изменении тебе придётся вносить изменения в код, чтобы текущее решение адекватно работало для других А/В тестов. Очень удобно использовать в качестве значения результат метода для расчёта персентилей.\n",
    "        \n",
    "Например вместо `orders > 2` лучше будет сделать `orders > np.percentile(x, 95)` - такой подход сделает решение более универсальным.\n",
    "        \n",
    "</div>"
   ]
  },
  {
   "cell_type": "markdown",
   "metadata": {},
   "source": [
    "<div class=\"alert alert-info\">\n",
    "<h2> Комментарий студента <a class=\"tocSkip\"> </h2>\n",
    "Изменил подход определения границ с ручного указания на автоматический\n",
    "</div>   "
   ]
  },
  {
   "cell_type": "markdown",
   "metadata": {},
   "source": [
    "<div class=\"alert alert-success\">\n",
    "<h2> Комментарий ревьюера v.2 <a class=\"tocSkip\"> </h2>\n",
    "\n",
    "<b>Все отлично!👍:</b> Учтено."
   ]
  },
  {
   "cell_type": "markdown",
   "metadata": {},
   "source": [
    "<div class=\"alert alert-block alert-danger\">\n",
    "<h2> Комментарий ревьюера <a class=\"tocSkip\"></h2>\n",
    "\n",
    "    \n",
    "<b>На доработку❌:</b>\n",
    "\n",
    "Тут очень важно в явном виде (с помощью кода) посчитать потери пользователей. При этом важно сделать это как в абсолютном, так и относительном выражениях: любой вид потерь из этих двух сам по себе недостаточно информативен, а вот вместе они уже помогут читателю составить полную картину о масштабе потерь.\n",
    "    \n",
    "Напомню, что абсолютные потери - это количество аномальных пользователей, а относительные потери - это отношение количества аномальных пользователей к общем количеству пользователей из таблицы `orders`. В знаменателе важно учитывать уникальных пользователей, а не количество строк таблицы.\n",
    "        \n",
    "</div>"
   ]
  },
  {
   "cell_type": "markdown",
   "metadata": {},
   "source": [
    "<div class=\"alert alert-info\">\n",
    "<h2> Комментарий студента <a class=\"tocSkip\"> </h2>\n",
    "Добавил подробный вывод с абсолютной величиной потери в пользователях и в процентном соотношении к общему количеству пользователей из таблицы orders\n",
    "</div>   "
   ]
  },
  {
   "cell_type": "markdown",
   "metadata": {},
   "source": [
    "<div class=\"alert alert-success\">\n",
    "<h2> Комментарий ревьюера v.2 <a class=\"tocSkip\"> </h2>\n",
    "\n",
    "<b>Все отлично!👍:</b> Учтено."
   ]
  },
  {
   "cell_type": "code",
   "execution_count": 25,
   "metadata": {},
   "outputs": [],
   "source": [
    "sampleAFiltered = pd.concat(\n",
    "    [\n",
    "        ordersByUsersA[\n",
    "            np.logical_not(ordersByUsersA['id_visitor'].isin(abnormalUsers))\n",
    "        ]['orders'],\n",
    "        pd.Series(\n",
    "            0,\n",
    "            index=np.arange(\n",
    "                visitors[visitors['group'] == 'A']['visitors'].sum() - len(ordersByUsersA['orders'])\n",
    "            ),\n",
    "            name='orders',\n",
    "        ),\n",
    "    ],\n",
    "    axis=0,\n",
    ")\n",
    "\n",
    "sampleBFiltered = pd.concat(\n",
    "    [\n",
    "        ordersByUsersB[\n",
    "            np.logical_not(ordersByUsersB['id_visitor'].isin(abnormalUsers))\n",
    "        ]['orders'],\n",
    "        pd.Series(\n",
    "            0,\n",
    "            index=np.arange(\n",
    "                visitors[visitors['group'] == 'B']['visitors'].sum() - len(ordersByUsersB['orders'])\n",
    "            ),\n",
    "            name='orders',\n",
    "        ),\n",
    "    ],\n",
    "    axis=0,\n",
    ")"
   ]
  },
  {
   "cell_type": "markdown",
   "metadata": {},
   "source": [
    "<div class=\"alert alert-success\">\n",
    "<h2> Комментарий ревьюера <a class=\"tocSkip\"> </h2>\n",
    "\n",
    "<b>Все отлично!👍:</b> Оценили значимость различий среднего количества заказов на посетителя между группами на очищеных данных - отлично!"
   ]
  },
  {
   "cell_type": "markdown",
   "metadata": {},
   "source": [
    "<div class=\"alert alert-block alert-danger\">\n",
    "<h2> Комментарий ревьюера <a class=\"tocSkip\"></h2>\n",
    "\n",
    "    \n",
    "<b>На доработку❌:</b>\n",
    "\n",
    "Не забудь исправить метрику в выводе."
   ]
  },
  {
   "cell_type": "markdown",
   "metadata": {},
   "source": [
    "<div class=\"alert alert-info\">\n",
    "<h2> Комментарий студента <a class=\"tocSkip\"> </h2>\n",
    "Исправил в выводе метрику по которой смотрим результат\n",
    "</div>"
   ]
  },
  {
   "cell_type": "markdown",
   "metadata": {},
   "source": [
    "<div class=\"alert alert-success\">\n",
    "<h2> Комментарий ревьюера v.2 <a class=\"tocSkip\"> </h2>\n",
    "\n",
    "<b>Все отлично!👍:</b> Учтено."
   ]
  },
  {
   "cell_type": "markdown",
   "metadata": {
    "id": "bE6Td2_7PWgN"
   },
   "source": [
    "## Cтатистическая значимость различий в среднем чеке заказа между группами по «очищенным» данным"
   ]
  },
  {
   "cell_type": "markdown",
   "metadata": {},
   "source": [
    "H0 - Определим нулевую гипотезу таким образом что различий в среднем чеке заказа между группами по «очищенным» данным значимых различий нет. \n",
    "H1 Альтернативная гипотеза о том что различия в среднем чеке заказа между группами по «очищенным» данным значимых различий есть.\n",
    "\n",
    "Критерий уровня значимости - 0.05\n",
    "\n",
    "Для исследования гипотез мы будем использовать метод Манна-Уитни т.к. в наших данных имеются большие выбросы"
   ]
  },
  {
   "cell_type": "code",
   "execution_count": 26,
   "metadata": {
    "colab": {
     "base_uri": "https://localhost:8080/"
    },
    "id": "ST-tq1QYHqGt",
    "outputId": "7cbd3ff1-d2ef-4b68-f55d-c19d0851c41c"
   },
   "outputs": [
    {
     "name": "stdout",
     "output_type": "stream",
     "text": [
      "Значение p-value = 0.01304\n",
      "Относительная разница между сырыми данными и очищенными  = 0.173\n"
     ]
    }
   ],
   "source": [
    "print(\"Значение p-value =\",'{0:.5f}'.format(stats.mannwhitneyu(sampleAFiltered, sampleBFiltered)[1]))\n",
    "print(\"Относительная разница между сырыми данными и очищенными  =\",'{0:.3f}'.format(sampleBFiltered.mean()/sampleAFiltered.mean()-1))"
   ]
  },
  {
   "cell_type": "markdown",
   "metadata": {
    "id": "v1-v1uesnCoe"
   },
   "source": [
    "Результаты по среднему количеству заказов на посетителя между группами изменились в 2 раза. "
   ]
  },
  {
   "cell_type": "markdown",
   "metadata": {},
   "source": [
    "<div class=\"alert alert-block alert-danger\">\n",
    "<h2> Комментарий ревьюера <a class=\"tocSkip\"></h2>\n",
    "\n",
    "    \n",
    "<b>На доработку❌:</b>\n",
    "\n",
    "Дублируется создание переменных `data`, `ordersByUsersA` и `ordersByUsersB`, а также фильтрация аномалий."
   ]
  },
  {
   "cell_type": "markdown",
   "metadata": {},
   "source": [
    "<div class=\"alert alert-info\">\n",
    "<h2> Комментарий студента <a class=\"tocSkip\"> </h2>\n",
    "Удалил лишнее создание переменных data, ordersByUsersA и ordersByUsersB, а так же повторную фильтрацию\n",
    "</div>   "
   ]
  },
  {
   "cell_type": "markdown",
   "metadata": {},
   "source": [
    "<div class=\"alert alert-block alert-danger\">\n",
    "<h2> Комментарий ревьюера v.2 <a class=\"tocSkip\"></h2>\n",
    "\n",
    "    \n",
    "<b>На доработку❌:</b>\n",
    "\n",
    "Аналогично нужно убрать и таблицы, из которых формировалась `data` - сейчас ни одна таблица из блока кода выше не используется далее в проекте."
   ]
  },
  {
   "cell_type": "markdown",
   "metadata": {},
   "source": [
    "<div class=\"alert alert-info\">\n",
    "<h2> Комментарий студента <a class=\"tocSkip\"> </h2>\n",
    "Удалил лишнее создание таблиц,  разделил код \n",
    "</div>   "
   ]
  },
  {
   "cell_type": "markdown",
   "metadata": {},
   "source": [
    "<div class=\"alert alert-success\">\n",
    "<h2> Комментарий ревьюера v.3 <a class=\"tocSkip\"> </h2>\n",
    "\n",
    "<b>Все отлично!👍:</b> Учтено."
   ]
  },
  {
   "cell_type": "code",
   "execution_count": 27,
   "metadata": {},
   "outputs": [
    {
     "name": "stdout",
     "output_type": "stream",
     "text": [
      "Значение p-value = 0.738\n",
      "Относительная разница между сырыми данными и очищенными = -0.020\n"
     ]
    }
   ],
   "source": [
    "print(\"Значение p-value =\",\n",
    "    '{0:.3f}'.format(\n",
    "        stats.mannwhitneyu(\n",
    "            orders[\n",
    "                np.logical_and(\n",
    "                    orders['group'] == 'A',\n",
    "                    np.logical_not(orders['id_visitor'].isin(abnormalUsers)),\n",
    "                )\n",
    "            ]['revenue'],\n",
    "            orders[\n",
    "                np.logical_and(\n",
    "                    orders['group'] == 'B',\n",
    "                    np.logical_not(orders['id_visitor'].isin(abnormalUsers)),\n",
    "                )\n",
    "            ]['revenue'],\n",
    "        )[1]\n",
    "    )\n",
    ")\n",
    "\n",
    "print(\"Относительная разница между сырыми данными и очищенными =\",\n",
    "    \"{0:.3f}\".format(\n",
    "        orders[\n",
    "            np.logical_and(\n",
    "                orders['group'] == 'B',\n",
    "                np.logical_not(orders['id_visitor'].isin(abnormalUsers)),\n",
    "            )\n",
    "        ]['revenue'].mean()\n",
    "        / orders[\n",
    "            np.logical_and(\n",
    "                orders['group'] == 'A',\n",
    "                np.logical_not(orders['id_visitor'].isin(abnormalUsers)),\n",
    "            )\n",
    "        ]['revenue'].mean()\n",
    "        - 1\n",
    "    )\n",
    ")"
   ]
  },
  {
   "cell_type": "markdown",
   "metadata": {
    "id": "6gkjE3bjn3FZ"
   },
   "source": [
    "P-value увеличился, но и разница между сегментами сократилась с 18% до -0.2%.\n",
    "Хотя общие выводы по результатам теста не изменились, такой пример хорошо показывает, как сильно аномалии могут влиять на результаты A/B-теста!"
   ]
  },
  {
   "cell_type": "markdown",
   "metadata": {},
   "source": [
    "<div class=\"alert alert-success\">\n",
    "<h2> Комментарий ревьюера <a class=\"tocSkip\"> </h2>\n",
    "\n",
    "<b>Все отлично!👍:</b> Оценили значимость различий среднего чека между группами на очищенных данных - отлично!"
   ]
  },
  {
   "cell_type": "markdown",
   "metadata": {
    "id": "4KdH5zuQpNVs"
   },
   "source": [
    "Выводы по тесту\n",
    "\n",
    "- Есть статистически значимые различия по среднему количеству заказов на пользователя между группами по «сырым» и по данным после фильтрации аномалий\n",
    "- Нет статистически значимых различий по среднему чеку между группами по «сырым» и по данным после фильтрации аномалий\n",
    "- График различия среднего количества заказов на пользователя между группами сообщает, что результаты группы B лучше группы A, не смотря на большое количество всплесков аномальных активностей"
   ]
  },
  {
   "cell_type": "markdown",
   "metadata": {},
   "source": [
    "<div class=\"alert alert-block alert-danger\">\n",
    "<h2> Комментарий ревьюера <a class=\"tocSkip\"></h2>\n",
    "\n",
    "    \n",
    "<b>На доработку❌:</b>\n",
    "\n",
    "Вывод неверный в части среднего чека. \n",
    "    \n",
    "Другую метрику в выводе нужно исправить на актуальную."
   ]
  },
  {
   "cell_type": "markdown",
   "metadata": {},
   "source": [
    "<div class=\"alert alert-info\">\n",
    "<h2> Комментарий студента <a class=\"tocSkip\"> </h2>\n",
    "Изменил вывод с части среднего чека, поправил другую метрику на актуальную\n",
    "</div>   "
   ]
  },
  {
   "cell_type": "markdown",
   "metadata": {},
   "source": [
    "<div class=\"alert alert-success\">\n",
    "<h2> Комментарий ревьюера v.2 <a class=\"tocSkip\"> </h2>\n",
    "\n",
    "<b>Все отлично!👍:</b> Учтено."
   ]
  },
  {
   "cell_type": "markdown",
   "metadata": {
    "id": "_L6A3wyyJDah"
   },
   "source": [
    "# Результаты теста: \n",
    "### Принято решение остановить тест и зафиксировать победу группы В"
   ]
  },
  {
   "cell_type": "markdown",
   "metadata": {},
   "source": [
    "<div class=\"alert alert-success\">\n",
    "<h2> Комментарий ревьюера <a class=\"tocSkip\"> </h2>\n",
    "\n",
    "<b>Все отлично!👍:</b> Решение по тесту принято верное."
   ]
  },
  {
   "cell_type": "markdown",
   "metadata": {},
   "source": [
    "<div style=\"border:solid Chocolate 2px; padding: 40px\">\n",
    "\n",
    "# Комментарий ревьюера: общий вывод по проекту.\n",
    "\n",
    "Вадим, проект получился на неплохом уровне - хорошая работа, молодец!\n",
    "\n",
    "Мне нравится твой аналитический подход к выполнению проекта, ты соблюдаешь структуру работы, выполняешь её последовательно - это очень хорошо! Шаги проекта выполнены по порядку согласно плану проекта, нет смысловых и структурных ям. Важно, что не забываешь про выводы.\n",
    "\n",
    "Работа с кумулятивными данными выполнена отлично - данные собраны корректно, графики построены верно, выводы сделаны корректные.\n",
    "    \n",
    "В блоке работы с А/В тестом были выбраны верные инструменты, корректно проверены гипотезы.\n",
    "    \n",
    "Над проектом ещё стоит поработать - есть рекомендации по дополнению некоторых твоих шагов проекта. Такие рекомендации я отметил жёлтыми комментариями. Будет здорово, если ты учтёшь их - так проект станет структурно и содержательно более совершенным.\n",
    "    \n",
    "Также в работе есть критические замечания. К этим замечаниям я оставил пояснительные комментарии красного цвета, в которых перечислил возможные варианты дальнейших действий. Уверен, ты быстро с этим управишься:)\n",
    "    \n",
    "Если о том, что нужно сделать в рамках комментариев, будут возникать вопросы - оставь их, пожалуйста, в комментариях, и я отвечу на них во время следующего ревью.\n",
    "    \n",
    "Также буду рад ответить на любые твои вопросы по проекту или на какие-либо другие, если они у тебя имеются - оставь их в комментариях, и я постараюсь ответить:)\n",
    "    \n",
    "Жду твой проект на повторном ревью. До встречи:)"
   ]
  },
  {
   "cell_type": "markdown",
   "metadata": {},
   "source": [
    "<div style=\"border:solid Chocolate 2px; padding: 40px\">\n",
    "\n",
    "# Комментарий ревьюера: общий вывод по проекту v.2.\n",
    "\n",
    "Вадим, продолжаем работу над проектом - актуальные замечания отмечены комментариями с меткой `v.2`.\n",
    "    \n",
    "Жду тебя снова:)"
   ]
  },
  {
   "cell_type": "markdown",
   "metadata": {},
   "source": [
    "<div style=\"border:solid Chocolate 2px; padding: 40px\">\n",
    "\n",
    "# Комментарий ревьюера: общий вывод по проекту v.3.\n",
    "\n",
    "Вадим, продолжаем работу над проектом - актуальные замечания отмечены комментариями с меткой `v.3`.\n",
    "    \n",
    "Жду тебя снова:)"
   ]
  },
  {
   "cell_type": "markdown",
   "metadata": {},
   "source": [
    "<div style=\"border:solid Chocolate 2px; padding: 40px\">\n",
    "\n",
    "# Комментарий ревьюера: общий вывод по проекту v.4.\n",
    "\n",
    "Вадим, продолжаем работу над проектом - актуальные замечания отмечены комментариями с меткой `v.4`.\n",
    "    \n",
    "Жду тебя снова:)"
   ]
  },
  {
   "cell_type": "markdown",
   "metadata": {},
   "source": [
    "<div style=\"border:solid Chocolate 2px; padding: 40px\">\n",
    "\n",
    "# Комментарий ревьюера: общий вывод по проекту v.5.\n",
    "\n",
    "Вадим, все замечания учтены - проект принят!\n",
    "    \n",
    "Спасибо за хорошую работу над проектом, желаю успехов в дальнейшем обучении:)"
   ]
  }
 ],
 "metadata": {
  "ExecuteTimeLog": [
   {
    "duration": 1255,
    "start_time": "2023-03-31T10:30:41.987Z"
   },
   {
    "duration": 227,
    "start_time": "2023-03-31T10:30:43.244Z"
   },
   {
    "duration": 30,
    "start_time": "2023-03-31T10:30:43.472Z"
   },
   {
    "duration": 36,
    "start_time": "2023-03-31T10:30:43.504Z"
   },
   {
    "duration": 17,
    "start_time": "2023-03-31T10:30:43.542Z"
   },
   {
    "duration": 27,
    "start_time": "2023-03-31T10:30:43.560Z"
   },
   {
    "duration": 21,
    "start_time": "2023-03-31T10:30:43.588Z"
   },
   {
    "duration": 324,
    "start_time": "2023-03-31T10:30:43.611Z"
   },
   {
    "duration": 317,
    "start_time": "2023-03-31T10:30:43.936Z"
   },
   {
    "duration": 246,
    "start_time": "2023-03-31T10:30:44.255Z"
   },
   {
    "duration": 333,
    "start_time": "2023-03-31T10:30:44.502Z"
   },
   {
    "duration": 257,
    "start_time": "2023-03-31T10:30:44.837Z"
   },
   {
    "duration": 145,
    "start_time": "2023-03-31T10:30:45.097Z"
   },
   {
    "duration": 8,
    "start_time": "2023-03-31T10:30:45.244Z"
   },
   {
    "duration": 10,
    "start_time": "2023-03-31T10:30:45.254Z"
   },
   {
    "duration": 157,
    "start_time": "2023-03-31T10:30:45.265Z"
   },
   {
    "duration": 5,
    "start_time": "2023-03-31T10:30:45.424Z"
   },
   {
    "duration": 411,
    "start_time": "2023-03-31T10:30:45.430Z"
   },
   {
    "duration": 239,
    "start_time": "2023-03-31T10:30:45.843Z"
   },
   {
    "duration": 461,
    "start_time": "2023-03-31T10:30:46.087Z"
   },
   {
    "duration": 379,
    "start_time": "2023-03-31T10:30:46.550Z"
   },
   {
    "duration": 1290,
    "start_time": "2023-03-31T10:40:56.240Z"
   },
   {
    "duration": 74,
    "start_time": "2023-03-31T10:40:57.532Z"
   },
   {
    "duration": 32,
    "start_time": "2023-03-31T10:40:57.608Z"
   },
   {
    "duration": 35,
    "start_time": "2023-03-31T10:40:57.642Z"
   },
   {
    "duration": 24,
    "start_time": "2023-03-31T10:40:57.679Z"
   },
   {
    "duration": 17,
    "start_time": "2023-03-31T10:40:57.705Z"
   },
   {
    "duration": 10,
    "start_time": "2023-03-31T10:40:57.724Z"
   },
   {
    "duration": 313,
    "start_time": "2023-03-31T10:40:57.735Z"
   },
   {
    "duration": 331,
    "start_time": "2023-03-31T10:40:58.050Z"
   },
   {
    "duration": 250,
    "start_time": "2023-03-31T10:40:58.388Z"
   },
   {
    "duration": 328,
    "start_time": "2023-03-31T10:40:58.640Z"
   },
   {
    "duration": 287,
    "start_time": "2023-03-31T10:40:58.970Z"
   },
   {
    "duration": 152,
    "start_time": "2023-03-31T10:40:59.260Z"
   },
   {
    "duration": 10,
    "start_time": "2023-03-31T10:40:59.413Z"
   },
   {
    "duration": 21,
    "start_time": "2023-03-31T10:40:59.425Z"
   },
   {
    "duration": 152,
    "start_time": "2023-03-31T10:40:59.448Z"
   },
   {
    "duration": 5,
    "start_time": "2023-03-31T10:40:59.602Z"
   },
   {
    "duration": 248,
    "start_time": "2023-03-31T10:40:59.608Z"
   },
   {
    "duration": 170,
    "start_time": "2023-03-31T10:40:59.858Z"
   },
   {
    "duration": 270,
    "start_time": "2023-03-31T10:41:00.030Z"
   },
   {
    "duration": 572,
    "start_time": "2023-03-31T10:41:00.302Z"
   },
   {
    "duration": 433,
    "start_time": "2023-03-31T10:41:00.876Z"
   },
   {
    "duration": 1290,
    "start_time": "2023-03-31T10:48:50.621Z"
   },
   {
    "duration": 75,
    "start_time": "2023-03-31T10:48:51.913Z"
   },
   {
    "duration": 38,
    "start_time": "2023-03-31T10:48:51.993Z"
   },
   {
    "duration": 20,
    "start_time": "2023-03-31T10:48:52.033Z"
   },
   {
    "duration": 46,
    "start_time": "2023-03-31T10:48:52.056Z"
   },
   {
    "duration": 38,
    "start_time": "2023-03-31T10:48:52.104Z"
   },
   {
    "duration": 34,
    "start_time": "2023-03-31T10:48:52.145Z"
   },
   {
    "duration": 370,
    "start_time": "2023-03-31T10:48:52.182Z"
   },
   {
    "duration": 372,
    "start_time": "2023-03-31T10:48:52.554Z"
   },
   {
    "duration": 255,
    "start_time": "2023-03-31T10:48:52.928Z"
   },
   {
    "duration": 389,
    "start_time": "2023-03-31T10:48:53.187Z"
   },
   {
    "duration": 290,
    "start_time": "2023-03-31T10:48:53.578Z"
   },
   {
    "duration": 159,
    "start_time": "2023-03-31T10:48:53.871Z"
   },
   {
    "duration": 11,
    "start_time": "2023-03-31T10:48:54.033Z"
   },
   {
    "duration": 22,
    "start_time": "2023-03-31T10:48:54.045Z"
   },
   {
    "duration": 173,
    "start_time": "2023-03-31T10:48:54.068Z"
   },
   {
    "duration": 6,
    "start_time": "2023-03-31T10:48:54.243Z"
   },
   {
    "duration": 255,
    "start_time": "2023-03-31T10:48:54.251Z"
   },
   {
    "duration": 227,
    "start_time": "2023-03-31T10:48:54.508Z"
   },
   {
    "duration": 283,
    "start_time": "2023-03-31T10:48:54.737Z"
   },
   {
    "duration": 452,
    "start_time": "2023-03-31T10:48:55.023Z"
   },
   {
    "duration": 19,
    "start_time": "2023-03-31T10:48:55.477Z"
   },
   {
    "duration": 56,
    "start_time": "2023-03-31T10:48:55.497Z"
   },
   {
    "duration": 458,
    "start_time": "2023-03-31T10:48:55.556Z"
   },
   {
    "duration": 15,
    "start_time": "2023-03-31T10:48:56.017Z"
   },
   {
    "duration": 104,
    "start_time": "2023-03-31T11:33:01.507Z"
   },
   {
    "duration": 1301,
    "start_time": "2023-04-01T13:44:13.767Z"
   },
   {
    "duration": 241,
    "start_time": "2023-04-01T13:44:15.070Z"
   },
   {
    "duration": 26,
    "start_time": "2023-04-01T13:44:15.313Z"
   },
   {
    "duration": 20,
    "start_time": "2023-04-01T13:44:15.347Z"
   },
   {
    "duration": 14,
    "start_time": "2023-04-01T13:44:15.373Z"
   },
   {
    "duration": 18,
    "start_time": "2023-04-01T13:44:15.389Z"
   },
   {
    "duration": 19,
    "start_time": "2023-04-01T13:44:15.409Z"
   },
   {
    "duration": 291,
    "start_time": "2023-04-01T13:44:15.429Z"
   },
   {
    "duration": 332,
    "start_time": "2023-04-01T13:44:15.722Z"
   },
   {
    "duration": 245,
    "start_time": "2023-04-01T13:44:16.056Z"
   },
   {
    "duration": 401,
    "start_time": "2023-04-01T13:44:16.303Z"
   },
   {
    "duration": 260,
    "start_time": "2023-04-01T13:44:16.706Z"
   },
   {
    "duration": 134,
    "start_time": "2023-04-01T13:44:16.969Z"
   },
   {
    "duration": 7,
    "start_time": "2023-04-01T13:44:17.106Z"
   },
   {
    "duration": 22,
    "start_time": "2023-04-01T13:44:17.115Z"
   },
   {
    "duration": 142,
    "start_time": "2023-04-01T13:44:17.139Z"
   },
   {
    "duration": 4,
    "start_time": "2023-04-01T13:44:17.283Z"
   },
   {
    "duration": 233,
    "start_time": "2023-04-01T13:44:17.289Z"
   },
   {
    "duration": 168,
    "start_time": "2023-04-01T13:44:17.524Z"
   },
   {
    "duration": 219,
    "start_time": "2023-04-01T13:44:17.694Z"
   },
   {
    "duration": 401,
    "start_time": "2023-04-01T13:44:17.914Z"
   },
   {
    "duration": 8,
    "start_time": "2023-04-01T13:44:18.317Z"
   },
   {
    "duration": 46,
    "start_time": "2023-04-01T13:44:18.326Z"
   },
   {
    "duration": 350,
    "start_time": "2023-04-01T13:44:18.374Z"
   },
   {
    "duration": 25,
    "start_time": "2023-04-01T13:44:18.726Z"
   },
   {
    "duration": 250,
    "start_time": "2023-04-01T13:45:43.322Z"
   },
   {
    "duration": 285,
    "start_time": "2023-04-01T13:46:01.020Z"
   },
   {
    "duration": 237,
    "start_time": "2023-04-01T13:46:08.005Z"
   },
   {
    "duration": 130,
    "start_time": "2023-04-01T13:48:37.231Z"
   },
   {
    "duration": 126,
    "start_time": "2023-04-01T13:49:23.366Z"
   },
   {
    "duration": 48,
    "start_time": "2023-04-01T16:39:01.927Z"
   },
   {
    "duration": 200,
    "start_time": "2023-04-01T17:13:26.804Z"
   },
   {
    "duration": 198,
    "start_time": "2023-04-01T17:13:33.907Z"
   },
   {
    "duration": 203,
    "start_time": "2023-04-01T17:15:55.568Z"
   },
   {
    "duration": 94,
    "start_time": "2023-04-01T17:45:37.690Z"
   },
   {
    "duration": 54,
    "start_time": "2023-04-01T17:47:00.481Z"
   },
   {
    "duration": 10,
    "start_time": "2023-04-01T17:47:13.398Z"
   },
   {
    "duration": 768,
    "start_time": "2023-04-01T18:23:35.217Z"
   },
   {
    "duration": 733,
    "start_time": "2023-04-01T18:24:38.176Z"
   },
   {
    "duration": 752,
    "start_time": "2023-04-01T18:25:16.621Z"
   },
   {
    "duration": 734,
    "start_time": "2023-04-01T18:26:43.126Z"
   },
   {
    "duration": 4,
    "start_time": "2023-04-01T18:26:59.467Z"
   },
   {
    "duration": 67,
    "start_time": "2023-04-01T18:26:59.473Z"
   },
   {
    "duration": 25,
    "start_time": "2023-04-01T18:26:59.542Z"
   },
   {
    "duration": 14,
    "start_time": "2023-04-01T18:26:59.569Z"
   },
   {
    "duration": 16,
    "start_time": "2023-04-01T18:26:59.586Z"
   },
   {
    "duration": 42,
    "start_time": "2023-04-01T18:26:59.604Z"
   },
   {
    "duration": 14,
    "start_time": "2023-04-01T18:26:59.648Z"
   },
   {
    "duration": 336,
    "start_time": "2023-04-01T18:26:59.664Z"
   },
   {
    "duration": 249,
    "start_time": "2023-04-01T18:27:00.003Z"
   },
   {
    "duration": 244,
    "start_time": "2023-04-01T18:27:00.257Z"
   },
   {
    "duration": 397,
    "start_time": "2023-04-01T18:27:00.503Z"
   },
   {
    "duration": 286,
    "start_time": "2023-04-01T18:27:00.902Z"
   },
   {
    "duration": 145,
    "start_time": "2023-04-01T18:27:01.190Z"
   },
   {
    "duration": 13,
    "start_time": "2023-04-01T18:27:01.340Z"
   },
   {
    "duration": 18,
    "start_time": "2023-04-01T18:27:01.359Z"
   },
   {
    "duration": 208,
    "start_time": "2023-04-01T18:27:01.379Z"
   },
   {
    "duration": 5,
    "start_time": "2023-04-01T18:27:01.590Z"
   },
   {
    "duration": 369,
    "start_time": "2023-04-01T18:27:01.598Z"
   },
   {
    "duration": 194,
    "start_time": "2023-04-01T18:27:01.969Z"
   },
   {
    "duration": 242,
    "start_time": "2023-04-01T18:27:02.165Z"
   },
   {
    "duration": 254,
    "start_time": "2023-04-01T18:27:02.409Z"
   },
   {
    "duration": 790,
    "start_time": "2023-04-01T18:27:02.665Z"
   },
   {
    "duration": 0,
    "start_time": "2023-04-01T18:27:03.458Z"
   },
   {
    "duration": 0,
    "start_time": "2023-04-01T18:27:03.460Z"
   },
   {
    "duration": 0,
    "start_time": "2023-04-01T18:27:03.462Z"
   },
   {
    "duration": 851,
    "start_time": "2023-04-01T18:27:30.304Z"
   },
   {
    "duration": 34,
    "start_time": "2023-04-01T18:32:14.340Z"
   },
   {
    "duration": 813,
    "start_time": "2023-04-01T18:33:00.236Z"
   },
   {
    "duration": 783,
    "start_time": "2023-04-01T18:33:13.635Z"
   },
   {
    "duration": 741,
    "start_time": "2023-04-01T18:33:26.320Z"
   },
   {
    "duration": 980,
    "start_time": "2023-04-01T18:33:48.016Z"
   },
   {
    "duration": 905,
    "start_time": "2023-04-01T18:33:55.414Z"
   },
   {
    "duration": 922,
    "start_time": "2023-04-01T18:34:01.612Z"
   },
   {
    "duration": 986,
    "start_time": "2023-04-01T18:34:10.816Z"
   },
   {
    "duration": 739,
    "start_time": "2023-04-01T18:34:23.158Z"
   },
   {
    "duration": 804,
    "start_time": "2023-04-01T18:34:32.008Z"
   },
   {
    "duration": 16,
    "start_time": "2023-04-01T18:34:45.667Z"
   },
   {
    "duration": 1179,
    "start_time": "2023-04-01T18:35:18.713Z"
   },
   {
    "duration": 258,
    "start_time": "2023-04-01T18:55:19.836Z"
   },
   {
    "duration": 147,
    "start_time": "2023-04-01T18:57:05.252Z"
   },
   {
    "duration": 147,
    "start_time": "2023-04-01T18:57:16.832Z"
   },
   {
    "duration": 123,
    "start_time": "2023-04-01T18:58:04.501Z"
   },
   {
    "duration": 115,
    "start_time": "2023-04-01T18:58:16.806Z"
   },
   {
    "duration": 134,
    "start_time": "2023-04-01T18:58:23.441Z"
   },
   {
    "duration": 162,
    "start_time": "2023-04-01T18:58:27.107Z"
   },
   {
    "duration": 143,
    "start_time": "2023-04-01T18:58:30.349Z"
   },
   {
    "duration": 130,
    "start_time": "2023-04-01T18:58:52.904Z"
   },
   {
    "duration": 173,
    "start_time": "2023-04-01T18:59:02.821Z"
   },
   {
    "duration": 138,
    "start_time": "2023-04-01T18:59:08.604Z"
   },
   {
    "duration": 798,
    "start_time": "2023-04-01T19:00:55.429Z"
   },
   {
    "duration": 881,
    "start_time": "2023-04-01T19:01:19.904Z"
   },
   {
    "duration": 16,
    "start_time": "2023-04-01T19:01:25.492Z"
   },
   {
    "duration": 8,
    "start_time": "2023-04-01T19:02:26.709Z"
   },
   {
    "duration": 20,
    "start_time": "2023-04-01T19:02:32.843Z"
   },
   {
    "duration": 9,
    "start_time": "2023-04-01T19:04:32.978Z"
   },
   {
    "duration": 138,
    "start_time": "2023-04-01T19:10:30.448Z"
   },
   {
    "duration": 138,
    "start_time": "2023-04-01T19:10:36.436Z"
   },
   {
    "duration": 140,
    "start_time": "2023-04-01T19:10:45.262Z"
   },
   {
    "duration": 222,
    "start_time": "2023-04-01T19:10:51.807Z"
   },
   {
    "duration": 134,
    "start_time": "2023-04-01T19:10:57.131Z"
   },
   {
    "duration": 176,
    "start_time": "2023-04-01T19:12:24.750Z"
   },
   {
    "duration": 696,
    "start_time": "2023-04-01T19:15:50.904Z"
   },
   {
    "duration": 209,
    "start_time": "2023-04-01T19:17:45.402Z"
   },
   {
    "duration": 49,
    "start_time": "2023-04-01T19:20:37.895Z"
   },
   {
    "duration": 54,
    "start_time": "2023-04-01T19:21:52.445Z"
   },
   {
    "duration": 724,
    "start_time": "2023-04-01T19:22:42.286Z"
   },
   {
    "duration": 1347,
    "start_time": "2023-04-02T06:25:55.074Z"
   },
   {
    "duration": 224,
    "start_time": "2023-04-02T06:25:56.424Z"
   },
   {
    "duration": 29,
    "start_time": "2023-04-02T06:25:56.650Z"
   },
   {
    "duration": 15,
    "start_time": "2023-04-02T06:25:56.681Z"
   },
   {
    "duration": 20,
    "start_time": "2023-04-02T06:25:56.698Z"
   },
   {
    "duration": 13,
    "start_time": "2023-04-02T06:25:56.720Z"
   },
   {
    "duration": 13,
    "start_time": "2023-04-02T06:25:56.735Z"
   },
   {
    "duration": 317,
    "start_time": "2023-04-02T06:25:56.750Z"
   },
   {
    "duration": 350,
    "start_time": "2023-04-02T06:25:57.071Z"
   },
   {
    "duration": 256,
    "start_time": "2023-04-02T06:25:57.424Z"
   },
   {
    "duration": 352,
    "start_time": "2023-04-02T06:25:57.682Z"
   },
   {
    "duration": 228,
    "start_time": "2023-04-02T06:25:58.036Z"
   },
   {
    "duration": 119,
    "start_time": "2023-04-02T06:25:58.271Z"
   },
   {
    "duration": 10,
    "start_time": "2023-04-02T06:25:58.392Z"
   },
   {
    "duration": 17,
    "start_time": "2023-04-02T06:25:58.404Z"
   },
   {
    "duration": 133,
    "start_time": "2023-04-02T06:25:58.423Z"
   },
   {
    "duration": 4,
    "start_time": "2023-04-02T06:25:58.558Z"
   },
   {
    "duration": 312,
    "start_time": "2023-04-02T06:25:58.563Z"
   },
   {
    "duration": 0,
    "start_time": "2023-04-02T06:25:58.877Z"
   },
   {
    "duration": 0,
    "start_time": "2023-04-02T06:25:58.878Z"
   },
   {
    "duration": 0,
    "start_time": "2023-04-02T06:25:58.879Z"
   },
   {
    "duration": 0,
    "start_time": "2023-04-02T06:25:58.880Z"
   },
   {
    "duration": 0,
    "start_time": "2023-04-02T06:25:58.881Z"
   },
   {
    "duration": 0,
    "start_time": "2023-04-02T06:25:58.882Z"
   },
   {
    "duration": 0,
    "start_time": "2023-04-02T06:25:58.883Z"
   },
   {
    "duration": 299,
    "start_time": "2023-04-02T06:28:11.941Z"
   },
   {
    "duration": 184,
    "start_time": "2023-04-02T06:28:35.676Z"
   },
   {
    "duration": 215,
    "start_time": "2023-04-02T06:28:36.910Z"
   },
   {
    "duration": 174,
    "start_time": "2023-04-02T06:28:38.910Z"
   },
   {
    "duration": 10,
    "start_time": "2023-04-02T06:29:35.415Z"
   },
   {
    "duration": 3,
    "start_time": "2023-04-02T06:31:34.899Z"
   },
   {
    "duration": 81,
    "start_time": "2023-04-02T06:31:34.904Z"
   },
   {
    "duration": 21,
    "start_time": "2023-04-02T06:31:34.987Z"
   },
   {
    "duration": 17,
    "start_time": "2023-04-02T06:31:35.009Z"
   },
   {
    "duration": 31,
    "start_time": "2023-04-02T06:31:35.028Z"
   },
   {
    "duration": 27,
    "start_time": "2023-04-02T06:31:35.061Z"
   },
   {
    "duration": 36,
    "start_time": "2023-04-02T06:31:35.090Z"
   },
   {
    "duration": 270,
    "start_time": "2023-04-02T06:31:35.128Z"
   },
   {
    "duration": 204,
    "start_time": "2023-04-02T06:31:35.400Z"
   },
   {
    "duration": 205,
    "start_time": "2023-04-02T06:31:35.606Z"
   },
   {
    "duration": 319,
    "start_time": "2023-04-02T06:31:35.813Z"
   },
   {
    "duration": 240,
    "start_time": "2023-04-02T06:31:36.133Z"
   },
   {
    "duration": 108,
    "start_time": "2023-04-02T06:31:36.375Z"
   },
   {
    "duration": 7,
    "start_time": "2023-04-02T06:31:36.485Z"
   },
   {
    "duration": 4,
    "start_time": "2023-04-02T06:31:36.493Z"
   },
   {
    "duration": 121,
    "start_time": "2023-04-02T06:31:36.498Z"
   },
   {
    "duration": 3,
    "start_time": "2023-04-02T06:31:36.621Z"
   },
   {
    "duration": 191,
    "start_time": "2023-04-02T06:31:36.626Z"
   },
   {
    "duration": 155,
    "start_time": "2023-04-02T06:31:36.818Z"
   },
   {
    "duration": 180,
    "start_time": "2023-04-02T06:31:36.974Z"
   },
   {
    "duration": 173,
    "start_time": "2023-04-02T06:31:37.155Z"
   },
   {
    "duration": 9,
    "start_time": "2023-04-02T06:31:37.330Z"
   },
   {
    "duration": 35,
    "start_time": "2023-04-02T06:31:37.341Z"
   },
   {
    "duration": 174,
    "start_time": "2023-04-02T06:31:37.377Z"
   },
   {
    "duration": 22,
    "start_time": "2023-04-02T06:31:37.552Z"
   },
   {
    "duration": 1224,
    "start_time": "2023-04-02T06:53:40.034Z"
   },
   {
    "duration": 13,
    "start_time": "2023-04-02T06:53:49.772Z"
   },
   {
    "duration": 14,
    "start_time": "2023-04-02T06:56:23.517Z"
   },
   {
    "duration": 11,
    "start_time": "2023-04-02T07:09:23.187Z"
   },
   {
    "duration": 10,
    "start_time": "2023-04-02T07:09:31.430Z"
   },
   {
    "duration": 17,
    "start_time": "2023-04-02T07:09:57.560Z"
   },
   {
    "duration": 27,
    "start_time": "2023-04-02T07:10:09.620Z"
   },
   {
    "duration": 22,
    "start_time": "2023-04-02T07:10:19.819Z"
   },
   {
    "duration": 14,
    "start_time": "2023-04-02T07:10:22.098Z"
   },
   {
    "duration": 23,
    "start_time": "2023-04-02T07:10:30.792Z"
   },
   {
    "duration": 22,
    "start_time": "2023-04-02T07:11:26.460Z"
   },
   {
    "duration": 27,
    "start_time": "2023-04-02T07:11:35.683Z"
   },
   {
    "duration": 11,
    "start_time": "2023-04-02T07:13:40.487Z"
   },
   {
    "duration": 7,
    "start_time": "2023-04-02T07:14:24.659Z"
   },
   {
    "duration": 8,
    "start_time": "2023-04-02T07:14:32.747Z"
   },
   {
    "duration": 12,
    "start_time": "2023-04-02T07:14:38.028Z"
   },
   {
    "duration": 16,
    "start_time": "2023-04-02T07:14:44.982Z"
   },
   {
    "duration": 10,
    "start_time": "2023-04-02T07:20:11.758Z"
   },
   {
    "duration": 17,
    "start_time": "2023-04-02T07:20:43.964Z"
   },
   {
    "duration": 19,
    "start_time": "2023-04-02T08:29:40.697Z"
   },
   {
    "duration": 10,
    "start_time": "2023-04-02T08:29:59.504Z"
   },
   {
    "duration": 14,
    "start_time": "2023-04-02T08:30:26.201Z"
   },
   {
    "duration": 13,
    "start_time": "2023-04-02T08:30:48.473Z"
   },
   {
    "duration": 13,
    "start_time": "2023-04-02T08:32:40.173Z"
   },
   {
    "duration": 11,
    "start_time": "2023-04-02T08:34:45.011Z"
   },
   {
    "duration": 9,
    "start_time": "2023-04-02T08:35:06.486Z"
   },
   {
    "duration": 13,
    "start_time": "2023-04-02T08:36:32.827Z"
   },
   {
    "duration": 18,
    "start_time": "2023-04-02T08:38:40.275Z"
   },
   {
    "duration": 14,
    "start_time": "2023-04-02T08:38:46.626Z"
   },
   {
    "duration": 17,
    "start_time": "2023-04-02T08:45:14.196Z"
   },
   {
    "duration": 12,
    "start_time": "2023-04-02T08:45:26.890Z"
   },
   {
    "duration": 13,
    "start_time": "2023-04-02T08:45:31.599Z"
   },
   {
    "duration": 11,
    "start_time": "2023-04-02T08:50:05.633Z"
   },
   {
    "duration": 14,
    "start_time": "2023-04-02T09:11:25.898Z"
   },
   {
    "duration": 32,
    "start_time": "2023-04-02T09:39:22.161Z"
   },
   {
    "duration": 9,
    "start_time": "2023-04-02T09:39:37.526Z"
   },
   {
    "duration": 47,
    "start_time": "2023-04-02T09:53:00.809Z"
   },
   {
    "duration": 46,
    "start_time": "2023-04-02T09:53:41.497Z"
   },
   {
    "duration": 977,
    "start_time": "2023-04-02T09:54:00.529Z"
   },
   {
    "duration": 1143,
    "start_time": "2023-04-02T09:54:07.218Z"
   },
   {
    "duration": 834,
    "start_time": "2023-04-02T09:54:33.131Z"
   },
   {
    "duration": 412,
    "start_time": "2023-04-02T10:03:38.132Z"
   },
   {
    "duration": 444,
    "start_time": "2023-04-02T10:04:29.508Z"
   },
   {
    "duration": 416,
    "start_time": "2023-04-02T10:05:58.820Z"
   },
   {
    "duration": 202,
    "start_time": "2023-04-02T10:06:36.317Z"
   },
   {
    "duration": 213,
    "start_time": "2023-04-02T10:07:48.419Z"
   },
   {
    "duration": 304,
    "start_time": "2023-04-02T10:13:54.054Z"
   },
   {
    "duration": 152,
    "start_time": "2023-04-02T10:16:45.328Z"
   },
   {
    "duration": 32,
    "start_time": "2023-04-02T10:17:12.427Z"
   },
   {
    "duration": 626,
    "start_time": "2023-04-02T10:17:37.932Z"
   },
   {
    "duration": 722,
    "start_time": "2023-04-02T10:18:07.947Z"
   },
   {
    "duration": 581,
    "start_time": "2023-04-02T10:18:48.111Z"
   },
   {
    "duration": 627,
    "start_time": "2023-04-02T10:19:56.804Z"
   },
   {
    "duration": 721,
    "start_time": "2023-04-02T10:20:08.048Z"
   },
   {
    "duration": 698,
    "start_time": "2023-04-02T10:20:12.800Z"
   },
   {
    "duration": 674,
    "start_time": "2023-04-02T10:21:26.313Z"
   },
   {
    "duration": 806,
    "start_time": "2023-04-02T10:21:32.607Z"
   },
   {
    "duration": 5,
    "start_time": "2023-04-02T10:22:22.622Z"
   },
   {
    "duration": 662,
    "start_time": "2023-04-02T10:22:26.935Z"
   },
   {
    "duration": 1296,
    "start_time": "2023-04-02T21:11:56.804Z"
   },
   {
    "duration": 83,
    "start_time": "2023-04-02T21:11:58.102Z"
   },
   {
    "duration": 27,
    "start_time": "2023-04-02T21:11:58.187Z"
   },
   {
    "duration": 25,
    "start_time": "2023-04-02T21:11:58.216Z"
   },
   {
    "duration": 23,
    "start_time": "2023-04-02T21:11:58.244Z"
   },
   {
    "duration": 9,
    "start_time": "2023-04-02T21:11:58.269Z"
   },
   {
    "duration": 9,
    "start_time": "2023-04-02T21:11:58.279Z"
   },
   {
    "duration": 8,
    "start_time": "2023-04-02T21:11:58.290Z"
   },
   {
    "duration": 479,
    "start_time": "2023-04-02T21:11:58.300Z"
   },
   {
    "duration": 958,
    "start_time": "2023-04-02T21:11:58.823Z"
   },
   {
    "duration": 652,
    "start_time": "2023-04-02T21:11:59.783Z"
   },
   {
    "duration": 813,
    "start_time": "2023-04-02T21:12:00.437Z"
   },
   {
    "duration": 6,
    "start_time": "2023-04-02T21:12:01.263Z"
   },
   {
    "duration": 942,
    "start_time": "2023-04-02T21:12:01.273Z"
   },
   {
    "duration": 178,
    "start_time": "2023-04-02T21:12:02.217Z"
   },
   {
    "duration": 8,
    "start_time": "2023-04-02T21:12:02.397Z"
   },
   {
    "duration": 30,
    "start_time": "2023-04-02T21:12:02.407Z"
   },
   {
    "duration": 187,
    "start_time": "2023-04-02T21:12:02.439Z"
   },
   {
    "duration": 5,
    "start_time": "2023-04-02T21:12:02.629Z"
   },
   {
    "duration": 363,
    "start_time": "2023-04-02T21:12:02.640Z"
   },
   {
    "duration": 0,
    "start_time": "2023-04-02T21:12:03.005Z"
   },
   {
    "duration": 0,
    "start_time": "2023-04-02T21:12:03.006Z"
   },
   {
    "duration": 0,
    "start_time": "2023-04-02T21:12:03.008Z"
   },
   {
    "duration": 0,
    "start_time": "2023-04-02T21:12:03.009Z"
   },
   {
    "duration": 0,
    "start_time": "2023-04-02T21:12:03.010Z"
   },
   {
    "duration": 0,
    "start_time": "2023-04-02T21:12:03.024Z"
   },
   {
    "duration": 0,
    "start_time": "2023-04-02T21:12:03.025Z"
   },
   {
    "duration": 1347,
    "start_time": "2023-04-04T15:56:33.698Z"
   },
   {
    "duration": 262,
    "start_time": "2023-04-04T15:56:35.047Z"
   },
   {
    "duration": 37,
    "start_time": "2023-04-04T15:56:35.310Z"
   },
   {
    "duration": 32,
    "start_time": "2023-04-04T15:56:35.348Z"
   },
   {
    "duration": 22,
    "start_time": "2023-04-04T15:56:35.382Z"
   },
   {
    "duration": 15,
    "start_time": "2023-04-04T15:56:35.406Z"
   },
   {
    "duration": 34,
    "start_time": "2023-04-04T15:56:35.422Z"
   },
   {
    "duration": 20,
    "start_time": "2023-04-04T15:56:35.458Z"
   },
   {
    "duration": 289,
    "start_time": "2023-04-04T15:56:35.481Z"
   },
   {
    "duration": 323,
    "start_time": "2023-04-04T15:56:35.772Z"
   },
   {
    "duration": 245,
    "start_time": "2023-04-04T15:56:36.097Z"
   },
   {
    "duration": 375,
    "start_time": "2023-04-04T15:56:36.344Z"
   },
   {
    "duration": 20,
    "start_time": "2023-04-04T15:56:36.721Z"
   },
   {
    "duration": 659,
    "start_time": "2023-04-04T15:56:36.745Z"
   },
   {
    "duration": 1461,
    "start_time": "2023-04-04T15:56:37.405Z"
   },
   {
    "duration": 0,
    "start_time": "2023-04-04T15:56:38.868Z"
   },
   {
    "duration": 0,
    "start_time": "2023-04-04T15:56:38.870Z"
   },
   {
    "duration": 0,
    "start_time": "2023-04-04T15:56:38.871Z"
   },
   {
    "duration": 0,
    "start_time": "2023-04-04T15:56:38.873Z"
   },
   {
    "duration": 0,
    "start_time": "2023-04-04T15:56:38.874Z"
   },
   {
    "duration": 0,
    "start_time": "2023-04-04T15:56:38.875Z"
   },
   {
    "duration": 0,
    "start_time": "2023-04-04T15:56:38.876Z"
   },
   {
    "duration": 0,
    "start_time": "2023-04-04T15:56:38.877Z"
   },
   {
    "duration": 0,
    "start_time": "2023-04-04T15:56:38.879Z"
   },
   {
    "duration": 0,
    "start_time": "2023-04-04T15:56:38.880Z"
   },
   {
    "duration": 0,
    "start_time": "2023-04-04T15:56:38.881Z"
   },
   {
    "duration": 0,
    "start_time": "2023-04-04T15:56:38.882Z"
   },
   {
    "duration": 1163,
    "start_time": "2023-04-04T15:59:21.509Z"
   },
   {
    "duration": 87,
    "start_time": "2023-04-04T15:59:22.673Z"
   },
   {
    "duration": 25,
    "start_time": "2023-04-04T15:59:22.761Z"
   },
   {
    "duration": 19,
    "start_time": "2023-04-04T15:59:22.787Z"
   },
   {
    "duration": 14,
    "start_time": "2023-04-04T15:59:22.808Z"
   },
   {
    "duration": 23,
    "start_time": "2023-04-04T15:59:22.823Z"
   },
   {
    "duration": 22,
    "start_time": "2023-04-04T15:59:22.848Z"
   },
   {
    "duration": 12,
    "start_time": "2023-04-04T15:59:22.872Z"
   },
   {
    "duration": 282,
    "start_time": "2023-04-04T15:59:22.886Z"
   },
   {
    "duration": 326,
    "start_time": "2023-04-04T15:59:23.170Z"
   },
   {
    "duration": 240,
    "start_time": "2023-04-04T15:59:23.498Z"
   },
   {
    "duration": 349,
    "start_time": "2023-04-04T15:59:23.741Z"
   },
   {
    "duration": 2,
    "start_time": "2023-04-04T15:59:24.092Z"
   },
   {
    "duration": 668,
    "start_time": "2023-04-04T15:59:24.097Z"
   },
   {
    "duration": 2010,
    "start_time": "2023-04-04T15:59:24.767Z"
   },
   {
    "duration": 0,
    "start_time": "2023-04-04T15:59:26.779Z"
   },
   {
    "duration": 0,
    "start_time": "2023-04-04T15:59:26.780Z"
   },
   {
    "duration": 0,
    "start_time": "2023-04-04T15:59:26.781Z"
   },
   {
    "duration": 0,
    "start_time": "2023-04-04T15:59:26.782Z"
   },
   {
    "duration": 0,
    "start_time": "2023-04-04T15:59:26.783Z"
   },
   {
    "duration": 0,
    "start_time": "2023-04-04T15:59:26.784Z"
   },
   {
    "duration": 0,
    "start_time": "2023-04-04T15:59:26.786Z"
   },
   {
    "duration": 0,
    "start_time": "2023-04-04T15:59:26.787Z"
   },
   {
    "duration": 0,
    "start_time": "2023-04-04T15:59:26.788Z"
   },
   {
    "duration": 0,
    "start_time": "2023-04-04T15:59:26.789Z"
   },
   {
    "duration": 0,
    "start_time": "2023-04-04T15:59:26.790Z"
   },
   {
    "duration": 0,
    "start_time": "2023-04-04T15:59:26.791Z"
   },
   {
    "duration": 204,
    "start_time": "2023-04-04T15:59:41.448Z"
   },
   {
    "duration": 203,
    "start_time": "2023-04-04T16:00:09.748Z"
   },
   {
    "duration": 206,
    "start_time": "2023-04-04T16:13:41.724Z"
   },
   {
    "duration": 253,
    "start_time": "2023-04-04T16:14:47.478Z"
   },
   {
    "duration": 301,
    "start_time": "2023-04-04T16:15:18.287Z"
   },
   {
    "duration": 381,
    "start_time": "2023-04-04T16:15:44.557Z"
   },
   {
    "duration": 326,
    "start_time": "2023-04-04T16:15:55.302Z"
   },
   {
    "duration": 1175,
    "start_time": "2023-04-04T16:17:27.891Z"
   },
   {
    "duration": 1170,
    "start_time": "2023-04-04T16:18:03.112Z"
   },
   {
    "duration": 8,
    "start_time": "2023-04-04T16:18:35.864Z"
   },
   {
    "duration": 1102,
    "start_time": "2023-04-04T16:18:58.732Z"
   },
   {
    "duration": 76,
    "start_time": "2023-04-04T16:18:59.836Z"
   },
   {
    "duration": 24,
    "start_time": "2023-04-04T16:18:59.913Z"
   },
   {
    "duration": 22,
    "start_time": "2023-04-04T16:18:59.939Z"
   },
   {
    "duration": 13,
    "start_time": "2023-04-04T16:18:59.963Z"
   },
   {
    "duration": 8,
    "start_time": "2023-04-04T16:18:59.977Z"
   },
   {
    "duration": 8,
    "start_time": "2023-04-04T16:18:59.987Z"
   },
   {
    "duration": 8,
    "start_time": "2023-04-04T16:18:59.997Z"
   },
   {
    "duration": 291,
    "start_time": "2023-04-04T16:19:00.006Z"
   },
   {
    "duration": 306,
    "start_time": "2023-04-04T16:19:00.298Z"
   },
   {
    "duration": 235,
    "start_time": "2023-04-04T16:19:00.606Z"
   },
   {
    "duration": 326,
    "start_time": "2023-04-04T16:19:00.842Z"
   },
   {
    "duration": 277,
    "start_time": "2023-04-04T16:19:01.170Z"
   },
   {
    "duration": 96,
    "start_time": "2023-04-04T16:19:01.450Z"
   },
   {
    "duration": 0,
    "start_time": "2023-04-04T16:19:01.547Z"
   },
   {
    "duration": 0,
    "start_time": "2023-04-04T16:19:01.548Z"
   },
   {
    "duration": 0,
    "start_time": "2023-04-04T16:19:01.550Z"
   },
   {
    "duration": 0,
    "start_time": "2023-04-04T16:19:01.551Z"
   },
   {
    "duration": 0,
    "start_time": "2023-04-04T16:19:01.551Z"
   },
   {
    "duration": 0,
    "start_time": "2023-04-04T16:19:01.552Z"
   },
   {
    "duration": 0,
    "start_time": "2023-04-04T16:19:01.553Z"
   },
   {
    "duration": 1,
    "start_time": "2023-04-04T16:19:01.554Z"
   },
   {
    "duration": 0,
    "start_time": "2023-04-04T16:19:01.556Z"
   },
   {
    "duration": 0,
    "start_time": "2023-04-04T16:19:01.557Z"
   },
   {
    "duration": 0,
    "start_time": "2023-04-04T16:19:01.559Z"
   },
   {
    "duration": 0,
    "start_time": "2023-04-04T16:19:01.560Z"
   },
   {
    "duration": 0,
    "start_time": "2023-04-04T16:19:01.561Z"
   },
   {
    "duration": 3,
    "start_time": "2023-04-04T16:19:14.387Z"
   },
   {
    "duration": 92,
    "start_time": "2023-04-04T16:19:14.392Z"
   },
   {
    "duration": 22,
    "start_time": "2023-04-04T16:19:14.485Z"
   },
   {
    "duration": 31,
    "start_time": "2023-04-04T16:19:14.508Z"
   },
   {
    "duration": 55,
    "start_time": "2023-04-04T16:19:14.541Z"
   },
   {
    "duration": 21,
    "start_time": "2023-04-04T16:19:14.599Z"
   },
   {
    "duration": 30,
    "start_time": "2023-04-04T16:19:14.622Z"
   },
   {
    "duration": 35,
    "start_time": "2023-04-04T16:19:14.654Z"
   },
   {
    "duration": 289,
    "start_time": "2023-04-04T16:19:14.691Z"
   },
   {
    "duration": 223,
    "start_time": "2023-04-04T16:19:14.981Z"
   },
   {
    "duration": 236,
    "start_time": "2023-04-04T16:19:15.206Z"
   },
   {
    "duration": 419,
    "start_time": "2023-04-04T16:19:15.445Z"
   },
   {
    "duration": 230,
    "start_time": "2023-04-04T16:19:15.867Z"
   },
   {
    "duration": 12,
    "start_time": "2023-04-04T16:19:16.098Z"
   },
   {
    "duration": 0,
    "start_time": "2023-04-04T16:19:16.111Z"
   },
   {
    "duration": 0,
    "start_time": "2023-04-04T16:19:16.112Z"
   },
   {
    "duration": 0,
    "start_time": "2023-04-04T16:19:16.114Z"
   },
   {
    "duration": 0,
    "start_time": "2023-04-04T16:19:16.115Z"
   },
   {
    "duration": 0,
    "start_time": "2023-04-04T16:19:16.116Z"
   },
   {
    "duration": 0,
    "start_time": "2023-04-04T16:19:16.134Z"
   },
   {
    "duration": 0,
    "start_time": "2023-04-04T16:19:16.135Z"
   },
   {
    "duration": 0,
    "start_time": "2023-04-04T16:19:16.136Z"
   },
   {
    "duration": 0,
    "start_time": "2023-04-04T16:19:16.137Z"
   },
   {
    "duration": 0,
    "start_time": "2023-04-04T16:19:16.138Z"
   },
   {
    "duration": 0,
    "start_time": "2023-04-04T16:19:16.139Z"
   },
   {
    "duration": 0,
    "start_time": "2023-04-04T16:19:16.140Z"
   },
   {
    "duration": 0,
    "start_time": "2023-04-04T16:19:16.141Z"
   },
   {
    "duration": 191,
    "start_time": "2023-04-04T16:19:32.724Z"
   },
   {
    "duration": 126,
    "start_time": "2023-04-04T16:33:15.596Z"
   },
   {
    "duration": 123,
    "start_time": "2023-04-04T16:33:37.972Z"
   },
   {
    "duration": 9,
    "start_time": "2023-04-04T16:35:40.387Z"
   },
   {
    "duration": 9,
    "start_time": "2023-04-04T16:35:49.545Z"
   },
   {
    "duration": 1318,
    "start_time": "2023-04-04T16:35:55.285Z"
   },
   {
    "duration": 1214,
    "start_time": "2023-04-04T16:36:03.504Z"
   },
   {
    "duration": 12,
    "start_time": "2023-04-04T16:36:20.450Z"
   },
   {
    "duration": 129,
    "start_time": "2023-04-04T16:36:33.822Z"
   },
   {
    "duration": 321,
    "start_time": "2023-04-04T16:41:38.766Z"
   },
   {
    "duration": 343,
    "start_time": "2023-04-04T16:42:49.363Z"
   },
   {
    "duration": 134,
    "start_time": "2023-04-04T16:44:57.082Z"
   },
   {
    "duration": 132,
    "start_time": "2023-04-04T16:45:06.365Z"
   },
   {
    "duration": 157,
    "start_time": "2023-04-04T16:45:18.938Z"
   },
   {
    "duration": 139,
    "start_time": "2023-04-04T16:45:39.528Z"
   },
   {
    "duration": 1216,
    "start_time": "2023-04-04T16:48:19.716Z"
   },
   {
    "duration": 145,
    "start_time": "2023-04-04T16:48:26.473Z"
   },
   {
    "duration": 231,
    "start_time": "2023-04-04T16:48:39.953Z"
   },
   {
    "duration": 1397,
    "start_time": "2023-04-04T16:51:03.591Z"
   },
   {
    "duration": 129,
    "start_time": "2023-04-04T16:51:13.625Z"
   },
   {
    "duration": 8,
    "start_time": "2023-04-04T16:54:57.654Z"
   },
   {
    "duration": 8,
    "start_time": "2023-04-04T16:55:02.569Z"
   },
   {
    "duration": 1979,
    "start_time": "2023-04-04T16:55:05.757Z"
   },
   {
    "duration": 9,
    "start_time": "2023-04-04T16:59:19.636Z"
   },
   {
    "duration": 8,
    "start_time": "2023-04-04T16:59:38.350Z"
   },
   {
    "duration": 8,
    "start_time": "2023-04-04T17:01:01.066Z"
   },
   {
    "duration": 9,
    "start_time": "2023-04-04T17:01:08.335Z"
   },
   {
    "duration": 8,
    "start_time": "2023-04-04T17:01:14.011Z"
   },
   {
    "duration": 13,
    "start_time": "2023-04-04T17:01:20.168Z"
   },
   {
    "duration": 6,
    "start_time": "2023-04-04T17:01:28.591Z"
   },
   {
    "duration": 6,
    "start_time": "2023-04-04T17:01:34.101Z"
   },
   {
    "duration": 10,
    "start_time": "2023-04-04T17:01:40.590Z"
   },
   {
    "duration": 1448,
    "start_time": "2023-04-04T17:01:47.435Z"
   },
   {
    "duration": 124,
    "start_time": "2023-04-04T17:02:00.267Z"
   },
   {
    "duration": 1720,
    "start_time": "2023-04-04T17:02:08.122Z"
   },
   {
    "duration": 1531,
    "start_time": "2023-04-04T17:02:20.435Z"
   },
   {
    "duration": 114,
    "start_time": "2023-04-04T17:02:36.022Z"
   },
   {
    "duration": 163,
    "start_time": "2023-04-04T17:03:08.041Z"
   },
   {
    "duration": 156,
    "start_time": "2023-04-04T17:03:11.118Z"
   },
   {
    "duration": 148,
    "start_time": "2023-04-04T17:04:05.094Z"
   },
   {
    "duration": 7,
    "start_time": "2023-04-04T17:05:00.033Z"
   },
   {
    "duration": 203,
    "start_time": "2023-04-04T17:05:51.297Z"
   },
   {
    "duration": 140,
    "start_time": "2023-04-04T17:08:11.246Z"
   },
   {
    "duration": 76,
    "start_time": "2023-04-04T17:08:31.161Z"
   },
   {
    "duration": 191,
    "start_time": "2023-04-04T17:09:22.287Z"
   },
   {
    "duration": 231,
    "start_time": "2023-04-04T17:09:24.605Z"
   },
   {
    "duration": 18,
    "start_time": "2023-04-04T17:13:52.074Z"
   },
   {
    "duration": 27,
    "start_time": "2023-04-04T17:14:09.485Z"
   },
   {
    "duration": 27,
    "start_time": "2023-04-04T17:15:36.153Z"
   },
   {
    "duration": 11,
    "start_time": "2023-04-04T17:16:52.950Z"
   },
   {
    "duration": 3,
    "start_time": "2023-04-04T17:17:01.535Z"
   },
   {
    "duration": 110,
    "start_time": "2023-04-04T17:17:01.540Z"
   },
   {
    "duration": 22,
    "start_time": "2023-04-04T17:17:01.652Z"
   },
   {
    "duration": 38,
    "start_time": "2023-04-04T17:17:01.675Z"
   },
   {
    "duration": 56,
    "start_time": "2023-04-04T17:17:01.715Z"
   },
   {
    "duration": 39,
    "start_time": "2023-04-04T17:17:01.773Z"
   },
   {
    "duration": 42,
    "start_time": "2023-04-04T17:17:01.813Z"
   },
   {
    "duration": 38,
    "start_time": "2023-04-04T17:17:01.856Z"
   },
   {
    "duration": 288,
    "start_time": "2023-04-04T17:17:01.896Z"
   },
   {
    "duration": 221,
    "start_time": "2023-04-04T17:17:02.185Z"
   },
   {
    "duration": 223,
    "start_time": "2023-04-04T17:17:02.408Z"
   },
   {
    "duration": 348,
    "start_time": "2023-04-04T17:17:02.632Z"
   },
   {
    "duration": 328,
    "start_time": "2023-04-04T17:17:02.982Z"
   },
   {
    "duration": 360,
    "start_time": "2023-04-04T17:17:03.312Z"
   },
   {
    "duration": 170,
    "start_time": "2023-04-04T17:17:03.673Z"
   },
   {
    "duration": 159,
    "start_time": "2023-04-04T17:17:03.845Z"
   },
   {
    "duration": 8,
    "start_time": "2023-04-04T17:17:04.005Z"
   },
   {
    "duration": 31,
    "start_time": "2023-04-04T17:17:04.014Z"
   },
   {
    "duration": 150,
    "start_time": "2023-04-04T17:17:04.046Z"
   },
   {
    "duration": 130,
    "start_time": "2023-04-04T17:17:04.197Z"
   },
   {
    "duration": 7,
    "start_time": "2023-04-04T17:17:04.329Z"
   },
   {
    "duration": 203,
    "start_time": "2023-04-04T17:17:04.338Z"
   },
   {
    "duration": 234,
    "start_time": "2023-04-04T17:17:04.543Z"
   },
   {
    "duration": 208,
    "start_time": "2023-04-04T17:17:04.779Z"
   },
   {
    "duration": 189,
    "start_time": "2023-04-04T17:17:04.989Z"
   },
   {
    "duration": 1323,
    "start_time": "2023-04-04T17:17:05.180Z"
   },
   {
    "duration": 0,
    "start_time": "2023-04-04T17:17:06.504Z"
   },
   {
    "duration": 0,
    "start_time": "2023-04-04T17:17:06.506Z"
   },
   {
    "duration": 0,
    "start_time": "2023-04-04T17:17:06.507Z"
   },
   {
    "duration": 118,
    "start_time": "2023-04-04T17:23:22.029Z"
   },
   {
    "duration": 219,
    "start_time": "2023-04-04T17:25:03.796Z"
   },
   {
    "duration": 339,
    "start_time": "2023-04-04T17:25:23.306Z"
   },
   {
    "duration": 372,
    "start_time": "2023-04-04T17:27:42.377Z"
   },
   {
    "duration": 343,
    "start_time": "2023-04-04T17:30:11.577Z"
   },
   {
    "duration": 204,
    "start_time": "2023-04-04T17:31:04.497Z"
   },
   {
    "duration": 366,
    "start_time": "2023-04-04T17:31:21.095Z"
   },
   {
    "duration": 153,
    "start_time": "2023-04-04T17:31:51.437Z"
   },
   {
    "duration": 220,
    "start_time": "2023-04-04T17:32:18.176Z"
   },
   {
    "duration": 184,
    "start_time": "2023-04-04T17:33:12.896Z"
   },
   {
    "duration": 9,
    "start_time": "2023-04-04T17:33:29.004Z"
   },
   {
    "duration": 189,
    "start_time": "2023-04-04T17:33:56.996Z"
   },
   {
    "duration": 3549,
    "start_time": "2023-04-04T17:35:16.515Z"
   },
   {
    "duration": 12,
    "start_time": "2023-04-04T17:36:20.985Z"
   },
   {
    "duration": 1159,
    "start_time": "2023-04-04T17:36:36.963Z"
   },
   {
    "duration": 1372,
    "start_time": "2023-04-04T17:37:02.407Z"
   },
   {
    "duration": 11,
    "start_time": "2023-04-04T17:44:08.135Z"
   },
   {
    "duration": 8,
    "start_time": "2023-04-04T17:44:25.894Z"
   },
   {
    "duration": 154,
    "start_time": "2023-04-04T17:45:21.767Z"
   },
   {
    "duration": 10,
    "start_time": "2023-04-04T17:45:26.842Z"
   },
   {
    "duration": 199,
    "start_time": "2023-04-04T17:45:29.620Z"
   },
   {
    "duration": 12,
    "start_time": "2023-04-04T17:45:34.227Z"
   },
   {
    "duration": 10,
    "start_time": "2023-04-04T17:45:37.931Z"
   },
   {
    "duration": 25,
    "start_time": "2023-04-04T17:45:55.673Z"
   },
   {
    "duration": 28,
    "start_time": "2023-04-04T17:46:30.009Z"
   },
   {
    "duration": 9,
    "start_time": "2023-04-04T17:46:58.164Z"
   },
   {
    "duration": 13,
    "start_time": "2023-04-04T17:47:33.426Z"
   },
   {
    "duration": 16,
    "start_time": "2023-04-04T17:47:57.602Z"
   },
   {
    "duration": 12,
    "start_time": "2023-04-04T17:57:29.203Z"
   },
   {
    "duration": 9,
    "start_time": "2023-04-04T17:58:28.009Z"
   },
   {
    "duration": 22,
    "start_time": "2023-04-04T18:09:11.359Z"
   },
   {
    "duration": 8,
    "start_time": "2023-04-04T18:09:23.787Z"
   },
   {
    "duration": 198,
    "start_time": "2023-04-04T18:10:28.003Z"
   },
   {
    "duration": 10,
    "start_time": "2023-04-04T18:11:36.307Z"
   },
   {
    "duration": 15,
    "start_time": "2023-04-04T18:19:21.022Z"
   },
   {
    "duration": 199,
    "start_time": "2023-04-04T18:20:36.051Z"
   },
   {
    "duration": 1513,
    "start_time": "2023-04-04T18:25:57.519Z"
   },
   {
    "duration": 190,
    "start_time": "2023-04-04T18:27:42.482Z"
   },
   {
    "duration": 178,
    "start_time": "2023-04-04T18:28:29.690Z"
   },
   {
    "duration": 163,
    "start_time": "2023-04-04T18:28:35.857Z"
   },
   {
    "duration": 159,
    "start_time": "2023-04-04T18:28:59.210Z"
   },
   {
    "duration": 2892,
    "start_time": "2023-04-04T18:30:07.278Z"
   },
   {
    "duration": 182,
    "start_time": "2023-04-04T18:30:14.946Z"
   },
   {
    "duration": 179,
    "start_time": "2023-04-04T18:30:23.505Z"
   },
   {
    "duration": 240,
    "start_time": "2023-04-04T18:31:51.201Z"
   },
   {
    "duration": 198,
    "start_time": "2023-04-04T18:32:43.245Z"
   },
   {
    "duration": 179,
    "start_time": "2023-04-04T18:33:22.705Z"
   },
   {
    "duration": 10,
    "start_time": "2023-04-04T18:35:30.917Z"
   },
   {
    "duration": 1376,
    "start_time": "2023-04-04T18:40:22.149Z"
   },
   {
    "duration": 87,
    "start_time": "2023-04-04T18:40:23.528Z"
   },
   {
    "duration": 35,
    "start_time": "2023-04-04T18:40:23.617Z"
   },
   {
    "duration": 19,
    "start_time": "2023-04-04T18:40:23.655Z"
   },
   {
    "duration": 15,
    "start_time": "2023-04-04T18:40:23.676Z"
   },
   {
    "duration": 11,
    "start_time": "2023-04-04T18:40:23.693Z"
   },
   {
    "duration": 40,
    "start_time": "2023-04-04T18:40:23.706Z"
   },
   {
    "duration": 15,
    "start_time": "2023-04-04T18:40:23.749Z"
   },
   {
    "duration": 295,
    "start_time": "2023-04-04T18:40:23.765Z"
   },
   {
    "duration": 374,
    "start_time": "2023-04-04T18:40:24.063Z"
   },
   {
    "duration": 334,
    "start_time": "2023-04-04T18:40:24.439Z"
   },
   {
    "duration": 423,
    "start_time": "2023-04-04T18:40:24.780Z"
   },
   {
    "duration": 327,
    "start_time": "2023-04-04T18:40:25.205Z"
   },
   {
    "duration": 412,
    "start_time": "2023-04-04T18:40:25.533Z"
   },
   {
    "duration": 178,
    "start_time": "2023-04-04T18:40:25.947Z"
   },
   {
    "duration": 174,
    "start_time": "2023-04-04T18:40:26.126Z"
   },
   {
    "duration": 8,
    "start_time": "2023-04-04T18:40:26.302Z"
   },
   {
    "duration": 25,
    "start_time": "2023-04-04T18:40:26.312Z"
   },
   {
    "duration": 255,
    "start_time": "2023-04-04T18:40:26.339Z"
   },
   {
    "duration": 157,
    "start_time": "2023-04-04T18:40:26.596Z"
   },
   {
    "duration": 4,
    "start_time": "2023-04-04T18:40:26.756Z"
   },
   {
    "duration": 223,
    "start_time": "2023-04-04T18:40:26.763Z"
   },
   {
    "duration": 185,
    "start_time": "2023-04-04T18:40:26.988Z"
   },
   {
    "duration": 12,
    "start_time": "2023-04-04T18:40:27.175Z"
   },
   {
    "duration": 259,
    "start_time": "2023-04-04T18:40:27.189Z"
   },
   {
    "duration": 10,
    "start_time": "2023-04-04T18:40:27.450Z"
   },
   {
    "duration": 32,
    "start_time": "2023-04-04T18:40:27.462Z"
   },
   {
    "duration": 68,
    "start_time": "2023-04-04T18:40:27.499Z"
   },
   {
    "duration": 17,
    "start_time": "2023-04-04T18:40:27.570Z"
   },
   {
    "duration": 76,
    "start_time": "2023-04-06T04:19:10.764Z"
   },
   {
    "duration": 1721,
    "start_time": "2023-04-06T04:19:23.166Z"
   },
   {
    "duration": 314,
    "start_time": "2023-04-06T04:19:24.890Z"
   },
   {
    "duration": 37,
    "start_time": "2023-04-06T04:19:25.207Z"
   },
   {
    "duration": 58,
    "start_time": "2023-04-06T04:19:25.247Z"
   },
   {
    "duration": 15,
    "start_time": "2023-04-06T04:19:25.307Z"
   },
   {
    "duration": 9,
    "start_time": "2023-04-06T04:19:25.324Z"
   },
   {
    "duration": 45,
    "start_time": "2023-04-06T04:19:25.334Z"
   },
   {
    "duration": 13,
    "start_time": "2023-04-06T04:19:25.382Z"
   },
   {
    "duration": 345,
    "start_time": "2023-04-06T04:19:25.397Z"
   },
   {
    "duration": 442,
    "start_time": "2023-04-06T04:19:25.744Z"
   },
   {
    "duration": 280,
    "start_time": "2023-04-06T04:19:26.188Z"
   },
   {
    "duration": 368,
    "start_time": "2023-04-06T04:19:26.471Z"
   },
   {
    "duration": 361,
    "start_time": "2023-04-06T04:19:26.840Z"
   },
   {
    "duration": 388,
    "start_time": "2023-04-06T04:19:27.205Z"
   },
   {
    "duration": 219,
    "start_time": "2023-04-06T04:19:27.595Z"
   },
   {
    "duration": 23,
    "start_time": "2023-04-06T04:19:27.816Z"
   },
   {
    "duration": 8,
    "start_time": "2023-04-06T04:19:27.843Z"
   },
   {
    "duration": 277,
    "start_time": "2023-04-06T04:19:27.852Z"
   },
   {
    "duration": 249,
    "start_time": "2023-04-06T04:19:28.134Z"
   },
   {
    "duration": 6,
    "start_time": "2023-04-06T04:19:28.387Z"
   },
   {
    "duration": 255,
    "start_time": "2023-04-06T04:19:28.395Z"
   },
   {
    "duration": 234,
    "start_time": "2023-04-06T04:19:28.652Z"
   },
   {
    "duration": 11,
    "start_time": "2023-04-06T04:19:28.888Z"
   },
   {
    "duration": 11,
    "start_time": "2023-04-06T04:19:28.901Z"
   },
   {
    "duration": 27,
    "start_time": "2023-04-06T04:19:28.914Z"
   },
   {
    "duration": 53,
    "start_time": "2023-04-06T04:19:28.943Z"
   },
   {
    "duration": 17,
    "start_time": "2023-04-06T04:19:28.998Z"
   },
   {
    "duration": 28,
    "start_time": "2023-04-06T04:19:51.177Z"
   },
   {
    "duration": 278,
    "start_time": "2023-04-06T04:55:24.003Z"
   },
   {
    "duration": 1355,
    "start_time": "2023-04-06T05:05:07.911Z"
   },
   {
    "duration": 113,
    "start_time": "2023-04-06T05:05:09.272Z"
   },
   {
    "duration": 34,
    "start_time": "2023-04-06T05:05:09.387Z"
   },
   {
    "duration": 17,
    "start_time": "2023-04-06T05:05:09.423Z"
   },
   {
    "duration": 52,
    "start_time": "2023-04-06T05:05:09.442Z"
   },
   {
    "duration": 9,
    "start_time": "2023-04-06T05:05:09.497Z"
   },
   {
    "duration": 9,
    "start_time": "2023-04-06T05:05:09.508Z"
   },
   {
    "duration": 10,
    "start_time": "2023-04-06T05:05:09.519Z"
   },
   {
    "duration": 365,
    "start_time": "2023-04-06T05:05:09.531Z"
   },
   {
    "duration": 380,
    "start_time": "2023-04-06T05:05:09.898Z"
   },
   {
    "duration": 259,
    "start_time": "2023-04-06T05:05:10.283Z"
   },
   {
    "duration": 374,
    "start_time": "2023-04-06T05:05:10.544Z"
   },
   {
    "duration": 393,
    "start_time": "2023-04-06T05:05:10.920Z"
   },
   {
    "duration": 410,
    "start_time": "2023-04-06T05:05:11.319Z"
   },
   {
    "duration": 215,
    "start_time": "2023-04-06T05:05:11.738Z"
   },
   {
    "duration": 11,
    "start_time": "2023-04-06T05:05:11.955Z"
   },
   {
    "duration": 18,
    "start_time": "2023-04-06T05:05:11.970Z"
   },
   {
    "duration": 171,
    "start_time": "2023-04-06T05:05:11.990Z"
   },
   {
    "duration": 225,
    "start_time": "2023-04-06T05:05:12.172Z"
   },
   {
    "duration": 4,
    "start_time": "2023-04-06T05:05:12.399Z"
   },
   {
    "duration": 312,
    "start_time": "2023-04-06T05:05:12.405Z"
   },
   {
    "duration": 145,
    "start_time": "2023-04-06T05:05:12.719Z"
   },
   {
    "duration": 0,
    "start_time": "2023-04-06T05:05:12.865Z"
   },
   {
    "duration": 0,
    "start_time": "2023-04-06T05:05:12.866Z"
   },
   {
    "duration": 0,
    "start_time": "2023-04-06T05:05:12.867Z"
   },
   {
    "duration": 0,
    "start_time": "2023-04-06T05:05:12.868Z"
   },
   {
    "duration": 0,
    "start_time": "2023-04-06T05:05:12.869Z"
   },
   {
    "duration": 3553,
    "start_time": "2023-04-06T05:18:40.168Z"
   },
   {
    "duration": 11,
    "start_time": "2023-04-06T05:39:00.799Z"
   },
   {
    "duration": 253,
    "start_time": "2023-04-06T05:39:50.051Z"
   },
   {
    "duration": 7278,
    "start_time": "2023-04-06T05:40:03.263Z"
   },
   {
    "duration": 10,
    "start_time": "2023-04-06T05:40:11.683Z"
   },
   {
    "duration": 10,
    "start_time": "2023-04-06T05:40:56.482Z"
   },
   {
    "duration": 242,
    "start_time": "2023-04-06T05:42:19.906Z"
   },
   {
    "duration": 5,
    "start_time": "2023-04-06T06:15:20.901Z"
   },
   {
    "duration": 5,
    "start_time": "2023-04-06T06:15:29.496Z"
   },
   {
    "duration": 220,
    "start_time": "2023-04-06T06:22:06.503Z"
   },
   {
    "duration": 340,
    "start_time": "2023-04-06T06:22:45.742Z"
   },
   {
    "duration": 33,
    "start_time": "2023-04-06T06:23:04.601Z"
   },
   {
    "duration": 2517,
    "start_time": "2023-04-06T06:23:15.278Z"
   },
   {
    "duration": 327,
    "start_time": "2023-04-06T06:24:05.261Z"
   },
   {
    "duration": 24,
    "start_time": "2023-04-06T06:24:09.927Z"
   },
   {
    "duration": 11,
    "start_time": "2023-04-06T06:24:15.690Z"
   },
   {
    "duration": 10,
    "start_time": "2023-04-06T06:24:28.346Z"
   },
   {
    "duration": 10,
    "start_time": "2023-04-06T06:24:33.301Z"
   },
   {
    "duration": 21,
    "start_time": "2023-04-06T06:24:38.980Z"
   },
   {
    "duration": 18,
    "start_time": "2023-04-06T06:24:44.199Z"
   },
   {
    "duration": 27,
    "start_time": "2023-04-06T06:30:47.694Z"
   },
   {
    "duration": 4,
    "start_time": "2023-04-06T06:33:38.993Z"
   },
   {
    "duration": 3,
    "start_time": "2023-04-06T06:33:52.905Z"
   },
   {
    "duration": 27,
    "start_time": "2023-04-06T06:34:19.068Z"
   },
   {
    "duration": 1180,
    "start_time": "2023-04-06T06:36:38.713Z"
   },
   {
    "duration": 80,
    "start_time": "2023-04-06T06:36:39.895Z"
   },
   {
    "duration": 26,
    "start_time": "2023-04-06T06:36:39.978Z"
   },
   {
    "duration": 22,
    "start_time": "2023-04-06T06:36:40.006Z"
   },
   {
    "duration": 44,
    "start_time": "2023-04-06T06:36:40.029Z"
   },
   {
    "duration": 11,
    "start_time": "2023-04-06T06:36:40.075Z"
   },
   {
    "duration": 10,
    "start_time": "2023-04-06T06:36:40.087Z"
   },
   {
    "duration": 9,
    "start_time": "2023-04-06T06:36:40.099Z"
   },
   {
    "duration": 307,
    "start_time": "2023-04-06T06:36:40.109Z"
   },
   {
    "duration": 324,
    "start_time": "2023-04-06T06:36:40.419Z"
   },
   {
    "duration": 236,
    "start_time": "2023-04-06T06:36:40.745Z"
   },
   {
    "duration": 347,
    "start_time": "2023-04-06T06:36:40.983Z"
   },
   {
    "duration": 293,
    "start_time": "2023-04-06T06:36:41.334Z"
   },
   {
    "duration": 360,
    "start_time": "2023-04-06T06:36:41.629Z"
   },
   {
    "duration": 180,
    "start_time": "2023-04-06T06:36:41.991Z"
   },
   {
    "duration": 7,
    "start_time": "2023-04-06T06:36:42.173Z"
   },
   {
    "duration": 5,
    "start_time": "2023-04-06T06:36:42.182Z"
   },
   {
    "duration": 169,
    "start_time": "2023-04-06T06:36:42.189Z"
   },
   {
    "duration": 215,
    "start_time": "2023-04-06T06:36:42.360Z"
   },
   {
    "duration": 4,
    "start_time": "2023-04-06T06:36:42.577Z"
   },
   {
    "duration": 183,
    "start_time": "2023-04-06T06:36:42.583Z"
   },
   {
    "duration": 27,
    "start_time": "2023-04-06T06:36:42.768Z"
   },
   {
    "duration": 10,
    "start_time": "2023-04-06T06:36:42.797Z"
   },
   {
    "duration": 33,
    "start_time": "2023-04-06T06:36:42.809Z"
   },
   {
    "duration": 22,
    "start_time": "2023-04-06T06:36:42.843Z"
   },
   {
    "duration": 22,
    "start_time": "2023-04-06T06:36:42.867Z"
   },
   {
    "duration": 12,
    "start_time": "2023-04-06T06:36:42.891Z"
   },
   {
    "duration": 1475,
    "start_time": "2023-04-07T06:19:17.907Z"
   },
   {
    "duration": 96,
    "start_time": "2023-04-07T06:19:19.385Z"
   },
   {
    "duration": 43,
    "start_time": "2023-04-07T06:19:19.484Z"
   },
   {
    "duration": 29,
    "start_time": "2023-04-07T06:19:19.530Z"
   },
   {
    "duration": 22,
    "start_time": "2023-04-07T06:19:19.563Z"
   },
   {
    "duration": 16,
    "start_time": "2023-04-07T06:19:19.587Z"
   },
   {
    "duration": 36,
    "start_time": "2023-04-07T06:19:19.605Z"
   },
   {
    "duration": 14,
    "start_time": "2023-04-07T06:19:19.660Z"
   },
   {
    "duration": 414,
    "start_time": "2023-04-07T06:19:19.677Z"
   },
   {
    "duration": 459,
    "start_time": "2023-04-07T06:19:20.094Z"
   },
   {
    "duration": 298,
    "start_time": "2023-04-07T06:19:20.564Z"
   },
   {
    "duration": 396,
    "start_time": "2023-04-07T06:19:20.864Z"
   },
   {
    "duration": 371,
    "start_time": "2023-04-07T06:19:21.264Z"
   },
   {
    "duration": 468,
    "start_time": "2023-04-07T06:19:21.641Z"
   },
   {
    "duration": 253,
    "start_time": "2023-04-07T06:19:22.112Z"
   },
   {
    "duration": 13,
    "start_time": "2023-04-07T06:19:22.368Z"
   },
   {
    "duration": 9,
    "start_time": "2023-04-07T06:19:22.384Z"
   },
   {
    "duration": 210,
    "start_time": "2023-04-07T06:19:22.396Z"
   },
   {
    "duration": 309,
    "start_time": "2023-04-07T06:19:22.625Z"
   },
   {
    "duration": 19,
    "start_time": "2023-04-07T06:19:22.937Z"
   },
   {
    "duration": 186,
    "start_time": "2023-04-07T06:19:22.959Z"
   },
   {
    "duration": 41,
    "start_time": "2023-04-07T06:19:23.149Z"
   },
   {
    "duration": 16,
    "start_time": "2023-04-07T06:19:23.193Z"
   },
   {
    "duration": 42,
    "start_time": "2023-04-07T06:19:23.212Z"
   },
   {
    "duration": 38,
    "start_time": "2023-04-07T06:19:23.257Z"
   },
   {
    "duration": 62,
    "start_time": "2023-04-07T06:19:23.298Z"
   },
   {
    "duration": 24,
    "start_time": "2023-04-07T06:19:23.362Z"
   }
  ],
  "colab": {
   "collapsed_sections": [
    "fRHaFtaOQav5",
    "euszxDoqRX9O",
    "oDmXpeb7Qvt-",
    "30STJElGQdRb",
    "DZAajMh2QyDa",
    "80qBpJ27VBNp",
    "pwxkJtogU9kC",
    "DudAc3EqMdtD",
    "CbibEEcZFXP1",
    "7x_UcDJnMwrE",
    "swtaWmyONyzM",
    "YaWjMsqUO0P_",
    "mYuX28U3OAU0",
    "5BEAA_-jPI9G",
    "gtmmCBXxPS4W"
   ],
   "provenance": []
  },
  "kernelspec": {
   "display_name": "Python 3 (ipykernel)",
   "language": "python",
   "name": "python3"
  },
  "language_info": {
   "codemirror_mode": {
    "name": "ipython",
    "version": 3
   },
   "file_extension": ".py",
   "mimetype": "text/x-python",
   "name": "python",
   "nbconvert_exporter": "python",
   "pygments_lexer": "ipython3",
   "version": "3.9.5"
  },
  "toc": {
   "base_numbering": 1,
   "nav_menu": {},
   "number_sections": true,
   "sideBar": true,
   "skip_h1_title": true,
   "title_cell": "Table of Contents",
   "title_sidebar": "Contents",
   "toc_cell": false,
   "toc_position": {},
   "toc_section_display": true,
   "toc_window_display": false
  }
 },
 "nbformat": 4,
 "nbformat_minor": 1
}
