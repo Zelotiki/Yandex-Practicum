{
 "cells": [
  {
   "cell_type": "markdown",
   "id": "a31ef160",
   "metadata": {},
   "source": [
    "<div style=\"border:solid blue 2px; padding: 20px\">\n",
    "  \n",
    "**Привет, Вадим!**\n",
    "\n",
    "Меня зовут Юлия Никишина, я ревьюер, буду проверять твой проект. \n",
    "\n",
    "Если не против, предлагаю общаться на \"ты\". Если это неприемлемо, обязательно напиши мне в комментариях, и мы перейдем на \"Вы\".\n",
    "\n",
    "Далее в файле ты увидишь мои комментарии в цветных ячейках с пометкой \"Комментарий ревьюера\". Цвет ячеек зависит от того, какие действия от тебя требуются, ниже указано подробнее. \n",
    "\n",
    "**Важно:** Пожалуйста, не удаляй и не изменяй мои комментарии. При повторной проверке я буду ориентироваться на них. \n",
    "\n",
    "<div class=\"alert alert-success\"; style=\"border-left: 7px solid green\">\n",
    "<b>✅ Комментарий ревьюера (хорошо)</b> \n",
    "    \n",
    "Такими комментариями я буду отмечать хорошо проделаную работу.\n",
    "</div>\n",
    "\n",
    "<div class=\"alert alert-warning\"; style=\"border-left: 7px solid gold\">\n",
    "<b>⚠️ Комментарий ревьюера (обрати внимание)</b> \n",
    "    \n",
    "Части проекта, помеченные такими комментариями, можно не исправлять, но стоит обратить на них внимание. В таких комментариях я постараюсь предложить альтернативный вариант решения или дам рекомендации на будущее. \n",
    "</div>\n",
    "\n",
    "<div class=\"alert alert-danger\"; style=\"border-left: 7px solid red\">\n",
    "<b>⛔️ Комментарий ревьюера (нужно исправить)</b> \n",
    "    \n",
    "Если ты видишь такой комментарий, значит я указываю тебе на недочёт, его нужно исправить. Без такого исправления я не смогу принять твою работу.\n",
    "</div>\n",
    "\n",
    "Ты можешь под моими комментариями оставлять свои, описывать в них сделанные исправления или задавать вопросы, выделяя их другим цветом. \n",
    "\n",
    "<div class=\"alert alert-info\"; style=\"border-left: 7px solid blue\">\n",
    "<b>Комментарий студента</b>"
   ]
  },
  {
   "cell_type": "markdown",
   "id": "de5ed7fe",
   "metadata": {},
   "source": [
    "<div style=\"border:solid blue 2px; padding: 20px\">\n",
    "  \n",
    "**Заключительный комментарий, ревью 3**\n",
    "    \n",
    "Вадим, привет. \n",
    "    \n",
    "Спасибо за корректировку. Запрос теперь составлен верно. Твой проект принят, поздравляю. \n",
    "\n",
    "---\n",
    "\n",
    "Как ты возможно уже знаешь, SQL - важный скилл для аналитика данных, его знание требуется требуется в большом количестве вакансий, поэтому стоит его регулярно практиковать, чтобы не забывался. Если вдруг тебе не хватает повседневной практики, могу порекомендовать следующие ресурсы:\n",
    "    \n",
    "1. [Бесплатный курс на Stepik \"Введение в базы данных\"](https://stepik.org/course/551/syllabus)\n",
    "2. [Бесплатный тренажер по SQL там же](https://stepik.org/course/63054)\n",
    "3. [Еще недорогой краткий курс с той же платформы об оконных функциях](https://stepik.org/course/95367/syllabus)\n",
    "4. Каналы в телеграмме, в которых можно задать вопросы по SQL\n",
    "    - [sqlcom](https://t.me/sqlcom)\n",
    "    - [sql_ninja](https://t.me/sql_ninja)\n",
    "5. Еще несколько тренажеров, платных, но с бесплатной частью\n",
    "   - [Тренажер SQLhabit](https://www.sqlhabit.com/)\n",
    "   - [Тренажер SQLzoo](https://sqlzoo.net/wiki/SQL_Tutorial)\n",
    "   - [Тренажер LearnDB](https://learndb.ru/courses)\n",
    "   - [Тренажер W3Schools](https://www.w3schools.com/sql/)\n",
    "    \n",
    "6. Из моих последних открытий парочка тренажеров, в которых задачи реально похожи на бизнесовые задачи. Но второй на английском:\n",
    "    \n",
    "    - [SQL Academy](https://sql-academy.org/ru/trainer)\n",
    "    - [StrataScratch](https://platform.stratascratch.com/coding?code_type=1)\n",
    "    \n",
    "Поздравляю тебя с завершением финального спринта!"
   ]
  },
  {
   "cell_type": "markdown",
   "id": "6f3d45fd",
   "metadata": {},
   "source": [
    "<div style=\"border:solid blue 2px; padding: 20px\">\n",
    "  \n",
    "**Заключительный комментарий, ревью 2**\n",
    "    \n",
    "Вадим, привет. Спасибо за доработки, особенно за то, что принял во внимание не только критичные замечания, но и рекомендации. \n",
    "    \n",
    "Остается вопрос с запросом для определения автора в самой высокой средней оценкой книг. Я попыталась написать подробнее, что необходимо было сделать с предыдущей версией запроса. Можешь, пожалуйста, доработать запрос?\n",
    "    \n",
    "Буду ждать обновленный проект."
   ]
  },
  {
   "cell_type": "markdown",
   "id": "61edebe1",
   "metadata": {},
   "source": [
    "<div style=\"border:solid blue 2px; padding: 20px\">\n",
    "  \n",
    "**Заключительный комментарий**\n",
    "    \n",
    "Вадим, спасибо за проект. У тебя получилась хорошая работа. \n",
    "    \n",
    "Ты придерживался последовательности, указанной в задании, и выполнил все задания. Запросы, которые ты использовал для получения необходимых данных из базы, были составлены оптимально. \n",
    "    \n",
    "---\n",
    " \n",
    "Есть несколько критичных моментов, которые необходимо доработать, чтобы проект был принят. Они описаны в ячейках с красным фоном по ходу тетрадки и указаны ниже:\n",
    "    \n",
    "- удалить дублирующиеся строки с созданием подключения\n",
    "- доработать запрос на определение автора с самой высокой средней оценкой книг\n",
    "\n",
    "    \n",
    "Кроме того, рекомендую доработать желтые комментарии, но оставляю это на твое усмотрение. \n",
    "    \n",
    "Желаю успехов и буду ждать проект на повторную проверку."
   ]
  },
  {
   "cell_type": "markdown",
   "id": "0d676f5c",
   "metadata": {},
   "source": [
    "# Проект по SQL"
   ]
  },
  {
   "cell_type": "markdown",
   "id": "92c9d391",
   "metadata": {},
   "source": [
    "### Цель исследования\n",
    "Первая задача как аналитика — проанализировать базу данных.\n",
    "Эти данные помогут сформулировать ценностное предложение для нового продукта.\n",
    "\n",
    "### Общие данные:\n",
    "База данных содержит информацию о книгах, издательствах, авторах, а также пользовательские\n",
    "обзоры книг. \n",
    "\n",
    "### Описание таблиц:\n",
    "##### books cодержит данные о книгах:   \n",
    " - book_id — идентификатор книги;   \n",
    " - author_id — идентификатор автора;   \n",
    " - title — название книги;   \n",
    " - num_pages — количество страниц;   \n",
    " - publication_date — дата публикации книги;   \n",
    " - publisher_id — идентификатор издателя.   \n",
    "\n",
    "##### authors cодержит данные об авторах:   \n",
    " - author_id — идентификатор автора;   \n",
    " - author — имя автора    \n",
    "\n",
    "##### publishers cодержит данные об издательствах:    \n",
    " - publisher_id — идентификатор издательства;   \n",
    " - publisher — название издательства;   \n",
    "\n",
    "##### ratings cодержит данные о пользовательских оценках книг:   \n",
    " - rating_id — идентификатор оценки;   \n",
    " - book_id — идентификатор книги;   \n",
    " - username — имя пользователя, оставившего оценку;   \n",
    " - rating — оценка книги.   \n",
    "\n",
    "##### reviews cодержит данные о пользовательских обзорах на книги:   \n",
    " - review_id — идентификатор обзора;   \n",
    " - book_id — идентификатор книги;   \n",
    " - username — имя пользователя, написавшего обзор;   \n",
    " - text — текст обзора.   "
   ]
  },
  {
   "cell_type": "markdown",
   "id": "f28a6904",
   "metadata": {},
   "source": [
    "<div class=\"alert alert-success\"; style=\"border-left: 7px solid green\">\n",
    "<b>✅ Комментарий ревьюера, ревью 1</b> \n",
    "\n",
    "Отлично, что начинаешь со введения."
   ]
  },
  {
   "cell_type": "markdown",
   "id": "f8915122",
   "metadata": {},
   "source": [
    "### Подключение к БД"
   ]
  },
  {
   "cell_type": "code",
   "execution_count": 1,
   "id": "bd51b1c0",
   "metadata": {},
   "outputs": [],
   "source": [
    "# импортируем библиотеки\n",
    "import pandas as pd\n",
    "from sqlalchemy import text, create_engine\n",
    "import warnings; warnings.filterwarnings(action='once')"
   ]
  },
  {
   "cell_type": "code",
   "execution_count": 2,
   "id": "e927fead",
   "metadata": {},
   "outputs": [],
   "source": [
    "# устанавливаем параметры\n",
    "db_config = {'user': 'praktikum_student', # имя пользователя\n",
    "            'pwd': 'Sdf4$2;d-d30pp', # пароль\n",
    "            'host': 'rc1b-wcoijxj3yxfsf3fs.mdb.yandexcloud.net',\n",
    "            'port': 6432, # порт подключения\n",
    "            'db': 'data-analyst-final-project-db'} # название базы данных\n",
    "connection_string = 'postgresql://{user}:{pwd}@{host}:{port}/{db}'.format(**db_config)\n",
    "# сохраняем коннектор\n",
    "engine = create_engine(connection_string, connect_args={'sslmode':'require'})\n",
    "con=engine.connect()"
   ]
  },
  {
   "cell_type": "markdown",
   "id": "ca31332f",
   "metadata": {},
   "source": [
    "<div class=\"alert alert-success\"; style=\"border-left: 7px solid green\">\n",
    "<b>✅ Комментарий ревьюера, ревью 2</b> \n",
    "\n",
    "\n",
    "    \n",
    "✔️ \n",
    "    \n",
    "<a class=\"tocSkip\"></a><s>\n",
    "\n",
    "<div class=\"alert alert-warning\"; style=\"border-left: 7px solid gold\">\n",
    "<b>⚠️ Комментарий ревьюера, ревью 1</b> \n",
    "\n",
    "У тебя дублируется импорт библиотек. Думаю, ты просто не заметил. На всякий случай, напомню, что стоит импортировать все библиотеки в отдельной - от загрузки датасетов и других действий - ячейке. В таком случае при необходимости импортировать новую библиотеку в процессе работы над проектом тебе не придется заново загружать датасеты / выполнять другие операции, указанные в ячейке.\n",
    "    \n",
    "<a href='https://pythonworld.ru/osnovy/pep-8-rukovodstvo-po-napisaniyu-koda-na-python.html'>Материал по импорту.</a> "
   ]
  },
  {
   "cell_type": "markdown",
   "id": "f5ddd7fa",
   "metadata": {},
   "source": [
    "### Знакомство с таблицами"
   ]
  },
  {
   "cell_type": "markdown",
   "id": "1a51b562",
   "metadata": {},
   "source": [
    "#### Таблица books"
   ]
  },
  {
   "cell_type": "code",
   "execution_count": 3,
   "id": "5de4a040",
   "metadata": {},
   "outputs": [
    {
     "data": {
      "text/html": [
       "<div>\n",
       "<style scoped>\n",
       "    .dataframe tbody tr th:only-of-type {\n",
       "        vertical-align: middle;\n",
       "    }\n",
       "\n",
       "    .dataframe tbody tr th {\n",
       "        vertical-align: top;\n",
       "    }\n",
       "\n",
       "    .dataframe thead th {\n",
       "        text-align: right;\n",
       "    }\n",
       "</style>\n",
       "<table border=\"1\" class=\"dataframe\">\n",
       "  <thead>\n",
       "    <tr style=\"text-align: right;\">\n",
       "      <th></th>\n",
       "      <th>book_id</th>\n",
       "      <th>author_id</th>\n",
       "      <th>title</th>\n",
       "      <th>num_pages</th>\n",
       "      <th>publication_date</th>\n",
       "      <th>publisher_id</th>\n",
       "    </tr>\n",
       "  </thead>\n",
       "  <tbody>\n",
       "    <tr>\n",
       "      <th>0</th>\n",
       "      <td>1</td>\n",
       "      <td>546</td>\n",
       "      <td>'Salem's Lot</td>\n",
       "      <td>594</td>\n",
       "      <td>2005-11-01</td>\n",
       "      <td>93</td>\n",
       "    </tr>\n",
       "    <tr>\n",
       "      <th>1</th>\n",
       "      <td>2</td>\n",
       "      <td>465</td>\n",
       "      <td>1 000 Places to See Before You Die</td>\n",
       "      <td>992</td>\n",
       "      <td>2003-05-22</td>\n",
       "      <td>336</td>\n",
       "    </tr>\n",
       "    <tr>\n",
       "      <th>2</th>\n",
       "      <td>3</td>\n",
       "      <td>407</td>\n",
       "      <td>13 Little Blue Envelopes (Little Blue Envelope...</td>\n",
       "      <td>322</td>\n",
       "      <td>2010-12-21</td>\n",
       "      <td>135</td>\n",
       "    </tr>\n",
       "    <tr>\n",
       "      <th>3</th>\n",
       "      <td>4</td>\n",
       "      <td>82</td>\n",
       "      <td>1491: New Revelations of the Americas Before C...</td>\n",
       "      <td>541</td>\n",
       "      <td>2006-10-10</td>\n",
       "      <td>309</td>\n",
       "    </tr>\n",
       "    <tr>\n",
       "      <th>4</th>\n",
       "      <td>5</td>\n",
       "      <td>125</td>\n",
       "      <td>1776</td>\n",
       "      <td>386</td>\n",
       "      <td>2006-07-04</td>\n",
       "      <td>268</td>\n",
       "    </tr>\n",
       "  </tbody>\n",
       "</table>\n",
       "</div>"
      ],
      "text/plain": [
       "   book_id  author_id                                              title  \\\n",
       "0        1        546                                       'Salem's Lot   \n",
       "1        2        465                 1 000 Places to See Before You Die   \n",
       "2        3        407  13 Little Blue Envelopes (Little Blue Envelope...   \n",
       "3        4         82  1491: New Revelations of the Americas Before C...   \n",
       "4        5        125                                               1776   \n",
       "\n",
       "   num_pages publication_date  publisher_id  \n",
       "0        594       2005-11-01            93  \n",
       "1        992       2003-05-22           336  \n",
       "2        322       2010-12-21           135  \n",
       "3        541       2006-10-10           309  \n",
       "4        386       2006-07-04           268  "
      ]
     },
     "execution_count": 3,
     "metadata": {},
     "output_type": "execute_result"
    }
   ],
   "source": [
    "# чтобы выполнить SQL-запрос, используем Pandas\n",
    "query = '''SELECT * FROM books LIMIT 5'''\n",
    "pd.io.sql.read_sql(sql=text(query), con = con)"
   ]
  },
  {
   "cell_type": "markdown",
   "id": "63ece283",
   "metadata": {},
   "source": [
    "<div class=\"alert alert-success\"; style=\"border-left: 7px solid green\">\n",
    "<b>✅ Комментарий ревьюера, ревью 2</b> \n",
    "\n",
    "\n",
    "    \n",
    "✔️ \n",
    "    \n",
    "<a class=\"tocSkip\"></a><s>\n",
    "\n",
    "<div class=\"alert alert-danger\"; style=\"border-left: 7px solid red\">\n",
    "<b>⛔️ Комментарий ревьюера, ревью 1</b> \n",
    "\n",
    "Нет необходимости каждый раз заново создавать подключение к базе. Достаточно это сделать один раз. А далее можно использовать переменную с сохраненным коннектором."
   ]
  },
  {
   "cell_type": "markdown",
   "id": "f848f275",
   "metadata": {},
   "source": [
    "<div class=\"alert alert-info\"; style=\"border-left: 7px solid blue\">\n",
    "<b> Да верно, торопился не обратил внимание. Поправил.</b>"
   ]
  },
  {
   "cell_type": "markdown",
   "id": "a66ff7c3",
   "metadata": {},
   "source": [
    "#### Таблица authors"
   ]
  },
  {
   "cell_type": "code",
   "execution_count": 4,
   "id": "3c7130f8",
   "metadata": {},
   "outputs": [
    {
     "data": {
      "text/html": [
       "<div>\n",
       "<style scoped>\n",
       "    .dataframe tbody tr th:only-of-type {\n",
       "        vertical-align: middle;\n",
       "    }\n",
       "\n",
       "    .dataframe tbody tr th {\n",
       "        vertical-align: top;\n",
       "    }\n",
       "\n",
       "    .dataframe thead th {\n",
       "        text-align: right;\n",
       "    }\n",
       "</style>\n",
       "<table border=\"1\" class=\"dataframe\">\n",
       "  <thead>\n",
       "    <tr style=\"text-align: right;\">\n",
       "      <th></th>\n",
       "      <th>author_id</th>\n",
       "      <th>author</th>\n",
       "    </tr>\n",
       "  </thead>\n",
       "  <tbody>\n",
       "    <tr>\n",
       "      <th>0</th>\n",
       "      <td>1</td>\n",
       "      <td>A.S. Byatt</td>\n",
       "    </tr>\n",
       "    <tr>\n",
       "      <th>1</th>\n",
       "      <td>2</td>\n",
       "      <td>Aesop/Laura Harris/Laura Gibbs</td>\n",
       "    </tr>\n",
       "    <tr>\n",
       "      <th>2</th>\n",
       "      <td>3</td>\n",
       "      <td>Agatha Christie</td>\n",
       "    </tr>\n",
       "    <tr>\n",
       "      <th>3</th>\n",
       "      <td>4</td>\n",
       "      <td>Alan Brennert</td>\n",
       "    </tr>\n",
       "    <tr>\n",
       "      <th>4</th>\n",
       "      <td>5</td>\n",
       "      <td>Alan Moore/David   Lloyd</td>\n",
       "    </tr>\n",
       "  </tbody>\n",
       "</table>\n",
       "</div>"
      ],
      "text/plain": [
       "   author_id                          author\n",
       "0          1                      A.S. Byatt\n",
       "1          2  Aesop/Laura Harris/Laura Gibbs\n",
       "2          3                 Agatha Christie\n",
       "3          4                   Alan Brennert\n",
       "4          5        Alan Moore/David   Lloyd"
      ]
     },
     "execution_count": 4,
     "metadata": {},
     "output_type": "execute_result"
    }
   ],
   "source": [
    "# чтобы выполнить SQL-запрос, используем Pandas\n",
    "query = '''SELECT * FROM authors LIMIT 5'''\n",
    "pd.io.sql.read_sql(sql=text(query), con = con)"
   ]
  },
  {
   "cell_type": "markdown",
   "id": "0a8ea999",
   "metadata": {},
   "source": [
    "#### Таблица publishers"
   ]
  },
  {
   "cell_type": "code",
   "execution_count": 5,
   "id": "a89d2ea0",
   "metadata": {},
   "outputs": [
    {
     "data": {
      "text/html": [
       "<div>\n",
       "<style scoped>\n",
       "    .dataframe tbody tr th:only-of-type {\n",
       "        vertical-align: middle;\n",
       "    }\n",
       "\n",
       "    .dataframe tbody tr th {\n",
       "        vertical-align: top;\n",
       "    }\n",
       "\n",
       "    .dataframe thead th {\n",
       "        text-align: right;\n",
       "    }\n",
       "</style>\n",
       "<table border=\"1\" class=\"dataframe\">\n",
       "  <thead>\n",
       "    <tr style=\"text-align: right;\">\n",
       "      <th></th>\n",
       "      <th>publisher_id</th>\n",
       "      <th>publisher</th>\n",
       "    </tr>\n",
       "  </thead>\n",
       "  <tbody>\n",
       "    <tr>\n",
       "      <th>0</th>\n",
       "      <td>1</td>\n",
       "      <td>Ace</td>\n",
       "    </tr>\n",
       "    <tr>\n",
       "      <th>1</th>\n",
       "      <td>2</td>\n",
       "      <td>Ace Book</td>\n",
       "    </tr>\n",
       "    <tr>\n",
       "      <th>2</th>\n",
       "      <td>3</td>\n",
       "      <td>Ace Books</td>\n",
       "    </tr>\n",
       "    <tr>\n",
       "      <th>3</th>\n",
       "      <td>4</td>\n",
       "      <td>Ace Hardcover</td>\n",
       "    </tr>\n",
       "    <tr>\n",
       "      <th>4</th>\n",
       "      <td>5</td>\n",
       "      <td>Addison Wesley Publishing Company</td>\n",
       "    </tr>\n",
       "  </tbody>\n",
       "</table>\n",
       "</div>"
      ],
      "text/plain": [
       "   publisher_id                          publisher\n",
       "0             1                                Ace\n",
       "1             2                           Ace Book\n",
       "2             3                          Ace Books\n",
       "3             4                      Ace Hardcover\n",
       "4             5  Addison Wesley Publishing Company"
      ]
     },
     "execution_count": 5,
     "metadata": {},
     "output_type": "execute_result"
    }
   ],
   "source": [
    "# чтобы выполнить SQL-запрос, используем Pandas\n",
    "query = '''SELECT * FROM publishers LIMIT 5'''\n",
    "pd.io.sql.read_sql(sql=text(query), con = con)"
   ]
  },
  {
   "cell_type": "markdown",
   "id": "5fed0d26",
   "metadata": {},
   "source": [
    "#### Таблица ratings"
   ]
  },
  {
   "cell_type": "code",
   "execution_count": 6,
   "id": "2d0743ea",
   "metadata": {},
   "outputs": [
    {
     "data": {
      "text/html": [
       "<div>\n",
       "<style scoped>\n",
       "    .dataframe tbody tr th:only-of-type {\n",
       "        vertical-align: middle;\n",
       "    }\n",
       "\n",
       "    .dataframe tbody tr th {\n",
       "        vertical-align: top;\n",
       "    }\n",
       "\n",
       "    .dataframe thead th {\n",
       "        text-align: right;\n",
       "    }\n",
       "</style>\n",
       "<table border=\"1\" class=\"dataframe\">\n",
       "  <thead>\n",
       "    <tr style=\"text-align: right;\">\n",
       "      <th></th>\n",
       "      <th>rating_id</th>\n",
       "      <th>book_id</th>\n",
       "      <th>username</th>\n",
       "      <th>rating</th>\n",
       "    </tr>\n",
       "  </thead>\n",
       "  <tbody>\n",
       "    <tr>\n",
       "      <th>0</th>\n",
       "      <td>1</td>\n",
       "      <td>1</td>\n",
       "      <td>ryanfranco</td>\n",
       "      <td>4</td>\n",
       "    </tr>\n",
       "    <tr>\n",
       "      <th>1</th>\n",
       "      <td>2</td>\n",
       "      <td>1</td>\n",
       "      <td>grantpatricia</td>\n",
       "      <td>2</td>\n",
       "    </tr>\n",
       "    <tr>\n",
       "      <th>2</th>\n",
       "      <td>3</td>\n",
       "      <td>1</td>\n",
       "      <td>brandtandrea</td>\n",
       "      <td>5</td>\n",
       "    </tr>\n",
       "    <tr>\n",
       "      <th>3</th>\n",
       "      <td>4</td>\n",
       "      <td>2</td>\n",
       "      <td>lorichen</td>\n",
       "      <td>3</td>\n",
       "    </tr>\n",
       "    <tr>\n",
       "      <th>4</th>\n",
       "      <td>5</td>\n",
       "      <td>2</td>\n",
       "      <td>mariokeller</td>\n",
       "      <td>2</td>\n",
       "    </tr>\n",
       "  </tbody>\n",
       "</table>\n",
       "</div>"
      ],
      "text/plain": [
       "   rating_id  book_id       username  rating\n",
       "0          1        1     ryanfranco       4\n",
       "1          2        1  grantpatricia       2\n",
       "2          3        1   brandtandrea       5\n",
       "3          4        2       lorichen       3\n",
       "4          5        2    mariokeller       2"
      ]
     },
     "execution_count": 6,
     "metadata": {},
     "output_type": "execute_result"
    }
   ],
   "source": [
    "# чтобы выполнить SQL-запрос, используем Pandas\n",
    "query = '''SELECT * FROM ratings LIMIT 5'''\n",
    "pd.io.sql.read_sql(sql=text(query), con = con)"
   ]
  },
  {
   "cell_type": "markdown",
   "id": "3b39f61f",
   "metadata": {},
   "source": [
    "#### Таблица reviews"
   ]
  },
  {
   "cell_type": "code",
   "execution_count": 7,
   "id": "0e1a7fb4",
   "metadata": {},
   "outputs": [
    {
     "data": {
      "text/html": [
       "<div>\n",
       "<style scoped>\n",
       "    .dataframe tbody tr th:only-of-type {\n",
       "        vertical-align: middle;\n",
       "    }\n",
       "\n",
       "    .dataframe tbody tr th {\n",
       "        vertical-align: top;\n",
       "    }\n",
       "\n",
       "    .dataframe thead th {\n",
       "        text-align: right;\n",
       "    }\n",
       "</style>\n",
       "<table border=\"1\" class=\"dataframe\">\n",
       "  <thead>\n",
       "    <tr style=\"text-align: right;\">\n",
       "      <th></th>\n",
       "      <th>review_id</th>\n",
       "      <th>book_id</th>\n",
       "      <th>username</th>\n",
       "      <th>text</th>\n",
       "    </tr>\n",
       "  </thead>\n",
       "  <tbody>\n",
       "    <tr>\n",
       "      <th>0</th>\n",
       "      <td>1</td>\n",
       "      <td>1</td>\n",
       "      <td>brandtandrea</td>\n",
       "      <td>Mention society tell send professor analysis. ...</td>\n",
       "    </tr>\n",
       "    <tr>\n",
       "      <th>1</th>\n",
       "      <td>2</td>\n",
       "      <td>1</td>\n",
       "      <td>ryanfranco</td>\n",
       "      <td>Foot glass pretty audience hit themselves. Amo...</td>\n",
       "    </tr>\n",
       "    <tr>\n",
       "      <th>2</th>\n",
       "      <td>3</td>\n",
       "      <td>2</td>\n",
       "      <td>lorichen</td>\n",
       "      <td>Listen treat keep worry. Miss husband tax but ...</td>\n",
       "    </tr>\n",
       "    <tr>\n",
       "      <th>3</th>\n",
       "      <td>4</td>\n",
       "      <td>3</td>\n",
       "      <td>johnsonamanda</td>\n",
       "      <td>Finally month interesting blue could nature cu...</td>\n",
       "    </tr>\n",
       "    <tr>\n",
       "      <th>4</th>\n",
       "      <td>5</td>\n",
       "      <td>3</td>\n",
       "      <td>scotttamara</td>\n",
       "      <td>Nation purpose heavy give wait song will. List...</td>\n",
       "    </tr>\n",
       "  </tbody>\n",
       "</table>\n",
       "</div>"
      ],
      "text/plain": [
       "   review_id  book_id       username  \\\n",
       "0          1        1   brandtandrea   \n",
       "1          2        1     ryanfranco   \n",
       "2          3        2       lorichen   \n",
       "3          4        3  johnsonamanda   \n",
       "4          5        3    scotttamara   \n",
       "\n",
       "                                                text  \n",
       "0  Mention society tell send professor analysis. ...  \n",
       "1  Foot glass pretty audience hit themselves. Amo...  \n",
       "2  Listen treat keep worry. Miss husband tax but ...  \n",
       "3  Finally month interesting blue could nature cu...  \n",
       "4  Nation purpose heavy give wait song will. List...  "
      ]
     },
     "execution_count": 7,
     "metadata": {},
     "output_type": "execute_result"
    }
   ],
   "source": [
    "# чтобы выполнить SQL-запрос, используем Pandas\n",
    "query = '''SELECT * FROM reviews LIMIT 5'''\n",
    "pd.io.sql.read_sql(sql=text(query), con = con)"
   ]
  },
  {
   "cell_type": "markdown",
   "id": "bb3be9bc",
   "metadata": {},
   "source": [
    "<div class=\"alert alert-success\"; style=\"border-left: 7px solid green\">\n",
    "<b>✅ Комментарий ревьюера, ревью 1</b> \n",
    "\n",
    "Отлично, таблицы изучены."
   ]
  },
  {
   "cell_type": "markdown",
   "id": "a7a4d2e1",
   "metadata": {},
   "source": [
    "### Задачи"
   ]
  },
  {
   "cell_type": "markdown",
   "id": "d16fb76d",
   "metadata": {},
   "source": [
    "#### 1. Посчитайте, сколько книг вышло после 1 января 2000 года :"
   ]
  },
  {
   "cell_type": "code",
   "execution_count": 8,
   "id": "f36095eb",
   "metadata": {},
   "outputs": [
    {
     "data": {
      "text/html": [
       "<div>\n",
       "<style scoped>\n",
       "    .dataframe tbody tr th:only-of-type {\n",
       "        vertical-align: middle;\n",
       "    }\n",
       "\n",
       "    .dataframe tbody tr th {\n",
       "        vertical-align: top;\n",
       "    }\n",
       "\n",
       "    .dataframe thead th {\n",
       "        text-align: right;\n",
       "    }\n",
       "</style>\n",
       "<table border=\"1\" class=\"dataframe\">\n",
       "  <thead>\n",
       "    <tr style=\"text-align: right;\">\n",
       "      <th></th>\n",
       "      <th>КнигСНачала2000года</th>\n",
       "    </tr>\n",
       "  </thead>\n",
       "  <tbody>\n",
       "    <tr>\n",
       "      <th>0</th>\n",
       "      <td>819</td>\n",
       "    </tr>\n",
       "  </tbody>\n",
       "</table>\n",
       "</div>"
      ],
      "text/plain": [
       "   КнигСНачала2000года\n",
       "0                  819"
      ]
     },
     "execution_count": 8,
     "metadata": {},
     "output_type": "execute_result"
    }
   ],
   "source": [
    "query = '''\n",
    "        SELECT COUNT(book_id) AS КнигСНачала2000года\n",
    "        FROM books\n",
    "        WHERE publication_date > '2000-01-01'\n",
    "'''\n",
    "pd.io.sql.read_sql(query, con = con)"
   ]
  },
  {
   "cell_type": "markdown",
   "id": "b93e7cb8",
   "metadata": {},
   "source": [
    "<div class=\"alert alert-success\"; style=\"border-left: 7px solid green\">\n",
    "<b>✅ Комментарий ревьюера, ревью 2</b> \n",
    "\n",
    "\n",
    "    \n",
    "✔️ ОК, поняла. Вариант с text специально дается в рекомендациях к уроку, чтобы работало у ревьюеров при проверке в разных инструментах (например, в Google Colab).\n",
    "    \n",
    "Но менять нет необходимости, у меня работает и в таком виде.\n",
    "    \n",
    "<a class=\"tocSkip\"></a><s>\n",
    "\n",
    "<div class=\"alert alert-warning\"; style=\"border-left: 7px solid gold\">\n",
    "<b>⚠️ Комментарий ревьюера, ревью 1</b> \n",
    "\n",
    "\n",
    "\n",
    "Обратила внимание, что ты используешь разный синтаксис:\n",
    "    \n",
    "- в предыдущих запросах `pd.io.sql.read_sql(sql=text(query), con = con)`\n",
    "    \n",
    "- с текущего и далее `pd.io.sql.read_sql(query, con = engine)`\n",
    "    \n",
    "Можешь объяснить, почему?"
   ]
  },
  {
   "cell_type": "markdown",
   "id": "0e6facc3",
   "metadata": {},
   "source": [
    "<div class=\"alert alert-info\"; style=\"border-left: 7px solid blue\">\n",
    "<b> Запрос с sql=text, был в шаблоне подключения в описании к проекту ctrl+c\\ctrl+v. Далее делал запросы в Visual code помещая в query сам менял\\удалял\\добавлял, по итогу оставил так (больше кода писать). Обязательно оставлять с sql=text?</b>"
   ]
  },
  {
   "cell_type": "markdown",
   "id": "64cf4105",
   "metadata": {},
   "source": [
    "Начиная с 1 января 2000 года в каталог сервиса было добавлено 819 книг."
   ]
  },
  {
   "cell_type": "markdown",
   "id": "94d00399",
   "metadata": {},
   "source": [
    "<div class=\"alert alert-success\"; style=\"border-left: 7px solid green\">\n",
    "<b>✅ Комментарий ревьюера, ревью 1</b> \n",
    "\n",
    "Количество книг посчитано верно."
   ]
  },
  {
   "cell_type": "markdown",
   "id": "fcfba19d",
   "metadata": {},
   "source": [
    "#### 2. Для каждой книги посчитайте количество обзоров и среднюю оценку :"
   ]
  },
  {
   "cell_type": "code",
   "execution_count": 9,
   "id": "318c4d7d",
   "metadata": {},
   "outputs": [
    {
     "data": {
      "text/html": [
       "<div>\n",
       "<style scoped>\n",
       "    .dataframe tbody tr th:only-of-type {\n",
       "        vertical-align: middle;\n",
       "    }\n",
       "\n",
       "    .dataframe tbody tr th {\n",
       "        vertical-align: top;\n",
       "    }\n",
       "\n",
       "    .dataframe thead th {\n",
       "        text-align: right;\n",
       "    }\n",
       "</style>\n",
       "<table border=\"1\" class=\"dataframe\">\n",
       "  <thead>\n",
       "    <tr style=\"text-align: right;\">\n",
       "      <th></th>\n",
       "      <th>book_id</th>\n",
       "      <th>Заголовок</th>\n",
       "      <th>Обзоров</th>\n",
       "      <th>СреднийРейтинг</th>\n",
       "    </tr>\n",
       "  </thead>\n",
       "  <tbody>\n",
       "    <tr>\n",
       "      <th>0</th>\n",
       "      <td>948</td>\n",
       "      <td>Twilight (Twilight  #1)</td>\n",
       "      <td>7</td>\n",
       "      <td>3.663</td>\n",
       "    </tr>\n",
       "    <tr>\n",
       "      <th>1</th>\n",
       "      <td>963</td>\n",
       "      <td>Water for Elephants</td>\n",
       "      <td>6</td>\n",
       "      <td>3.977</td>\n",
       "    </tr>\n",
       "    <tr>\n",
       "      <th>2</th>\n",
       "      <td>734</td>\n",
       "      <td>The Glass Castle</td>\n",
       "      <td>6</td>\n",
       "      <td>4.207</td>\n",
       "    </tr>\n",
       "    <tr>\n",
       "      <th>3</th>\n",
       "      <td>302</td>\n",
       "      <td>Harry Potter and the Prisoner of Azkaban (Harr...</td>\n",
       "      <td>6</td>\n",
       "      <td>4.415</td>\n",
       "    </tr>\n",
       "    <tr>\n",
       "      <th>4</th>\n",
       "      <td>695</td>\n",
       "      <td>The Curious Incident of the Dog in the Night-Time</td>\n",
       "      <td>6</td>\n",
       "      <td>4.081</td>\n",
       "    </tr>\n",
       "    <tr>\n",
       "      <th>...</th>\n",
       "      <td>...</td>\n",
       "      <td>...</td>\n",
       "      <td>...</td>\n",
       "      <td>...</td>\n",
       "    </tr>\n",
       "    <tr>\n",
       "      <th>995</th>\n",
       "      <td>83</td>\n",
       "      <td>Anne Rice's The Vampire Lestat: A Graphic Novel</td>\n",
       "      <td>0</td>\n",
       "      <td>3.667</td>\n",
       "    </tr>\n",
       "    <tr>\n",
       "      <th>996</th>\n",
       "      <td>808</td>\n",
       "      <td>The Natural Way to Draw</td>\n",
       "      <td>0</td>\n",
       "      <td>3.000</td>\n",
       "    </tr>\n",
       "    <tr>\n",
       "      <th>997</th>\n",
       "      <td>672</td>\n",
       "      <td>The Cat in the Hat and Other Dr. Seuss Favorites</td>\n",
       "      <td>0</td>\n",
       "      <td>5.000</td>\n",
       "    </tr>\n",
       "    <tr>\n",
       "      <th>998</th>\n",
       "      <td>221</td>\n",
       "      <td>Essential Tales and Poems</td>\n",
       "      <td>0</td>\n",
       "      <td>4.000</td>\n",
       "    </tr>\n",
       "    <tr>\n",
       "      <th>999</th>\n",
       "      <td>191</td>\n",
       "      <td>Disney's Beauty and the Beast (A Little Golden...</td>\n",
       "      <td>0</td>\n",
       "      <td>4.000</td>\n",
       "    </tr>\n",
       "  </tbody>\n",
       "</table>\n",
       "<p>1000 rows × 4 columns</p>\n",
       "</div>"
      ],
      "text/plain": [
       "     book_id                                          Заголовок  Обзоров  \\\n",
       "0        948                            Twilight (Twilight  #1)        7   \n",
       "1        963                                Water for Elephants        6   \n",
       "2        734                                   The Glass Castle        6   \n",
       "3        302  Harry Potter and the Prisoner of Azkaban (Harr...        6   \n",
       "4        695  The Curious Incident of the Dog in the Night-Time        6   \n",
       "..       ...                                                ...      ...   \n",
       "995       83    Anne Rice's The Vampire Lestat: A Graphic Novel        0   \n",
       "996      808                            The Natural Way to Draw        0   \n",
       "997      672   The Cat in the Hat and Other Dr. Seuss Favorites        0   \n",
       "998      221                          Essential Tales and Poems        0   \n",
       "999      191  Disney's Beauty and the Beast (A Little Golden...        0   \n",
       "\n",
       "     СреднийРейтинг  \n",
       "0             3.663  \n",
       "1             3.977  \n",
       "2             4.207  \n",
       "3             4.415  \n",
       "4             4.081  \n",
       "..              ...  \n",
       "995           3.667  \n",
       "996           3.000  \n",
       "997           5.000  \n",
       "998           4.000  \n",
       "999           4.000  \n",
       "\n",
       "[1000 rows x 4 columns]"
      ]
     },
     "execution_count": 9,
     "metadata": {},
     "output_type": "execute_result"
    }
   ],
   "source": [
    "query = '''\n",
    "       SELECT b.book_id, \n",
    "              b.title AS Заголовок, \n",
    "              COUNT(DISTINCT rv.review_id) AS Обзоров, \n",
    "              ROUND(AVG(r.rating),3) AS СреднийРейтинг\n",
    "       FROM books AS b\n",
    "       LEFT JOIN reviews AS rv ON b.book_id = rv.book_id\n",
    "       LEFT JOIN  ratings AS r ON b.book_id = r.book_id\n",
    "       GROUP BY b.book_id, b.title\n",
    "       ORDER BY Обзоров DESC\n",
    "'''\n",
    "\n",
    "pd.io.sql.read_sql(query, con = con)"
   ]
  },
  {
   "cell_type": "markdown",
   "id": "efde08d1",
   "metadata": {},
   "source": [
    "По данным можно сказать что : в каталоге 1000 книг. Минимальное количество обзоров от 0 до 7. Оценки рейтинга судя по данным не слишком зависят от количества обзоров (по количеству не сказать о качестве этих обзоров). Средний рейтиинг всех книг примерно 4."
   ]
  },
  {
   "cell_type": "markdown",
   "id": "c62ea83d",
   "metadata": {},
   "source": [
    "<div class=\"alert alert-success\"; style=\"border-left: 7px solid green\">\n",
    "<b>✅ Комментарий ревьюера, ревью 1</b> \n",
    "\n",
    "Ты хорошо построил запрос - сохранил все книги из таблицы books (даже те, для которых нет обзоров), но при этом учел только уникальные обзоры."
   ]
  },
  {
   "cell_type": "markdown",
   "id": "62c6abcf",
   "metadata": {},
   "source": [
    "#### 3. Определите издательство, которое выпустило наибольшее число книг толще 50 страниц — так вы исключите из анализа брошюры;"
   ]
  },
  {
   "cell_type": "code",
   "execution_count": 10,
   "id": "8650b4b1",
   "metadata": {},
   "outputs": [
    {
     "data": {
      "text/html": [
       "<div>\n",
       "<style scoped>\n",
       "    .dataframe tbody tr th:only-of-type {\n",
       "        vertical-align: middle;\n",
       "    }\n",
       "\n",
       "    .dataframe tbody tr th {\n",
       "        vertical-align: top;\n",
       "    }\n",
       "\n",
       "    .dataframe thead th {\n",
       "        text-align: right;\n",
       "    }\n",
       "</style>\n",
       "<table border=\"1\" class=\"dataframe\">\n",
       "  <thead>\n",
       "    <tr style=\"text-align: right;\">\n",
       "      <th></th>\n",
       "      <th>Издательство</th>\n",
       "    </tr>\n",
       "  </thead>\n",
       "  <tbody>\n",
       "    <tr>\n",
       "      <th>0</th>\n",
       "      <td>Penguin Books</td>\n",
       "    </tr>\n",
       "  </tbody>\n",
       "</table>\n",
       "</div>"
      ],
      "text/plain": [
       "    Издательство\n",
       "0  Penguin Books"
      ]
     },
     "execution_count": 10,
     "metadata": {},
     "output_type": "execute_result"
    }
   ],
   "source": [
    "query = '''\n",
    "        WITH w AS (\n",
    "        SELECT publisher_id, book_id\n",
    "        FROM books\n",
    "        WHERE num_pages > 50\n",
    "        )\n",
    "        SELECT p.publisher AS Издательство\n",
    "        FROM w \n",
    "        INNER JOIN publishers AS p ON w.publisher_id = p.publisher_id\n",
    "        GROUP BY p.publisher\n",
    "        ORDER BY COUNT(w.book_id) DESC\n",
    "        LIMIT 1\n",
    "'''\n",
    "pd.io.sql.read_sql(query, con = con)"
   ]
  },
  {
   "cell_type": "markdown",
   "id": "d9eb9341",
   "metadata": {},
   "source": [
    "Большее количество представленных книг с тольшиной более чем 50 страниц находятся у издательства Penguin Books."
   ]
  },
  {
   "cell_type": "markdown",
   "id": "d14e33ae",
   "metadata": {},
   "source": [
    "<div class=\"alert alert-success\"; style=\"border-left: 7px solid green\">\n",
    "<b>✅ Комментарий ревьюера, ревью 1</b> \n",
    "\n",
    "\n",
    "    \n",
    "Издательство определено верно.\n",
    "    \n",
    "<a class=\"tocSkip\"></a><s>\n",
    "\n"
   ]
  },
  {
   "cell_type": "markdown",
   "id": "fc32d141",
   "metadata": {},
   "source": [
    "#### 4. Определите автора с самой высокой средней оценкой книг — учитывайте только книги с 50 и более оценками;"
   ]
  },
  {
   "cell_type": "code",
   "execution_count": 17,
   "id": "0bf71de8",
   "metadata": {},
   "outputs": [
    {
     "data": {
      "text/html": [
       "<div>\n",
       "<style scoped>\n",
       "    .dataframe tbody tr th:only-of-type {\n",
       "        vertical-align: middle;\n",
       "    }\n",
       "\n",
       "    .dataframe tbody tr th {\n",
       "        vertical-align: top;\n",
       "    }\n",
       "\n",
       "    .dataframe thead th {\n",
       "        text-align: right;\n",
       "    }\n",
       "</style>\n",
       "<table border=\"1\" class=\"dataframe\">\n",
       "  <thead>\n",
       "    <tr style=\"text-align: right;\">\n",
       "      <th></th>\n",
       "      <th>Автор</th>\n",
       "      <th>СреднийРейтинг</th>\n",
       "    </tr>\n",
       "  </thead>\n",
       "  <tbody>\n",
       "    <tr>\n",
       "      <th>0</th>\n",
       "      <td>J.K. Rowling/Mary GrandPré</td>\n",
       "      <td>4.287097</td>\n",
       "    </tr>\n",
       "  </tbody>\n",
       "</table>\n",
       "</div>"
      ],
      "text/plain": [
       "                        Автор  СреднийРейтинг\n",
       "0  J.K. Rowling/Mary GrandPré        4.287097"
      ]
     },
     "execution_count": 17,
     "metadata": {},
     "output_type": "execute_result"
    }
   ],
   "source": [
    "query = '''\n",
    "       WITH w AS (\n",
    "       SELECT book_id\n",
    "       FROM ratings\n",
    "       GROUP BY book_id\n",
    "       HAVING COUNT(rating_id) >= 50\n",
    "       )\n",
    "       SELECT a.author AS Автор,\n",
    "              AVG(r.rating) AS СреднийРейтинг\n",
    "       FROM books AS b\n",
    "       INNER JOIN w ON b.book_id = w.book_id\n",
    "       INNER JOIN authors AS a ON b.author_id = a.author_id\n",
    "       INNER JOIN ratings AS r ON w.book_id = r.book_id\n",
    "       GROUP BY a.author_id, a.author\n",
    "       ORDER BY AVG(r.rating) DESC\n",
    "       LIMIT 1\n",
    "'''\n",
    "pd.io.sql.read_sql(query, con = con)"
   ]
  },
  {
   "cell_type": "markdown",
   "id": "bf28e1f0",
   "metadata": {},
   "source": [
    "Самые популярный авторы с средним рейтингом 4.29 оказались Джоан Роулинг и Мари Грандпре. Книга Гарри поттер и узник Азкабана."
   ]
  },
  {
   "cell_type": "markdown",
   "id": "9f232d99",
   "metadata": {},
   "source": [
    "<div class=\"alert alert-warning\"; style=\"border-left: 7px solid gold\">\n",
    "<b>⚠️ Комментарий ревьюера, ревью 3</b> \n",
    "\n",
    "Запрос составлен верно. Только в выводе требуется корректировка - мы определяем автора с максимальным рейтингом, а не книгу. \n",
    "\n",
    "    \n",
    "<a class=\"tocSkip\"></a><s>\n",
    "\n",
    "<div class=\"alert alert-danger\"; style=\"border-left: 7px solid red\">\n",
    "<b>⛔️ Комментарий ревьюера, ревью 2</b> \n",
    "    \n",
    "Не нужно было переписывать запрос, он был составлен верно: нам необходимо определить топ-автора по средним оценкам книг, а не топ-книгу как у тебя сейчас. \n",
    "    \n",
    "Я имела в виду, что по условиям задачи в CTE должно быть не > 50, а >= 50. Можешь, пожалуйста, доработать запрос?\n",
    "\n",
    "<div class=\"alert alert-danger\"; style=\"border-left: 7px solid red\">\n",
    "<b>⛔️ Комментарий ревьюера, ревью 1</b> \n",
    "\n",
    "Хоть это и не повлияет на результат, но стоит все-таки привести запрос в соответствие с условием. По условию книги с 50 оценками должны тоже участвовать в анализе. Пожалуйста, доработай запрос."
   ]
  },
  {
   "cell_type": "markdown",
   "id": "5f35c5cb",
   "metadata": {},
   "source": [
    "#### 5. Посчитайте среднее количество обзоров от пользователей, которые поставили больше 48 оценок."
   ]
  },
  {
   "cell_type": "code",
   "execution_count": 12,
   "id": "693ac871",
   "metadata": {},
   "outputs": [
    {
     "data": {
      "text/html": [
       "<div>\n",
       "<style scoped>\n",
       "    .dataframe tbody tr th:only-of-type {\n",
       "        vertical-align: middle;\n",
       "    }\n",
       "\n",
       "    .dataframe tbody tr th {\n",
       "        vertical-align: top;\n",
       "    }\n",
       "\n",
       "    .dataframe thead th {\n",
       "        text-align: right;\n",
       "    }\n",
       "</style>\n",
       "<table border=\"1\" class=\"dataframe\">\n",
       "  <thead>\n",
       "    <tr style=\"text-align: right;\">\n",
       "      <th></th>\n",
       "      <th>avg_rv_count</th>\n",
       "    </tr>\n",
       "  </thead>\n",
       "  <tbody>\n",
       "    <tr>\n",
       "      <th>0</th>\n",
       "      <td>24</td>\n",
       "    </tr>\n",
       "  </tbody>\n",
       "</table>\n",
       "</div>"
      ],
      "text/plain": [
       "   avg_rv_count\n",
       "0            24"
      ]
     },
     "execution_count": 12,
     "metadata": {},
     "output_type": "execute_result"
    }
   ],
   "source": [
    "query = '''\n",
    "        SELECT COUNT(DISTINCT rv.text)/ COUNT(DISTINCT rv.username) AS avg_rv_count\n",
    "        FROM ratings AS r\n",
    "        INNER JOIN reviews AS rv ON r.username = rv.username\n",
    "        WHERE r.username in (SELECT username\n",
    "                            FROM ratings\n",
    "                            GROUP BY username\n",
    "                            HAVING COUNT(rating_id) > 48)\n",
    "'''\n",
    "pd.io.sql.read_sql(query, con = con)"
   ]
  },
  {
   "cell_type": "markdown",
   "id": "ab249ba8",
   "metadata": {},
   "source": [
    "Среднее число обзоров является 24, среди тех пользователей которые поставивили в среднем болеее 48 оценок."
   ]
  },
  {
   "cell_type": "markdown",
   "id": "190ca11e",
   "metadata": {},
   "source": [
    "<div class=\"alert alert-success\"; style=\"border-left: 7px solid green\">\n",
    "<b>✅ Комментарий ревьюера, ревью 1</b> \n",
    "\n",
    "Все верно."
   ]
  },
  {
   "cell_type": "markdown",
   "id": "8ac517d5",
   "metadata": {},
   "source": [
    "<div class=\"alert alert-success\"; style=\"border-left: 7px solid green\">\n",
    "<b>✅ Комментарий ревьюера, ревью 2</b> \n",
    "\n",
    "\n",
    "    \n",
    "✔️ \n",
    "    \n",
    "<a class=\"tocSkip\"></a><s>\n",
    "\n",
    "<div class=\"alert alert-warning\"; style=\"border-left: 7px solid gold\">\n",
    "<b>⚠️ Комментарий ревьюера, ревью 1</b> \n",
    "\n",
    "В конце каждого проекта стоит оставлять общий вывод, кратко резюмируя выполненные задачи и полученные результаты."
   ]
  },
  {
   "cell_type": "markdown",
   "id": "a38f8003",
   "metadata": {},
   "source": [
    "Общий вывод: Магазин книг должен сосредоточиться на расширении ассортимента, например книг издательства Penguin Books, и активно продвигать популярные книги, а так же авторов похожих на Джоан Роулинг и Мари Грандпре. Также следует поощрять и привлекать пользователей, которые активно оценивают книги."
   ]
  }
 ],
 "metadata": {
  "ExecuteTimeLog": [
   {
    "duration": 2627,
    "start_time": "2023-08-06T13:53:44.168Z"
   },
   {
    "duration": 9009,
    "start_time": "2023-08-06T13:53:46.797Z"
   },
   {
    "duration": 252,
    "start_time": "2023-08-06T13:53:55.807Z"
   },
   {
    "duration": 134,
    "start_time": "2023-08-06T13:53:56.061Z"
   },
   {
    "duration": 52,
    "start_time": "2023-08-06T13:53:56.197Z"
   },
   {
    "duration": 53,
    "start_time": "2023-08-06T13:53:56.251Z"
   },
   {
    "duration": 56,
    "start_time": "2023-08-06T13:53:56.305Z"
   },
   {
    "duration": 71,
    "start_time": "2023-08-06T13:53:56.362Z"
   },
   {
    "duration": 110,
    "start_time": "2023-08-06T13:53:56.435Z"
   },
   {
    "duration": 72,
    "start_time": "2023-08-06T13:53:56.546Z"
   },
   {
    "duration": 79,
    "start_time": "2023-08-06T13:53:56.619Z"
   },
   {
    "duration": 86,
    "start_time": "2023-08-06T13:53:56.699Z"
   },
   {
    "duration": 460,
    "start_time": "2023-08-06T14:08:07.228Z"
   },
   {
    "duration": 8864,
    "start_time": "2023-08-06T14:08:07.689Z"
   },
   {
    "duration": 237,
    "start_time": "2023-08-06T14:08:16.554Z"
   },
   {
    "duration": 142,
    "start_time": "2023-08-06T14:08:16.793Z"
   },
   {
    "duration": 50,
    "start_time": "2023-08-06T14:08:16.937Z"
   },
   {
    "duration": 51,
    "start_time": "2023-08-06T14:08:16.989Z"
   },
   {
    "duration": 66,
    "start_time": "2023-08-06T14:08:17.042Z"
   },
   {
    "duration": 73,
    "start_time": "2023-08-06T14:08:17.110Z"
   },
   {
    "duration": 111,
    "start_time": "2023-08-06T14:08:17.185Z"
   },
   {
    "duration": 74,
    "start_time": "2023-08-06T14:08:17.298Z"
   },
   {
    "duration": 76,
    "start_time": "2023-08-06T14:08:17.374Z"
   },
   {
    "duration": 89,
    "start_time": "2023-08-06T14:08:17.452Z"
   },
   {
    "duration": 81,
    "start_time": "2023-08-06T14:42:24.948Z"
   },
   {
    "duration": 489,
    "start_time": "2023-08-06T14:59:09.242Z"
   },
   {
    "duration": 8365,
    "start_time": "2023-08-06T14:59:09.733Z"
   },
   {
    "duration": 52,
    "start_time": "2023-08-06T14:59:18.100Z"
   },
   {
    "duration": 30,
    "start_time": "2023-08-06T14:59:18.154Z"
   },
   {
    "duration": 31,
    "start_time": "2023-08-06T14:59:18.186Z"
   },
   {
    "duration": 33,
    "start_time": "2023-08-06T14:59:18.219Z"
   },
   {
    "duration": 34,
    "start_time": "2023-08-06T14:59:18.254Z"
   },
   {
    "duration": 32,
    "start_time": "2023-08-06T14:59:18.289Z"
   },
   {
    "duration": 75,
    "start_time": "2023-08-06T14:59:18.323Z"
   },
   {
    "duration": 33,
    "start_time": "2023-08-06T14:59:18.401Z"
   },
   {
    "duration": 123,
    "start_time": "2023-08-06T14:59:18.436Z"
   },
   {
    "duration": 0,
    "start_time": "2023-08-06T14:59:18.561Z"
   },
   {
    "duration": 44,
    "start_time": "2023-08-06T14:59:41.002Z"
   },
   {
    "duration": 514,
    "start_time": "2023-08-06T23:11:55.323Z"
   },
   {
    "duration": 13546,
    "start_time": "2023-08-06T23:11:55.839Z"
   },
   {
    "duration": 76,
    "start_time": "2023-08-06T23:12:09.386Z"
   },
   {
    "duration": 30,
    "start_time": "2023-08-06T23:12:09.464Z"
   },
   {
    "duration": 53,
    "start_time": "2023-08-06T23:12:09.499Z"
   },
   {
    "duration": 34,
    "start_time": "2023-08-06T23:12:09.554Z"
   },
   {
    "duration": 47,
    "start_time": "2023-08-06T23:12:09.591Z"
   },
   {
    "duration": 29,
    "start_time": "2023-08-06T23:12:09.639Z"
   },
   {
    "duration": 139,
    "start_time": "2023-08-06T23:12:09.670Z"
   },
   {
    "duration": 35,
    "start_time": "2023-08-06T23:12:09.810Z"
   },
   {
    "duration": 37,
    "start_time": "2023-08-06T23:12:09.847Z"
   },
   {
    "duration": 46,
    "start_time": "2023-08-06T23:12:09.886Z"
   },
   {
    "duration": 112,
    "start_time": "2023-08-07T04:39:58.578Z"
   },
   {
    "duration": 643,
    "start_time": "2023-08-07T04:40:04.519Z"
   },
   {
    "duration": 11666,
    "start_time": "2023-08-07T04:40:05.165Z"
   },
   {
    "duration": 30,
    "start_time": "2023-08-07T04:40:16.833Z"
   },
   {
    "duration": 45,
    "start_time": "2023-08-07T04:40:16.866Z"
   },
   {
    "duration": 16,
    "start_time": "2023-08-07T04:40:16.925Z"
   },
   {
    "duration": 15,
    "start_time": "2023-08-07T04:40:16.943Z"
   },
   {
    "duration": 63,
    "start_time": "2023-08-07T04:40:16.960Z"
   },
   {
    "duration": 17,
    "start_time": "2023-08-07T04:40:17.027Z"
   },
   {
    "duration": 42,
    "start_time": "2023-08-07T04:40:17.046Z"
   },
   {
    "duration": 31,
    "start_time": "2023-08-07T04:40:17.093Z"
   },
   {
    "duration": 21,
    "start_time": "2023-08-07T04:40:17.128Z"
   },
   {
    "duration": 30,
    "start_time": "2023-08-07T04:40:17.151Z"
   },
   {
    "duration": 35,
    "start_time": "2023-08-07T04:41:02.501Z"
   },
   {
    "duration": 119,
    "start_time": "2023-08-07T04:46:33.911Z"
   },
   {
    "duration": 81,
    "start_time": "2023-08-07T04:47:07.452Z"
   },
   {
    "duration": 24,
    "start_time": "2023-08-07T04:47:22.909Z"
   },
   {
    "duration": 15,
    "start_time": "2023-08-07T04:48:16.447Z"
   }
  ],
  "kernelspec": {
   "display_name": "Python 3 (ipykernel)",
   "language": "python",
   "name": "python3"
  },
  "language_info": {
   "codemirror_mode": {
    "name": "ipython",
    "version": 3
   },
   "file_extension": ".py",
   "mimetype": "text/x-python",
   "name": "python",
   "nbconvert_exporter": "python",
   "pygments_lexer": "ipython3",
   "version": "3.9.5"
  },
  "toc": {
   "base_numbering": 1,
   "nav_menu": {},
   "number_sections": true,
   "sideBar": true,
   "skip_h1_title": true,
   "title_cell": "Table of Contents",
   "title_sidebar": "Contents",
   "toc_cell": false,
   "toc_position": {},
   "toc_section_display": true,
   "toc_window_display": false
  }
 },
 "nbformat": 4,
 "nbformat_minor": 5
}
