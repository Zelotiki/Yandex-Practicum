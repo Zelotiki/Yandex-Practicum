{
    "metadata": {
        "kernelspec": {
            "name": "python3",
            "display_name": "Python 3 (ipykernel)",
            "language": "python"
        },
        "language_info": {
            "name": "python",
            "version": "3.11.4",
            "mimetype": "text/x-python",
            "codemirror_mode": {
                "name": "ipython",
                "version": 3
            },
            "pygments_lexer": "ipython3",
            "nbconvert_exporter": "python",
            "file_extension": ".py"
        },
        "ExecuteTimeLog": [
            {
                "duration": 2627,
                "start_time": "2023-08-06T13:53:44.168Z"
            },
            {
                "duration": 9009,
                "start_time": "2023-08-06T13:53:46.797Z"
            },
            {
                "duration": 252,
                "start_time": "2023-08-06T13:53:55.807Z"
            },
            {
                "duration": 134,
                "start_time": "2023-08-06T13:53:56.061Z"
            },
            {
                "duration": 52,
                "start_time": "2023-08-06T13:53:56.197Z"
            },
            {
                "duration": 53,
                "start_time": "2023-08-06T13:53:56.251Z"
            },
            {
                "duration": 56,
                "start_time": "2023-08-06T13:53:56.305Z"
            },
            {
                "duration": 71,
                "start_time": "2023-08-06T13:53:56.362Z"
            },
            {
                "duration": 110,
                "start_time": "2023-08-06T13:53:56.435Z"
            },
            {
                "duration": 72,
                "start_time": "2023-08-06T13:53:56.546Z"
            },
            {
                "duration": 79,
                "start_time": "2023-08-06T13:53:56.619Z"
            },
            {
                "duration": 86,
                "start_time": "2023-08-06T13:53:56.699Z"
            },
            {
                "duration": 460,
                "start_time": "2023-08-06T14:08:07.228Z"
            },
            {
                "duration": 8864,
                "start_time": "2023-08-06T14:08:07.689Z"
            },
            {
                "duration": 237,
                "start_time": "2023-08-06T14:08:16.554Z"
            },
            {
                "duration": 142,
                "start_time": "2023-08-06T14:08:16.793Z"
            },
            {
                "duration": 50,
                "start_time": "2023-08-06T14:08:16.937Z"
            },
            {
                "duration": 51,
                "start_time": "2023-08-06T14:08:16.989Z"
            },
            {
                "duration": 66,
                "start_time": "2023-08-06T14:08:17.042Z"
            },
            {
                "duration": 73,
                "start_time": "2023-08-06T14:08:17.110Z"
            },
            {
                "duration": 111,
                "start_time": "2023-08-06T14:08:17.185Z"
            },
            {
                "duration": 74,
                "start_time": "2023-08-06T14:08:17.298Z"
            },
            {
                "duration": 76,
                "start_time": "2023-08-06T14:08:17.374Z"
            },
            {
                "duration": 89,
                "start_time": "2023-08-06T14:08:17.452Z"
            },
            {
                "duration": 81,
                "start_time": "2023-08-06T14:42:24.948Z"
            },
            {
                "duration": 489,
                "start_time": "2023-08-06T14:59:09.242Z"
            },
            {
                "duration": 8365,
                "start_time": "2023-08-06T14:59:09.733Z"
            },
            {
                "duration": 52,
                "start_time": "2023-08-06T14:59:18.100Z"
            },
            {
                "duration": 30,
                "start_time": "2023-08-06T14:59:18.154Z"
            },
            {
                "duration": 31,
                "start_time": "2023-08-06T14:59:18.186Z"
            },
            {
                "duration": 33,
                "start_time": "2023-08-06T14:59:18.219Z"
            },
            {
                "duration": 34,
                "start_time": "2023-08-06T14:59:18.254Z"
            },
            {
                "duration": 32,
                "start_time": "2023-08-06T14:59:18.289Z"
            },
            {
                "duration": 75,
                "start_time": "2023-08-06T14:59:18.323Z"
            },
            {
                "duration": 33,
                "start_time": "2023-08-06T14:59:18.401Z"
            },
            {
                "duration": 123,
                "start_time": "2023-08-06T14:59:18.436Z"
            },
            {
                "duration": 0,
                "start_time": "2023-08-06T14:59:18.561Z"
            },
            {
                "duration": 44,
                "start_time": "2023-08-06T14:59:41.002Z"
            },
            {
                "duration": 514,
                "start_time": "2023-08-06T23:11:55.323Z"
            },
            {
                "duration": 13546,
                "start_time": "2023-08-06T23:11:55.839Z"
            },
            {
                "duration": 76,
                "start_time": "2023-08-06T23:12:09.386Z"
            },
            {
                "duration": 30,
                "start_time": "2023-08-06T23:12:09.464Z"
            },
            {
                "duration": 53,
                "start_time": "2023-08-06T23:12:09.499Z"
            },
            {
                "duration": 34,
                "start_time": "2023-08-06T23:12:09.554Z"
            },
            {
                "duration": 47,
                "start_time": "2023-08-06T23:12:09.591Z"
            },
            {
                "duration": 29,
                "start_time": "2023-08-06T23:12:09.639Z"
            },
            {
                "duration": 139,
                "start_time": "2023-08-06T23:12:09.670Z"
            },
            {
                "duration": 35,
                "start_time": "2023-08-06T23:12:09.810Z"
            },
            {
                "duration": 37,
                "start_time": "2023-08-06T23:12:09.847Z"
            },
            {
                "duration": 46,
                "start_time": "2023-08-06T23:12:09.886Z"
            },
            {
                "duration": 112,
                "start_time": "2023-08-07T04:39:58.578Z"
            },
            {
                "duration": 643,
                "start_time": "2023-08-07T04:40:04.519Z"
            },
            {
                "duration": 11666,
                "start_time": "2023-08-07T04:40:05.165Z"
            },
            {
                "duration": 30,
                "start_time": "2023-08-07T04:40:16.833Z"
            },
            {
                "duration": 45,
                "start_time": "2023-08-07T04:40:16.866Z"
            },
            {
                "duration": 16,
                "start_time": "2023-08-07T04:40:16.925Z"
            },
            {
                "duration": 15,
                "start_time": "2023-08-07T04:40:16.943Z"
            },
            {
                "duration": 63,
                "start_time": "2023-08-07T04:40:16.960Z"
            },
            {
                "duration": 17,
                "start_time": "2023-08-07T04:40:17.027Z"
            },
            {
                "duration": 42,
                "start_time": "2023-08-07T04:40:17.046Z"
            },
            {
                "duration": 31,
                "start_time": "2023-08-07T04:40:17.093Z"
            },
            {
                "duration": 21,
                "start_time": "2023-08-07T04:40:17.128Z"
            },
            {
                "duration": 30,
                "start_time": "2023-08-07T04:40:17.151Z"
            },
            {
                "duration": 35,
                "start_time": "2023-08-07T04:41:02.501Z"
            },
            {
                "duration": 119,
                "start_time": "2023-08-07T04:46:33.911Z"
            },
            {
                "duration": 81,
                "start_time": "2023-08-07T04:47:07.452Z"
            },
            {
                "duration": 24,
                "start_time": "2023-08-07T04:47:22.909Z"
            },
            {
                "duration": 15,
                "start_time": "2023-08-07T04:48:16.447Z"
            }
        ],
        "toc": {
            "base_numbering": 1,
            "nav_menu": {},
            "number_sections": true,
            "sideBar": true,
            "skip_h1_title": true,
            "title_cell": "Table of Contents",
            "title_sidebar": "Contents",
            "toc_cell": false,
            "toc_position": {},
            "toc_section_display": true,
            "toc_window_display": false
        }
    },
    "nbformat_minor": 2,
    "nbformat": 4,
    "cells": [
        {
            "cell_type": "markdown",
            "source": [
                "# Проект по SQL"
            ],
            "metadata": {
                "azdata_cell_guid": "f17ca5cb-e61c-4598-9149-7ea0ec1ba7ef"
            }
        },
        {
            "cell_type": "markdown",
            "source": [
                "### Цель исследования\n",
                "Первая задача как аналитика — проанализировать базу данных.\n",
                "Эти данные помогут сформулировать ценностное предложение для нового продукта.\n",
                "\n",
                "### Общие данные:\n",
                "База данных содержит информацию о книгах, издательствах, авторах, а также пользовательские\n",
                "обзоры книг. \n",
                "\n",
                "### Описание таблиц:\n",
                "##### books cодержит данные о книгах:   \n",
                " - book_id — идентификатор книги;   \n",
                " - author_id — идентификатор автора;   \n",
                " - title — название книги;   \n",
                " - num_pages — количество страниц;   \n",
                " - publication_date — дата публикации книги;   \n",
                " - publisher_id — идентификатор издателя.   \n",
                "\n",
                "##### authors cодержит данные об авторах:   \n",
                " - author_id — идентификатор автора;   \n",
                " - author — имя автора    \n",
                "\n",
                "##### publishers cодержит данные об издательствах:    \n",
                " - publisher_id — идентификатор издательства;   \n",
                " - publisher — название издательства;   \n",
                "\n",
                "##### ratings cодержит данные о пользовательских оценках книг:   \n",
                " - rating_id — идентификатор оценки;   \n",
                " - book_id — идентификатор книги;   \n",
                " - username — имя пользователя, оставившего оценку;   \n",
                " - rating — оценка книги.   \n",
                "\n",
                "##### reviews cодержит данные о пользовательских обзорах на книги:   \n",
                " - review_id — идентификатор обзора;   \n",
                " - book_id — идентификатор книги;   \n",
                " - username — имя пользователя, написавшего обзор;   \n",
                " - text — текст обзора.   "
            ],
            "metadata": {
                "azdata_cell_guid": "40a1f650-f1a3-40ce-b02e-2383e6adf1cd"
            }
        },
        {
            "cell_type": "markdown",
            "source": [
                "### Подключение к БД"
            ],
            "metadata": {
                "azdata_cell_guid": "91624dc3-3003-47eb-8adb-48ccb73163ff"
            }
        },
        {
            "cell_type": "code",
            "source": [
                "# импортируем библиотеки\n",
                "import pandas as pd\n",
                "from sqlalchemy import text, create_engine\n",
                "import warnings; warnings.filterwarnings(action='once')"
            ],
            "metadata": {
                "azdata_cell_guid": "ea57cec2-9c11-4a6a-ad20-24e7d79fcc1b",
                "language": "python"
            },
            "outputs": [],
            "execution_count": 1
        },
        {
            "cell_type": "code",
            "source": [
                "# устанавливаем параметры\n",
                "db_config = {'user': 'praktikum_student', # имя пользователя\n",
                "            'pwd': 'Sdf4$2;d-d30pp', # пароль\n",
                "            'host': 'rc1b-wcoijxj3yxfsf3fs.mdb.yandexcloud.net',\n",
                "            'port': 6432, # порт подключения\n",
                "            'db': 'data-analyst-final-project-db'} # название базы данных\n",
                "connection_string = 'postgresql://{user}:{pwd}@{host}:{port}/{db}'.format(**db_config)\n",
                "# сохраняем коннектор\n",
                "engine = create_engine(connection_string, connect_args={'sslmode':'require'})\n",
                "con=engine.connect()"
            ],
            "metadata": {
                "azdata_cell_guid": "5e93e545-029b-4cf9-a7ce-f673b2a4bb77",
                "language": "python"
            },
            "outputs": [],
            "execution_count": 2
        },
        {
            "cell_type": "markdown",
            "source": [
                "### Знакомство с таблицами"
            ],
            "metadata": {
                "azdata_cell_guid": "36d6fd0e-1f8b-4eb9-8027-23627f442c83"
            }
        },
        {
            "cell_type": "markdown",
            "source": [
                "#### Таблица books"
            ],
            "metadata": {
                "azdata_cell_guid": "07d046a8-e35a-4f92-af01-39045d96e536"
            }
        },
        {
            "cell_type": "code",
            "source": [
                "# чтобы выполнить SQL-запрос, используем Pandas\n",
                "query = '''SELECT * FROM books LIMIT 5'''\n",
                "pd.io.sql.read_sql(sql=text(query), con = con)"
            ],
            "metadata": {
                "azdata_cell_guid": "e4815cbf-5178-4c1e-95e6-8c4becdd1b54",
                "language": "python"
            },
            "outputs": [
                {
                    "output_type": "execute_result",
                    "execution_count": 3,
                    "data": {
                        "text/html": "<div>\n<style scoped>\n    .dataframe tbody tr th:only-of-type {\n        vertical-align: middle;\n    }\n\n    .dataframe tbody tr th {\n        vertical-align: top;\n    }\n\n    .dataframe thead th {\n        text-align: right;\n    }\n</style>\n<table border=\"1\" class=\"dataframe\">\n  <thead>\n    <tr style=\"text-align: right;\">\n      <th></th>\n      <th>book_id</th>\n      <th>author_id</th>\n      <th>title</th>\n      <th>num_pages</th>\n      <th>publication_date</th>\n      <th>publisher_id</th>\n    </tr>\n  </thead>\n  <tbody>\n    <tr>\n      <th>0</th>\n      <td>1</td>\n      <td>546</td>\n      <td>'Salem's Lot</td>\n      <td>594</td>\n      <td>2005-11-01</td>\n      <td>93</td>\n    </tr>\n    <tr>\n      <th>1</th>\n      <td>2</td>\n      <td>465</td>\n      <td>1 000 Places to See Before You Die</td>\n      <td>992</td>\n      <td>2003-05-22</td>\n      <td>336</td>\n    </tr>\n    <tr>\n      <th>2</th>\n      <td>3</td>\n      <td>407</td>\n      <td>13 Little Blue Envelopes (Little Blue Envelope...</td>\n      <td>322</td>\n      <td>2010-12-21</td>\n      <td>135</td>\n    </tr>\n    <tr>\n      <th>3</th>\n      <td>4</td>\n      <td>82</td>\n      <td>1491: New Revelations of the Americas Before C...</td>\n      <td>541</td>\n      <td>2006-10-10</td>\n      <td>309</td>\n    </tr>\n    <tr>\n      <th>4</th>\n      <td>5</td>\n      <td>125</td>\n      <td>1776</td>\n      <td>386</td>\n      <td>2006-07-04</td>\n      <td>268</td>\n    </tr>\n  </tbody>\n</table>\n</div>",
                        "text/plain": "   book_id  author_id                                              title  \\\n0        1        546                                       'Salem's Lot   \n1        2        465                 1 000 Places to See Before You Die   \n2        3        407  13 Little Blue Envelopes (Little Blue Envelope...   \n3        4         82  1491: New Revelations of the Americas Before C...   \n4        5        125                                               1776   \n\n   num_pages publication_date  publisher_id  \n0        594       2005-11-01            93  \n1        992       2003-05-22           336  \n2        322       2010-12-21           135  \n3        541       2006-10-10           309  \n4        386       2006-07-04           268  "
                    },
                    "metadata": {}
                }
            ],
            "execution_count": 3
        },
        {
            "cell_type": "markdown",
            "source": [
                "#### Таблица authors"
            ],
            "metadata": {
                "azdata_cell_guid": "e4b9075d-c3e4-4633-80cb-6d081e2937a9"
            }
        },
        {
            "cell_type": "code",
            "source": [
                "# чтобы выполнить SQL-запрос, используем Pandas\n",
                "query = '''SELECT * FROM authors LIMIT 5'''\n",
                "pd.io.sql.read_sql(sql=text(query), con = con)"
            ],
            "metadata": {
                "azdata_cell_guid": "a6bd433c-ea26-4e29-a45d-592de833129a",
                "language": "python"
            },
            "outputs": [
                {
                    "output_type": "execute_result",
                    "execution_count": 4,
                    "data": {
                        "text/html": "<div>\n<style scoped>\n    .dataframe tbody tr th:only-of-type {\n        vertical-align: middle;\n    }\n\n    .dataframe tbody tr th {\n        vertical-align: top;\n    }\n\n    .dataframe thead th {\n        text-align: right;\n    }\n</style>\n<table border=\"1\" class=\"dataframe\">\n  <thead>\n    <tr style=\"text-align: right;\">\n      <th></th>\n      <th>author_id</th>\n      <th>author</th>\n    </tr>\n  </thead>\n  <tbody>\n    <tr>\n      <th>0</th>\n      <td>1</td>\n      <td>A.S. Byatt</td>\n    </tr>\n    <tr>\n      <th>1</th>\n      <td>2</td>\n      <td>Aesop/Laura Harris/Laura Gibbs</td>\n    </tr>\n    <tr>\n      <th>2</th>\n      <td>3</td>\n      <td>Agatha Christie</td>\n    </tr>\n    <tr>\n      <th>3</th>\n      <td>4</td>\n      <td>Alan Brennert</td>\n    </tr>\n    <tr>\n      <th>4</th>\n      <td>5</td>\n      <td>Alan Moore/David   Lloyd</td>\n    </tr>\n  </tbody>\n</table>\n</div>",
                        "text/plain": "   author_id                          author\n0          1                      A.S. Byatt\n1          2  Aesop/Laura Harris/Laura Gibbs\n2          3                 Agatha Christie\n3          4                   Alan Brennert\n4          5        Alan Moore/David   Lloyd"
                    },
                    "metadata": {}
                }
            ],
            "execution_count": 4
        },
        {
            "cell_type": "markdown",
            "source": [
                "#### Таблица publishers"
            ],
            "metadata": {
                "azdata_cell_guid": "71c3bf65-92cd-499f-8075-a05ebc265c8f"
            }
        },
        {
            "cell_type": "code",
            "source": [
                "# чтобы выполнить SQL-запрос, используем Pandas\n",
                "query = '''SELECT * FROM publishers LIMIT 5'''\n",
                "pd.io.sql.read_sql(sql=text(query), con = con)"
            ],
            "metadata": {
                "azdata_cell_guid": "71872616-f5d3-4c48-b362-01c8dd3c204c",
                "language": "python"
            },
            "outputs": [
                {
                    "output_type": "execute_result",
                    "execution_count": 5,
                    "data": {
                        "text/html": "<div>\n<style scoped>\n    .dataframe tbody tr th:only-of-type {\n        vertical-align: middle;\n    }\n\n    .dataframe tbody tr th {\n        vertical-align: top;\n    }\n\n    .dataframe thead th {\n        text-align: right;\n    }\n</style>\n<table border=\"1\" class=\"dataframe\">\n  <thead>\n    <tr style=\"text-align: right;\">\n      <th></th>\n      <th>publisher_id</th>\n      <th>publisher</th>\n    </tr>\n  </thead>\n  <tbody>\n    <tr>\n      <th>0</th>\n      <td>1</td>\n      <td>Ace</td>\n    </tr>\n    <tr>\n      <th>1</th>\n      <td>2</td>\n      <td>Ace Book</td>\n    </tr>\n    <tr>\n      <th>2</th>\n      <td>3</td>\n      <td>Ace Books</td>\n    </tr>\n    <tr>\n      <th>3</th>\n      <td>4</td>\n      <td>Ace Hardcover</td>\n    </tr>\n    <tr>\n      <th>4</th>\n      <td>5</td>\n      <td>Addison Wesley Publishing Company</td>\n    </tr>\n  </tbody>\n</table>\n</div>",
                        "text/plain": "   publisher_id                          publisher\n0             1                                Ace\n1             2                           Ace Book\n2             3                          Ace Books\n3             4                      Ace Hardcover\n4             5  Addison Wesley Publishing Company"
                    },
                    "metadata": {}
                }
            ],
            "execution_count": 5
        },
        {
            "cell_type": "markdown",
            "source": [
                "#### Таблица ratings"
            ],
            "metadata": {
                "azdata_cell_guid": "ecb0842c-9a49-4dd9-8bf3-56670bf595ef"
            }
        },
        {
            "cell_type": "code",
            "source": [
                "# чтобы выполнить SQL-запрос, используем Pandas\n",
                "query = '''SELECT * FROM ratings LIMIT 5'''\n",
                "pd.io.sql.read_sql(sql=text(query), con = con)"
            ],
            "metadata": {
                "azdata_cell_guid": "d9bca148-2444-4e32-9601-c50960ceb30b",
                "language": "python"
            },
            "outputs": [
                {
                    "output_type": "execute_result",
                    "execution_count": 6,
                    "data": {
                        "text/html": "<div>\n<style scoped>\n    .dataframe tbody tr th:only-of-type {\n        vertical-align: middle;\n    }\n\n    .dataframe tbody tr th {\n        vertical-align: top;\n    }\n\n    .dataframe thead th {\n        text-align: right;\n    }\n</style>\n<table border=\"1\" class=\"dataframe\">\n  <thead>\n    <tr style=\"text-align: right;\">\n      <th></th>\n      <th>rating_id</th>\n      <th>book_id</th>\n      <th>username</th>\n      <th>rating</th>\n    </tr>\n  </thead>\n  <tbody>\n    <tr>\n      <th>0</th>\n      <td>1</td>\n      <td>1</td>\n      <td>ryanfranco</td>\n      <td>4</td>\n    </tr>\n    <tr>\n      <th>1</th>\n      <td>2</td>\n      <td>1</td>\n      <td>grantpatricia</td>\n      <td>2</td>\n    </tr>\n    <tr>\n      <th>2</th>\n      <td>3</td>\n      <td>1</td>\n      <td>brandtandrea</td>\n      <td>5</td>\n    </tr>\n    <tr>\n      <th>3</th>\n      <td>4</td>\n      <td>2</td>\n      <td>lorichen</td>\n      <td>3</td>\n    </tr>\n    <tr>\n      <th>4</th>\n      <td>5</td>\n      <td>2</td>\n      <td>mariokeller</td>\n      <td>2</td>\n    </tr>\n  </tbody>\n</table>\n</div>",
                        "text/plain": "   rating_id  book_id       username  rating\n0          1        1     ryanfranco       4\n1          2        1  grantpatricia       2\n2          3        1   brandtandrea       5\n3          4        2       lorichen       3\n4          5        2    mariokeller       2"
                    },
                    "metadata": {}
                }
            ],
            "execution_count": 6
        },
        {
            "cell_type": "markdown",
            "source": [
                "#### Таблица reviews"
            ],
            "metadata": {
                "azdata_cell_guid": "85c11525-debd-41ba-b929-ef8d9b610e54"
            }
        },
        {
            "cell_type": "code",
            "source": [
                "# чтобы выполнить SQL-запрос, используем Pandas\n",
                "query = '''SELECT * FROM reviews LIMIT 5'''\n",
                "pd.io.sql.read_sql(sql=text(query), con = con)"
            ],
            "metadata": {
                "azdata_cell_guid": "a2153a7a-5f18-405a-83cc-8f77ec41bbf3",
                "language": "python"
            },
            "outputs": [
                {
                    "output_type": "execute_result",
                    "execution_count": 7,
                    "data": {
                        "text/html": "<div>\n<style scoped>\n    .dataframe tbody tr th:only-of-type {\n        vertical-align: middle;\n    }\n\n    .dataframe tbody tr th {\n        vertical-align: top;\n    }\n\n    .dataframe thead th {\n        text-align: right;\n    }\n</style>\n<table border=\"1\" class=\"dataframe\">\n  <thead>\n    <tr style=\"text-align: right;\">\n      <th></th>\n      <th>review_id</th>\n      <th>book_id</th>\n      <th>username</th>\n      <th>text</th>\n    </tr>\n  </thead>\n  <tbody>\n    <tr>\n      <th>0</th>\n      <td>1</td>\n      <td>1</td>\n      <td>brandtandrea</td>\n      <td>Mention society tell send professor analysis. ...</td>\n    </tr>\n    <tr>\n      <th>1</th>\n      <td>2</td>\n      <td>1</td>\n      <td>ryanfranco</td>\n      <td>Foot glass pretty audience hit themselves. Amo...</td>\n    </tr>\n    <tr>\n      <th>2</th>\n      <td>3</td>\n      <td>2</td>\n      <td>lorichen</td>\n      <td>Listen treat keep worry. Miss husband tax but ...</td>\n    </tr>\n    <tr>\n      <th>3</th>\n      <td>4</td>\n      <td>3</td>\n      <td>johnsonamanda</td>\n      <td>Finally month interesting blue could nature cu...</td>\n    </tr>\n    <tr>\n      <th>4</th>\n      <td>5</td>\n      <td>3</td>\n      <td>scotttamara</td>\n      <td>Nation purpose heavy give wait song will. List...</td>\n    </tr>\n  </tbody>\n</table>\n</div>",
                        "text/plain": "   review_id  book_id       username  \\\n0          1        1   brandtandrea   \n1          2        1     ryanfranco   \n2          3        2       lorichen   \n3          4        3  johnsonamanda   \n4          5        3    scotttamara   \n\n                                                text  \n0  Mention society tell send professor analysis. ...  \n1  Foot glass pretty audience hit themselves. Amo...  \n2  Listen treat keep worry. Miss husband tax but ...  \n3  Finally month interesting blue could nature cu...  \n4  Nation purpose heavy give wait song will. List...  "
                    },
                    "metadata": {}
                }
            ],
            "execution_count": 7
        },
        {
            "cell_type": "markdown",
            "source": [
                "### Задачи"
            ],
            "metadata": {
                "azdata_cell_guid": "c990da37-449b-4f7c-be61-b73dfdb172e4"
            }
        },
        {
            "cell_type": "markdown",
            "source": [
                "#### 1. Посчитайте, сколько книг вышло после 1 января 2000 года :"
            ],
            "metadata": {
                "azdata_cell_guid": "3b4c50d7-28d9-47f9-8018-1eb91c3a6c98"
            }
        },
        {
            "cell_type": "code",
            "source": [
                "query = '''\n",
                "        SELECT COUNT(book_id) AS КнигСНачала2000года\n",
                "        FROM books\n",
                "        WHERE publication_date > '2000-01-01'\n",
                "'''\n",
                "pd.io.sql.read_sql(query, con = con)"
            ],
            "metadata": {
                "azdata_cell_guid": "d65ed42f-0b0b-4fc8-8e47-80a77c55f083",
                "language": "python"
            },
            "outputs": [
                {
                    "output_type": "execute_result",
                    "execution_count": 8,
                    "data": {
                        "text/html": "<div>\n<style scoped>\n    .dataframe tbody tr th:only-of-type {\n        vertical-align: middle;\n    }\n\n    .dataframe tbody tr th {\n        vertical-align: top;\n    }\n\n    .dataframe thead th {\n        text-align: right;\n    }\n</style>\n<table border=\"1\" class=\"dataframe\">\n  <thead>\n    <tr style=\"text-align: right;\">\n      <th></th>\n      <th>КнигСНачала2000года</th>\n    </tr>\n  </thead>\n  <tbody>\n    <tr>\n      <th>0</th>\n      <td>819</td>\n    </tr>\n  </tbody>\n</table>\n</div>",
                        "text/plain": "   КнигСНачала2000года\n0                  819"
                    },
                    "metadata": {}
                }
            ],
            "execution_count": 8
        },
        {
            "cell_type": "markdown",
            "source": [
                "Начиная с 1 января 2000 года в каталог сервиса было добавлено 819 книг."
            ],
            "metadata": {
                "azdata_cell_guid": "09f183ac-ec31-4668-8e2a-c5abed861622"
            }
        },
        {
            "cell_type": "markdown",
            "source": [
                "#### 2. Для каждой книги посчитайте количество обзоров и среднюю оценку :"
            ],
            "metadata": {
                "azdata_cell_guid": "2f55591c-391e-4a5a-bfb8-331f49765f97"
            }
        },
        {
            "cell_type": "code",
            "source": [
                "query = '''\n",
                "       SELECT b.book_id, \n",
                "              b.title AS Заголовок, \n",
                "              COUNT(DISTINCT rv.review_id) AS Обзоров, \n",
                "              ROUND(AVG(r.rating),3) AS СреднийРейтинг\n",
                "       FROM books AS b\n",
                "       LEFT JOIN reviews AS rv ON b.book_id = rv.book_id\n",
                "       LEFT JOIN  ratings AS r ON b.book_id = r.book_id\n",
                "       GROUP BY b.book_id, b.title\n",
                "       ORDER BY Обзоров DESC\n",
                "'''\n",
                "\n",
                "pd.io.sql.read_sql(query, con = con)"
            ],
            "metadata": {
                "azdata_cell_guid": "469d408e-c143-4887-8039-985b0886363e",
                "language": "python"
            },
            "outputs": [
                {
                    "output_type": "execute_result",
                    "execution_count": 9,
                    "data": {
                        "text/html": "<div>\n<style scoped>\n    .dataframe tbody tr th:only-of-type {\n        vertical-align: middle;\n    }\n\n    .dataframe tbody tr th {\n        vertical-align: top;\n    }\n\n    .dataframe thead th {\n        text-align: right;\n    }\n</style>\n<table border=\"1\" class=\"dataframe\">\n  <thead>\n    <tr style=\"text-align: right;\">\n      <th></th>\n      <th>book_id</th>\n      <th>Заголовок</th>\n      <th>Обзоров</th>\n      <th>СреднийРейтинг</th>\n    </tr>\n  </thead>\n  <tbody>\n    <tr>\n      <th>0</th>\n      <td>948</td>\n      <td>Twilight (Twilight  #1)</td>\n      <td>7</td>\n      <td>3.663</td>\n    </tr>\n    <tr>\n      <th>1</th>\n      <td>963</td>\n      <td>Water for Elephants</td>\n      <td>6</td>\n      <td>3.977</td>\n    </tr>\n    <tr>\n      <th>2</th>\n      <td>734</td>\n      <td>The Glass Castle</td>\n      <td>6</td>\n      <td>4.207</td>\n    </tr>\n    <tr>\n      <th>3</th>\n      <td>302</td>\n      <td>Harry Potter and the Prisoner of Azkaban (Harr...</td>\n      <td>6</td>\n      <td>4.415</td>\n    </tr>\n    <tr>\n      <th>4</th>\n      <td>695</td>\n      <td>The Curious Incident of the Dog in the Night-Time</td>\n      <td>6</td>\n      <td>4.081</td>\n    </tr>\n    <tr>\n      <th>...</th>\n      <td>...</td>\n      <td>...</td>\n      <td>...</td>\n      <td>...</td>\n    </tr>\n    <tr>\n      <th>995</th>\n      <td>83</td>\n      <td>Anne Rice's The Vampire Lestat: A Graphic Novel</td>\n      <td>0</td>\n      <td>3.667</td>\n    </tr>\n    <tr>\n      <th>996</th>\n      <td>808</td>\n      <td>The Natural Way to Draw</td>\n      <td>0</td>\n      <td>3.000</td>\n    </tr>\n    <tr>\n      <th>997</th>\n      <td>672</td>\n      <td>The Cat in the Hat and Other Dr. Seuss Favorites</td>\n      <td>0</td>\n      <td>5.000</td>\n    </tr>\n    <tr>\n      <th>998</th>\n      <td>221</td>\n      <td>Essential Tales and Poems</td>\n      <td>0</td>\n      <td>4.000</td>\n    </tr>\n    <tr>\n      <th>999</th>\n      <td>191</td>\n      <td>Disney's Beauty and the Beast (A Little Golden...</td>\n      <td>0</td>\n      <td>4.000</td>\n    </tr>\n  </tbody>\n</table>\n<p>1000 rows × 4 columns</p>\n</div>",
                        "text/plain": "     book_id                                          Заголовок  Обзоров  \\\n0        948                            Twilight (Twilight  #1)        7   \n1        963                                Water for Elephants        6   \n2        734                                   The Glass Castle        6   \n3        302  Harry Potter and the Prisoner of Azkaban (Harr...        6   \n4        695  The Curious Incident of the Dog in the Night-Time        6   \n..       ...                                                ...      ...   \n995       83    Anne Rice's The Vampire Lestat: A Graphic Novel        0   \n996      808                            The Natural Way to Draw        0   \n997      672   The Cat in the Hat and Other Dr. Seuss Favorites        0   \n998      221                          Essential Tales and Poems        0   \n999      191  Disney's Beauty and the Beast (A Little Golden...        0   \n\n     СреднийРейтинг  \n0             3.663  \n1             3.977  \n2             4.207  \n3             4.415  \n4             4.081  \n..              ...  \n995           3.667  \n996           3.000  \n997           5.000  \n998           4.000  \n999           4.000  \n\n[1000 rows x 4 columns]"
                    },
                    "metadata": {}
                }
            ],
            "execution_count": 9
        },
        {
            "cell_type": "markdown",
            "source": [
                "По данным можно сказать что : в каталоге 1000 книг. Минимальное количество обзоров от 0 до 7. Оценки рейтинга судя по данным не слишком зависят от количества обзоров (по количеству не сказать о качестве этих обзоров). Средний рейтиинг всех книг примерно 4."
            ],
            "metadata": {
                "azdata_cell_guid": "3b559159-c06a-428a-bf9e-ffba2dea28b4"
            }
        },
        {
            "cell_type": "markdown",
            "source": [
                "#### 3. Определите издательство, которое выпустило наибольшее число книг толще 50 страниц — так вы исключите из анализа брошюры;"
            ],
            "metadata": {
                "azdata_cell_guid": "995f60eb-a1e2-486e-8fa4-b86cfd69d8ab"
            }
        },
        {
            "cell_type": "code",
            "source": [
                "query = '''\n",
                "        WITH w AS (\n",
                "        SELECT publisher_id, book_id\n",
                "        FROM books\n",
                "        WHERE num_pages > 50\n",
                "        )\n",
                "        SELECT p.publisher AS Издательство\n",
                "        FROM w \n",
                "        INNER JOIN publishers AS p ON w.publisher_id = p.publisher_id\n",
                "        GROUP BY p.publisher\n",
                "        ORDER BY COUNT(w.book_id) DESC\n",
                "        LIMIT 1\n",
                "'''\n",
                "pd.io.sql.read_sql(query, con = con)"
            ],
            "metadata": {
                "azdata_cell_guid": "9f550b45-ed09-48a5-9d4f-61c84dc1547d",
                "language": "python"
            },
            "outputs": [
                {
                    "output_type": "execute_result",
                    "execution_count": 10,
                    "data": {
                        "text/html": "<div>\n<style scoped>\n    .dataframe tbody tr th:only-of-type {\n        vertical-align: middle;\n    }\n\n    .dataframe tbody tr th {\n        vertical-align: top;\n    }\n\n    .dataframe thead th {\n        text-align: right;\n    }\n</style>\n<table border=\"1\" class=\"dataframe\">\n  <thead>\n    <tr style=\"text-align: right;\">\n      <th></th>\n      <th>Издательство</th>\n    </tr>\n  </thead>\n  <tbody>\n    <tr>\n      <th>0</th>\n      <td>Penguin Books</td>\n    </tr>\n  </tbody>\n</table>\n</div>",
                        "text/plain": "    Издательство\n0  Penguin Books"
                    },
                    "metadata": {}
                }
            ],
            "execution_count": 10
        },
        {
            "cell_type": "markdown",
            "source": [
                "Большее количество представленных книг с тольшиной более чем 50 страниц находятся у издательства Penguin Books."
            ],
            "metadata": {
                "azdata_cell_guid": "bc271cdd-d293-4d0d-8a27-7c6c0f4af5bf"
            }
        },
        {
            "cell_type": "markdown",
            "source": [
                "#### 4. Определите автора с самой высокой средней оценкой книг — учитывайте только книги с 50 и более оценками;"
            ],
            "metadata": {
                "azdata_cell_guid": "b479630c-a1c3-4e2e-b6a6-999a11ee55e3"
            }
        },
        {
            "cell_type": "code",
            "source": [
                "query = '''\n",
                "       WITH w AS (\n",
                "       SELECT book_id\n",
                "       FROM ratings\n",
                "       GROUP BY book_id\n",
                "       HAVING COUNT(rating_id) >= 50\n",
                "       )\n",
                "       SELECT a.author AS Автор,\n",
                "              AVG(r.rating) AS СреднийРейтинг\n",
                "       FROM books AS b\n",
                "       INNER JOIN w ON b.book_id = w.book_id\n",
                "       INNER JOIN authors AS a ON b.author_id = a.author_id\n",
                "       INNER JOIN ratings AS r ON w.book_id = r.book_id\n",
                "       GROUP BY a.author_id, a.author\n",
                "       ORDER BY AVG(r.rating) DESC\n",
                "       LIMIT 1\n",
                "'''\n",
                "pd.io.sql.read_sql(query, con = con)"
            ],
            "metadata": {
                "azdata_cell_guid": "76e5d08b-e1e4-4a2a-b0c1-fcf6022fffca",
                "language": "python"
            },
            "outputs": [
                {
                    "output_type": "execute_result",
                    "execution_count": 17,
                    "data": {
                        "text/html": "<div>\n<style scoped>\n    .dataframe tbody tr th:only-of-type {\n        vertical-align: middle;\n    }\n\n    .dataframe tbody tr th {\n        vertical-align: top;\n    }\n\n    .dataframe thead th {\n        text-align: right;\n    }\n</style>\n<table border=\"1\" class=\"dataframe\">\n  <thead>\n    <tr style=\"text-align: right;\">\n      <th></th>\n      <th>Автор</th>\n      <th>СреднийРейтинг</th>\n    </tr>\n  </thead>\n  <tbody>\n    <tr>\n      <th>0</th>\n      <td>J.K. Rowling/Mary GrandPré</td>\n      <td>4.287097</td>\n    </tr>\n  </tbody>\n</table>\n</div>",
                        "text/plain": "                        Автор  СреднийРейтинг\n0  J.K. Rowling/Mary GrandPré        4.287097"
                    },
                    "metadata": {}
                }
            ],
            "execution_count": 17
        },
        {
            "cell_type": "markdown",
            "source": [
                "Самые популярный авторы с средним рейтингом 4.29 оказались Джоан Роулинг и Мари Грандпре."
            ],
            "metadata": {
                "azdata_cell_guid": "10a04800-177b-4241-b7ed-2024780f4e1a"
            },
            "attachments": {}
        },
        {
            "cell_type": "markdown",
            "source": [
                "#### 5. Посчитайте среднее количество обзоров от пользователей, которые поставили больше 48 оценок."
            ],
            "metadata": {
                "azdata_cell_guid": "35e6d27f-6b5f-4728-a715-c44512482be4"
            }
        },
        {
            "cell_type": "code",
            "source": [
                "query = '''\n",
                "        SELECT COUNT(DISTINCT rv.text)/ COUNT(DISTINCT rv.username) AS avg_rv_count\n",
                "        FROM ratings AS r\n",
                "        INNER JOIN reviews AS rv ON r.username = rv.username\n",
                "        WHERE r.username in (SELECT username\n",
                "                            FROM ratings\n",
                "                            GROUP BY username\n",
                "                            HAVING COUNT(rating_id) > 48)\n",
                "'''\n",
                "pd.io.sql.read_sql(query, con = con)"
            ],
            "metadata": {
                "azdata_cell_guid": "dbc4e472-578a-494a-9501-6788cd506d03",
                "language": "python"
            },
            "outputs": [
                {
                    "output_type": "execute_result",
                    "execution_count": 12,
                    "data": {
                        "text/html": "<div>\n<style scoped>\n    .dataframe tbody tr th:only-of-type {\n        vertical-align: middle;\n    }\n\n    .dataframe tbody tr th {\n        vertical-align: top;\n    }\n\n    .dataframe thead th {\n        text-align: right;\n    }\n</style>\n<table border=\"1\" class=\"dataframe\">\n  <thead>\n    <tr style=\"text-align: right;\">\n      <th></th>\n      <th>avg_rv_count</th>\n    </tr>\n  </thead>\n  <tbody>\n    <tr>\n      <th>0</th>\n      <td>24</td>\n    </tr>\n  </tbody>\n</table>\n</div>",
                        "text/plain": "   avg_rv_count\n0            24"
                    },
                    "metadata": {}
                }
            ],
            "execution_count": 12
        },
        {
            "cell_type": "markdown",
            "source": [
                "Среднее число обзоров является 24, среди тех пользователей которые поставивили в среднем болеее 48 оценок."
            ],
            "metadata": {
                "azdata_cell_guid": "405f0f7b-999f-4500-9b51-9c6c0da5f1f7"
            }
        },
        {
            "cell_type": "markdown",
            "source": [
                "Общий вывод: Магазин книг должен сосредоточиться на расширении ассортимента, например книг издательства Penguin Books, и активно продвигать популярные книги, а так же авторов похожих на Джоан Роулинг и Мари Грандпре. Также следует поощрять и привлекать пользователей, которые активно оценивают книги."
            ],
            "metadata": {
                "azdata_cell_guid": "6cef3b4d-c78c-4457-a868-489d123ec66d"
            }
        }
    ]
}