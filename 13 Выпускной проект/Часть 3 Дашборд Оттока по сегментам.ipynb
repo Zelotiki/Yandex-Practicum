{
 "cells": [
  {
   "cell_type": "markdown",
   "metadata": {},
   "source": [
    "<img src=https://kto-ozvuchival.ru/wp-content/uploads/2017/12/kto-ozvuchivaet-toni-starka-na-russkom-800x500.jpg><br><hr style=\"border: 10px solid green;\" />\n",
    "\n",
    "## <span style=\"color:green\">Финальный комментарий<span>\n",
    "\n",
    "Спасибо за проделанную работу🤝\n",
    "\n",
    "Вадим, спасибо за доработки, всё принято👌\n",
    "    \n",
    "Желаю дальнейших успехов и отличного настроения. В качестве бонуса, рекомендую, отличную книгу про оформление презентаций, графиков - [Александр Богачев, Графики, которые убеждают](https://www.litres.ru/book/aleksandr-bogachev/grafiki-kotorye-ubezhdaut-vseh-51710962/?etext=2202.djJvP5fw5zcFUmVUzOg083M-m18ldNmodGO7Z1JOc7bLnYIKrXldtg0XlPOX_v9Q5Mch8f2FQH7k8NPv74UE1pgqul6_pvxHdoIb3489mCL9EboTkhEDb5vn4iP7FQDTeGJ4aHdwb2dvYmNveHVzZw.08df721efd94a95b67e1454ab87d50432f5c02a3&yclid=2637497238845724830&utm_source=yandex&utm_medium=cpc&utm_campaign=web_books_dsa_drr_feed%20607619718%7C47441382&utm_content=8258473707&utm_term=Раменское_10750) и можно заглянуть в канал и сайт [Ромы Бунина](https://t.me/revealthedata) (кажется, главный человек по визуализации в Росии😉)\n",
    "\n",
    "\n",
    "Интересные ссылки:\n",
    "- <a href=\"https://datayoga.ru/vizcards\">Карточки визуализации</a>\n",
    "- [Доска Miro Datayoga](https://miro.com/app/board/o9J_kr3cvUM=/)\n",
    "- [Марафон визуализации](https://datayoga.ru/datalens01) - он на Datalens, но можно выбрать и другой инструмент\n",
    "\n",
    "\n",
    "\n",
    "Поздравляю, проект принят👍"
   ]
  },
  {
   "cell_type": "markdown",
   "metadata": {},
   "source": [
    "<hr style=\"border: 2px solid green;\" />\n",
    "\n",
    "## Комментарий ревьювера 2\n",
    "\n",
    "Вадим, привет! \n",
    "\n",
    "Всё хорошо, но от логарифмической шкалы отказываемся"
   ]
  },
  {
   "cell_type": "markdown",
   "metadata": {},
   "source": [
    "<hr style=\"border: 2px solid green;\" />\n",
    "\n",
    "## Комментарий ревьювера\n",
    "\n",
    "Вадим, привет! \n",
    "\n",
    "🤚Меня зовут, Олег Юрьев, я буду проверять твой проект. Если не против, я буду обращаться к тебе на _ТЫ_ . Если это неприемлемо, обязательно напиши мне в комментариях - мы перейдем на _ВЫ_ .\n",
    "\n",
    "🤝Спасибо, что сдала проект вовремя. Тобой проделана большая работа, молодец! \n",
    "\n",
    "✏️В этой тетрадке ты найдешь мои комментарии."
   ]
  },
  {
   "cell_type": "markdown",
   "metadata": {
    "id": "wRnMibMNS6gr"
   },
   "source": [
    "Презентация: https://drive.google.com/file/d/1GHTjDk_zLjCT-_cPVdCP4IpGPWvGdy3H/view?usp=sharing\n",
    "\n",
    "Дашборд: https://public.tableau.com/views/BankScroogeSegmentation/sheet1?:language=en-US&publish=yes&:display_count=n&:origin=viz_share_link"
   ]
  },
  {
   "cell_type": "markdown",
   "metadata": {
    "id": "vcg2JTjiUJcw"
   },
   "source": [
    "<div style=\"border-radius: 15px; box-shadow: 4px 4px 4px; border: solid green 2px; padding: 20px\"> \n",
    "\n",
    "## Общий комментарий\n",
    "\n",
    "\n",
    "Спасибо за проделанную работу🤝\n",
    "    \n",
    "**Презентация** - ✅\n",
    "    \n",
    "**Дашборд**\n",
    "    \n",
    "- на дашборде показываем отток в разрезе фактического кол-ва продуктов (от 1 до 5)\n",
    "- добавляем общий уровень оттока, как это сделать можно посмотреть в общем [видео про дашборд](https://youtu.be/7y98M4Aa6Io). Общий уровень оттока нужен для детализации анализа, вот мы видим что отток в какой-то группе 23% - это много или мало, чтобы было относительно чего сравнивать и нужно указать общий уровень"
   ]
  }
 ],
 "metadata": {
  "colab": {
   "provenance": []
  },
  "kernelspec": {
   "display_name": "Python 3 (ipykernel)",
   "language": "python",
   "name": "python3"
  },
  "language_info": {
   "codemirror_mode": {
    "name": "ipython",
    "version": 3
   },
   "file_extension": ".py",
   "mimetype": "text/x-python",
   "name": "python",
   "nbconvert_exporter": "python",
   "pygments_lexer": "ipython3",
   "version": "3.9.5"
  },
  "toc": {
   "base_numbering": 1,
   "nav_menu": {},
   "number_sections": true,
   "sideBar": true,
   "skip_h1_title": true,
   "title_cell": "Table of Contents",
   "title_sidebar": "Contents",
   "toc_cell": false,
   "toc_position": {},
   "toc_section_display": true,
   "toc_window_display": false
  }
 },
 "nbformat": 4,
 "nbformat_minor": 1
}
