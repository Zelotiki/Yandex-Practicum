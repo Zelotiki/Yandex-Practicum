{
    "metadata": {
        "kernelspec": {
            "name": "python3",
            "display_name": "Python 3 (ipykernel)",
            "language": "python"
        },
        "language_info": {
            "name": "python",
            "version": "3.11.4",
            "mimetype": "text/x-python",
            "codemirror_mode": {
                "name": "ipython",
                "version": 3
            },
            "pygments_lexer": "ipython3",
            "nbconvert_exporter": "python",
            "file_extension": ".py"
        },
        "colab": {
            "provenance": []
        },
        "toc": {
            "base_numbering": 1,
            "nav_menu": {},
            "number_sections": true,
            "sideBar": true,
            "skip_h1_title": true,
            "title_cell": "Table of Contents",
            "title_sidebar": "Contents",
            "toc_cell": false,
            "toc_position": {},
            "toc_section_display": true,
            "toc_window_display": false
        }
    },
    "nbformat_minor": 2,
    "nbformat": 4,
    "cells": [
        {
            "cell_type": "markdown",
            "source": [
                "Презентация: https://drive.google.com/file/d/1GHTjDk_zLjCT-_cPVdCP4IpGPWvGdy3H/view?usp=sharing\n",
                "\n",
                "Дашборд: https://public.tableau.com/views/BankScroogeSegmentation/sheet1?:language=en-US&publish=yes&:display_count=n&:origin=viz_share_link"
            ],
            "metadata": {
                "id": "wRnMibMNS6gr",
                "azdata_cell_guid": "89df3b7d-03ec-460a-b233-2afce5239e54"
            }
        }
    ]
}